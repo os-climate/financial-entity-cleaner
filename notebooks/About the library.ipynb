{
 "cells": [
  {
   "cell_type": "markdown",
   "id": "87cb9d15",
   "metadata": {},
   "source": [
    "# The financial-entity-cleaner library"
   ]
  },
  {
   "cell_type": "markdown",
   "id": "494bb656",
   "metadata": {},
   "source": [
    "**Financial-Entity-Cleaner** is an open source python library that performs data cleaning/normalization on text,\n",
    "including the special case of company's name and its legal term, country information based on ISO standard and\n",
    "well known identifiers used in the financial sector."
   ]
  },
  {
   "cell_type": "markdown",
   "id": "9a4188e9",
   "metadata": {},
   "source": [
    "<div class=\"alert alert-block alert-info\">\n",
    "<b>Note:</b> The complete documentation of the <b>financial-entity-cleaner</b> is available at <a href=\"https://financial-entity-cleaner.readthedocs.io/en/latest/\" title=\"ReadTheDocs\">ReadTheDocs</a>.</div>"
   ]
  },
  {
   "cell_type": "markdown",
   "id": "7fcd22ef",
   "metadata": {},
   "source": [
    "To use the **Financial-Entity-Cleaner library**, simply install it with ``pip install``. This is the recommeded method\n",
    "for most users who just want to apply the library in their own projects:\n",
    "\n",
    "*pip install financial-entity-cleaner*"
   ]
  },
  {
   "cell_type": "markdown",
   "id": "74530a75",
   "metadata": {},
   "source": [
    "## Hands-on notebooks"
   ]
  },
  {
   "cell_type": "markdown",
   "id": "f94b722e",
   "metadata": {},
   "source": [
    "The following jupyter notebooks are available:\n",
    "\n",
    "1) [Clean up texts with pre-defined regex](./how-to/Clean%20a%20company's%20name.ipynb)\n",
    "\n",
    "2) [Clean up company's name](./how-to/Clean%20a%20company's%20name.ipynb)\n",
    "\n",
    "3) [Normalize country information](./how-to/Clean%20a%20company's%20name.ipynb)\n",
    "\n",
    "4) [Cleaning and validating banking IDs](./how-to/Clean%20a%20company's%20name.ipynb)"
   ]
  },
  {
   "cell_type": "code",
   "execution_count": null,
   "id": "19235b8e",
   "metadata": {},
   "outputs": [],
   "source": []
  }
 ],
 "metadata": {
  "kernelspec": {
   "display_name": "Python 3 (ipykernel)",
   "language": "python",
   "name": "python3"
  },
  "language_info": {
   "codemirror_mode": {
    "name": "ipython",
    "version": 3
   },
   "file_extension": ".py",
   "mimetype": "text/x-python",
   "name": "python",
   "nbconvert_exporter": "python",
   "pygments_lexer": "ipython3",
   "version": "3.8.11"
  }
 },
 "nbformat": 4,
 "nbformat_minor": 5
}
