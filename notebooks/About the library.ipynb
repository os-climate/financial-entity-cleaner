{
 "cells": [
  {
   "cell_type": "markdown",
   "id": "87cb9d15",
   "metadata": {},
   "source": [
    "# The financial-entity-cleaner library"
   ]
  },
  {
   "cell_type": "markdown",
   "id": "494bb656",
   "metadata": {},
   "source": [
    "**Financial-Entity-Cleaner** is an open source python library that performs data cleaning/normalization on text,\n",
    "including the following cases: cleaning up of company names and its legal terms, country information based on ISO standard, addresses and well known identifiers used in the financial sector."
   ]
  },
  {
   "cell_type": "markdown",
   "id": "7fcd22ef",
   "metadata": {},
   "source": [
    "To use the **Financial-Entity-Cleaner library**, simply install it with ``pip install``. This is the recommeded method\n",
    "for most users who just want to apply the library in their own projects:\n",
    "\n",
    "*pip install financial-entity-cleaner*"
   ]
  },
  {
   "cell_type": "markdown",
   "id": "74530a75",
   "metadata": {},
   "source": [
    "## Hands-on notebooks"
   ]
  },
  {
   "cell_type": "markdown",
   "id": "f94b722e",
   "metadata": {},
   "source": [
    "The following jupyter notebooks are available:\n",
    "\n",
    "1) [Cleaning and validating banking IDs](./how-to/Clean%20up%20and%20validate%20banking%20IDs.ipynb)\n",
    "\n",
    "2) [Normalize country information](./how-to/Normalize%20country%20information.ipynb)\n",
    "\n",
    "3) [Clean up text using pre-defined rules](./how-to/Clean%20up%20text%20with%20pre-defined%20rules.ipynb)\n",
    "\n",
    "4) [Clean up company's name](./how-to/Clean%20up%20company's%20name.ipynb)\n",
    "\n",
    "5) [Using the AutoCleaner to clean up .csv files](./how-to/Using%20the%20AutoCleaner.ipynb)\n"
   ]
  },
  {
   "cell_type": "code",
   "execution_count": null,
   "id": "19235b8e",
   "metadata": {},
   "outputs": [],
   "source": []
  }
 ],
 "metadata": {
  "kernelspec": {
   "display_name": "Python 3 (ipykernel)",
   "language": "python",
   "name": "python3"
  },
  "language_info": {
   "codemirror_mode": {
    "name": "ipython",
    "version": 3
   },
   "file_extension": ".py",
   "mimetype": "text/x-python",
   "name": "python",
   "nbconvert_exporter": "python",
   "pygments_lexer": "ipython3",
   "version": "3.8.10"
  }
 },
 "nbformat": 4,
 "nbformat_minor": 5
}
