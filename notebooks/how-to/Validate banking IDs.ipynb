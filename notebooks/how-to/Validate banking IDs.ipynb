{
 "cells": [
  {
   "cell_type": "markdown",
   "id": "a937f3c4",
   "metadata": {},
   "source": [
    "# How to...validate banking IDs"
   ]
  },
  {
   "cell_type": "markdown",
   "id": "afc45c44",
   "metadata": {},
   "source": [
    "This notebook shows how to use the **financial-entity-cleaner.id.banking** module to validate ID's such as LEI, ISIN and SEDOL. You can use this module in three different ways:\n",
    "1. [by validating string values, one by one](#string_values)\n",
    "2. [by validating ID attributes as columns in a pandas dataframe](#df)\n",
    "3. [by validating a csv file that contains ID column(s)](#csv)\n",
    "\n",
    "No matter which approach you choose, you will need to import and create an object based on the **BankingIdCleaner()** class which is available in the **financial_entity_cleaner.id.banking** module. This notebook shows how you can customize the behaviour of this class to adapt the cleaning to your own needs.   "
   ]
  },
  {
   "cell_type": "code",
   "execution_count": 1,
   "id": "f41d78ec",
   "metadata": {},
   "outputs": [],
   "source": [
    "# Sets up the location of the financial-entity-cleaner library relative to this notebook \n",
    "import sys\n",
    "sys.path.append('../../')"
   ]
  },
  {
   "cell_type": "code",
   "execution_count": 2,
   "id": "98eea0b4",
   "metadata": {},
   "outputs": [],
   "source": [
    "# Import the BankingIdCleaner() class for ID validation\n",
    "from financial_entity_cleaner.id.banking import BankingIdCleaner"
   ]
  },
  {
   "cell_type": "code",
   "execution_count": 3,
   "id": "da81e534",
   "metadata": {},
   "outputs": [],
   "source": [
    "# Create an object based on BankingIdCleaner() class to perform validation over string values, dataframe or .csv file\n",
    "id_cleaner_obj = BankingIdCleaner()"
   ]
  },
  {
   "cell_type": "code",
   "execution_count": 4,
   "id": "9db751c5",
   "metadata": {},
   "outputs": [
    {
     "data": {
      "text/plain": [
       "['lei', 'isin', 'sedol']"
      ]
     },
     "execution_count": 4,
     "metadata": {},
     "output_type": "execute_result"
    }
   ],
   "source": [
    "# Check the ID's supported by the library\n",
    "id_cleaner_obj.get_id_types()"
   ]
  },
  {
   "cell_type": "markdown",
   "id": "ff699a9c",
   "metadata": {},
   "source": [
    "## 1. Basic usage"
   ]
  },
  {
   "cell_type": "markdown",
   "id": "4cb88cca",
   "metadata": {},
   "source": [
    "By default, the API assumes that the value passed as parameter is an ISIN code.\n",
    "The API returns:\n",
    "- None if the value is not a string or has no characters in it.\n",
    "- True if the value is a valid ID of the specified type\n",
    "- False if the value is not a valid ID of the specified type"
   ]
  },
  {
   "cell_type": "code",
   "execution_count": 6,
   "id": "a60fd0c2",
   "metadata": {},
   "outputs": [
    {
     "data": {
      "text/plain": [
       "'isin'"
      ]
     },
     "execution_count": 6,
     "metadata": {},
     "output_type": "execute_result"
    }
   ],
   "source": [
    "id_cleaner_obj.id_type"
   ]
  },
  {
   "cell_type": "code",
   "execution_count": 7,
   "id": "018e1f6d",
   "metadata": {},
   "outputs": [
    {
     "ename": "TypeError",
     "evalue": "'NoneType' object is not subscriptable",
     "output_type": "error",
     "traceback": [
      "\u001b[1;31m---------------------------------------------------------------------------\u001b[0m",
      "\u001b[1;31mTypeError\u001b[0m                                 Traceback (most recent call last)",
      "Input \u001b[1;32mIn [7]\u001b[0m, in \u001b[0;36m<cell line: 2>\u001b[1;34m()\u001b[0m\n\u001b[0;32m      1\u001b[0m \u001b[38;5;66;03m# Testing to clean up a value that is not a string\u001b[39;00m\n\u001b[1;32m----> 2\u001b[0m \u001b[43mid_cleaner_obj\u001b[49m\u001b[38;5;241;43m.\u001b[39;49m\u001b[43mis_valid_id\u001b[49m\u001b[43m(\u001b[49m\u001b[38;5;241;43m12345\u001b[39;49m\u001b[43m)\u001b[49m\n",
      "File \u001b[1;32m~\\OneDrive\\Projects\\GitHub\\os_climate\\financial-entity-cleaner\\notebooks\\how-to\\../..\\financial_entity_cleaner\\id\\banking.py:224\u001b[0m, in \u001b[0;36mis_valid_id\u001b[1;34m(self, id_value)\u001b[0m\n\u001b[0;32m    218\u001b[0m validation_return \u001b[38;5;241m=\u001b[39m \u001b[38;5;28mself\u001b[39m\u001b[38;5;241m.\u001b[39m__validate_id(id_value)\n\u001b[0;32m    220\u001b[0m \u001b[38;5;66;03m# Creates an empty dict that will hold the return values for cleaned and validated id\u001b[39;00m\n\u001b[0;32m    221\u001b[0m dict_clean_id \u001b[38;5;241m=\u001b[39m {\n\u001b[0;32m    222\u001b[0m     \u001b[38;5;28mself\u001b[39m\u001b[38;5;241m.\u001b[39m_cleaned_id_output: np\u001b[38;5;241m.\u001b[39mnan,\n\u001b[0;32m    223\u001b[0m     \u001b[38;5;28mself\u001b[39m\u001b[38;5;241m.\u001b[39m_validated_id_output: np\u001b[38;5;241m.\u001b[39mnan,\n\u001b[1;32m--> 224\u001b[0m }\n\u001b[0;32m    226\u001b[0m \u001b[38;5;66;03m# Check if the validation was performed an in case of null values, return a null dict result\u001b[39;00m\n\u001b[0;32m    227\u001b[0m \u001b[38;5;28;01mif\u001b[39;00m \u001b[38;5;129;01mnot\u001b[39;00m validation_return:\n",
      "\u001b[1;31mTypeError\u001b[0m: 'NoneType' object is not subscriptable"
     ]
    }
   ],
   "source": [
    "# Testing to clean up a value that is not a string\n",
    "id_cleaner_obj.is_valid_id(12345)"
   ]
  },
  {
   "cell_type": "code",
   "execution_count": 8,
   "id": "b59ac0a9",
   "metadata": {},
   "outputs": [
    {
     "data": {
      "text/plain": [
       "True"
      ]
     },
     "execution_count": 8,
     "metadata": {},
     "output_type": "execute_result"
    }
   ],
   "source": [
    "# Testing a valid ISIN code\n",
    "id_cleaner_obj.is_valid_id('GB00B1YW4409')"
   ]
  },
  {
   "cell_type": "code",
   "execution_count": 9,
   "id": "d1914800",
   "metadata": {},
   "outputs": [
    {
     "data": {
      "text/plain": [
       "False"
      ]
     },
     "execution_count": 9,
     "metadata": {},
     "output_type": "execute_result"
    }
   ],
   "source": [
    "# Testing an invalid ISIN code\n",
    "id_cleaner_obj.is_valid_id('tttt0B1YW4409')"
   ]
  },
  {
   "cell_type": "markdown",
   "id": "48fad1c5",
   "metadata": {},
   "source": [
    "## 2. Working with other ID types (LEI and SEDOL)"
   ]
  },
  {
   "cell_type": "code",
   "execution_count": 10,
   "id": "ac661233",
   "metadata": {},
   "outputs": [],
   "source": [
    "id_cleaner_obj.id_type='lei'"
   ]
  },
  {
   "cell_type": "code",
   "execution_count": 11,
   "id": "580391ac",
   "metadata": {},
   "outputs": [
    {
     "data": {
      "text/plain": [
       "True"
      ]
     },
     "execution_count": 11,
     "metadata": {},
     "output_type": "execute_result"
    }
   ],
   "source": [
    "# Testing a valid LEI code\n",
    "id_cleaner_obj.is_valid_id('969500DPKGC9JE9F0820')"
   ]
  },
  {
   "cell_type": "code",
   "execution_count": 12,
   "id": "1037008f",
   "metadata": {},
   "outputs": [],
   "source": [
    "id_cleaner_obj.id_type='sedol'"
   ]
  },
  {
   "cell_type": "code",
   "execution_count": 13,
   "id": "0d0be5de",
   "metadata": {},
   "outputs": [
    {
     "data": {
      "text/plain": [
       "True"
      ]
     },
     "execution_count": 13,
     "metadata": {},
     "output_type": "execute_result"
    }
   ],
   "source": [
    "# Testing a valid SEDOL code\n",
    "id_cleaner_obj.is_valid_id('2595708')"
   ]
  },
  {
   "cell_type": "markdown",
   "id": "d14d1883",
   "metadata": {},
   "source": [
    "The library throws an exception id the type is not supported."
   ]
  },
  {
   "cell_type": "code",
   "execution_count": 14,
   "id": "3aff58af",
   "metadata": {},
   "outputs": [
    {
     "ename": "IndexError",
     "evalue": "tuple index out of range",
     "output_type": "error",
     "traceback": [
      "\u001b[1;31m---------------------------------------------------------------------------\u001b[0m",
      "\u001b[1;31mIndexError\u001b[0m                                Traceback (most recent call last)",
      "Input \u001b[1;32mIn [14]\u001b[0m, in \u001b[0;36m<cell line: 1>\u001b[1;34m()\u001b[0m\n\u001b[1;32m----> 1\u001b[0m id_cleaner_obj\u001b[38;5;241m.\u001b[39mid_type\u001b[38;5;241m=\u001b[39m\u001b[38;5;124m'\u001b[39m\u001b[38;5;124mtest\u001b[39m\u001b[38;5;124m'\u001b[39m\n",
      "File \u001b[1;32m~\\OneDrive\\Projects\\GitHub\\os_climate\\financial-entity-cleaner\\notebooks\\how-to\\../..\\financial_entity_cleaner\\id\\banking.py:95\u001b[0m, in \u001b[0;36mid_type\u001b[1;34m(self, new_id_type)\u001b[0m\n\u001b[0;32m     74\u001b[0m \u001b[38;5;129m@property\u001b[39m\n\u001b[0;32m     75\u001b[0m \u001b[38;5;28;01mdef\u001b[39;00m \u001b[38;5;21mmode\u001b[39m(\u001b[38;5;28mself\u001b[39m):\n\u001b[0;32m     76\u001b[0m     \u001b[38;5;124;03m\"\"\"\u001b[39;00m\n\u001b[0;32m     77\u001b[0m \u001b[38;5;124;03m    Defines if the cleaning task should be performed in **SILENT** or **EXCEPTION** mode. To use this feature,\u001b[39;00m\n\u001b[0;32m     78\u001b[0m \u001b[38;5;124;03m    import the **ModeOfUse** pre-defined class in **utils.lib** module, as shown in the example below:\u001b[39;00m\n\u001b[0;32m     79\u001b[0m \n\u001b[0;32m     80\u001b[0m \u001b[38;5;124;03m    Examples:\u001b[39;00m\n\u001b[0;32m     81\u001b[0m \u001b[38;5;124;03m        .. code-block:: python\u001b[39;00m\n\u001b[0;32m     82\u001b[0m \n\u001b[0;32m     83\u001b[0m \u001b[38;5;124;03m            # Import the modes from utils.lib\u001b[39;00m\n\u001b[0;32m     84\u001b[0m \u001b[38;5;124;03m            from financial_entity_cleaner.utils.lib import ModeOfUse\u001b[39;00m\n\u001b[0;32m     85\u001b[0m \n\u001b[0;32m     86\u001b[0m \u001b[38;5;124;03m            # change the mode to show errors as exceptions\u001b[39;00m\n\u001b[0;32m     87\u001b[0m \u001b[38;5;124;03m            id_cleaner.mode = ModeOfUse.EXCEPTION_MODE\u001b[39;00m\n\u001b[0;32m     88\u001b[0m \n\u001b[0;32m     89\u001b[0m \u001b[38;5;124;03m            # An exception is thrown for this case\u001b[39;00m\n\u001b[0;32m     90\u001b[0m \u001b[38;5;124;03m            id_cleaner.get_clean_id('xftrsss')\u001b[39;00m\n\u001b[0;32m     91\u001b[0m \n\u001b[0;32m     92\u001b[0m \u001b[38;5;124;03m    - **ModeOfUse.EXCEPTION_MODE**: the library *throws an exception* in case of an error during cleaning.\u001b[39;00m\n\u001b[0;32m     93\u001b[0m \u001b[38;5;124;03m      The error message can be sent to the standard output or recorded in a logging file. When\u001b[39;00m\n\u001b[0;32m     94\u001b[0m \u001b[38;5;124;03m      cleaning up over dataframes, the process is immediately stopped in EXCEPTION_MODE.\u001b[39;00m\n\u001b[1;32m---> 95\u001b[0m \u001b[38;5;124;03m    - **ModeOfUse.SILENT_MODE**: the library returns *None* as the result of a failed cleaning.\u001b[39;00m\n\u001b[0;32m     96\u001b[0m \u001b[38;5;124;03m      As in EXCEPTION_MODE, the error message can be sent to the standard output or recorded in a logging file.\u001b[39;00m\n\u001b[0;32m     97\u001b[0m \u001b[38;5;124;03m      But, when up cleaning over dataframes, the process is immediately stopped only if the property\u001b[39;00m\n\u001b[0;32m     98\u001b[0m \u001b[38;5;124;03m      *stop_if_error=True*.\u001b[39;00m\n\u001b[0;32m     99\u001b[0m \n\u001b[0;32m    100\u001b[0m \u001b[38;5;124;03m    \"\"\"\u001b[39;00m\n\u001b[0;32m    101\u001b[0m     \u001b[38;5;28;01mreturn\u001b[39;00m \u001b[38;5;28mself\u001b[39m\u001b[38;5;241m.\u001b[39m_mode\n",
      "File \u001b[1;32m~\\OneDrive\\Projects\\GitHub\\os_climate\\financial-entity-cleaner\\notebooks\\how-to\\../..\\financial_entity_cleaner\\id\\exceptions.py:29\u001b[0m, in \u001b[0;36mTypeOfBankingIdNotSupported.__init__\u001b[1;34m(self, *args)\u001b[0m\n\u001b[0;32m     27\u001b[0m \u001b[38;5;28;01mdef\u001b[39;00m \u001b[38;5;21m__init__\u001b[39m(\u001b[38;5;28mself\u001b[39m, \u001b[38;5;241m*\u001b[39margs):\n\u001b[0;32m     28\u001b[0m     \u001b[38;5;28msuper\u001b[39m()\u001b[38;5;241m.\u001b[39m\u001b[38;5;21m__init__\u001b[39m(args)\n\u001b[1;32m---> 29\u001b[0m     \u001b[38;5;28mself\u001b[39m\u001b[38;5;241m.\u001b[39mmessage \u001b[38;5;241m=\u001b[39m \u001b[38;5;124m\"\u001b[39m\u001b[38;5;124mThe ID type <\u001b[39m\u001b[38;5;132;01m{0}\u001b[39;00m\u001b[38;5;124m> is not supported.\u001b[39m\u001b[38;5;124m\"\u001b[39m\u001b[38;5;241m.\u001b[39mformat(\u001b[43margs\u001b[49m\u001b[43m[\u001b[49m\u001b[38;5;241;43m0\u001b[39;49m\u001b[43m]\u001b[49m)\n",
      "\u001b[1;31mIndexError\u001b[0m: tuple index out of range"
     ]
    }
   ],
   "source": [
    "id_cleaner_obj.id_type='test'"
   ]
  },
  {
   "cell_type": "markdown",
   "id": "f8b59a64",
   "metadata": {},
   "source": [
    "## 3. Cleaning and Validating"
   ]
  },
  {
   "cell_type": "markdown",
   "id": "42f8d204",
   "metadata": {},
   "source": [
    "The library can also be used for cleaning and validation at the same time. In this case, it will return a list of values where list[0] indicates if the id is valid or not and list[1] returns the cleaner ID."
   ]
  },
  {
   "cell_type": "code",
   "execution_count": 15,
   "id": "d8aada62",
   "metadata": {},
   "outputs": [],
   "source": [
    "id_cleaner_obj.id_type='lei'"
   ]
  },
  {
   "cell_type": "code",
   "execution_count": 17,
   "id": "bb4af555",
   "metadata": {},
   "outputs": [
    {
     "data": {
      "text/plain": [
       "{'id_cleaned': '969500DPKGC9JE9F0820', 'id_validated': True}"
      ]
     },
     "execution_count": 17,
     "metadata": {},
     "output_type": "execute_result"
    }
   ],
   "source": [
    "# Cleaning a valid LEI code\n",
    "clean_lei = id_cleaner_obj.get_clean_id('969500DPKGC9JE9F0820')\n",
    "clean_lei"
   ]
  },
  {
   "cell_type": "markdown",
   "id": "0b76bead",
   "metadata": {},
   "source": [
    "By default, if the id is invalid get_clean_id() returns False"
   ]
  },
  {
   "cell_type": "code",
   "execution_count": 18,
   "id": "904b5524",
   "metadata": {},
   "outputs": [
    {
     "data": {
      "text/plain": [
       "{'id_cleaned': '96XX00DPKGC9JE9F0820', 'id_validated': False}"
      ]
     },
     "execution_count": 18,
     "metadata": {},
     "output_type": "execute_result"
    }
   ],
   "source": [
    "# Cleaning an invalid LEI code\n",
    "clean_lei = id_cleaner_obj.get_clean_id('96XX00DPKGC9JE9F0820')\n",
    "clean_lei"
   ]
  },
  {
   "cell_type": "markdown",
   "id": "74c4787a",
   "metadata": {},
   "source": [
    "If this behaviour is not required, set the parameter set_null_for_invalid=True"
   ]
  },
  {
   "cell_type": "code",
   "execution_count": 21,
   "id": "91da675f",
   "metadata": {},
   "outputs": [],
   "source": [
    "id_cleaner_obj.set_null_for_invalid_ids = False"
   ]
  },
  {
   "cell_type": "code",
   "execution_count": 22,
   "id": "7cb2f120",
   "metadata": {},
   "outputs": [
    {
     "data": {
      "text/plain": [
       "{'id_cleaned': '96XX00DPKGC9JE9F0820', 'id_validated': False}"
      ]
     },
     "execution_count": 22,
     "metadata": {},
     "output_type": "execute_result"
    }
   ],
   "source": [
    "# Cleaning an invalid LEI code\n",
    "clean_lei = id_cleaner_obj.get_clean_id('96XX00DPKGC9JE9F0820')\n",
    "clean_lei"
   ]
  },
  {
   "cell_type": "markdown",
   "id": "537156ec",
   "metadata": {},
   "source": [
    "## 4. Cleaning a dataframe"
   ]
  },
  {
   "cell_type": "code",
   "execution_count": null,
   "id": "b2462636",
   "metadata": {},
   "outputs": [],
   "source": [
    "import pandas as pd"
   ]
  },
  {
   "cell_type": "code",
   "execution_count": null,
   "id": "a8a7ee30",
   "metadata": {},
   "outputs": [],
   "source": [
    "input_filename = '../../tests/data/test_cleaner_ids.csv'"
   ]
  },
  {
   "cell_type": "code",
   "execution_count": null,
   "id": "8ae29d7c",
   "metadata": {},
   "outputs": [],
   "source": [
    "df_original = pd.read_csv(input_filename,sep=',',encoding='utf-8')"
   ]
  },
  {
   "cell_type": "code",
   "execution_count": null,
   "id": "168b50ba",
   "metadata": {},
   "outputs": [],
   "source": [
    "df_original"
   ]
  },
  {
   "cell_type": "code",
   "execution_count": null,
   "id": "e318a2ba",
   "metadata": {},
   "outputs": [],
   "source": [
    "# Set up the resultant letter case\n",
    "id_cleaner_obj.output_lettercase='upper'"
   ]
  },
  {
   "cell_type": "code",
   "execution_count": null,
   "id": "75105a8c",
   "metadata": {},
   "outputs": [],
   "source": [
    "id_cleaner_obj.id_type='lei'"
   ]
  },
  {
   "cell_type": "code",
   "execution_count": null,
   "id": "9887aa3f",
   "metadata": {},
   "outputs": [],
   "source": [
    "df_cleaner = id_cleaner_obj.apply_cleaner_to_df(df_original, 'ID', 'clean', 'valid')"
   ]
  },
  {
   "cell_type": "code",
   "execution_count": null,
   "id": "402870b6",
   "metadata": {},
   "outputs": [],
   "source": [
    "df_cleaner"
   ]
  },
  {
   "cell_type": "code",
   "execution_count": null,
   "id": "1b72669e",
   "metadata": {},
   "outputs": [],
   "source": [
    "# Not setting null for invalid ids\n",
    "id_cleaner_obj.set_null_for_invalid_ids = False"
   ]
  },
  {
   "cell_type": "code",
   "execution_count": null,
   "id": "1fca99cf",
   "metadata": {},
   "outputs": [],
   "source": [
    "df_cleaner = id_cleaner_obj.apply_cleaner_to_df(df_original, 'ID', 'clean', 'valid')"
   ]
  },
  {
   "cell_type": "code",
   "execution_count": null,
   "id": "5e644173",
   "metadata": {},
   "outputs": [],
   "source": [
    "df_cleaner"
   ]
  },
  {
   "cell_type": "markdown",
   "id": "d2922e04",
   "metadata": {},
   "source": [
    "## 5. Cleaning a csv file with AutoCleaner"
   ]
  },
  {
   "cell_type": "code",
   "execution_count": null,
   "id": "e2b09ab2",
   "metadata": {},
   "outputs": [],
   "source": [
    "# Import the module for normalizing country information\n",
    "from financial_entity_cleaner.auto_cleaner import auto_cleaner"
   ]
  },
  {
   "cell_type": "code",
   "execution_count": null,
   "id": "6e6d463b",
   "metadata": {},
   "outputs": [],
   "source": [
    "# Create an AutoCleaner object\n",
    "auto_cleaner_obj=auto_cleaner.AutoCleaner()"
   ]
  },
  {
   "cell_type": "code",
   "execution_count": null,
   "id": "175383d2",
   "metadata": {},
   "outputs": [],
   "source": [
    "input_filename = '../../tests/data/test_cleaner_ids.csv'"
   ]
  },
  {
   "cell_type": "code",
   "execution_count": null,
   "id": "c4d594ca",
   "metadata": {},
   "outputs": [],
   "source": [
    "setup_cleaning_filename = '../../tests/data/test_cleaner_ids.json'"
   ]
  },
  {
   "cell_type": "code",
   "execution_count": null,
   "id": "c60ace85",
   "metadata": {},
   "outputs": [],
   "source": [
    "output_filename = '../../tests/data/test_cleaner_ids_result.csv'"
   ]
  },
  {
   "cell_type": "code",
   "execution_count": null,
   "id": "3b5a01dc",
   "metadata": {},
   "outputs": [],
   "source": [
    "auto_cleaner_obj.clean_csv_file(input_filename, setup_cleaning_filename, output_filename)"
   ]
  },
  {
   "cell_type": "code",
   "execution_count": null,
   "id": "99656a21",
   "metadata": {},
   "outputs": [],
   "source": []
  }
 ],
 "metadata": {
  "kernelspec": {
   "display_name": "Python 3 (ipykernel)",
   "language": "python",
   "name": "python3"
  },
  "language_info": {
   "codemirror_mode": {
    "name": "ipython",
    "version": 3
   },
   "file_extension": ".py",
   "mimetype": "text/x-python",
   "name": "python",
   "nbconvert_exporter": "python",
   "pygments_lexer": "ipython3",
   "version": "3.8.11"
  }
 },
 "nbformat": 4,
 "nbformat_minor": 5
}
