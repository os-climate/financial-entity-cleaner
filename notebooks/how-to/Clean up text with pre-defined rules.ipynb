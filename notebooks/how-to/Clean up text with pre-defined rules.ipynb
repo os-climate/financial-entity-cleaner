{
 "cells": [
  {
   "cell_type": "markdown",
   "id": "e3e6000c",
   "metadata": {},
   "source": [
    "# How to...clean up text with pre-defined rules"
   ]
  },
  {
   "cell_type": "markdown",
   "id": "3ac482cb",
   "metadata": {},
   "source": [
    "This notebook shows how to use the **SimpleCleaner** class to clean up text using the pre-defined rules available in the financial-entity-cleaner library. "
   ]
  },
  {
   "cell_type": "code",
   "execution_count": 1,
   "id": "3b6e8326",
   "metadata": {},
   "outputs": [],
   "source": [
    "# Sets up the location of the financial-entity-cleaner library relative to this notebook \n",
    "import sys\n",
    "sys.path.append('../../')"
   ]
  },
  {
   "cell_type": "code",
   "execution_count": 2,
   "id": "a74f470b",
   "metadata": {},
   "outputs": [],
   "source": [
    "# Import SimpleCleaner\n",
    "from financial_entity_cleaner.text import SimpleCleaner"
   ]
  },
  {
   "cell_type": "code",
   "execution_count": 3,
   "id": "8f3a80d0",
   "metadata": {},
   "outputs": [],
   "source": [
    "# Create an object based on SimpleCleaner() class\n",
    "simple_cleaner_obj=SimpleCleaner()"
   ]
  },
  {
   "cell_type": "code",
   "execution_count": 4,
   "id": "13dbf33c",
   "metadata": {},
   "outputs": [
    {
     "data": {
      "text/plain": [
       "['remove_email',\n",
       " 'remove_url',\n",
       " 'remove_word_the_from_the_end',\n",
       " 'place_word_the_at_the_beginning',\n",
       " 'remove_www_address',\n",
       " 'enforce_single_space_between_words',\n",
       " 'replace_amperstand_by_AND',\n",
       " 'add_space_between_amperstand',\n",
       " 'replace_amperstand_between_space_by_AND',\n",
       " 'replace_hyphen_by_space',\n",
       " 'replace_hyphen_between_spaces_by_single_space',\n",
       " 'replace_underscore_by_space',\n",
       " 'replace_underscore_between_spaces_by_single_space',\n",
       " 'remove_all_punctuation',\n",
       " 'remove_punctuation_except_dot',\n",
       " 'remove_mentions',\n",
       " 'remove_hashtags',\n",
       " 'remove_asterisk',\n",
       " 'remove_numbers',\n",
       " 'remove_text_puctuation',\n",
       " 'remove_text_puctuation_except_dot',\n",
       " 'remove_math_symbols',\n",
       " 'remove_math_symbols_except_dash',\n",
       " 'remove_parentheses',\n",
       " 'remove_brackets',\n",
       " 'remove_curly_brackets',\n",
       " 'remove_single_quote_next_character',\n",
       " 'remove_single_quote',\n",
       " 'remove_double_quote',\n",
       " 'remove_words_in_parentheses',\n",
       " 'remove_words_in_asterisk',\n",
       " 'remove_question_marks_in_parentheses',\n",
       " 'repeat_remove_words_in_parentheses']"
      ]
     },
     "execution_count": 4,
     "metadata": {},
     "output_type": "execute_result"
    }
   ],
   "source": [
    "# Checking the rules available\n",
    "simple_cleaner_obj.show_cleaning_rules()"
   ]
  },
  {
   "cell_type": "code",
   "execution_count": 5,
   "id": "706fe481",
   "metadata": {},
   "outputs": [],
   "source": [
    "# Text to clean\n",
    "text_to_clean = 'Star.COM Group Serviços - Irmãos sociedade anônima **CAT** S.R.L (PT) / \\|) adm@starcom.pt'"
   ]
  },
  {
   "cell_type": "code",
   "execution_count": 6,
   "id": "f43d8d51",
   "metadata": {},
   "outputs": [
    {
     "name": "stdout",
     "output_type": "stream",
     "text": [
      "Star.COM Group Serviços   Irmãos sociedade anônima   S.R.L          \n"
     ]
    }
   ],
   "source": [
    "# Apply some rules to a text\n",
    "selected_rules = ['remove_email', \n",
    "                  'remove_words_in_asterisk', \n",
    "                  'remove_words_in_parentheses', \n",
    "                  'replace_hyphen_by_space',\n",
    "                  'remove_punctuation_except_dot']\n",
    "result = simple_cleaner_obj.apply_cleaning_rules(text=text_to_clean, lst_rules=selected_rules)\n",
    "print(result)"
   ]
  },
  {
   "cell_type": "markdown",
   "id": "bd31d6f6",
   "metadata": {},
   "source": [
    "As it can be noticed from the result above, the cleaning process can add extra spaces. To resolve this, one can use the **remove_extra_spaces()** method to fix the final result."
   ]
  },
  {
   "cell_type": "code",
   "execution_count": 7,
   "id": "a3204fe0",
   "metadata": {},
   "outputs": [
    {
     "data": {
      "text/plain": [
       "'Star.COM Group Serviços Irmãos sociedade anônima S.R.L'"
      ]
     },
     "execution_count": 7,
     "metadata": {},
     "output_type": "execute_result"
    }
   ],
   "source": [
    "simple_cleaner_obj.remove_extra_spaces(result)"
   ]
  },
  {
   "cell_type": "markdown",
   "id": "b4debb39",
   "metadata": {},
   "source": [
    "If all the spaces should be removed, use **remove_all_spaces()** method:"
   ]
  },
  {
   "cell_type": "code",
   "execution_count": 8,
   "id": "83d93d88",
   "metadata": {},
   "outputs": [
    {
     "data": {
      "text/plain": [
       "'Star.COMGroupServiçosIrmãossociedadeanônimaS.R.L'"
      ]
     },
     "execution_count": 8,
     "metadata": {},
     "output_type": "execute_result"
    }
   ],
   "source": [
    "simple_cleaner_obj.remove_all_spaces(result)"
   ]
  },
  {
   "cell_type": "markdown",
   "id": "fa827e9d",
   "metadata": {},
   "source": [
    "The method **remove_accents()** remove all accents from a text:"
   ]
  },
  {
   "cell_type": "code",
   "execution_count": 9,
   "id": "127d1fe1",
   "metadata": {},
   "outputs": [
    {
     "data": {
      "text/plain": [
       "'STAR.COM GROUP SERVICOS IRMAOS SOCIEDADE ANONIMA S.R.L'"
      ]
     },
     "execution_count": 9,
     "metadata": {},
     "output_type": "execute_result"
    }
   ],
   "source": [
    "result = simple_cleaner_obj.remove_extra_spaces(result)\n",
    "simple_cleaner_obj.remove_accents(result).upper()"
   ]
  },
  {
   "cell_type": "markdown",
   "id": "af65a282",
   "metadata": {},
   "source": [
    "By default, when applying rules that remove characters from the string, **SimpleCleaner()** substitute the unwanted symbols by space. But, if you don't want this behaviour and just want to remove the symbols, send an empty string as a replacement: "
   ]
  },
  {
   "cell_type": "code",
   "execution_count": 10,
   "id": "a72bcc93",
   "metadata": {},
   "outputs": [
    {
     "name": "stdout",
     "output_type": "stream",
     "text": [
      "StarCOM Group Serviços  Irmãos sociedade anônima CAT SRL PT   admstarcompt\n"
     ]
    }
   ],
   "source": [
    "result = simple_cleaner_obj.apply_cleaning_rules(text=text_to_clean, \n",
    "                                                 lst_rules=['remove_all_punctuation'],\n",
    "                                                 replacement=\"\")\n",
    "print(result)"
   ]
  },
  {
   "cell_type": "code",
   "execution_count": null,
   "id": "14547585",
   "metadata": {},
   "outputs": [],
   "source": []
  }
 ],
 "metadata": {
  "kernelspec": {
   "display_name": "Python 3 (ipykernel)",
   "language": "python",
   "name": "python3"
  },
  "language_info": {
   "codemirror_mode": {
    "name": "ipython",
    "version": 3
   },
   "file_extension": ".py",
   "mimetype": "text/x-python",
   "name": "python",
   "nbconvert_exporter": "python",
   "pygments_lexer": "ipython3",
   "version": "3.8.10"
  }
 },
 "nbformat": 4,
 "nbformat_minor": 5
}
