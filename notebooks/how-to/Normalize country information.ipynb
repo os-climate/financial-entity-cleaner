{
 "cells": [
  {
   "cell_type": "markdown",
   "id": "d289f0cd",
   "metadata": {},
   "source": [
    "# How to...normalize country information"
   ]
  },
  {
   "cell_type": "markdown",
   "id": "56658098",
   "metadata": {},
   "source": [
    "This notebook shows how to use the **CountryCleaner** class to normalize country information according to the ISO 3166 standard. You can use this class in two different ways:\n",
    "1. [to normalize single instances of text with country information](#string_values)\n",
    "2. [to normalize country information on tabular data](#df)\n",
    "\n",
    "No matter which approach you choose, you will need to import and create an object based on the **CountryCleaner()** class which is available in the **financial_entity_cleaner.location** package. This notebook shows how you can customize the behaviour of this class to adapt the cleaning to your own needs."
   ]
  },
  {
   "cell_type": "code",
   "execution_count": 1,
   "id": "a2071535",
   "metadata": {},
   "outputs": [],
   "source": [
    "# Sets up the location of the financial-entity-cleaner library relative to this notebook \n",
    "import sys\n",
    "sys.path.append('../../')"
   ]
  },
  {
   "cell_type": "code",
   "execution_count": 2,
   "id": "24169860",
   "metadata": {},
   "outputs": [],
   "source": [
    "# Import CountryCleaner\n",
    "from financial_entity_cleaner.location import CountryCleaner"
   ]
  },
  {
   "cell_type": "code",
   "execution_count": 3,
   "id": "c8858d64",
   "metadata": {},
   "outputs": [],
   "source": [
    "# Create an object based on CountryCleaner() class\n",
    "country_cleaner_obj=CountryCleaner()"
   ]
  },
  {
   "cell_type": "markdown",
   "id": "e9221cbb",
   "metadata": {},
   "source": [
    "## 1. Normalizing single instances of text with country information <a id=\"string_values\"></a>"
   ]
  },
  {
   "cell_type": "markdown",
   "id": "536cf468",
   "metadata": {},
   "source": [
    "When normalizing country information on single string values, the **clean()** method is the way to go. This method receives only one parameter, which is a string value that contains any country information, such as code or name. The examples below show three cases in which this method successfully returns a dictionary with the standardized country information:"
   ]
  },
  {
   "cell_type": "code",
   "execution_count": 4,
   "id": "c657ec4a",
   "metadata": {},
   "outputs": [
    {
     "name": "stdout",
     "output_type": "stream",
     "text": [
      "Country information: {'code': '620', 'name': 'portugal', 'alpha2': 'pt', 'alpha3': 'prt'}\n"
     ]
    }
   ],
   "source": [
    "# Get the complete information about a country given and alpha2 code\n",
    "country_info_dict = country_cleaner_obj.clean('PT')\n",
    "print('Country information: {}'.format(country_info_dict))"
   ]
  },
  {
   "cell_type": "code",
   "execution_count": 5,
   "id": "66cea879",
   "metadata": {},
   "outputs": [
    {
     "name": "stdout",
     "output_type": "stream",
     "text": [
      "Country information: {'code': '76', 'name': 'brazil', 'alpha2': 'br', 'alpha3': 'bra'}\n"
     ]
    }
   ],
   "source": [
    "# Get the complete information about a country given alpha3 code\n",
    "country_info_dict = country_cleaner_obj.clean('BRA')\n",
    "print('Country information: {}'.format(country_info_dict))"
   ]
  },
  {
   "cell_type": "code",
   "execution_count": 6,
   "id": "7805caf2",
   "metadata": {},
   "outputs": [
    {
     "name": "stdout",
     "output_type": "stream",
     "text": [
      "Country information: {'code': '156', 'name': 'china', 'alpha2': 'cn', 'alpha3': 'chn'}\n"
     ]
    }
   ],
   "source": [
    "# Get the complete information about a country given a name\n",
    "country_info_dict = country_cleaner_obj.clean(' China ')\n",
    "print('Country information: {}'.format(country_info_dict))"
   ]
  },
  {
   "cell_type": "markdown",
   "id": "35edf15b",
   "metadata": {},
   "source": [
    "Now, let's see three cases in which the search fails. \n",
    "- when the value passed as parameter cannot be found as being a country code or name.\n",
    "- when the value passed as parameter is not a string, and \n",
    "- when the value passed as parameter is too short to be a country code or name."
   ]
  },
  {
   "cell_type": "code",
   "execution_count": 7,
   "id": "e3035da6",
   "metadata": {},
   "outputs": [
    {
     "name": "stdout",
     "output_type": "stream",
     "text": [
      "None\n"
     ]
    }
   ],
   "source": [
    "# Testing with a string value that is not a country code or name.\n",
    "print(country_cleaner_obj.clean('123'))"
   ]
  },
  {
   "cell_type": "code",
   "execution_count": 8,
   "id": "e1d16686",
   "metadata": {},
   "outputs": [
    {
     "name": "stdout",
     "output_type": "stream",
     "text": [
      "None\n"
     ]
    }
   ],
   "source": [
    "# Testing with a value that is not a string.\n",
    "print(country_cleaner_obj.clean(123))"
   ]
  },
  {
   "cell_type": "code",
   "execution_count": 9,
   "id": "35f97800",
   "metadata": {},
   "outputs": [
    {
     "name": "stdout",
     "output_type": "stream",
     "text": [
      "None\n"
     ]
    }
   ],
   "source": [
    "# Testing with a value that is too short to be a country name or code\n",
    "print(country_cleaner_obj.clean('uk'))"
   ]
  },
  {
   "cell_type": "markdown",
   "id": "3d7af7a5",
   "metadata": {},
   "source": [
    "In the cases above, the **clean()** method returned a 'None' value which indicates that the search failed. However, there will be cases in which the user would prefer to receive an exception instead. For this case, it is required to change the **operation mode** of the **CountryCleaner()** class, which is set by **default** to be in **SILENT_MODE**. The code below shows how to do that:"
   ]
  },
  {
   "cell_type": "code",
   "execution_count": 10,
   "id": "12ad8bb1",
   "metadata": {},
   "outputs": [],
   "source": [
    "country_cleaner_obj.mode = CountryCleaner.EXCEPTION_MODE"
   ]
  },
  {
   "cell_type": "markdown",
   "id": "6d2c017a",
   "metadata": {},
   "source": [
    "<div class=\"alert alert-block alert-danger\">\n",
    "<b>EXCEPTION MODE:</b> Now, the code below will throw a customized exception because the parameter of clean() method is not a string.\n",
    "</div>"
   ]
  },
  {
   "cell_type": "code",
   "execution_count": 11,
   "id": "abc67d93",
   "metadata": {},
   "outputs": [
    {
     "ename": "CountryIsNotAString",
     "evalue": "Financial-Entity-Cleaner (Error) - The input data <123> is not a string.",
     "output_type": "error",
     "traceback": [
      "\u001b[1;31m---------------------------------------------------------------------------\u001b[0m",
      "\u001b[1;31mCountryIsNotAString\u001b[0m                       Traceback (most recent call last)",
      "Input \u001b[1;32mIn [11]\u001b[0m, in \u001b[0;36m<cell line: 2>\u001b[1;34m()\u001b[0m\n\u001b[0;32m      1\u001b[0m \u001b[38;5;66;03m# Trigger an exception if a value is not a string.\u001b[39;00m\n\u001b[1;32m----> 2\u001b[0m \u001b[38;5;28mprint\u001b[39m(\u001b[43mcountry_cleaner_obj\u001b[49m\u001b[38;5;241;43m.\u001b[39;49m\u001b[43mclean\u001b[49m\u001b[43m(\u001b[49m\u001b[38;5;241;43m123\u001b[39;49m\u001b[43m)\u001b[49m)\n",
      "File \u001b[1;32m~\\OneDrive\\Projects\\GitHub\\os_climate\\financial-entity-cleaner\\notebooks\\how-to\\../..\\financial_entity_cleaner\\location\\country.py:276\u001b[0m, in \u001b[0;36mCountryCleaner.clean\u001b[1;34m(self, country)\u001b[0m\n\u001b[0;32m    241\u001b[0m \u001b[38;5;124;03m\"\"\"\u001b[39;00m\n\u001b[0;32m    242\u001b[0m \u001b[38;5;124;03mThis method searches for country information and if the match is positive, it returns the following: code,\u001b[39;00m\n\u001b[0;32m    243\u001b[0m \u001b[38;5;124;03mname, alpha2 and alpha3 codes. The user can pass any country data as input, even incomplete names.\u001b[39;00m\n\u001b[1;32m   (...)\u001b[0m\n\u001b[0;32m    272\u001b[0m \n\u001b[0;32m    273\u001b[0m \u001b[38;5;124;03m\"\"\"\u001b[39;00m\n\u001b[0;32m    275\u001b[0m \u001b[38;5;66;03m# Check the country information passed as parameter\u001b[39;00m\n\u001b[1;32m--> 276\u001b[0m is_valid_param \u001b[38;5;241m=\u001b[39m \u001b[38;5;28;43mself\u001b[39;49m\u001b[38;5;241;43m.\u001b[39;49m\u001b[43m__is_country_param_valid\u001b[49m\u001b[43m(\u001b[49m\u001b[43mcountry\u001b[49m\u001b[43m)\u001b[49m\n\u001b[0;32m    277\u001b[0m \u001b[38;5;28;01mif\u001b[39;00m \u001b[38;5;129;01mnot\u001b[39;00m is_valid_param:\n\u001b[0;32m    278\u001b[0m     \u001b[38;5;28;01mreturn\u001b[39;00m \u001b[38;5;28;01mNone\u001b[39;00m\n",
      "File \u001b[1;32m~\\OneDrive\\Projects\\GitHub\\os_climate\\financial-entity-cleaner\\notebooks\\how-to\\../..\\financial_entity_cleaner\\location\\country.py:205\u001b[0m, in \u001b[0;36mCountryCleaner.__is_country_param_valid\u001b[1;34m(self, country)\u001b[0m\n\u001b[0;32m    203\u001b[0m \u001b[38;5;28;01mif\u001b[39;00m \u001b[38;5;129;01mnot\u001b[39;00m \u001b[38;5;28misinstance\u001b[39m(country, \u001b[38;5;28mstr\u001b[39m):\n\u001b[0;32m    204\u001b[0m     \u001b[38;5;28;01mif\u001b[39;00m \u001b[38;5;28mself\u001b[39m\u001b[38;5;241m.\u001b[39m_mode \u001b[38;5;241m==\u001b[39m \u001b[38;5;28mself\u001b[39m\u001b[38;5;241m.\u001b[39mEXCEPTION_MODE:\n\u001b[1;32m--> 205\u001b[0m         \u001b[38;5;28;01mraise\u001b[39;00m custom_exception\u001b[38;5;241m.\u001b[39mCountryIsNotAString(country)\n\u001b[0;32m    206\u001b[0m     \u001b[38;5;28;01melse\u001b[39;00m:\n\u001b[0;32m    207\u001b[0m         \u001b[38;5;28;01mreturn\u001b[39;00m \u001b[38;5;28;01mFalse\u001b[39;00m\n",
      "\u001b[1;31mCountryIsNotAString\u001b[0m: Financial-Entity-Cleaner (Error) - The input data <123> is not a string."
     ]
    }
   ],
   "source": [
    "# Trigger an exception if a value is not a string.\n",
    "print(country_cleaner_obj.clean(123))"
   ]
  },
  {
   "cell_type": "markdown",
   "id": "0e6e04e0",
   "metadata": {},
   "source": [
    "<div class=\"alert alert-block alert-danger\">\n",
    "<b>EXCEPTION MODE:</b> Another exception is shown because clean() couldn't locate the country.\n",
    "</div>"
   ]
  },
  {
   "cell_type": "code",
   "execution_count": 12,
   "id": "1d971216",
   "metadata": {},
   "outputs": [
    {
     "ename": "CountryNotFound",
     "evalue": "Financial-Entity-Cleaner (Error) - The country <uk> was not found.",
     "output_type": "error",
     "traceback": [
      "\u001b[1;31m---------------------------------------------------------------------------\u001b[0m",
      "\u001b[1;31mCountryNotFound\u001b[0m                           Traceback (most recent call last)",
      "Input \u001b[1;32mIn [12]\u001b[0m, in \u001b[0;36m<cell line: 2>\u001b[1;34m()\u001b[0m\n\u001b[0;32m      1\u001b[0m \u001b[38;5;66;03m# Trigger an exception if the country is not found.\u001b[39;00m\n\u001b[1;32m----> 2\u001b[0m \u001b[38;5;28mprint\u001b[39m(\u001b[43mcountry_cleaner_obj\u001b[49m\u001b[38;5;241;43m.\u001b[39;49m\u001b[43mclean\u001b[49m\u001b[43m(\u001b[49m\u001b[38;5;124;43m'\u001b[39;49m\u001b[38;5;124;43muk\u001b[39;49m\u001b[38;5;124;43m'\u001b[39;49m\u001b[43m)\u001b[49m)\n",
      "File \u001b[1;32m~\\OneDrive\\Projects\\GitHub\\os_climate\\financial-entity-cleaner\\notebooks\\how-to\\../..\\financial_entity_cleaner\\location\\country.py:290\u001b[0m, in \u001b[0;36mCountryCleaner.clean\u001b[1;34m(self, country)\u001b[0m\n\u001b[0;32m    288\u001b[0m \u001b[38;5;28;01mif\u001b[39;00m pd\u001b[38;5;241m.\u001b[39misna(country_name):\n\u001b[0;32m    289\u001b[0m     \u001b[38;5;28;01mif\u001b[39;00m \u001b[38;5;28mself\u001b[39m\u001b[38;5;241m.\u001b[39m_mode \u001b[38;5;241m==\u001b[39m \u001b[38;5;28mself\u001b[39m\u001b[38;5;241m.\u001b[39mEXCEPTION_MODE:\n\u001b[1;32m--> 290\u001b[0m         \u001b[38;5;28;01mraise\u001b[39;00m custom_exception\u001b[38;5;241m.\u001b[39mCountryNotFound(country)\n\u001b[0;32m    291\u001b[0m     \u001b[38;5;28;01mreturn\u001b[39;00m \u001b[38;5;28;01mNone\u001b[39;00m\n\u001b[0;32m    293\u001b[0m \u001b[38;5;66;03m# Return only the required attributes\u001b[39;00m\n",
      "\u001b[1;31mCountryNotFound\u001b[0m: Financial-Entity-Cleaner (Error) - The country <uk> was not found."
     ]
    }
   ],
   "source": [
    "# Trigger an exception if the country is not found.\n",
    "print(country_cleaner_obj.clean('uk'))"
   ]
  },
  {
   "cell_type": "markdown",
   "id": "b82bcda8",
   "metadata": {},
   "source": [
    "<div class=\"alert alert-block alert-danger\">\n",
    "<b>EXCEPTION MODE:</b>The last case below shows an exception because the input parameter is too short to be a country code or name.\n",
    "</div>"
   ]
  },
  {
   "cell_type": "code",
   "execution_count": 13,
   "id": "3d7584fc",
   "metadata": {},
   "outputs": [
    {
     "ename": "CountryInputDataTooSmall",
     "evalue": "Financial-Entity-Cleaner (Error) - The input data <u> is too short to be a country data.",
     "output_type": "error",
     "traceback": [
      "\u001b[1;31m---------------------------------------------------------------------------\u001b[0m",
      "\u001b[1;31mCountryInputDataTooSmall\u001b[0m                  Traceback (most recent call last)",
      "Input \u001b[1;32mIn [13]\u001b[0m, in \u001b[0;36m<cell line: 2>\u001b[1;34m()\u001b[0m\n\u001b[0;32m      1\u001b[0m \u001b[38;5;66;03m# Testing with a value that is too short to be a country name or code\u001b[39;00m\n\u001b[1;32m----> 2\u001b[0m \u001b[38;5;28mprint\u001b[39m(\u001b[43mcountry_cleaner_obj\u001b[49m\u001b[38;5;241;43m.\u001b[39;49m\u001b[43mclean\u001b[49m\u001b[43m(\u001b[49m\u001b[38;5;124;43m'\u001b[39;49m\u001b[38;5;124;43mu\u001b[39;49m\u001b[38;5;124;43m'\u001b[39;49m\u001b[43m)\u001b[49m)\n",
      "File \u001b[1;32m~\\OneDrive\\Projects\\GitHub\\os_climate\\financial-entity-cleaner\\notebooks\\how-to\\../..\\financial_entity_cleaner\\location\\country.py:276\u001b[0m, in \u001b[0;36mCountryCleaner.clean\u001b[1;34m(self, country)\u001b[0m\n\u001b[0;32m    241\u001b[0m \u001b[38;5;124;03m\"\"\"\u001b[39;00m\n\u001b[0;32m    242\u001b[0m \u001b[38;5;124;03mThis method searches for country information and if the match is positive, it returns the following: code,\u001b[39;00m\n\u001b[0;32m    243\u001b[0m \u001b[38;5;124;03mname, alpha2 and alpha3 codes. The user can pass any country data as input, even incomplete names.\u001b[39;00m\n\u001b[1;32m   (...)\u001b[0m\n\u001b[0;32m    272\u001b[0m \n\u001b[0;32m    273\u001b[0m \u001b[38;5;124;03m\"\"\"\u001b[39;00m\n\u001b[0;32m    275\u001b[0m \u001b[38;5;66;03m# Check the country information passed as parameter\u001b[39;00m\n\u001b[1;32m--> 276\u001b[0m is_valid_param \u001b[38;5;241m=\u001b[39m \u001b[38;5;28;43mself\u001b[39;49m\u001b[38;5;241;43m.\u001b[39;49m\u001b[43m__is_country_param_valid\u001b[49m\u001b[43m(\u001b[49m\u001b[43mcountry\u001b[49m\u001b[43m)\u001b[49m\n\u001b[0;32m    277\u001b[0m \u001b[38;5;28;01mif\u001b[39;00m \u001b[38;5;129;01mnot\u001b[39;00m is_valid_param:\n\u001b[0;32m    278\u001b[0m     \u001b[38;5;28;01mreturn\u001b[39;00m \u001b[38;5;28;01mNone\u001b[39;00m\n",
      "File \u001b[1;32m~\\OneDrive\\Projects\\GitHub\\os_climate\\financial-entity-cleaner\\notebooks\\how-to\\../..\\financial_entity_cleaner\\location\\country.py:212\u001b[0m, in \u001b[0;36mCountryCleaner.__is_country_param_valid\u001b[1;34m(self, country)\u001b[0m\n\u001b[0;32m    210\u001b[0m \u001b[38;5;28;01mif\u001b[39;00m \u001b[38;5;28mlen\u001b[39m(\u001b[38;5;28mstr\u001b[39m(country)\u001b[38;5;241m.\u001b[39mstrip()) \u001b[38;5;241m<\u001b[39m \u001b[38;5;241m2\u001b[39m:\n\u001b[0;32m    211\u001b[0m     \u001b[38;5;28;01mif\u001b[39;00m \u001b[38;5;28mself\u001b[39m\u001b[38;5;241m.\u001b[39m_mode \u001b[38;5;241m==\u001b[39m \u001b[38;5;28mself\u001b[39m\u001b[38;5;241m.\u001b[39mEXCEPTION_MODE:\n\u001b[1;32m--> 212\u001b[0m         \u001b[38;5;28;01mraise\u001b[39;00m custom_exception\u001b[38;5;241m.\u001b[39mCountryInputDataTooSmall(country)\n\u001b[0;32m    213\u001b[0m     \u001b[38;5;28;01melse\u001b[39;00m:\n\u001b[0;32m    214\u001b[0m         \u001b[38;5;28;01mreturn\u001b[39;00m \u001b[38;5;28;01mFalse\u001b[39;00m\n",
      "\u001b[1;31mCountryInputDataTooSmall\u001b[0m: Financial-Entity-Cleaner (Error) - The input data <u> is too short to be a country data."
     ]
    }
   ],
   "source": [
    "# Testing with a value that is too short to be a country name or code\n",
    "print(country_cleaner_obj.clean('u'))"
   ]
  },
  {
   "cell_type": "markdown",
   "id": "0c3ac025",
   "metadata": {},
   "source": [
    "<div class=\"alert alert-block alert-success\">\n",
    "<b>SILENT MODE:</b> You can set up your cleaning object back to SILENT_MODE as shown below:\n",
    "</div>"
   ]
  },
  {
   "cell_type": "code",
   "execution_count": 14,
   "id": "24200879",
   "metadata": {},
   "outputs": [],
   "source": [
    "country_cleaner_obj.mode = CountryCleaner.SILENT_MODE"
   ]
  },
  {
   "cell_type": "code",
   "execution_count": 15,
   "id": "a51b50ac",
   "metadata": {},
   "outputs": [
    {
     "name": "stdout",
     "output_type": "stream",
     "text": [
      "None\n"
     ]
    }
   ],
   "source": [
    "# Trigger an exception if the country is not found.\n",
    "print(country_cleaner_obj.clean('123'))"
   ]
  },
  {
   "cell_type": "markdown",
   "id": "11ec8227",
   "metadata": {},
   "source": [
    "Another important property of the CountryCleaner() class is the **letter_case** that defines if the output of the country search will be returned in lower, upper or title case. By default, the letter case is set to be 'lower'. If you want to change that, just set the letter_case property to **'lower'**, **'upper'** or **'title'** or use the built-in class constants LOWER_LETTER_CASE, UPPER_LETTER_CASE, TITLE_LETTER_CASE, as shown below:"
   ]
  },
  {
   "cell_type": "code",
   "execution_count": 16,
   "id": "74759e72",
   "metadata": {},
   "outputs": [],
   "source": [
    "# Set up the resultant letter case\n",
    "country_cleaner_obj.letter_case= CountryCleaner.UPPER_LETTER_CASE"
   ]
  },
  {
   "cell_type": "code",
   "execution_count": 17,
   "id": "70c0d64a",
   "metadata": {},
   "outputs": [
    {
     "name": "stdout",
     "output_type": "stream",
     "text": [
      "Complete country information: {'code': '840', 'name': 'UNITED STATES OF AMERICA', 'alpha2': 'US', 'alpha3': 'USA'}\n"
     ]
    }
   ],
   "source": [
    "# Get the complete information about a country given and alpha2 code\n",
    "country_info_dict = country_cleaner_obj.clean('us')\n",
    "print('Complete country information: {}'.format(country_info_dict))"
   ]
  },
  {
   "cell_type": "markdown",
   "id": "e6411d94",
   "metadata": {},
   "source": [
    "Finally, you may want to change the dictionary keys returned by the country search. Instead of calling them 'code', 'name', 'alpha2' and 'alpha3' you can define other names. This can be useful when cleaning up several columns in a dataframe. The code below shows how you can do that by changing the properties **output_code**, **output_name**, **output_alpha2** and **output_alpha3** of the CountryCleaner() object:"
   ]
  },
  {
   "cell_type": "code",
   "execution_count": 18,
   "id": "f309b3c9",
   "metadata": {},
   "outputs": [],
   "source": [
    "country_cleaner_obj.output_code = 'clean_code'\n",
    "country_cleaner_obj.output_name = 'clean_name'\n",
    "country_cleaner_obj.output_alpha2 = 'clean_alpha2'\n",
    "country_cleaner_obj.output_alpha3 = 'clean_alpha3'"
   ]
  },
  {
   "cell_type": "code",
   "execution_count": 19,
   "id": "c6910fb7",
   "metadata": {},
   "outputs": [
    {
     "name": "stdout",
     "output_type": "stream",
     "text": [
      "Complete country information: {'clean_code': '840', 'clean_name': 'UNITED STATES OF AMERICA', 'clean_alpha2': 'US', 'clean_alpha3': 'USA'}\n"
     ]
    }
   ],
   "source": [
    "# Get the complete information about a country given and alpha2 code\n",
    "country_info_dict = country_cleaner_obj.clean('US')\n",
    "print('Complete country information: {}'.format(country_info_dict))"
   ]
  },
  {
   "cell_type": "markdown",
   "id": "a2a4ee81",
   "metadata": {},
   "source": [
    "You can reset these output names any time by calling the **reset_output_names()** methods of your CountryCleaner() object: "
   ]
  },
  {
   "cell_type": "code",
   "execution_count": 20,
   "id": "ec46b82a",
   "metadata": {},
   "outputs": [],
   "source": [
    "country_cleaner_obj.reset_output_names()"
   ]
  },
  {
   "cell_type": "code",
   "execution_count": 21,
   "id": "f3c74e2c",
   "metadata": {},
   "outputs": [
    {
     "name": "stdout",
     "output_type": "stream",
     "text": [
      "Complete country information: {'code': '840', 'name': 'UNITED STATES OF AMERICA', 'alpha2': 'US', 'alpha3': 'USA'}\n"
     ]
    }
   ],
   "source": [
    "# Get the complete information about a country given and alpha2 code\n",
    "country_info_dict = country_cleaner_obj.clean('US')\n",
    "print('Complete country information: {}'.format(country_info_dict))"
   ]
  },
  {
   "cell_type": "markdown",
   "id": "834bdd5e",
   "metadata": {},
   "source": [
    "## 2. Normalizing country information on pandas dataframes <a id=\"df\"></a>"
   ]
  },
  {
   "cell_type": "markdown",
   "id": "891db044",
   "metadata": {},
   "source": [
    "A more realistic scenario is to have your data in a tabular format and you are already using the Pandas library to make operations on it. You can write your own code to iterate over your pandas dataframe structure by using the clean() method to clean up some columns. However, the financial-entity-cleaner makes this task easier for you. The CountryCleaner() class provides the **clean_df()** method that performs the normalization of countries defined as dataframe columns. See the code below on how to apply this method: "
   ]
  },
  {
   "cell_type": "code",
   "execution_count": 22,
   "id": "de85661a",
   "metadata": {},
   "outputs": [],
   "source": [
    "# Import the pandas library to read data from a .csv file\n",
    "import pandas as pd"
   ]
  },
  {
   "cell_type": "code",
   "execution_count": 23,
   "id": "674582f9",
   "metadata": {},
   "outputs": [
    {
     "data": {
      "text/html": [
       "<div>\n",
       "<style scoped>\n",
       "    .dataframe tbody tr th:only-of-type {\n",
       "        vertical-align: middle;\n",
       "    }\n",
       "\n",
       "    .dataframe tbody tr th {\n",
       "        vertical-align: top;\n",
       "    }\n",
       "\n",
       "    .dataframe thead th {\n",
       "        text-align: right;\n",
       "    }\n",
       "</style>\n",
       "<table border=\"1\" class=\"dataframe\">\n",
       "  <thead>\n",
       "    <tr style=\"text-align: right;\">\n",
       "      <th></th>\n",
       "      <th>NAME</th>\n",
       "      <th>COUNTRY_HEAD</th>\n",
       "      <th>COUNTRY_BRANCH</th>\n",
       "    </tr>\n",
       "  </thead>\n",
       "  <tbody>\n",
       "    <tr>\n",
       "      <th>0</th>\n",
       "      <td>Bechel   *Australia (Services) Pty Ltd</td>\n",
       "      <td>au</td>\n",
       "      <td>au</td>\n",
       "    </tr>\n",
       "    <tr>\n",
       "      <th>1</th>\n",
       "      <td>NRI - KELLY's MERCHANDISE (AUST) PTY LTD</td>\n",
       "      <td>Australia</td>\n",
       "      <td>au</td>\n",
       "    </tr>\n",
       "    <tr>\n",
       "      <th>2</th>\n",
       "      <td>meo -  serviços de comunicação e multimedia SA...</td>\n",
       "      <td>PT</td>\n",
       "      <td>PT</td>\n",
       "    </tr>\n",
       "    <tr>\n",
       "      <th>3</th>\n",
       "      <td>Glass  Coatings &amp; Concepts \"CBG\" LLC</td>\n",
       "      <td>United States</td>\n",
       "      <td>us</td>\n",
       "    </tr>\n",
       "    <tr>\n",
       "      <th>4</th>\n",
       "      <td>Brault Loisirs, Orl. SARL</td>\n",
       "      <td>FR</td>\n",
       "      <td>France</td>\n",
       "    </tr>\n",
       "    <tr>\n",
       "      <th>5</th>\n",
       "      <td>Cole &amp; Brothers  Fabric, Services LLC.</td>\n",
       "      <td>uk</td>\n",
       "      <td>uk</td>\n",
       "    </tr>\n",
       "    <tr>\n",
       "      <th>6</th>\n",
       "      <td>StarCOM Group Servizi **CAT** SRL</td>\n",
       "      <td>italy</td>\n",
       "      <td>ita</td>\n",
       "    </tr>\n",
       "    <tr>\n",
       "      <th>7</th>\n",
       "      <td>Wolbeck (Archer Daniels) *Unified* GmbH</td>\n",
       "      <td>de</td>\n",
       "      <td>de</td>\n",
       "    </tr>\n",
       "    <tr>\n",
       "      <th>8</th>\n",
       "      <td>Anheuser-BUSCH, Brothers (food services), LLC</td>\n",
       "      <td>gb</td>\n",
       "      <td>gb</td>\n",
       "    </tr>\n",
       "    <tr>\n",
       "      <th>9</th>\n",
       "      <td>Susamar-Patino, colectores (adm)   SA</td>\n",
       "      <td>ES</td>\n",
       "      <td>spain</td>\n",
       "    </tr>\n",
       "    <tr>\n",
       "      <th>10</th>\n",
       "      <td>Molino's agro, S.A. (adm)   SA</td>\n",
       "      <td>NaN</td>\n",
       "      <td>ar</td>\n",
       "    </tr>\n",
       "  </tbody>\n",
       "</table>\n",
       "</div>"
      ],
      "text/plain": [
       "                                                 NAME   COUNTRY_HEAD  \\\n",
       "0              Bechel   *Australia (Services) Pty Ltd             au   \n",
       "1            NRI - KELLY's MERCHANDISE (AUST) PTY LTD      Australia   \n",
       "2   meo -  serviços de comunicação e multimedia SA...             PT   \n",
       "3                Glass  Coatings & Concepts \"CBG\" LLC  United States   \n",
       "4                           Brault Loisirs, Orl. SARL             FR   \n",
       "5              Cole & Brothers  Fabric, Services LLC.             uk   \n",
       "6                   StarCOM Group Servizi **CAT** SRL          italy   \n",
       "7             Wolbeck (Archer Daniels) *Unified* GmbH             de   \n",
       "8       Anheuser-BUSCH, Brothers (food services), LLC             gb   \n",
       "9               Susamar-Patino, colectores (adm)   SA             ES   \n",
       "10                     Molino's agro, S.A. (adm)   SA            NaN   \n",
       "\n",
       "   COUNTRY_BRANCH  \n",
       "0              au  \n",
       "1              au  \n",
       "2              PT  \n",
       "3              us  \n",
       "4          France  \n",
       "5              uk  \n",
       "6             ita  \n",
       "7              de  \n",
       "8              gb  \n",
       "9           spain  \n",
       "10             ar  "
      ]
     },
     "execution_count": 23,
     "metadata": {},
     "output_type": "execute_result"
    }
   ],
   "source": [
    "# Read the .csv file as a pandas dataframe object\n",
    "input_filename = '../../tests/data/test_cleaner.csv'\n",
    "df_original = pd.read_csv(input_filename,sep=';',encoding='utf-8', usecols=['NAME','COUNTRY_HEAD', 'COUNTRY_BRANCH'])\n",
    "df_original"
   ]
  },
  {
   "cell_type": "code",
   "execution_count": 24,
   "id": "21dfdae6",
   "metadata": {},
   "outputs": [],
   "source": [
    "# Let's setup the output in upper case\n",
    "country_cleaner_obj.letter_case='upper'"
   ]
  },
  {
   "cell_type": "code",
   "execution_count": 25,
   "id": "d374d432",
   "metadata": {},
   "outputs": [
    {
     "name": "stderr",
     "output_type": "stream",
     "text": [
      "Cleaning column [COUNTRY_HEAD]: 100%|██████████████████████████████████████████████████| 11/11 [00:00<00:00, 314.45it/s]\n"
     ]
    },
    {
     "data": {
      "text/html": [
       "<div>\n",
       "<style scoped>\n",
       "    .dataframe tbody tr th:only-of-type {\n",
       "        vertical-align: middle;\n",
       "    }\n",
       "\n",
       "    .dataframe tbody tr th {\n",
       "        vertical-align: top;\n",
       "    }\n",
       "\n",
       "    .dataframe thead th {\n",
       "        text-align: right;\n",
       "    }\n",
       "</style>\n",
       "<table border=\"1\" class=\"dataframe\">\n",
       "  <thead>\n",
       "    <tr style=\"text-align: right;\">\n",
       "      <th></th>\n",
       "      <th>NAME</th>\n",
       "      <th>COUNTRY_HEAD</th>\n",
       "      <th>COUNTRY_BRANCH</th>\n",
       "      <th>COUNTRY_HEAD_code</th>\n",
       "      <th>COUNTRY_HEAD_name</th>\n",
       "      <th>COUNTRY_HEAD_alpha2</th>\n",
       "      <th>COUNTRY_HEAD_alpha3</th>\n",
       "    </tr>\n",
       "  </thead>\n",
       "  <tbody>\n",
       "    <tr>\n",
       "      <th>0</th>\n",
       "      <td>Bechel   *Australia (Services) Pty Ltd</td>\n",
       "      <td>au</td>\n",
       "      <td>au</td>\n",
       "      <td>36</td>\n",
       "      <td>AUSTRALIA</td>\n",
       "      <td>AU</td>\n",
       "      <td>AUS</td>\n",
       "    </tr>\n",
       "    <tr>\n",
       "      <th>1</th>\n",
       "      <td>NRI - KELLY's MERCHANDISE (AUST) PTY LTD</td>\n",
       "      <td>Australia</td>\n",
       "      <td>au</td>\n",
       "      <td>36</td>\n",
       "      <td>AUSTRALIA</td>\n",
       "      <td>AU</td>\n",
       "      <td>AUS</td>\n",
       "    </tr>\n",
       "    <tr>\n",
       "      <th>2</th>\n",
       "      <td>meo -  serviços de comunicação e multimedia SA...</td>\n",
       "      <td>PT</td>\n",
       "      <td>PT</td>\n",
       "      <td>620</td>\n",
       "      <td>PORTUGAL</td>\n",
       "      <td>PT</td>\n",
       "      <td>PRT</td>\n",
       "    </tr>\n",
       "    <tr>\n",
       "      <th>3</th>\n",
       "      <td>Glass  Coatings &amp; Concepts \"CBG\" LLC</td>\n",
       "      <td>United States</td>\n",
       "      <td>us</td>\n",
       "      <td>840</td>\n",
       "      <td>UNITED STATES OF AMERICA</td>\n",
       "      <td>US</td>\n",
       "      <td>USA</td>\n",
       "    </tr>\n",
       "    <tr>\n",
       "      <th>4</th>\n",
       "      <td>Brault Loisirs, Orl. SARL</td>\n",
       "      <td>FR</td>\n",
       "      <td>France</td>\n",
       "      <td>250</td>\n",
       "      <td>FRANCE</td>\n",
       "      <td>FR</td>\n",
       "      <td>FRA</td>\n",
       "    </tr>\n",
       "    <tr>\n",
       "      <th>5</th>\n",
       "      <td>Cole &amp; Brothers  Fabric, Services LLC.</td>\n",
       "      <td>uk</td>\n",
       "      <td>uk</td>\n",
       "      <td>NaN</td>\n",
       "      <td>NaN</td>\n",
       "      <td>NaN</td>\n",
       "      <td>NaN</td>\n",
       "    </tr>\n",
       "    <tr>\n",
       "      <th>6</th>\n",
       "      <td>StarCOM Group Servizi **CAT** SRL</td>\n",
       "      <td>italy</td>\n",
       "      <td>ita</td>\n",
       "      <td>380</td>\n",
       "      <td>ITALY</td>\n",
       "      <td>IT</td>\n",
       "      <td>ITA</td>\n",
       "    </tr>\n",
       "    <tr>\n",
       "      <th>7</th>\n",
       "      <td>Wolbeck (Archer Daniels) *Unified* GmbH</td>\n",
       "      <td>de</td>\n",
       "      <td>de</td>\n",
       "      <td>276</td>\n",
       "      <td>GERMANY</td>\n",
       "      <td>DE</td>\n",
       "      <td>DEU</td>\n",
       "    </tr>\n",
       "    <tr>\n",
       "      <th>8</th>\n",
       "      <td>Anheuser-BUSCH, Brothers (food services), LLC</td>\n",
       "      <td>gb</td>\n",
       "      <td>gb</td>\n",
       "      <td>826</td>\n",
       "      <td>UNITED KINGDOM OF GREAT BRITAIN AND NORTHERN I...</td>\n",
       "      <td>GB</td>\n",
       "      <td>GBR</td>\n",
       "    </tr>\n",
       "    <tr>\n",
       "      <th>9</th>\n",
       "      <td>Susamar-Patino, colectores (adm)   SA</td>\n",
       "      <td>ES</td>\n",
       "      <td>spain</td>\n",
       "      <td>724</td>\n",
       "      <td>SPAIN</td>\n",
       "      <td>ES</td>\n",
       "      <td>ESP</td>\n",
       "    </tr>\n",
       "    <tr>\n",
       "      <th>10</th>\n",
       "      <td>Molino's agro, S.A. (adm)   SA</td>\n",
       "      <td>NaN</td>\n",
       "      <td>ar</td>\n",
       "      <td>NaN</td>\n",
       "      <td>NaN</td>\n",
       "      <td>NaN</td>\n",
       "      <td>NaN</td>\n",
       "    </tr>\n",
       "  </tbody>\n",
       "</table>\n",
       "</div>"
      ],
      "text/plain": [
       "                                                 NAME   COUNTRY_HEAD  \\\n",
       "0              Bechel   *Australia (Services) Pty Ltd             au   \n",
       "1            NRI - KELLY's MERCHANDISE (AUST) PTY LTD      Australia   \n",
       "2   meo -  serviços de comunicação e multimedia SA...             PT   \n",
       "3                Glass  Coatings & Concepts \"CBG\" LLC  United States   \n",
       "4                           Brault Loisirs, Orl. SARL             FR   \n",
       "5              Cole & Brothers  Fabric, Services LLC.             uk   \n",
       "6                   StarCOM Group Servizi **CAT** SRL          italy   \n",
       "7             Wolbeck (Archer Daniels) *Unified* GmbH             de   \n",
       "8       Anheuser-BUSCH, Brothers (food services), LLC             gb   \n",
       "9               Susamar-Patino, colectores (adm)   SA             ES   \n",
       "10                     Molino's agro, S.A. (adm)   SA            NaN   \n",
       "\n",
       "   COUNTRY_BRANCH COUNTRY_HEAD_code  \\\n",
       "0              au                36   \n",
       "1              au                36   \n",
       "2              PT               620   \n",
       "3              us               840   \n",
       "4          France               250   \n",
       "5              uk               NaN   \n",
       "6             ita               380   \n",
       "7              de               276   \n",
       "8              gb               826   \n",
       "9           spain               724   \n",
       "10             ar               NaN   \n",
       "\n",
       "                                    COUNTRY_HEAD_name COUNTRY_HEAD_alpha2  \\\n",
       "0                                           AUSTRALIA                  AU   \n",
       "1                                           AUSTRALIA                  AU   \n",
       "2                                            PORTUGAL                  PT   \n",
       "3                            UNITED STATES OF AMERICA                  US   \n",
       "4                                              FRANCE                  FR   \n",
       "5                                                 NaN                 NaN   \n",
       "6                                               ITALY                  IT   \n",
       "7                                             GERMANY                  DE   \n",
       "8   UNITED KINGDOM OF GREAT BRITAIN AND NORTHERN I...                  GB   \n",
       "9                                               SPAIN                  ES   \n",
       "10                                                NaN                 NaN   \n",
       "\n",
       "   COUNTRY_HEAD_alpha3  \n",
       "0                  AUS  \n",
       "1                  AUS  \n",
       "2                  PRT  \n",
       "3                  USA  \n",
       "4                  FRA  \n",
       "5                  NaN  \n",
       "6                  ITA  \n",
       "7                  DEU  \n",
       "8                  GBR  \n",
       "9                  ESP  \n",
       "10                 NaN  "
      ]
     },
     "execution_count": 25,
     "metadata": {},
     "output_type": "execute_result"
    }
   ],
   "source": [
    "# Let's perform the cleaning on the dataframe by using the column named as 'COUNTRY_HEAD'\n",
    "df_cleaner = country_cleaner_obj.clean_df(df=df_original, cols=['COUNTRY_HEAD'])\n",
    "df_cleaner"
   ]
  },
  {
   "cell_type": "markdown",
   "id": "0f9b1025",
   "metadata": {},
   "source": [
    "From the results above it's clear to spot where the country search failed because the library returns a 'NaN' object (row 5). Therefore, you can easily identify the countries that were not normalized."
   ]
  },
  {
   "cell_type": "markdown",
   "id": "221fc749",
   "metadata": {},
   "source": [
    "Another important thing to notice is that the cleaning process created four new columns to store the cleaning attributes code, name, alpha2 and alpha3. These names are defined by the properties output_code, output_name, output_alpha2 and output_alpha3. The code below changes these names that will be used as prefix. It also chooses to return only the alpha2 and name."
   ]
  },
  {
   "cell_type": "code",
   "execution_count": 26,
   "id": "9caa9a9a",
   "metadata": {},
   "outputs": [],
   "source": [
    "# Changing the output column names\n",
    "country_cleaner_obj.output_name = 'CLEANED_NAME'\n",
    "country_cleaner_obj.output_alpha2 = 'CLEANED_ALPHA2'"
   ]
  },
  {
   "cell_type": "code",
   "execution_count": 27,
   "id": "643e4d7d",
   "metadata": {},
   "outputs": [],
   "source": [
    "country_cleaner_obj.output_info = [CountryCleaner.ATTRIBUTE_ALPHA2, CountryCleaner.ATTRIBUTE_NAME]"
   ]
  },
  {
   "cell_type": "code",
   "execution_count": 28,
   "id": "eff6c6e9",
   "metadata": {},
   "outputs": [
    {
     "name": "stderr",
     "output_type": "stream",
     "text": [
      "Cleaning column [COUNTRY_HEAD]: 100%|██████████████████████████████████████████████████| 11/11 [00:00<00:00, 423.31it/s]\n"
     ]
    },
    {
     "data": {
      "text/html": [
       "<div>\n",
       "<style scoped>\n",
       "    .dataframe tbody tr th:only-of-type {\n",
       "        vertical-align: middle;\n",
       "    }\n",
       "\n",
       "    .dataframe tbody tr th {\n",
       "        vertical-align: top;\n",
       "    }\n",
       "\n",
       "    .dataframe thead th {\n",
       "        text-align: right;\n",
       "    }\n",
       "</style>\n",
       "<table border=\"1\" class=\"dataframe\">\n",
       "  <thead>\n",
       "    <tr style=\"text-align: right;\">\n",
       "      <th></th>\n",
       "      <th>NAME</th>\n",
       "      <th>COUNTRY_HEAD</th>\n",
       "      <th>COUNTRY_BRANCH</th>\n",
       "      <th>CLEANED_NAME_COUNTRY_HEAD</th>\n",
       "      <th>CLEANED_ALPHA2_COUNTRY_HEAD</th>\n",
       "    </tr>\n",
       "  </thead>\n",
       "  <tbody>\n",
       "    <tr>\n",
       "      <th>0</th>\n",
       "      <td>Bechel   *Australia (Services) Pty Ltd</td>\n",
       "      <td>au</td>\n",
       "      <td>au</td>\n",
       "      <td>AUSTRALIA</td>\n",
       "      <td>AU</td>\n",
       "    </tr>\n",
       "    <tr>\n",
       "      <th>1</th>\n",
       "      <td>NRI - KELLY's MERCHANDISE (AUST) PTY LTD</td>\n",
       "      <td>Australia</td>\n",
       "      <td>au</td>\n",
       "      <td>AUSTRALIA</td>\n",
       "      <td>AU</td>\n",
       "    </tr>\n",
       "    <tr>\n",
       "      <th>2</th>\n",
       "      <td>meo -  serviços de comunicação e multimedia SA...</td>\n",
       "      <td>PT</td>\n",
       "      <td>PT</td>\n",
       "      <td>PORTUGAL</td>\n",
       "      <td>PT</td>\n",
       "    </tr>\n",
       "    <tr>\n",
       "      <th>3</th>\n",
       "      <td>Glass  Coatings &amp; Concepts \"CBG\" LLC</td>\n",
       "      <td>United States</td>\n",
       "      <td>us</td>\n",
       "      <td>UNITED STATES OF AMERICA</td>\n",
       "      <td>US</td>\n",
       "    </tr>\n",
       "    <tr>\n",
       "      <th>4</th>\n",
       "      <td>Brault Loisirs, Orl. SARL</td>\n",
       "      <td>FR</td>\n",
       "      <td>France</td>\n",
       "      <td>FRANCE</td>\n",
       "      <td>FR</td>\n",
       "    </tr>\n",
       "    <tr>\n",
       "      <th>5</th>\n",
       "      <td>Cole &amp; Brothers  Fabric, Services LLC.</td>\n",
       "      <td>uk</td>\n",
       "      <td>uk</td>\n",
       "      <td>NaN</td>\n",
       "      <td>NaN</td>\n",
       "    </tr>\n",
       "    <tr>\n",
       "      <th>6</th>\n",
       "      <td>StarCOM Group Servizi **CAT** SRL</td>\n",
       "      <td>italy</td>\n",
       "      <td>ita</td>\n",
       "      <td>ITALY</td>\n",
       "      <td>IT</td>\n",
       "    </tr>\n",
       "    <tr>\n",
       "      <th>7</th>\n",
       "      <td>Wolbeck (Archer Daniels) *Unified* GmbH</td>\n",
       "      <td>de</td>\n",
       "      <td>de</td>\n",
       "      <td>GERMANY</td>\n",
       "      <td>DE</td>\n",
       "    </tr>\n",
       "    <tr>\n",
       "      <th>8</th>\n",
       "      <td>Anheuser-BUSCH, Brothers (food services), LLC</td>\n",
       "      <td>gb</td>\n",
       "      <td>gb</td>\n",
       "      <td>UNITED KINGDOM OF GREAT BRITAIN AND NORTHERN I...</td>\n",
       "      <td>GB</td>\n",
       "    </tr>\n",
       "    <tr>\n",
       "      <th>9</th>\n",
       "      <td>Susamar-Patino, colectores (adm)   SA</td>\n",
       "      <td>ES</td>\n",
       "      <td>spain</td>\n",
       "      <td>SPAIN</td>\n",
       "      <td>ES</td>\n",
       "    </tr>\n",
       "    <tr>\n",
       "      <th>10</th>\n",
       "      <td>Molino's agro, S.A. (adm)   SA</td>\n",
       "      <td>NaN</td>\n",
       "      <td>ar</td>\n",
       "      <td>NaN</td>\n",
       "      <td>NaN</td>\n",
       "    </tr>\n",
       "  </tbody>\n",
       "</table>\n",
       "</div>"
      ],
      "text/plain": [
       "                                                 NAME   COUNTRY_HEAD  \\\n",
       "0              Bechel   *Australia (Services) Pty Ltd             au   \n",
       "1            NRI - KELLY's MERCHANDISE (AUST) PTY LTD      Australia   \n",
       "2   meo -  serviços de comunicação e multimedia SA...             PT   \n",
       "3                Glass  Coatings & Concepts \"CBG\" LLC  United States   \n",
       "4                           Brault Loisirs, Orl. SARL             FR   \n",
       "5              Cole & Brothers  Fabric, Services LLC.             uk   \n",
       "6                   StarCOM Group Servizi **CAT** SRL          italy   \n",
       "7             Wolbeck (Archer Daniels) *Unified* GmbH             de   \n",
       "8       Anheuser-BUSCH, Brothers (food services), LLC             gb   \n",
       "9               Susamar-Patino, colectores (adm)   SA             ES   \n",
       "10                     Molino's agro, S.A. (adm)   SA            NaN   \n",
       "\n",
       "   COUNTRY_BRANCH                          CLEANED_NAME_COUNTRY_HEAD  \\\n",
       "0              au                                          AUSTRALIA   \n",
       "1              au                                          AUSTRALIA   \n",
       "2              PT                                           PORTUGAL   \n",
       "3              us                           UNITED STATES OF AMERICA   \n",
       "4          France                                             FRANCE   \n",
       "5              uk                                                NaN   \n",
       "6             ita                                              ITALY   \n",
       "7              de                                            GERMANY   \n",
       "8              gb  UNITED KINGDOM OF GREAT BRITAIN AND NORTHERN I...   \n",
       "9           spain                                              SPAIN   \n",
       "10             ar                                                NaN   \n",
       "\n",
       "   CLEANED_ALPHA2_COUNTRY_HEAD  \n",
       "0                           AU  \n",
       "1                           AU  \n",
       "2                           PT  \n",
       "3                           US  \n",
       "4                           FR  \n",
       "5                          NaN  \n",
       "6                           IT  \n",
       "7                           DE  \n",
       "8                           GB  \n",
       "9                           ES  \n",
       "10                         NaN  "
      ]
     },
     "execution_count": 28,
     "metadata": {},
     "output_type": "execute_result"
    }
   ],
   "source": [
    "df_cleaner = country_cleaner_obj.clean_df(df=df_original, cols=['COUNTRY_HEAD'], output_names_as= 'prefix')\n",
    "df_cleaner"
   ]
  },
  {
   "cell_type": "markdown",
   "id": "9b9eee8a",
   "metadata": {},
   "source": [
    "To clean more columns in the dataframe at the same time, just add the column name to the cols argument. You also can ask to remove the original country columns, as shown in the code below:"
   ]
  },
  {
   "cell_type": "code",
   "execution_count": 29,
   "id": "7c25f412",
   "metadata": {},
   "outputs": [],
   "source": [
    "country_cleaner_obj.output_info = [CountryCleaner.ATTRIBUTE_ALPHA2]"
   ]
  },
  {
   "cell_type": "code",
   "execution_count": 30,
   "id": "fe38ac84",
   "metadata": {},
   "outputs": [
    {
     "name": "stderr",
     "output_type": "stream",
     "text": [
      "Cleaning column [COUNTRY_BRANCH]: 100%|██████████████████████████████████████████████████| 11/11 [00:00<00:00, 262.06it/s]\n"
     ]
    },
    {
     "data": {
      "text/html": [
       "<div>\n",
       "<style scoped>\n",
       "    .dataframe tbody tr th:only-of-type {\n",
       "        vertical-align: middle;\n",
       "    }\n",
       "\n",
       "    .dataframe tbody tr th {\n",
       "        vertical-align: top;\n",
       "    }\n",
       "\n",
       "    .dataframe thead th {\n",
       "        text-align: right;\n",
       "    }\n",
       "</style>\n",
       "<table border=\"1\" class=\"dataframe\">\n",
       "  <thead>\n",
       "    <tr style=\"text-align: right;\">\n",
       "      <th></th>\n",
       "      <th>NAME</th>\n",
       "      <th>COUNTRY_HEAD_CLEANED_ALPHA2</th>\n",
       "      <th>COUNTRY_BRANCH_CLEANED_ALPHA2</th>\n",
       "    </tr>\n",
       "  </thead>\n",
       "  <tbody>\n",
       "    <tr>\n",
       "      <th>0</th>\n",
       "      <td>Bechel   *Australia (Services) Pty Ltd</td>\n",
       "      <td>AU</td>\n",
       "      <td>AU</td>\n",
       "    </tr>\n",
       "    <tr>\n",
       "      <th>1</th>\n",
       "      <td>NRI - KELLY's MERCHANDISE (AUST) PTY LTD</td>\n",
       "      <td>AU</td>\n",
       "      <td>AU</td>\n",
       "    </tr>\n",
       "    <tr>\n",
       "      <th>2</th>\n",
       "      <td>meo -  serviços de comunicação e multimedia SA...</td>\n",
       "      <td>PT</td>\n",
       "      <td>PT</td>\n",
       "    </tr>\n",
       "    <tr>\n",
       "      <th>3</th>\n",
       "      <td>Glass  Coatings &amp; Concepts \"CBG\" LLC</td>\n",
       "      <td>US</td>\n",
       "      <td>US</td>\n",
       "    </tr>\n",
       "    <tr>\n",
       "      <th>4</th>\n",
       "      <td>Brault Loisirs, Orl. SARL</td>\n",
       "      <td>FR</td>\n",
       "      <td>FR</td>\n",
       "    </tr>\n",
       "    <tr>\n",
       "      <th>5</th>\n",
       "      <td>Cole &amp; Brothers  Fabric, Services LLC.</td>\n",
       "      <td>NaN</td>\n",
       "      <td>NaN</td>\n",
       "    </tr>\n",
       "    <tr>\n",
       "      <th>6</th>\n",
       "      <td>StarCOM Group Servizi **CAT** SRL</td>\n",
       "      <td>IT</td>\n",
       "      <td>IT</td>\n",
       "    </tr>\n",
       "    <tr>\n",
       "      <th>7</th>\n",
       "      <td>Wolbeck (Archer Daniels) *Unified* GmbH</td>\n",
       "      <td>DE</td>\n",
       "      <td>DE</td>\n",
       "    </tr>\n",
       "    <tr>\n",
       "      <th>8</th>\n",
       "      <td>Anheuser-BUSCH, Brothers (food services), LLC</td>\n",
       "      <td>GB</td>\n",
       "      <td>GB</td>\n",
       "    </tr>\n",
       "    <tr>\n",
       "      <th>9</th>\n",
       "      <td>Susamar-Patino, colectores (adm)   SA</td>\n",
       "      <td>ES</td>\n",
       "      <td>ES</td>\n",
       "    </tr>\n",
       "    <tr>\n",
       "      <th>10</th>\n",
       "      <td>Molino's agro, S.A. (adm)   SA</td>\n",
       "      <td>NaN</td>\n",
       "      <td>AR</td>\n",
       "    </tr>\n",
       "  </tbody>\n",
       "</table>\n",
       "</div>"
      ],
      "text/plain": [
       "                                                 NAME  \\\n",
       "0              Bechel   *Australia (Services) Pty Ltd   \n",
       "1            NRI - KELLY's MERCHANDISE (AUST) PTY LTD   \n",
       "2   meo -  serviços de comunicação e multimedia SA...   \n",
       "3                Glass  Coatings & Concepts \"CBG\" LLC   \n",
       "4                           Brault Loisirs, Orl. SARL   \n",
       "5              Cole & Brothers  Fabric, Services LLC.   \n",
       "6                   StarCOM Group Servizi **CAT** SRL   \n",
       "7             Wolbeck (Archer Daniels) *Unified* GmbH   \n",
       "8       Anheuser-BUSCH, Brothers (food services), LLC   \n",
       "9               Susamar-Patino, colectores (adm)   SA   \n",
       "10                     Molino's agro, S.A. (adm)   SA   \n",
       "\n",
       "   COUNTRY_HEAD_CLEANED_ALPHA2 COUNTRY_BRANCH_CLEANED_ALPHA2  \n",
       "0                           AU                            AU  \n",
       "1                           AU                            AU  \n",
       "2                           PT                            PT  \n",
       "3                           US                            US  \n",
       "4                           FR                            FR  \n",
       "5                          NaN                           NaN  \n",
       "6                           IT                            IT  \n",
       "7                           DE                            DE  \n",
       "8                           GB                            GB  \n",
       "9                           ES                            ES  \n",
       "10                         NaN                            AR  "
      ]
     },
     "execution_count": 30,
     "metadata": {},
     "output_type": "execute_result"
    }
   ],
   "source": [
    "df_cleaner = country_cleaner_obj.clean_df(df=df_original, \n",
    "                                          cols=['COUNTRY_HEAD', 'COUNTRY_BRANCH'], \n",
    "                                          remove_cols = True, \n",
    "                                          output_names_as= 'suffix')\n",
    "df_cleaner"
   ]
  },
  {
   "cell_type": "code",
   "execution_count": null,
   "id": "a89ad7c8",
   "metadata": {},
   "outputs": [],
   "source": []
  }
 ],
 "metadata": {
  "kernelspec": {
   "display_name": "Python 3 (ipykernel)",
   "language": "python",
   "name": "python3"
  },
  "language_info": {
   "codemirror_mode": {
    "name": "ipython",
    "version": 3
   },
   "file_extension": ".py",
   "mimetype": "text/x-python",
   "name": "python",
   "nbconvert_exporter": "python",
   "pygments_lexer": "ipython3",
   "version": "3.9.12"
  }
 },
 "nbformat": 4,
 "nbformat_minor": 5
}
