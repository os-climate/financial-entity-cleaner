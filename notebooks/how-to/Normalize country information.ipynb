{
 "cells": [
  {
   "cell_type": "markdown",
   "id": "d289f0cd",
   "metadata": {},
   "source": [
    "# How to...normalize country information"
   ]
  },
  {
   "cell_type": "markdown",
   "id": "56658098",
   "metadata": {},
   "source": [
    "This notebook shows how to use the **financial-entity-cleaner.country.iso3166** module to normalize country information (alpha 2, alpha 3 and official name) according to the ISO 3166 standard. You can use this module in three different ways:\n",
    "1. [by normalizing string values, one by one](#string_values)\n",
    "2. [by normalizing a pandas dataframe that contains column(s) with country information (name, code or a mix of both)](#df)\n",
    "3. [by normalizing a csv file that contains column(s) with country information (name, code or a mix of both)](#csv)\n",
    "\n",
    "No matter which approach you choose, you will need to import and create an object based on the **CountryCleaner()** class which is available in the **financial_entity_cleaner.country.iso3166** module. This notebook shows how you can customize the behaviour of this class to adapt the cleaning to your own needs.   "
   ]
  },
  {
   "cell_type": "code",
   "execution_count": 36,
   "id": "a2071535",
   "metadata": {},
   "outputs": [],
   "source": [
    "# Sets up the location of the financial-entity-cleaner library relative to this notebook \n",
    "import sys\n",
    "sys.path.append('../../')"
   ]
  },
  {
   "cell_type": "code",
   "execution_count": 2,
   "id": "24169860",
   "metadata": {},
   "outputs": [],
   "source": [
    "# Import the CountryCleaner() class to normalize country information\n",
    "from financial_entity_cleaner.country.iso3166 import CountryCleaner"
   ]
  },
  {
   "cell_type": "code",
   "execution_count": 37,
   "id": "c8858d64",
   "metadata": {},
   "outputs": [],
   "source": [
    "# Create an object based on CountryCleaner() class to perform cleaning over string values, dataframe or .csv file\n",
    "country_cleaner_obj=CountryCleaner()"
   ]
  },
  {
   "cell_type": "markdown",
   "id": "e9221cbb",
   "metadata": {},
   "source": [
    "## 1. Normalizing country information on single string values <a id=\"string_values\"></a>"
   ]
  },
  {
   "cell_type": "markdown",
   "id": "536cf468",
   "metadata": {},
   "source": [
    "When normalizing country information on single string values, the **get_info()** method is the way to go. This method receives only one parameter, which is a string value that contains any country information, such as code or name. The examples below show three cases in which get_info() method is successfully performed and returns a dictionary with the following standardized country information as stated in ISO 3166: \n",
    "- iso_name: official ISO country name, \n",
    "- iso_alpha2: official ISO code with two characters, and\n",
    "- iso_alpha3: official ISO code with three characters."
   ]
  },
  {
   "cell_type": "code",
   "execution_count": 4,
   "id": "c657ec4a",
   "metadata": {},
   "outputs": [
    {
     "name": "stdout",
     "output_type": "stream",
     "text": [
      "Country information: {'iso_name': 'portugal', 'iso_alpha2': 'pt', 'iso_alpha3': 'prt'}\n"
     ]
    }
   ],
   "source": [
    "# Get the complete information about a country given and alpha2 code\n",
    "country_info_dict = country_cleaner_obj.get_info('PT')\n",
    "print('Country information: {}'.format(country_info_dict))"
   ]
  },
  {
   "cell_type": "code",
   "execution_count": 5,
   "id": "66cea879",
   "metadata": {},
   "outputs": [
    {
     "name": "stdout",
     "output_type": "stream",
     "text": [
      "Country information: {'iso_name': 'brazil', 'iso_alpha2': 'br', 'iso_alpha3': 'bra'}\n"
     ]
    }
   ],
   "source": [
    "# Get the complete information about a country given alpha3 code\n",
    "country_info_dict = country_cleaner_obj.get_info('BRA')\n",
    "print('Country information: {}'.format(country_info_dict))"
   ]
  },
  {
   "cell_type": "code",
   "execution_count": 6,
   "id": "7805caf2",
   "metadata": {},
   "outputs": [
    {
     "name": "stdout",
     "output_type": "stream",
     "text": [
      "Country information: {'iso_name': 'china', 'iso_alpha2': 'cn', 'iso_alpha3': 'chn'}\n"
     ]
    }
   ],
   "source": [
    "# Get the complete information about a country given a name\n",
    "country_info_dict = country_cleaner_obj.get_info(' China ')\n",
    "print('Country information: {}'.format(country_info_dict))"
   ]
  },
  {
   "cell_type": "markdown",
   "id": "35edf15b",
   "metadata": {},
   "source": [
    "Now, let's see three cases in which the search fails. \n",
    "- when the value passed as parameter cannot be found as being a country code or name.\n",
    "- when the value passed as parameter is not a string, and \n",
    "- when the value passed as parameter is too short to be a country code or name."
   ]
  },
  {
   "cell_type": "code",
   "execution_count": 7,
   "id": "e3035da6",
   "metadata": {},
   "outputs": [
    {
     "name": "stdout",
     "output_type": "stream",
     "text": [
      "None\n"
     ]
    }
   ],
   "source": [
    "# Testing with a string value that is not a country code or name.\n",
    "print(country_cleaner_obj.get_info('123'))"
   ]
  },
  {
   "cell_type": "code",
   "execution_count": 8,
   "id": "e1d16686",
   "metadata": {},
   "outputs": [
    {
     "name": "stdout",
     "output_type": "stream",
     "text": [
      "None\n"
     ]
    }
   ],
   "source": [
    "# Testing with a value that is not a string.\n",
    "print(country_cleaner_obj.get_info(123))"
   ]
  },
  {
   "cell_type": "code",
   "execution_count": 9,
   "id": "35f97800",
   "metadata": {},
   "outputs": [
    {
     "name": "stdout",
     "output_type": "stream",
     "text": [
      "None\n"
     ]
    }
   ],
   "source": [
    "# Testing with a value that is too short to be a country name or code\n",
    "print(country_cleaner_obj.get_info('u'))"
   ]
  },
  {
   "cell_type": "markdown",
   "id": "3d7af7a5",
   "metadata": {},
   "source": [
    "In the cases above, the **get_info()** method returned a 'None' value which indicates that the search failed. However, there will be cases in which the user would prefer to receive an exception instead. For this case, it is required to change the **operation mode** of the **CountryCleaner()** class, which is set by **default** to be in **SILENT_MODE**. The code below imports the modes of operation from **utils.lib** module and use it to set the **mode property** of the CountryClass() object. "
   ]
  },
  {
   "cell_type": "code",
   "execution_count": 10,
   "id": "ae045eb6",
   "metadata": {},
   "outputs": [],
   "source": [
    "# Import the modes from utils.lib\n",
    "from financial_entity_cleaner.utils.lib import ModeOfUse"
   ]
  },
  {
   "cell_type": "code",
   "execution_count": 11,
   "id": "12ad8bb1",
   "metadata": {},
   "outputs": [],
   "source": [
    "country_cleaner_obj.mode = ModeOfUse.EXCEPTION_MODE"
   ]
  },
  {
   "cell_type": "markdown",
   "id": "b227ee8d",
   "metadata": {},
   "source": [
    "<font color=red>**Now, the code below will throw an exception because the parameter of get_info() method is not a string.**</font>"
   ]
  },
  {
   "cell_type": "code",
   "execution_count": 12,
   "id": "abc67d93",
   "metadata": {},
   "outputs": [
    {
     "ename": "CountryIsNotAString",
     "evalue": "FinancialCleanerError - The input data <123> is not a string.",
     "output_type": "error",
     "traceback": [
      "\u001b[1;31m---------------------------------------------------------------------------\u001b[0m",
      "\u001b[1;31mCountryIsNotAString\u001b[0m                       Traceback (most recent call last)",
      "Input \u001b[1;32mIn [12]\u001b[0m, in \u001b[0;36m<cell line: 2>\u001b[1;34m()\u001b[0m\n\u001b[0;32m      1\u001b[0m \u001b[38;5;66;03m# Trigger an exception if a value is not a string.\u001b[39;00m\n\u001b[1;32m----> 2\u001b[0m \u001b[38;5;28mprint\u001b[39m(\u001b[43mcountry_cleaner_obj\u001b[49m\u001b[38;5;241;43m.\u001b[39;49m\u001b[43mget_info\u001b[49m\u001b[43m(\u001b[49m\u001b[38;5;241;43m123\u001b[39;49m\u001b[43m)\u001b[49m)\n",
      "File \u001b[1;32m~\\OneDrive\\Projects\\GitHub\\os_climate\\financial-entity-cleaner\\notebooks\\how-to\\../..\\financial_entity_cleaner\\country\\iso3166.py:271\u001b[0m, in \u001b[0;36mCountryCleaner.get_info\u001b[1;34m(self, country)\u001b[0m\n\u001b[0;32m    268\u001b[0m alpha3_name \u001b[38;5;241m=\u001b[39m np\u001b[38;5;241m.\u001b[39mnan\n\u001b[0;32m    270\u001b[0m \u001b[38;5;66;03m# Check the country information passed as parameter\u001b[39;00m\n\u001b[1;32m--> 271\u001b[0m is_valid_param \u001b[38;5;241m=\u001b[39m \u001b[38;5;28;43mself\u001b[39;49m\u001b[38;5;241;43m.\u001b[39;49m\u001b[43m__is_country_param_valid\u001b[49m\u001b[43m(\u001b[49m\u001b[43mcountry\u001b[49m\u001b[43m)\u001b[49m\n\u001b[0;32m    272\u001b[0m \u001b[38;5;28;01mif\u001b[39;00m \u001b[38;5;129;01mnot\u001b[39;00m is_valid_param:\n\u001b[0;32m    273\u001b[0m     \u001b[38;5;28;01mreturn\u001b[39;00m \u001b[38;5;28;01mNone\u001b[39;00m\n",
      "File \u001b[1;32m~\\OneDrive\\Projects\\GitHub\\os_climate\\financial-entity-cleaner\\notebooks\\how-to\\../..\\financial_entity_cleaner\\country\\iso3166.py:196\u001b[0m, in \u001b[0;36mCountryCleaner.__is_country_param_valid\u001b[1;34m(self, country)\u001b[0m\n\u001b[0;32m    194\u001b[0m \u001b[38;5;28;01mif\u001b[39;00m \u001b[38;5;129;01mnot\u001b[39;00m \u001b[38;5;28misinstance\u001b[39m(country, \u001b[38;5;28mstr\u001b[39m):\n\u001b[0;32m    195\u001b[0m     \u001b[38;5;28;01mif\u001b[39;00m \u001b[38;5;28mself\u001b[39m\u001b[38;5;241m.\u001b[39m_mode \u001b[38;5;241m==\u001b[39m ModeOfUse\u001b[38;5;241m.\u001b[39mEXCEPTION_MODE:\n\u001b[1;32m--> 196\u001b[0m         \u001b[38;5;28;01mraise\u001b[39;00m custom_exception\u001b[38;5;241m.\u001b[39mCountryIsNotAString(country)\n\u001b[0;32m    197\u001b[0m     \u001b[38;5;28;01melse\u001b[39;00m:\n\u001b[0;32m    198\u001b[0m         \u001b[38;5;28;01mreturn\u001b[39;00m \u001b[38;5;28;01mFalse\u001b[39;00m\n",
      "\u001b[1;31mCountryIsNotAString\u001b[0m: FinancialCleanerError - The input data <123> is not a string."
     ]
    }
   ],
   "source": [
    "# Trigger an exception if a value is not a string.\n",
    "print(country_cleaner_obj.get_info(123))"
   ]
  },
  {
   "cell_type": "markdown",
   "id": "0e6e04e0",
   "metadata": {},
   "source": [
    "<font color=red>**Another exception is shown because get_info() couldn't locate the country.**</font>"
   ]
  },
  {
   "cell_type": "code",
   "execution_count": 14,
   "id": "1d971216",
   "metadata": {},
   "outputs": [
    {
     "ename": "CountryNotFound",
     "evalue": "FinancialCleanerError - The country <123> was not found.",
     "output_type": "error",
     "traceback": [
      "\u001b[1;31m---------------------------------------------------------------------------\u001b[0m",
      "\u001b[1;31mCountryNotFound\u001b[0m                           Traceback (most recent call last)",
      "Input \u001b[1;32mIn [14]\u001b[0m, in \u001b[0;36m<cell line: 2>\u001b[1;34m()\u001b[0m\n\u001b[0;32m      1\u001b[0m \u001b[38;5;66;03m# Trigger an exception if the country is not found.\u001b[39;00m\n\u001b[1;32m----> 2\u001b[0m \u001b[38;5;28mprint\u001b[39m(\u001b[43mcountry_cleaner_obj\u001b[49m\u001b[38;5;241;43m.\u001b[39;49m\u001b[43mget_info\u001b[49m\u001b[43m(\u001b[49m\u001b[38;5;124;43m'\u001b[39;49m\u001b[38;5;124;43m123\u001b[39;49m\u001b[38;5;124;43m'\u001b[39;49m\u001b[43m)\u001b[49m)\n",
      "File \u001b[1;32m~\\OneDrive\\Projects\\GitHub\\os_climate\\financial-entity-cleaner\\notebooks\\how-to\\../..\\financial_entity_cleaner\\country\\iso3166.py:319\u001b[0m, in \u001b[0;36mCountryCleaner.get_info\u001b[1;34m(self, country)\u001b[0m\n\u001b[0;32m    317\u001b[0m \u001b[38;5;28;01melse\u001b[39;00m:\n\u001b[0;32m    318\u001b[0m     \u001b[38;5;28;01mif\u001b[39;00m \u001b[38;5;28mself\u001b[39m\u001b[38;5;241m.\u001b[39m_mode \u001b[38;5;241m==\u001b[39m ModeOfUse\u001b[38;5;241m.\u001b[39mEXCEPTION_MODE:\n\u001b[1;32m--> 319\u001b[0m         \u001b[38;5;28;01mraise\u001b[39;00m custom_exception\u001b[38;5;241m.\u001b[39mCountryNotFound(country)\n\u001b[0;32m    320\u001b[0m     \u001b[38;5;28;01melse\u001b[39;00m:\n\u001b[0;32m    321\u001b[0m         \u001b[38;5;28;01mreturn\u001b[39;00m \u001b[38;5;28;01mNone\u001b[39;00m\n",
      "\u001b[1;31mCountryNotFound\u001b[0m: FinancialCleanerError - The country <123> was not found."
     ]
    }
   ],
   "source": [
    "# Trigger an exception if the country is not found.\n",
    "print(country_cleaner_obj.get_info('123'))"
   ]
  },
  {
   "cell_type": "markdown",
   "id": "b82bcda8",
   "metadata": {},
   "source": [
    "<font color=red>**The last case below shows an exception because the input parameter is too short to be a country code or name.**</font>"
   ]
  },
  {
   "cell_type": "code",
   "execution_count": 13,
   "id": "3d7584fc",
   "metadata": {},
   "outputs": [
    {
     "ename": "CountryInputDataTooSmall",
     "evalue": "FinancialCleanerError - The input data <u> is too small to be a country data.",
     "output_type": "error",
     "traceback": [
      "\u001b[1;31m---------------------------------------------------------------------------\u001b[0m",
      "\u001b[1;31mCountryInputDataTooSmall\u001b[0m                  Traceback (most recent call last)",
      "Input \u001b[1;32mIn [13]\u001b[0m, in \u001b[0;36m<cell line: 2>\u001b[1;34m()\u001b[0m\n\u001b[0;32m      1\u001b[0m \u001b[38;5;66;03m# Testing with a value that is too short to be a country name or code\u001b[39;00m\n\u001b[1;32m----> 2\u001b[0m \u001b[38;5;28mprint\u001b[39m(\u001b[43mcountry_cleaner_obj\u001b[49m\u001b[38;5;241;43m.\u001b[39;49m\u001b[43mget_info\u001b[49m\u001b[43m(\u001b[49m\u001b[38;5;124;43m'\u001b[39;49m\u001b[38;5;124;43mu\u001b[39;49m\u001b[38;5;124;43m'\u001b[39;49m\u001b[43m)\u001b[49m)\n",
      "File \u001b[1;32m~\\OneDrive\\Projects\\GitHub\\os_climate\\financial-entity-cleaner\\notebooks\\how-to\\../..\\financial_entity_cleaner\\country\\iso3166.py:271\u001b[0m, in \u001b[0;36mCountryCleaner.get_info\u001b[1;34m(self, country)\u001b[0m\n\u001b[0;32m    268\u001b[0m alpha3_name \u001b[38;5;241m=\u001b[39m np\u001b[38;5;241m.\u001b[39mnan\n\u001b[0;32m    270\u001b[0m \u001b[38;5;66;03m# Check the country information passed as parameter\u001b[39;00m\n\u001b[1;32m--> 271\u001b[0m is_valid_param \u001b[38;5;241m=\u001b[39m \u001b[38;5;28;43mself\u001b[39;49m\u001b[38;5;241;43m.\u001b[39;49m\u001b[43m__is_country_param_valid\u001b[49m\u001b[43m(\u001b[49m\u001b[43mcountry\u001b[49m\u001b[43m)\u001b[49m\n\u001b[0;32m    272\u001b[0m \u001b[38;5;28;01mif\u001b[39;00m \u001b[38;5;129;01mnot\u001b[39;00m is_valid_param:\n\u001b[0;32m    273\u001b[0m     \u001b[38;5;28;01mreturn\u001b[39;00m \u001b[38;5;28;01mNone\u001b[39;00m\n",
      "File \u001b[1;32m~\\OneDrive\\Projects\\GitHub\\os_climate\\financial-entity-cleaner\\notebooks\\how-to\\../..\\financial_entity_cleaner\\country\\iso3166.py:203\u001b[0m, in \u001b[0;36mCountryCleaner.__is_country_param_valid\u001b[1;34m(self, country)\u001b[0m\n\u001b[0;32m    201\u001b[0m \u001b[38;5;28;01mif\u001b[39;00m \u001b[38;5;28mlen\u001b[39m(\u001b[38;5;28mstr\u001b[39m(country)\u001b[38;5;241m.\u001b[39mstrip()) \u001b[38;5;241m<\u001b[39m \u001b[38;5;241m2\u001b[39m:\n\u001b[0;32m    202\u001b[0m     \u001b[38;5;28;01mif\u001b[39;00m \u001b[38;5;28mself\u001b[39m\u001b[38;5;241m.\u001b[39m_mode \u001b[38;5;241m==\u001b[39m ModeOfUse\u001b[38;5;241m.\u001b[39mEXCEPTION_MODE:\n\u001b[1;32m--> 203\u001b[0m         \u001b[38;5;28;01mraise\u001b[39;00m custom_exception\u001b[38;5;241m.\u001b[39mCountryInputDataTooSmall(country)\n\u001b[0;32m    204\u001b[0m     \u001b[38;5;28;01melse\u001b[39;00m:\n\u001b[0;32m    205\u001b[0m         \u001b[38;5;28;01mreturn\u001b[39;00m \u001b[38;5;28;01mFalse\u001b[39;00m\n",
      "\u001b[1;31mCountryInputDataTooSmall\u001b[0m: FinancialCleanerError - The input data <u> is too small to be a country data."
     ]
    }
   ],
   "source": [
    "# Testing with a value that is too short to be a country name or code\n",
    "print(country_cleaner_obj.get_info('u'))"
   ]
  },
  {
   "cell_type": "markdown",
   "id": "0c3ac025",
   "metadata": {},
   "source": [
    "You can set up your cleaning object back to SILENT_MODE as shown below:"
   ]
  },
  {
   "cell_type": "code",
   "execution_count": 15,
   "id": "24200879",
   "metadata": {},
   "outputs": [],
   "source": [
    "country_cleaner_obj.mode = ModeOfUse.SILENT_MODE"
   ]
  },
  {
   "cell_type": "code",
   "execution_count": 16,
   "id": "a51b50ac",
   "metadata": {},
   "outputs": [
    {
     "name": "stdout",
     "output_type": "stream",
     "text": [
      "None\n"
     ]
    }
   ],
   "source": [
    "# Trigger an exception if the country is not found.\n",
    "print(country_cleaner_obj.get_info('123'))"
   ]
  },
  {
   "cell_type": "markdown",
   "id": "11ec8227",
   "metadata": {},
   "source": [
    "Another important property of the CountryCleaner() class is the **letter_case** that defines if the output of the country search will be returned in lower, upper or title case. By default, the letter case is set to be 'lower'. If you want to change that, just set the letter_case property to **'lower'**, **'upper'** or **'title'** as shown below:"
   ]
  },
  {
   "cell_type": "code",
   "execution_count": 17,
   "id": "74759e72",
   "metadata": {},
   "outputs": [],
   "source": [
    "# Set up the resultant letter case\n",
    "country_cleaner_obj.letter_case='upper'"
   ]
  },
  {
   "cell_type": "code",
   "execution_count": 18,
   "id": "70c0d64a",
   "metadata": {},
   "outputs": [
    {
     "name": "stdout",
     "output_type": "stream",
     "text": [
      "Complete country information: {'iso_name': 'UNITED STATES OF AMERICA', 'iso_alpha2': 'US', 'iso_alpha3': 'USA'}\n"
     ]
    }
   ],
   "source": [
    "# Get the complete information about a country given and alpha2 code\n",
    "country_info_dict = country_cleaner_obj.get_info('us')\n",
    "print('Complete country information: {}'.format(country_info_dict))"
   ]
  },
  {
   "cell_type": "markdown",
   "id": "e6411d94",
   "metadata": {},
   "source": [
    "Finally, you may want to change the dictionary keys returned by the country search. Instead of calling them 'iso_name', 'iso_alpha2' and 'iso_alpha3' you can define other names. The code below shows how you can do that by changing the properties **output_name**, **output_alpha2** and **output_alpha3** of the CountryCleaner() object:"
   ]
  },
  {
   "cell_type": "code",
   "execution_count": 19,
   "id": "f309b3c9",
   "metadata": {},
   "outputs": [],
   "source": [
    "country_cleaner_obj.output_name = 'clean_name'\n",
    "country_cleaner_obj.output_alpha2 = 'clean_alpha2'\n",
    "country_cleaner_obj.output_alpha3 = 'clean_alpha3'"
   ]
  },
  {
   "cell_type": "code",
   "execution_count": 20,
   "id": "c6910fb7",
   "metadata": {},
   "outputs": [
    {
     "name": "stdout",
     "output_type": "stream",
     "text": [
      "Complete country information: {'clean_name': 'UNITED STATES OF AMERICA', 'clean_alpha2': 'US', 'clean_alpha3': 'USA'}\n"
     ]
    }
   ],
   "source": [
    "# Get the complete information about a country given and alpha2 code\n",
    "country_info_dict = country_cleaner_obj.get_info('US')\n",
    "print('Complete country information: {}'.format(country_info_dict))"
   ]
  },
  {
   "cell_type": "markdown",
   "id": "a2a4ee81",
   "metadata": {},
   "source": [
    "You can reset these output names any time by calling the **reset_output_names()** methods of your CountryCleaner() object: "
   ]
  },
  {
   "cell_type": "code",
   "execution_count": 21,
   "id": "ec46b82a",
   "metadata": {},
   "outputs": [],
   "source": [
    "country_cleaner_obj.reset_output_names()"
   ]
  },
  {
   "cell_type": "code",
   "execution_count": 22,
   "id": "f3c74e2c",
   "metadata": {},
   "outputs": [
    {
     "name": "stdout",
     "output_type": "stream",
     "text": [
      "Complete country information: {'iso_name': 'UNITED STATES OF AMERICA', 'iso_alpha2': 'US', 'iso_alpha3': 'USA'}\n"
     ]
    }
   ],
   "source": [
    "# Get the complete information about a country given and alpha2 code\n",
    "country_info_dict = country_cleaner_obj.get_info('US')\n",
    "print('Complete country information: {}'.format(country_info_dict))"
   ]
  },
  {
   "cell_type": "markdown",
   "id": "834bdd5e",
   "metadata": {},
   "source": [
    "## 2. Normalizing country information on pandas dataframes <a id=\"df\"></a>"
   ]
  },
  {
   "cell_type": "markdown",
   "id": "891db044",
   "metadata": {},
   "source": [
    "A more realistic scenario is that you will have your data in a tabular format and you are already using the Pandas library to make operations on it. You can write your own code to iterate over your pandas dataframe structure by using the get_info() method to clean up some columns. However, the financial-entity-cleaner makes this task easier for you. The CountryCleaner() class provides the **get_clean_df()** method that performs the normalization of countries defined as dataframe columns. See the code below on how to apply this method: "
   ]
  },
  {
   "cell_type": "code",
   "execution_count": 23,
   "id": "de85661a",
   "metadata": {},
   "outputs": [],
   "source": [
    "# Import the pandas library to read data from a .csv file\n",
    "import pandas as pd"
   ]
  },
  {
   "cell_type": "code",
   "execution_count": 24,
   "id": "674582f9",
   "metadata": {},
   "outputs": [],
   "source": [
    "# Read the .csv file as a pandas dataframe object\n",
    "input_filename = '../../tests/data/test_cleaner_country.csv'\n",
    "df_original = pd.read_csv(input_filename,sep=',',encoding='utf-8')"
   ]
  },
  {
   "cell_type": "code",
   "execution_count": 25,
   "id": "ad012ce7",
   "metadata": {},
   "outputs": [
    {
     "data": {
      "text/html": [
       "<div>\n",
       "<style scoped>\n",
       "    .dataframe tbody tr th:only-of-type {\n",
       "        vertical-align: middle;\n",
       "    }\n",
       "\n",
       "    .dataframe tbody tr th {\n",
       "        vertical-align: top;\n",
       "    }\n",
       "\n",
       "    .dataframe thead th {\n",
       "        text-align: right;\n",
       "    }\n",
       "</style>\n",
       "<table border=\"1\" class=\"dataframe\">\n",
       "  <thead>\n",
       "    <tr style=\"text-align: right;\">\n",
       "      <th></th>\n",
       "      <th>COUNTRY</th>\n",
       "      <th>ALPHA2</th>\n",
       "      <th>ALPHA3</th>\n",
       "      <th>NAME</th>\n",
       "    </tr>\n",
       "  </thead>\n",
       "  <tbody>\n",
       "    <tr>\n",
       "      <th>0</th>\n",
       "      <td>NC</td>\n",
       "      <td>nc</td>\n",
       "      <td>ncl</td>\n",
       "      <td>new caledonia</td>\n",
       "    </tr>\n",
       "    <tr>\n",
       "      <th>1</th>\n",
       "      <td>Fr</td>\n",
       "      <td>fr</td>\n",
       "      <td>fra</td>\n",
       "      <td>france</td>\n",
       "    </tr>\n",
       "    <tr>\n",
       "      <th>2</th>\n",
       "      <td>CA</td>\n",
       "      <td>ca</td>\n",
       "      <td>can</td>\n",
       "      <td>canada</td>\n",
       "    </tr>\n",
       "    <tr>\n",
       "      <th>3</th>\n",
       "      <td>IT</td>\n",
       "      <td>it</td>\n",
       "      <td>ita</td>\n",
       "      <td>italy</td>\n",
       "    </tr>\n",
       "    <tr>\n",
       "      <th>4</th>\n",
       "      <td>es</td>\n",
       "      <td>es</td>\n",
       "      <td>esp</td>\n",
       "      <td>spain</td>\n",
       "    </tr>\n",
       "    <tr>\n",
       "      <th>5</th>\n",
       "      <td>ZZ</td>\n",
       "      <td>None</td>\n",
       "      <td>None</td>\n",
       "      <td>None</td>\n",
       "    </tr>\n",
       "    <tr>\n",
       "      <th>6</th>\n",
       "      <td>XZ</td>\n",
       "      <td>None</td>\n",
       "      <td>None</td>\n",
       "      <td>None</td>\n",
       "    </tr>\n",
       "    <tr>\n",
       "      <th>7</th>\n",
       "      <td>usa</td>\n",
       "      <td>us</td>\n",
       "      <td>usa</td>\n",
       "      <td>united states of america</td>\n",
       "    </tr>\n",
       "    <tr>\n",
       "      <th>8</th>\n",
       "      <td>Arg</td>\n",
       "      <td>ar</td>\n",
       "      <td>arg</td>\n",
       "      <td>argentina</td>\n",
       "    </tr>\n",
       "    <tr>\n",
       "      <th>9</th>\n",
       "      <td>AUS</td>\n",
       "      <td>au</td>\n",
       "      <td>aus</td>\n",
       "      <td>australia</td>\n",
       "    </tr>\n",
       "    <tr>\n",
       "      <th>10</th>\n",
       "      <td>ZZZ</td>\n",
       "      <td>None</td>\n",
       "      <td>None</td>\n",
       "      <td>None</td>\n",
       "    </tr>\n",
       "    <tr>\n",
       "      <th>11</th>\n",
       "      <td>can</td>\n",
       "      <td>ca</td>\n",
       "      <td>can</td>\n",
       "      <td>canada</td>\n",
       "    </tr>\n",
       "    <tr>\n",
       "      <th>12</th>\n",
       "      <td>DNK</td>\n",
       "      <td>dk</td>\n",
       "      <td>dnk</td>\n",
       "      <td>denmark</td>\n",
       "    </tr>\n",
       "    <tr>\n",
       "      <th>13</th>\n",
       "      <td>United States of America</td>\n",
       "      <td>us</td>\n",
       "      <td>usa</td>\n",
       "      <td>united states of america</td>\n",
       "    </tr>\n",
       "    <tr>\n",
       "      <th>14</th>\n",
       "      <td>GERMANY</td>\n",
       "      <td>de</td>\n",
       "      <td>deu</td>\n",
       "      <td>germany</td>\n",
       "    </tr>\n",
       "    <tr>\n",
       "      <th>15</th>\n",
       "      <td>belgium</td>\n",
       "      <td>be</td>\n",
       "      <td>bel</td>\n",
       "      <td>belgium</td>\n",
       "    </tr>\n",
       "    <tr>\n",
       "      <th>16</th>\n",
       "      <td>WAKANDA</td>\n",
       "      <td>None</td>\n",
       "      <td>None</td>\n",
       "      <td>None</td>\n",
       "    </tr>\n",
       "    <tr>\n",
       "      <th>17</th>\n",
       "      <td>Portugal</td>\n",
       "      <td>pt</td>\n",
       "      <td>prt</td>\n",
       "      <td>portugal</td>\n",
       "    </tr>\n",
       "  </tbody>\n",
       "</table>\n",
       "</div>"
      ],
      "text/plain": [
       "                     COUNTRY ALPHA2 ALPHA3                      NAME\n",
       "0                         NC     nc    ncl             new caledonia\n",
       "1                         Fr     fr    fra                    france\n",
       "2                         CA     ca    can                    canada\n",
       "3                         IT     it    ita                     italy\n",
       "4                         es     es    esp                     spain\n",
       "5                         ZZ   None   None                      None\n",
       "6                         XZ   None   None                      None\n",
       "7                        usa     us    usa  united states of america\n",
       "8                        Arg     ar    arg                 argentina\n",
       "9                        AUS     au    aus                 australia\n",
       "10                       ZZZ   None   None                      None\n",
       "11                       can     ca    can                    canada\n",
       "12                       DNK     dk    dnk                   denmark\n",
       "13  United States of America     us    usa  united states of america\n",
       "14                   GERMANY     de    deu                   germany\n",
       "15                   belgium     be    bel                   belgium\n",
       "16                   WAKANDA   None   None                      None\n",
       "17                  Portugal     pt    prt                  portugal"
      ]
     },
     "execution_count": 25,
     "metadata": {},
     "output_type": "execute_result"
    }
   ],
   "source": [
    "# Check the dataframe content, which contains four columns that can be used to look for the official country info\n",
    "df_original"
   ]
  },
  {
   "cell_type": "code",
   "execution_count": 26,
   "id": "21dfdae6",
   "metadata": {},
   "outputs": [],
   "source": [
    "# Let's setup the output in upper case\n",
    "country_cleaner_obj.letter_case='upper'"
   ]
  },
  {
   "cell_type": "code",
   "execution_count": 27,
   "id": "d374d432",
   "metadata": {},
   "outputs": [
    {
     "name": "stderr",
     "output_type": "stream",
     "text": [
      "Normalizing countries...100%|██████████████████████████████████████████████████| 18/18 [00:00<00:00, 189.58it/s]\n"
     ]
    },
    {
     "data": {
      "text/html": [
       "<div>\n",
       "<style scoped>\n",
       "    .dataframe tbody tr th:only-of-type {\n",
       "        vertical-align: middle;\n",
       "    }\n",
       "\n",
       "    .dataframe tbody tr th {\n",
       "        vertical-align: top;\n",
       "    }\n",
       "\n",
       "    .dataframe thead th {\n",
       "        text-align: right;\n",
       "    }\n",
       "</style>\n",
       "<table border=\"1\" class=\"dataframe\">\n",
       "  <thead>\n",
       "    <tr style=\"text-align: right;\">\n",
       "      <th></th>\n",
       "      <th>COUNTRY</th>\n",
       "      <th>ALPHA2</th>\n",
       "      <th>ALPHA3</th>\n",
       "      <th>NAME</th>\n",
       "      <th>iso_name</th>\n",
       "      <th>iso_alpha2</th>\n",
       "      <th>iso_alpha3</th>\n",
       "    </tr>\n",
       "  </thead>\n",
       "  <tbody>\n",
       "    <tr>\n",
       "      <th>0</th>\n",
       "      <td>NC</td>\n",
       "      <td>nc</td>\n",
       "      <td>ncl</td>\n",
       "      <td>new caledonia</td>\n",
       "      <td>NEW CALEDONIA</td>\n",
       "      <td>NC</td>\n",
       "      <td>NCL</td>\n",
       "    </tr>\n",
       "    <tr>\n",
       "      <th>1</th>\n",
       "      <td>Fr</td>\n",
       "      <td>fr</td>\n",
       "      <td>fra</td>\n",
       "      <td>france</td>\n",
       "      <td>FRANCE</td>\n",
       "      <td>FR</td>\n",
       "      <td>FRA</td>\n",
       "    </tr>\n",
       "    <tr>\n",
       "      <th>2</th>\n",
       "      <td>CA</td>\n",
       "      <td>ca</td>\n",
       "      <td>can</td>\n",
       "      <td>canada</td>\n",
       "      <td>CANADA</td>\n",
       "      <td>CA</td>\n",
       "      <td>CAN</td>\n",
       "    </tr>\n",
       "    <tr>\n",
       "      <th>3</th>\n",
       "      <td>IT</td>\n",
       "      <td>it</td>\n",
       "      <td>ita</td>\n",
       "      <td>italy</td>\n",
       "      <td>ITALY</td>\n",
       "      <td>IT</td>\n",
       "      <td>ITA</td>\n",
       "    </tr>\n",
       "    <tr>\n",
       "      <th>4</th>\n",
       "      <td>es</td>\n",
       "      <td>es</td>\n",
       "      <td>esp</td>\n",
       "      <td>spain</td>\n",
       "      <td>SPAIN</td>\n",
       "      <td>ES</td>\n",
       "      <td>ESP</td>\n",
       "    </tr>\n",
       "    <tr>\n",
       "      <th>5</th>\n",
       "      <td>ZZ</td>\n",
       "      <td>None</td>\n",
       "      <td>None</td>\n",
       "      <td>None</td>\n",
       "      <td>NaN</td>\n",
       "      <td>NaN</td>\n",
       "      <td>NaN</td>\n",
       "    </tr>\n",
       "    <tr>\n",
       "      <th>6</th>\n",
       "      <td>XZ</td>\n",
       "      <td>None</td>\n",
       "      <td>None</td>\n",
       "      <td>None</td>\n",
       "      <td>NaN</td>\n",
       "      <td>NaN</td>\n",
       "      <td>NaN</td>\n",
       "    </tr>\n",
       "    <tr>\n",
       "      <th>7</th>\n",
       "      <td>usa</td>\n",
       "      <td>us</td>\n",
       "      <td>usa</td>\n",
       "      <td>united states of america</td>\n",
       "      <td>UNITED STATES OF AMERICA</td>\n",
       "      <td>US</td>\n",
       "      <td>USA</td>\n",
       "    </tr>\n",
       "    <tr>\n",
       "      <th>8</th>\n",
       "      <td>Arg</td>\n",
       "      <td>ar</td>\n",
       "      <td>arg</td>\n",
       "      <td>argentina</td>\n",
       "      <td>ARGENTINA</td>\n",
       "      <td>AR</td>\n",
       "      <td>ARG</td>\n",
       "    </tr>\n",
       "    <tr>\n",
       "      <th>9</th>\n",
       "      <td>AUS</td>\n",
       "      <td>au</td>\n",
       "      <td>aus</td>\n",
       "      <td>australia</td>\n",
       "      <td>AUSTRALIA</td>\n",
       "      <td>AU</td>\n",
       "      <td>AUS</td>\n",
       "    </tr>\n",
       "    <tr>\n",
       "      <th>10</th>\n",
       "      <td>ZZZ</td>\n",
       "      <td>None</td>\n",
       "      <td>None</td>\n",
       "      <td>None</td>\n",
       "      <td>NaN</td>\n",
       "      <td>NaN</td>\n",
       "      <td>NaN</td>\n",
       "    </tr>\n",
       "    <tr>\n",
       "      <th>11</th>\n",
       "      <td>can</td>\n",
       "      <td>ca</td>\n",
       "      <td>can</td>\n",
       "      <td>canada</td>\n",
       "      <td>CANADA</td>\n",
       "      <td>CA</td>\n",
       "      <td>CAN</td>\n",
       "    </tr>\n",
       "    <tr>\n",
       "      <th>12</th>\n",
       "      <td>DNK</td>\n",
       "      <td>dk</td>\n",
       "      <td>dnk</td>\n",
       "      <td>denmark</td>\n",
       "      <td>DENMARK</td>\n",
       "      <td>DK</td>\n",
       "      <td>DNK</td>\n",
       "    </tr>\n",
       "    <tr>\n",
       "      <th>13</th>\n",
       "      <td>United States of America</td>\n",
       "      <td>us</td>\n",
       "      <td>usa</td>\n",
       "      <td>united states of america</td>\n",
       "      <td>UNITED STATES OF AMERICA</td>\n",
       "      <td>US</td>\n",
       "      <td>USA</td>\n",
       "    </tr>\n",
       "    <tr>\n",
       "      <th>14</th>\n",
       "      <td>GERMANY</td>\n",
       "      <td>de</td>\n",
       "      <td>deu</td>\n",
       "      <td>germany</td>\n",
       "      <td>GERMANY</td>\n",
       "      <td>DE</td>\n",
       "      <td>DEU</td>\n",
       "    </tr>\n",
       "    <tr>\n",
       "      <th>15</th>\n",
       "      <td>belgium</td>\n",
       "      <td>be</td>\n",
       "      <td>bel</td>\n",
       "      <td>belgium</td>\n",
       "      <td>BELGIUM</td>\n",
       "      <td>BE</td>\n",
       "      <td>BEL</td>\n",
       "    </tr>\n",
       "    <tr>\n",
       "      <th>16</th>\n",
       "      <td>WAKANDA</td>\n",
       "      <td>None</td>\n",
       "      <td>None</td>\n",
       "      <td>None</td>\n",
       "      <td>NaN</td>\n",
       "      <td>NaN</td>\n",
       "      <td>NaN</td>\n",
       "    </tr>\n",
       "    <tr>\n",
       "      <th>17</th>\n",
       "      <td>Portugal</td>\n",
       "      <td>pt</td>\n",
       "      <td>prt</td>\n",
       "      <td>portugal</td>\n",
       "      <td>PORTUGAL</td>\n",
       "      <td>PT</td>\n",
       "      <td>PRT</td>\n",
       "    </tr>\n",
       "  </tbody>\n",
       "</table>\n",
       "</div>"
      ],
      "text/plain": [
       "                     COUNTRY ALPHA2 ALPHA3                      NAME  \\\n",
       "0                         NC     nc    ncl             new caledonia   \n",
       "1                         Fr     fr    fra                    france   \n",
       "2                         CA     ca    can                    canada   \n",
       "3                         IT     it    ita                     italy   \n",
       "4                         es     es    esp                     spain   \n",
       "5                         ZZ   None   None                      None   \n",
       "6                         XZ   None   None                      None   \n",
       "7                        usa     us    usa  united states of america   \n",
       "8                        Arg     ar    arg                 argentina   \n",
       "9                        AUS     au    aus                 australia   \n",
       "10                       ZZZ   None   None                      None   \n",
       "11                       can     ca    can                    canada   \n",
       "12                       DNK     dk    dnk                   denmark   \n",
       "13  United States of America     us    usa  united states of america   \n",
       "14                   GERMANY     de    deu                   germany   \n",
       "15                   belgium     be    bel                   belgium   \n",
       "16                   WAKANDA   None   None                      None   \n",
       "17                  Portugal     pt    prt                  portugal   \n",
       "\n",
       "                    iso_name iso_alpha2 iso_alpha3  \n",
       "0              NEW CALEDONIA         NC        NCL  \n",
       "1                     FRANCE         FR        FRA  \n",
       "2                     CANADA         CA        CAN  \n",
       "3                      ITALY         IT        ITA  \n",
       "4                      SPAIN         ES        ESP  \n",
       "5                        NaN        NaN        NaN  \n",
       "6                        NaN        NaN        NaN  \n",
       "7   UNITED STATES OF AMERICA         US        USA  \n",
       "8                  ARGENTINA         AR        ARG  \n",
       "9                  AUSTRALIA         AU        AUS  \n",
       "10                       NaN        NaN        NaN  \n",
       "11                    CANADA         CA        CAN  \n",
       "12                   DENMARK         DK        DNK  \n",
       "13  UNITED STATES OF AMERICA         US        USA  \n",
       "14                   GERMANY         DE        DEU  \n",
       "15                   BELGIUM         BE        BEL  \n",
       "16                       NaN        NaN        NaN  \n",
       "17                  PORTUGAL         PT        PRT  "
      ]
     },
     "execution_count": 27,
     "metadata": {},
     "output_type": "execute_result"
    }
   ],
   "source": [
    "# Let's perform the cleaning on the dataframe by using the column named as 'COUNTRY'\n",
    "df_cleaner = country_cleaner_obj.get_clean_df(df=df_original, column_name='COUNTRY')\n",
    "df_cleaner"
   ]
  },
  {
   "cell_type": "markdown",
   "id": "0f9b1025",
   "metadata": {},
   "source": [
    "From the results above it's clear to spot where the country search failed because the library returns a 'NaN' object (see rows 5, 6, 10 and 16). Therefore, you can easily identify the countries that were not normalized."
   ]
  },
  {
   "cell_type": "markdown",
   "id": "221fc749",
   "metadata": {},
   "source": [
    "Another important thing to notice is that the cleaning process created three new columns: iso_name, iso_alpha2 and iso_alpha3. These names are defined by the properties output_name, output_alpha2 and output_alpha3. Be aware that these output names don't follow the lettercase property. Therefore, the column name will have the exact name defined by their equivalent properties. By default, the names are in lower case: iso_name, iso_alpha2 and iso_alpha3. The code below shows how you can change them: "
   ]
  },
  {
   "cell_type": "code",
   "execution_count": 28,
   "id": "9caa9a9a",
   "metadata": {},
   "outputs": [],
   "source": [
    "# Changing the output column names\n",
    "country_cleaner_obj.output_name = 'CLEAN_COUNTRY'\n",
    "country_cleaner_obj.output_alpha2 = 'CLEAN_ALPHA2'\n",
    "country_cleaner_obj.output_alpha3 = 'CLEAN_ALPHA3'"
   ]
  },
  {
   "cell_type": "code",
   "execution_count": 29,
   "id": "eff6c6e9",
   "metadata": {},
   "outputs": [
    {
     "name": "stderr",
     "output_type": "stream",
     "text": [
      "Normalizing countries...100%|██████████████████████████████████████████████████| 18/18 [00:00<00:00, 181.92it/s]\n"
     ]
    },
    {
     "data": {
      "text/html": [
       "<div>\n",
       "<style scoped>\n",
       "    .dataframe tbody tr th:only-of-type {\n",
       "        vertical-align: middle;\n",
       "    }\n",
       "\n",
       "    .dataframe tbody tr th {\n",
       "        vertical-align: top;\n",
       "    }\n",
       "\n",
       "    .dataframe thead th {\n",
       "        text-align: right;\n",
       "    }\n",
       "</style>\n",
       "<table border=\"1\" class=\"dataframe\">\n",
       "  <thead>\n",
       "    <tr style=\"text-align: right;\">\n",
       "      <th></th>\n",
       "      <th>COUNTRY</th>\n",
       "      <th>ALPHA2</th>\n",
       "      <th>ALPHA3</th>\n",
       "      <th>NAME</th>\n",
       "      <th>CLEAN_COUNTRY</th>\n",
       "      <th>CLEAN_ALPHA2</th>\n",
       "      <th>CLEAN_ALPHA3</th>\n",
       "    </tr>\n",
       "  </thead>\n",
       "  <tbody>\n",
       "    <tr>\n",
       "      <th>0</th>\n",
       "      <td>NC</td>\n",
       "      <td>nc</td>\n",
       "      <td>ncl</td>\n",
       "      <td>new caledonia</td>\n",
       "      <td>NEW CALEDONIA</td>\n",
       "      <td>NC</td>\n",
       "      <td>NCL</td>\n",
       "    </tr>\n",
       "    <tr>\n",
       "      <th>1</th>\n",
       "      <td>Fr</td>\n",
       "      <td>fr</td>\n",
       "      <td>fra</td>\n",
       "      <td>france</td>\n",
       "      <td>FRANCE</td>\n",
       "      <td>FR</td>\n",
       "      <td>FRA</td>\n",
       "    </tr>\n",
       "    <tr>\n",
       "      <th>2</th>\n",
       "      <td>CA</td>\n",
       "      <td>ca</td>\n",
       "      <td>can</td>\n",
       "      <td>canada</td>\n",
       "      <td>CANADA</td>\n",
       "      <td>CA</td>\n",
       "      <td>CAN</td>\n",
       "    </tr>\n",
       "    <tr>\n",
       "      <th>3</th>\n",
       "      <td>IT</td>\n",
       "      <td>it</td>\n",
       "      <td>ita</td>\n",
       "      <td>italy</td>\n",
       "      <td>ITALY</td>\n",
       "      <td>IT</td>\n",
       "      <td>ITA</td>\n",
       "    </tr>\n",
       "    <tr>\n",
       "      <th>4</th>\n",
       "      <td>es</td>\n",
       "      <td>es</td>\n",
       "      <td>esp</td>\n",
       "      <td>spain</td>\n",
       "      <td>SPAIN</td>\n",
       "      <td>ES</td>\n",
       "      <td>ESP</td>\n",
       "    </tr>\n",
       "    <tr>\n",
       "      <th>5</th>\n",
       "      <td>ZZ</td>\n",
       "      <td>None</td>\n",
       "      <td>None</td>\n",
       "      <td>None</td>\n",
       "      <td>NaN</td>\n",
       "      <td>NaN</td>\n",
       "      <td>NaN</td>\n",
       "    </tr>\n",
       "    <tr>\n",
       "      <th>6</th>\n",
       "      <td>XZ</td>\n",
       "      <td>None</td>\n",
       "      <td>None</td>\n",
       "      <td>None</td>\n",
       "      <td>NaN</td>\n",
       "      <td>NaN</td>\n",
       "      <td>NaN</td>\n",
       "    </tr>\n",
       "    <tr>\n",
       "      <th>7</th>\n",
       "      <td>usa</td>\n",
       "      <td>us</td>\n",
       "      <td>usa</td>\n",
       "      <td>united states of america</td>\n",
       "      <td>UNITED STATES OF AMERICA</td>\n",
       "      <td>US</td>\n",
       "      <td>USA</td>\n",
       "    </tr>\n",
       "    <tr>\n",
       "      <th>8</th>\n",
       "      <td>Arg</td>\n",
       "      <td>ar</td>\n",
       "      <td>arg</td>\n",
       "      <td>argentina</td>\n",
       "      <td>ARGENTINA</td>\n",
       "      <td>AR</td>\n",
       "      <td>ARG</td>\n",
       "    </tr>\n",
       "    <tr>\n",
       "      <th>9</th>\n",
       "      <td>AUS</td>\n",
       "      <td>au</td>\n",
       "      <td>aus</td>\n",
       "      <td>australia</td>\n",
       "      <td>AUSTRALIA</td>\n",
       "      <td>AU</td>\n",
       "      <td>AUS</td>\n",
       "    </tr>\n",
       "    <tr>\n",
       "      <th>10</th>\n",
       "      <td>ZZZ</td>\n",
       "      <td>None</td>\n",
       "      <td>None</td>\n",
       "      <td>None</td>\n",
       "      <td>NaN</td>\n",
       "      <td>NaN</td>\n",
       "      <td>NaN</td>\n",
       "    </tr>\n",
       "    <tr>\n",
       "      <th>11</th>\n",
       "      <td>can</td>\n",
       "      <td>ca</td>\n",
       "      <td>can</td>\n",
       "      <td>canada</td>\n",
       "      <td>CANADA</td>\n",
       "      <td>CA</td>\n",
       "      <td>CAN</td>\n",
       "    </tr>\n",
       "    <tr>\n",
       "      <th>12</th>\n",
       "      <td>DNK</td>\n",
       "      <td>dk</td>\n",
       "      <td>dnk</td>\n",
       "      <td>denmark</td>\n",
       "      <td>DENMARK</td>\n",
       "      <td>DK</td>\n",
       "      <td>DNK</td>\n",
       "    </tr>\n",
       "    <tr>\n",
       "      <th>13</th>\n",
       "      <td>United States of America</td>\n",
       "      <td>us</td>\n",
       "      <td>usa</td>\n",
       "      <td>united states of america</td>\n",
       "      <td>UNITED STATES OF AMERICA</td>\n",
       "      <td>US</td>\n",
       "      <td>USA</td>\n",
       "    </tr>\n",
       "    <tr>\n",
       "      <th>14</th>\n",
       "      <td>GERMANY</td>\n",
       "      <td>de</td>\n",
       "      <td>deu</td>\n",
       "      <td>germany</td>\n",
       "      <td>GERMANY</td>\n",
       "      <td>DE</td>\n",
       "      <td>DEU</td>\n",
       "    </tr>\n",
       "    <tr>\n",
       "      <th>15</th>\n",
       "      <td>belgium</td>\n",
       "      <td>be</td>\n",
       "      <td>bel</td>\n",
       "      <td>belgium</td>\n",
       "      <td>BELGIUM</td>\n",
       "      <td>BE</td>\n",
       "      <td>BEL</td>\n",
       "    </tr>\n",
       "    <tr>\n",
       "      <th>16</th>\n",
       "      <td>WAKANDA</td>\n",
       "      <td>None</td>\n",
       "      <td>None</td>\n",
       "      <td>None</td>\n",
       "      <td>NaN</td>\n",
       "      <td>NaN</td>\n",
       "      <td>NaN</td>\n",
       "    </tr>\n",
       "    <tr>\n",
       "      <th>17</th>\n",
       "      <td>Portugal</td>\n",
       "      <td>pt</td>\n",
       "      <td>prt</td>\n",
       "      <td>portugal</td>\n",
       "      <td>PORTUGAL</td>\n",
       "      <td>PT</td>\n",
       "      <td>PRT</td>\n",
       "    </tr>\n",
       "  </tbody>\n",
       "</table>\n",
       "</div>"
      ],
      "text/plain": [
       "                     COUNTRY ALPHA2 ALPHA3                      NAME  \\\n",
       "0                         NC     nc    ncl             new caledonia   \n",
       "1                         Fr     fr    fra                    france   \n",
       "2                         CA     ca    can                    canada   \n",
       "3                         IT     it    ita                     italy   \n",
       "4                         es     es    esp                     spain   \n",
       "5                         ZZ   None   None                      None   \n",
       "6                         XZ   None   None                      None   \n",
       "7                        usa     us    usa  united states of america   \n",
       "8                        Arg     ar    arg                 argentina   \n",
       "9                        AUS     au    aus                 australia   \n",
       "10                       ZZZ   None   None                      None   \n",
       "11                       can     ca    can                    canada   \n",
       "12                       DNK     dk    dnk                   denmark   \n",
       "13  United States of America     us    usa  united states of america   \n",
       "14                   GERMANY     de    deu                   germany   \n",
       "15                   belgium     be    bel                   belgium   \n",
       "16                   WAKANDA   None   None                      None   \n",
       "17                  Portugal     pt    prt                  portugal   \n",
       "\n",
       "               CLEAN_COUNTRY CLEAN_ALPHA2 CLEAN_ALPHA3  \n",
       "0              NEW CALEDONIA           NC          NCL  \n",
       "1                     FRANCE           FR          FRA  \n",
       "2                     CANADA           CA          CAN  \n",
       "3                      ITALY           IT          ITA  \n",
       "4                      SPAIN           ES          ESP  \n",
       "5                        NaN          NaN          NaN  \n",
       "6                        NaN          NaN          NaN  \n",
       "7   UNITED STATES OF AMERICA           US          USA  \n",
       "8                  ARGENTINA           AR          ARG  \n",
       "9                  AUSTRALIA           AU          AUS  \n",
       "10                       NaN          NaN          NaN  \n",
       "11                    CANADA           CA          CAN  \n",
       "12                   DENMARK           DK          DNK  \n",
       "13  UNITED STATES OF AMERICA           US          USA  \n",
       "14                   GERMANY           DE          DEU  \n",
       "15                   BELGIUM           BE          BEL  \n",
       "16                       NaN          NaN          NaN  \n",
       "17                  PORTUGAL           PT          PRT  "
      ]
     },
     "execution_count": 29,
     "metadata": {},
     "output_type": "execute_result"
    }
   ],
   "source": [
    "# Calling the cleaning again to reflect the new naming convention\n",
    "df_cleaner = country_cleaner_obj.get_clean_df(df=df_original, column_name='COUNTRY')\n",
    "df_cleaner"
   ]
  },
  {
   "cell_type": "markdown",
   "id": "4bed933f",
   "metadata": {},
   "source": [
    "## 3. Normalizing country information on .csv files <a id=\"csv\"></a>"
   ]
  },
  {
   "cell_type": "code",
   "execution_count": 30,
   "id": "323a5839",
   "metadata": {},
   "outputs": [],
   "source": [
    "# Import the module for normalizing country information\n",
    "from financial_entity_cleaner.batch.cleaner import AutoCleaner"
   ]
  },
  {
   "cell_type": "code",
   "execution_count": 31,
   "id": "90063624",
   "metadata": {},
   "outputs": [],
   "source": [
    "# Create an AutoCleaner object\n",
    "auto_cleaner_obj=AutoCleaner()"
   ]
  },
  {
   "cell_type": "code",
   "execution_count": 32,
   "id": "fcaed018",
   "metadata": {},
   "outputs": [],
   "source": [
    "input_filename = '../../tests/data/test_cleaner_country.csv'"
   ]
  },
  {
   "cell_type": "code",
   "execution_count": 33,
   "id": "c2899665",
   "metadata": {},
   "outputs": [],
   "source": [
    "setup_cleaning_filename = '../../tests/data/test_cleaner_country.json'"
   ]
  },
  {
   "cell_type": "code",
   "execution_count": 34,
   "id": "8f9406d1",
   "metadata": {},
   "outputs": [],
   "source": [
    "output_filename = '../../tests/data/test_cleaner_country_result.csv'"
   ]
  },
  {
   "cell_type": "code",
   "execution_count": 35,
   "id": "7eea4ffe",
   "metadata": {},
   "outputs": [
    {
     "name": "stdout",
     "output_type": "stream",
     "text": [
      "Reading cleaning settings from ../../tests/data/test_cleaner_country.json\n",
      "Reading csv file from ../../tests/data/test_cleaner_country.csv\n",
      "Saving csv output file at ../../tests/data/test_cleaner_country_result.csv\n"
     ]
    },
    {
     "data": {
      "text/plain": [
       "True"
      ]
     },
     "execution_count": 35,
     "metadata": {},
     "output_type": "execute_result"
    }
   ],
   "source": [
    "auto_cleaner_obj.clean_csv_file(input_filename, setup_cleaning_filename, output_filename)"
   ]
  },
  {
   "cell_type": "code",
   "execution_count": null,
   "id": "a62ca40b",
   "metadata": {},
   "outputs": [],
   "source": []
  }
 ],
 "metadata": {
  "kernelspec": {
   "display_name": "Python 3 (ipykernel)",
   "language": "python",
   "name": "python3"
  },
  "language_info": {
   "codemirror_mode": {
    "name": "ipython",
    "version": 3
   },
   "file_extension": ".py",
   "mimetype": "text/x-python",
   "name": "python",
   "nbconvert_exporter": "python",
   "pygments_lexer": "ipython3",
   "version": "3.8.11"
  }
 },
 "nbformat": 4,
 "nbformat_minor": 5
}
