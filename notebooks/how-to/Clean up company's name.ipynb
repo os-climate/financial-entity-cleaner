{
 "cells": [
  {
   "cell_type": "markdown",
   "id": "2f4c319e",
   "metadata": {},
   "source": [
    "# How to...clean up company's name"
   ]
  },
  {
   "cell_type": "markdown",
   "id": "9d9e8979",
   "metadata": {},
   "source": [
    "This notebook shows how to use the **financial-entity-cleaner.text.name** to clean attributes that contain a company's name. The cleaning process relies in two internal and customized dictionaries: \n",
    "- **Dictionary of pre-defined cleaning rules**: defines the regex rules to be applied, for example: remove numbers, punctuations, extra spaces, etc.\n",
    "- **Dictionary of Legal Terms**: defines the replacement rules to normalize businesses legal forms. For instance, a company's name described as LT in the USA will be normalized as LIMITED.\n",
    "\n",
    "You can use **financial-entity-cleaner.text.name** module in two ways:\n",
    "1. [by cleaning up single instances of company's name](#clean_names)\n",
    "3. [by cleaning up multiple companies' names on a tabular dataframe](#df)\n",
    "\n",
    "No matter which approach you choose, you will need to import and create an object based on the **CompanyNameCleaner()** class. This notebook shows to customize the behaviour of this class to adapt the cleaning process to your projects."
   ]
  },
  {
   "cell_type": "markdown",
   "id": "d8f17123",
   "metadata": {},
   "source": [
    "<div class=\"alert alert-block alert-info\">\n",
    "<b>Note:</b> The complete documentation of the <b>financial-entity-cleaner</b> is available at <a href=\"https://financial-entity-cleaner.readthedocs.io/en/latest/\" title=\"ReadTheDocs\">ReadTheDocs</a>.</div>"
   ]
  },
  {
   "cell_type": "code",
   "execution_count": 1,
   "id": "8e068caa",
   "metadata": {},
   "outputs": [],
   "source": [
    "# Sets up the location of the api relative to this notebook \n",
    "import sys\n",
    "sys.path.append('../../')"
   ]
  },
  {
   "cell_type": "code",
   "execution_count": 2,
   "id": "f0e1f3c1",
   "metadata": {},
   "outputs": [],
   "source": [
    "# Import the module for cleaning company's name\n",
    "from financial_entity_cleaner.text.name import CompanyNameCleaner"
   ]
  },
  {
   "cell_type": "code",
   "execution_count": 3,
   "id": "7b060fa7",
   "metadata": {},
   "outputs": [],
   "source": [
    "# Create a CompanyNameCleaner object\n",
    "company_cleaner_obj = CompanyNameCleaner()"
   ]
  },
  {
   "cell_type": "markdown",
   "id": "4016ebb4",
   "metadata": {},
   "source": [
    "## 1. Cleaning single instances of company's names  <a id=\"clean_names\"></a>"
   ]
  },
  {
   "cell_type": "markdown",
   "id": "b9df0bb6",
   "metadata": {},
   "source": []
  },
  {
   "cell_type": "code",
   "execution_count": 12,
   "id": "4c220329",
   "metadata": {},
   "outputs": [
    {
     "data": {
      "text/plain": [
       "['us', 'en']"
      ]
     },
     "execution_count": 12,
     "metadata": {},
     "output_type": "execute_result"
    }
   ],
   "source": [
    "# Checking the type of legal terms dictionary set as default\n",
    "# returns 'language,country'\n",
    "company_cleaner_obj.get_info_current_legal_term_dict()"
   ]
  },
  {
   "cell_type": "code",
   "execution_count": 13,
   "id": "4032e549",
   "metadata": {},
   "outputs": [
    {
     "data": {
      "text/plain": [
       "['replace_amperstand_between_space_by_AND',\n",
       " 'replace_hyphen_between_spaces_by_single_space',\n",
       " 'replace_underscore_between_spaces_by_single_space',\n",
       " 'remove_text_puctuation_except_dot',\n",
       " 'remove_math_symbols',\n",
       " 'remove_words_in_parentheses',\n",
       " 'remove_parentheses',\n",
       " 'remove_brackets',\n",
       " 'remove_curly_brackets',\n",
       " 'enforce_single_space_between_words']"
      ]
     },
     "execution_count": 13,
     "metadata": {},
     "output_type": "execute_result"
    }
   ],
   "source": [
    "# Checking the cleaning rules set as default\n",
    "company_cleaner_obj.default_cleaning_rules"
   ]
  },
  {
   "cell_type": "markdown",
   "id": "e9fc16d3",
   "metadata": {},
   "source": [
    "Default parameters: performs the normalization of legal terms and returns the clean name in lower case."
   ]
  },
  {
   "cell_type": "code",
   "execution_count": 14,
   "id": "7d0cd5dc",
   "metadata": {},
   "outputs": [
    {
     "name": "stdout",
     "output_type": "stream",
     "text": [
      "89 Grand Budapest Hotel Adm@Budapest.Com & 7 Www.Gbhotel.Com Limited\n"
     ]
    }
   ],
   "source": [
    "# Call the cleaning function with the default cleaning rules\n",
    "clean_name = company_cleaner_obj.get_clean_name(company_name)\n",
    "print(clean_name)"
   ]
  },
  {
   "cell_type": "markdown",
   "id": "41590168",
   "metadata": {},
   "source": [
    "## 2. Not applying the normalization of legal terms"
   ]
  },
  {
   "cell_type": "code",
   "execution_count": 15,
   "id": "8f2d6d10",
   "metadata": {},
   "outputs": [],
   "source": [
    "# Remove the normalization of the legal terms\n",
    "company_cleaner_obj.normalize_legal_terms = False"
   ]
  },
  {
   "cell_type": "code",
   "execution_count": 16,
   "id": "5edec6c7",
   "metadata": {},
   "outputs": [
    {
     "name": "stdout",
     "output_type": "stream",
     "text": [
      "89 Grand Budapest Hotel Adm@Budapest.Com & 7 Www.Gbhotel.Com Lt\n"
     ]
    }
   ],
   "source": [
    "# Call the cleaning function\n",
    "clean_name = company_cleaner_obj.get_clean_name(company_name)\n",
    "print(clean_name)"
   ]
  },
  {
   "cell_type": "markdown",
   "id": "36d5eedd",
   "metadata": {},
   "source": [
    "## 3. Returning the clean name in upper case"
   ]
  },
  {
   "cell_type": "code",
   "execution_count": 17,
   "id": "d891e8c9",
   "metadata": {},
   "outputs": [
    {
     "name": "stdout",
     "output_type": "stream",
     "text": [
      "89 GRAND BUDAPEST HOTEL ADM@BUDAPEST.COM & 7 WWW.GBHOTEL.COM LT\n"
     ]
    }
   ],
   "source": [
    "# Changing the resultant letter case\n",
    "company_cleaner_obj.output_lettercase=\"upper\"\n",
    "\n",
    "# Call the cleaning function\n",
    "clean_name = company_cleaner_obj.get_clean_name(company_name)\n",
    "print(clean_name)"
   ]
  },
  {
   "cell_type": "markdown",
   "id": "10f249bd",
   "metadata": {},
   "source": [
    "## 4. Changing the cleaning rules"
   ]
  },
  {
   "cell_type": "code",
   "execution_count": 18,
   "id": "704ea809",
   "metadata": {},
   "outputs": [
    {
     "data": {
      "text/plain": [
       "['remove_email',\n",
       " 'remove_url',\n",
       " 'remove_word_the_from_the_end',\n",
       " 'place_word_the_at_the_beginning',\n",
       " 'remove_www_address',\n",
       " 'enforce_single_space_between_words',\n",
       " 'replace_amperstand_by_AND',\n",
       " 'replace_amperstand_between_space_by_AND',\n",
       " 'replace_hyphen_by_space',\n",
       " 'replace_hyphen_between_spaces_by_single_space',\n",
       " 'replace_underscore_by_space',\n",
       " 'replace_underscore_between_spaces_by_single_space',\n",
       " 'remove_all_punctuation',\n",
       " 'remove_punctuation_except_dot',\n",
       " 'remove_mentions',\n",
       " 'remove_hashtags',\n",
       " 'remove_numbers',\n",
       " 'remove_text_puctuation',\n",
       " 'remove_text_puctuation_except_dot',\n",
       " 'remove_math_symbols',\n",
       " 'remove_math_symbols_except_dash',\n",
       " 'remove_parentheses',\n",
       " 'remove_brackets',\n",
       " 'remove_curly_brackets',\n",
       " 'remove_single_quote_next_character',\n",
       " 'remove_words_in_parentheses',\n",
       " 'repeat_remove_words_in_parentheses']"
      ]
     },
     "execution_count": 18,
     "metadata": {},
     "output_type": "execute_result"
    }
   ],
   "source": [
    "# Checking the cleaning rules available\n",
    "company_cleaner_obj.get_cleaning_rules_available()"
   ]
  },
  {
   "cell_type": "code",
   "execution_count": 20,
   "id": "aa91a801",
   "metadata": {},
   "outputs": [],
   "source": [
    "# Set up new cleaning rules\n",
    "my_custom_cleaning_rules=['remove_words_in_parentheses','remove_all_punctuation','enforce_single_space_between_words']"
   ]
  },
  {
   "cell_type": "code",
   "execution_count": 21,
   "id": "74fd41b8",
   "metadata": {},
   "outputs": [],
   "source": [
    "# Set the new cleaning rules as default in the library\n",
    "company_cleaner_obj.default_cleaning_rules=my_custom_cleaning_rules"
   ]
  },
  {
   "cell_type": "code",
   "execution_count": 22,
   "id": "8d71d086",
   "metadata": {},
   "outputs": [
    {
     "data": {
      "text/plain": [
       "' [89]\\tGRAND BUDAPEST HOTEL adm@budapest.com %& 7((888)) www.gbhotel.com lt'"
      ]
     },
     "execution_count": 22,
     "metadata": {},
     "output_type": "execute_result"
    }
   ],
   "source": [
    "# Print original name\n",
    "company_name"
   ]
  },
  {
   "cell_type": "code",
   "execution_count": 23,
   "id": "fdadacea",
   "metadata": {},
   "outputs": [
    {
     "name": "stdout",
     "output_type": "stream",
     "text": [
      "89 GRAND BUDAPEST HOTEL ADM BUDAPEST COM 7 WWW GBHOTEL COM LT\n"
     ]
    }
   ],
   "source": [
    "# Call the cleaning function\n",
    "clean_name = company_cleaner_obj.get_clean_name(company_name)\n",
    "print(clean_name)"
   ]
  },
  {
   "cell_type": "markdown",
   "id": "0aa0f70a",
   "metadata": {},
   "source": [
    "## 5. Changing the dictionary of legal terms"
   ]
  },
  {
   "cell_type": "code",
   "execution_count": 24,
   "id": "90c1b44e",
   "metadata": {},
   "outputs": [],
   "source": [
    "company_name='assurant holdings france sas'"
   ]
  },
  {
   "cell_type": "code",
   "execution_count": 25,
   "id": "244f689c",
   "metadata": {},
   "outputs": [],
   "source": [
    "# Remove the normalization of the legal terms\n",
    "company_cleaner_obj.normalize_legal_terms = True"
   ]
  },
  {
   "cell_type": "code",
   "execution_count": 26,
   "id": "e20408c7",
   "metadata": {},
   "outputs": [],
   "source": [
    "company_cleaner_obj.set_current_legal_term_dict('fr', 'fr')"
   ]
  },
  {
   "cell_type": "code",
   "execution_count": 27,
   "id": "276d589a",
   "metadata": {},
   "outputs": [
    {
     "data": {
      "text/plain": [
       "['fr', 'fr']"
      ]
     },
     "execution_count": 27,
     "metadata": {},
     "output_type": "execute_result"
    }
   ],
   "source": [
    "# Checking the type of legal terms dictionary set as default\n",
    "# returns 'language,country'\n",
    "company_cleaner_obj.get_info_current_legal_term_dict()"
   ]
  },
  {
   "cell_type": "code",
   "execution_count": 28,
   "id": "faf6e873",
   "metadata": {},
   "outputs": [
    {
     "name": "stdout",
     "output_type": "stream",
     "text": [
      "ASSURANT HOLDINGS FRANCE SOCIÉTÉ PAR ACTIONS SIMPLIFIÉE\n"
     ]
    }
   ],
   "source": [
    "# Call the cleaning function\n",
    "clean_name = company_cleaner_obj.get_clean_name(company_name)\n",
    "print(clean_name)"
   ]
  },
  {
   "cell_type": "code",
   "execution_count": 29,
   "id": "31e78523",
   "metadata": {},
   "outputs": [],
   "source": [
    "company_name ='c.s.n.s.p. 452, s.a.'"
   ]
  },
  {
   "cell_type": "code",
   "execution_count": 30,
   "id": "8fa51649",
   "metadata": {},
   "outputs": [],
   "source": [
    "company_cleaner_obj.set_current_legal_term_dict('pt', 'pt')"
   ]
  },
  {
   "cell_type": "code",
   "execution_count": 31,
   "id": "fddb0673",
   "metadata": {},
   "outputs": [
    {
     "data": {
      "text/plain": [
       "['pt', 'pt']"
      ]
     },
     "execution_count": 31,
     "metadata": {},
     "output_type": "execute_result"
    }
   ],
   "source": [
    "# Checking the type of legal terms dictionary set as default\n",
    "# returns 'language,country'\n",
    "company_cleaner_obj.get_info_current_legal_term_dict()"
   ]
  },
  {
   "cell_type": "code",
   "execution_count": 32,
   "id": "5982262b",
   "metadata": {},
   "outputs": [
    {
     "name": "stdout",
     "output_type": "stream",
     "text": [
      "C S N S P 452 S A\n"
     ]
    }
   ],
   "source": [
    "# Call the cleaning function\n",
    "clean_name = company_cleaner_obj.get_clean_name(company_name)\n",
    "print(clean_name)"
   ]
  },
  {
   "cell_type": "code",
   "execution_count": 33,
   "id": "7a360470",
   "metadata": {},
   "outputs": [],
   "source": [
    "company_cleaner_obj.set_current_legal_term_dict('br')"
   ]
  },
  {
   "cell_type": "code",
   "execution_count": 34,
   "id": "c168152c",
   "metadata": {},
   "outputs": [
    {
     "data": {
      "text/plain": [
       "['br', '']"
      ]
     },
     "execution_count": 34,
     "metadata": {},
     "output_type": "execute_result"
    }
   ],
   "source": [
    "# Checking the type of legal terms dictionary set as default\n",
    "# returns 'language,country'\n",
    "company_cleaner_obj.get_info_current_legal_term_dict()"
   ]
  },
  {
   "cell_type": "code",
   "execution_count": 35,
   "id": "75804a31",
   "metadata": {},
   "outputs": [
    {
     "name": "stdout",
     "output_type": "stream",
     "text": [
      "C S N S P 452 S A\n"
     ]
    }
   ],
   "source": [
    "# Call the cleaning function\n",
    "clean_name = company_cleaner_obj.get_clean_name(company_name)\n",
    "print(clean_name)"
   ]
  },
  {
   "cell_type": "code",
   "execution_count": 36,
   "id": "d531d2b3",
   "metadata": {},
   "outputs": [],
   "source": [
    "# Changing the dictionary and merging with the default dictionary\n",
    "company_cleaner_obj.set_current_legal_term_dict('pt', 'pt', merge_legal_terms=True)"
   ]
  },
  {
   "cell_type": "code",
   "execution_count": 37,
   "id": "57916603",
   "metadata": {},
   "outputs": [],
   "source": [
    "company_name ='c.s.n.s.p. 452, s.a.'"
   ]
  },
  {
   "cell_type": "code",
   "execution_count": 38,
   "id": "d1dcd6e6",
   "metadata": {},
   "outputs": [
    {
     "name": "stdout",
     "output_type": "stream",
     "text": [
      "C S N S P 452 S A\n"
     ]
    }
   ],
   "source": [
    "# Call the cleaning function\n",
    "clean_name = company_cleaner_obj.get_clean_name(company_name)\n",
    "print(clean_name)"
   ]
  },
  {
   "cell_type": "code",
   "execution_count": 39,
   "id": "b498b6c7",
   "metadata": {},
   "outputs": [],
   "source": [
    "company_name = 'chugach electric assn inc'"
   ]
  },
  {
   "cell_type": "code",
   "execution_count": 40,
   "id": "0baac515",
   "metadata": {},
   "outputs": [
    {
     "name": "stdout",
     "output_type": "stream",
     "text": [
      "CHUGACH ELECTRIC ASSN INCORPORATED\n"
     ]
    }
   ],
   "source": [
    "# Call the cleaning function\n",
    "clean_name = company_cleaner_obj.get_clean_name(company_name)\n",
    "print(clean_name)"
   ]
  },
  {
   "cell_type": "markdown",
   "id": "46999c6b",
   "metadata": {},
   "source": [
    "## 6. Cleaning a dataframe"
   ]
  },
  {
   "cell_type": "code",
   "execution_count": 41,
   "id": "7c43ce04",
   "metadata": {},
   "outputs": [],
   "source": [
    "import pandas as pd"
   ]
  },
  {
   "cell_type": "code",
   "execution_count": 42,
   "id": "49d78d61",
   "metadata": {},
   "outputs": [],
   "source": [
    "input_filename = '../../tests/data/test_cleaner_company.csv'"
   ]
  },
  {
   "cell_type": "code",
   "execution_count": 43,
   "id": "a468c6f0",
   "metadata": {},
   "outputs": [],
   "source": [
    "df_original = pd.read_csv(input_filename,sep=',',encoding='utf-8')"
   ]
  },
  {
   "cell_type": "code",
   "execution_count": 44,
   "id": "f36bf2b5",
   "metadata": {},
   "outputs": [
    {
     "data": {
      "text/html": [
       "<div>\n",
       "<style scoped>\n",
       "    .dataframe tbody tr th:only-of-type {\n",
       "        vertical-align: middle;\n",
       "    }\n",
       "\n",
       "    .dataframe tbody tr th {\n",
       "        vertical-align: top;\n",
       "    }\n",
       "\n",
       "    .dataframe thead th {\n",
       "        text-align: right;\n",
       "    }\n",
       "</style>\n",
       "<table border=\"1\" class=\"dataframe\">\n",
       "  <thead>\n",
       "    <tr style=\"text-align: right;\">\n",
       "      <th></th>\n",
       "      <th>NAME</th>\n",
       "      <th>CLEAN_NAME</th>\n",
       "      <th>COUNTRY_ALPHA2</th>\n",
       "    </tr>\n",
       "  </thead>\n",
       "  <tbody>\n",
       "    <tr>\n",
       "      <th>0</th>\n",
       "      <td>Central PERK</td>\n",
       "      <td>Central Perk</td>\n",
       "      <td>us</td>\n",
       "    </tr>\n",
       "    <tr>\n",
       "      <th>1</th>\n",
       "      <td>dunder-mifflin</td>\n",
       "      <td>Dunder Mifflin</td>\n",
       "      <td>us</td>\n",
       "    </tr>\n",
       "    <tr>\n",
       "      <th>2</th>\n",
       "      <td>HOnEYDUKES</td>\n",
       "      <td>Honeydukes</td>\n",
       "      <td>us</td>\n",
       "    </tr>\n",
       "    <tr>\n",
       "      <th>3</th>\n",
       "      <td>STARCOURT; MALL</td>\n",
       "      <td>Starcourt Mall</td>\n",
       "      <td>us</td>\n",
       "    </tr>\n",
       "    <tr>\n",
       "      <th>4</th>\n",
       "      <td>RR DINER</td>\n",
       "      <td>Rr Diner</td>\n",
       "      <td>us</td>\n",
       "    </tr>\n",
       "    <tr>\n",
       "      <th>5</th>\n",
       "      <td>\\tSterling Cooper</td>\n",
       "      <td>Sterling Cooper</td>\n",
       "      <td>us</td>\n",
       "    </tr>\n",
       "    <tr>\n",
       "      <th>6</th>\n",
       "      <td>&amp;\\tWONKA INDUSTRIES!</td>\n",
       "      <td>Wonka Industries</td>\n",
       "      <td>us</td>\n",
       "    </tr>\n",
       "    <tr>\n",
       "      <th>7</th>\n",
       "      <td>[89]\\tGRAND BUDAPEST HOTEL www.gbhotel.com\\t</td>\n",
       "      <td>Grand Budapest Hotel</td>\n",
       "      <td>us</td>\n",
       "    </tr>\n",
       "    <tr>\n",
       "      <th>8</th>\n",
       "      <td>(text)\\tMONSTERS INC.\\tmonsters@gmail.com</td>\n",
       "      <td>Monsters Incorporated</td>\n",
       "      <td>us</td>\n",
       "    </tr>\n",
       "    <tr>\n",
       "      <th>9</th>\n",
       "      <td>\\t123 hotel CHeVALIER\\t2005720784 AC.</td>\n",
       "      <td>Hotel Chevalier Asociacion Civil</td>\n",
       "      <td>us</td>\n",
       "    </tr>\n",
       "    <tr>\n",
       "      <th>10</th>\n",
       "      <td>1007896757 Krusty Kr~ab</td>\n",
       "      <td>Krusty Krab</td>\n",
       "      <td>us</td>\n",
       "    </tr>\n",
       "    <tr>\n",
       "      <th>11</th>\n",
       "      <td>96-7 Azul ltda</td>\n",
       "      <td>Azul Limitada</td>\n",
       "      <td>br</td>\n",
       "    </tr>\n",
       "    <tr>\n",
       "      <th>12</th>\n",
       "      <td>SPECTRE#45</td>\n",
       "      <td>Spectre</td>\n",
       "      <td>us</td>\n",
       "    </tr>\n",
       "    <tr>\n",
       "      <th>13</th>\n",
       "      <td>InGen co</td>\n",
       "      <td>Ingen Corporation</td>\n",
       "      <td>us</td>\n",
       "    </tr>\n",
       "    <tr>\n",
       "      <th>14</th>\n",
       "      <td>Stark Industries lt</td>\n",
       "      <td>Stark Industries Limited</td>\n",
       "      <td>us</td>\n",
       "    </tr>\n",
       "    <tr>\n",
       "      <th>15</th>\n",
       "      <td>c.s.n.s.p. 452 s.a.</td>\n",
       "      <td>Csnsp 452 Sociedade Anônima</td>\n",
       "      <td>pt</td>\n",
       "    </tr>\n",
       "    <tr>\n",
       "      <th>16</th>\n",
       "      <td>assurant holdings france sas</td>\n",
       "      <td>Assurant Holdings France Société Par Actions S...</td>\n",
       "      <td>fr</td>\n",
       "    </tr>\n",
       "    <tr>\n",
       "      <th>17</th>\n",
       "      <td>Brasil 234 ep</td>\n",
       "      <td>Brasil 234 empresa pública</td>\n",
       "      <td>br</td>\n",
       "    </tr>\n",
       "    <tr>\n",
       "      <th>18</th>\n",
       "      <td>Ong Brasil s.n.c</td>\n",
       "      <td>Ong Brasil sociedade em nome coletivo</td>\n",
       "      <td>br</td>\n",
       "    </tr>\n",
       "  </tbody>\n",
       "</table>\n",
       "</div>"
      ],
      "text/plain": [
       "                                             NAME  \\\n",
       "0                                    Central PERK   \n",
       "1                                  dunder-mifflin   \n",
       "2                                      HOnEYDUKES   \n",
       "3                                 STARCOURT; MALL   \n",
       "4                                        RR DINER   \n",
       "5                               \\tSterling Cooper   \n",
       "6                            &\\tWONKA INDUSTRIES!   \n",
       "7    [89]\\tGRAND BUDAPEST HOTEL www.gbhotel.com\\t   \n",
       "8       (text)\\tMONSTERS INC.\\tmonsters@gmail.com   \n",
       "9           \\t123 hotel CHeVALIER\\t2005720784 AC.   \n",
       "10                        1007896757 Krusty Kr~ab   \n",
       "11                                 96-7 Azul ltda   \n",
       "12                                     SPECTRE#45   \n",
       "13                                       InGen co   \n",
       "14                            Stark Industries lt   \n",
       "15                            c.s.n.s.p. 452 s.a.   \n",
       "16                   assurant holdings france sas   \n",
       "17                                  Brasil 234 ep   \n",
       "18                               Ong Brasil s.n.c   \n",
       "\n",
       "                                           CLEAN_NAME COUNTRY_ALPHA2  \n",
       "0                                        Central Perk             us  \n",
       "1                                      Dunder Mifflin             us  \n",
       "2                                          Honeydukes             us  \n",
       "3                                      Starcourt Mall             us  \n",
       "4                                            Rr Diner             us  \n",
       "5                                     Sterling Cooper             us  \n",
       "6                                    Wonka Industries             us  \n",
       "7                                Grand Budapest Hotel             us  \n",
       "8                               Monsters Incorporated             us  \n",
       "9                    Hotel Chevalier Asociacion Civil             us  \n",
       "10                                        Krusty Krab             us  \n",
       "11                                      Azul Limitada             br  \n",
       "12                                            Spectre             us  \n",
       "13                                  Ingen Corporation             us  \n",
       "14                           Stark Industries Limited             us  \n",
       "15                        Csnsp 452 Sociedade Anônima             pt  \n",
       "16  Assurant Holdings France Société Par Actions S...             fr  \n",
       "17                         Brasil 234 empresa pública             br  \n",
       "18              Ong Brasil sociedade em nome coletivo             br  "
      ]
     },
     "execution_count": 44,
     "metadata": {},
     "output_type": "execute_result"
    }
   ],
   "source": [
    "df_original"
   ]
  },
  {
   "cell_type": "code",
   "execution_count": 45,
   "id": "f113b698",
   "metadata": {},
   "outputs": [],
   "source": [
    "# Set up the resultant letter case\n",
    "company_cleaner_obj.output_lettercase='title'"
   ]
  },
  {
   "cell_type": "code",
   "execution_count": 46,
   "id": "0464419f",
   "metadata": {},
   "outputs": [],
   "source": [
    "df_cleaner = company_cleaner_obj.apply_cleaner_to_df(df_original, 'NAME', 'NAME_CLEAN')"
   ]
  },
  {
   "cell_type": "code",
   "execution_count": 47,
   "id": "d4495c61",
   "metadata": {},
   "outputs": [
    {
     "data": {
      "text/html": [
       "<div>\n",
       "<style scoped>\n",
       "    .dataframe tbody tr th:only-of-type {\n",
       "        vertical-align: middle;\n",
       "    }\n",
       "\n",
       "    .dataframe tbody tr th {\n",
       "        vertical-align: top;\n",
       "    }\n",
       "\n",
       "    .dataframe thead th {\n",
       "        text-align: right;\n",
       "    }\n",
       "</style>\n",
       "<table border=\"1\" class=\"dataframe\">\n",
       "  <thead>\n",
       "    <tr style=\"text-align: right;\">\n",
       "      <th></th>\n",
       "      <th>NAME</th>\n",
       "      <th>CLEAN_NAME</th>\n",
       "      <th>COUNTRY_ALPHA2</th>\n",
       "      <th>NAME_CLEAN</th>\n",
       "    </tr>\n",
       "  </thead>\n",
       "  <tbody>\n",
       "    <tr>\n",
       "      <th>0</th>\n",
       "      <td>Central PERK</td>\n",
       "      <td>Central Perk</td>\n",
       "      <td>us</td>\n",
       "      <td>Central Perk</td>\n",
       "    </tr>\n",
       "    <tr>\n",
       "      <th>1</th>\n",
       "      <td>dunder-mifflin</td>\n",
       "      <td>Dunder Mifflin</td>\n",
       "      <td>us</td>\n",
       "      <td>Dunder Mifflin</td>\n",
       "    </tr>\n",
       "    <tr>\n",
       "      <th>2</th>\n",
       "      <td>HOnEYDUKES</td>\n",
       "      <td>Honeydukes</td>\n",
       "      <td>us</td>\n",
       "      <td>Honeydukes</td>\n",
       "    </tr>\n",
       "    <tr>\n",
       "      <th>3</th>\n",
       "      <td>STARCOURT; MALL</td>\n",
       "      <td>Starcourt Mall</td>\n",
       "      <td>us</td>\n",
       "      <td>Starcourt Mall</td>\n",
       "    </tr>\n",
       "    <tr>\n",
       "      <th>4</th>\n",
       "      <td>RR DINER</td>\n",
       "      <td>Rr Diner</td>\n",
       "      <td>us</td>\n",
       "      <td>Rr Diner</td>\n",
       "    </tr>\n",
       "    <tr>\n",
       "      <th>5</th>\n",
       "      <td>\\tSterling Cooper</td>\n",
       "      <td>Sterling Cooper</td>\n",
       "      <td>us</td>\n",
       "      <td>Sterling Cooper</td>\n",
       "    </tr>\n",
       "    <tr>\n",
       "      <th>6</th>\n",
       "      <td>&amp;\\tWONKA INDUSTRIES!</td>\n",
       "      <td>Wonka Industries</td>\n",
       "      <td>us</td>\n",
       "      <td>Wonka Industries</td>\n",
       "    </tr>\n",
       "    <tr>\n",
       "      <th>7</th>\n",
       "      <td>[89]\\tGRAND BUDAPEST HOTEL www.gbhotel.com\\t</td>\n",
       "      <td>Grand Budapest Hotel</td>\n",
       "      <td>us</td>\n",
       "      <td>89 Grand Budapest Hotel Www Gbhotel Com</td>\n",
       "    </tr>\n",
       "    <tr>\n",
       "      <th>8</th>\n",
       "      <td>(text)\\tMONSTERS INC.\\tmonsters@gmail.com</td>\n",
       "      <td>Monsters Incorporated</td>\n",
       "      <td>us</td>\n",
       "      <td>Monsters Inc Monsters Gmail Com</td>\n",
       "    </tr>\n",
       "    <tr>\n",
       "      <th>9</th>\n",
       "      <td>\\t123 hotel CHeVALIER\\t2005720784 AC.</td>\n",
       "      <td>Hotel Chevalier Asociacion Civil</td>\n",
       "      <td>us</td>\n",
       "      <td>123 Hotel Chevalier 2005720784 Ac</td>\n",
       "    </tr>\n",
       "    <tr>\n",
       "      <th>10</th>\n",
       "      <td>1007896757 Krusty Kr~ab</td>\n",
       "      <td>Krusty Krab</td>\n",
       "      <td>us</td>\n",
       "      <td>1007896757 Krusty Kr Ab</td>\n",
       "    </tr>\n",
       "    <tr>\n",
       "      <th>11</th>\n",
       "      <td>96-7 Azul ltda</td>\n",
       "      <td>Azul Limitada</td>\n",
       "      <td>br</td>\n",
       "      <td>96 7 Azul Ltda</td>\n",
       "    </tr>\n",
       "    <tr>\n",
       "      <th>12</th>\n",
       "      <td>SPECTRE#45</td>\n",
       "      <td>Spectre</td>\n",
       "      <td>us</td>\n",
       "      <td>Spectre 45</td>\n",
       "    </tr>\n",
       "    <tr>\n",
       "      <th>13</th>\n",
       "      <td>InGen co</td>\n",
       "      <td>Ingen Corporation</td>\n",
       "      <td>us</td>\n",
       "      <td>Ingen Company</td>\n",
       "    </tr>\n",
       "    <tr>\n",
       "      <th>14</th>\n",
       "      <td>Stark Industries lt</td>\n",
       "      <td>Stark Industries Limited</td>\n",
       "      <td>us</td>\n",
       "      <td>Stark Industries Limited</td>\n",
       "    </tr>\n",
       "    <tr>\n",
       "      <th>15</th>\n",
       "      <td>c.s.n.s.p. 452 s.a.</td>\n",
       "      <td>Csnsp 452 Sociedade Anônima</td>\n",
       "      <td>pt</td>\n",
       "      <td>C S N S P 452 S A</td>\n",
       "    </tr>\n",
       "    <tr>\n",
       "      <th>16</th>\n",
       "      <td>assurant holdings france sas</td>\n",
       "      <td>Assurant Holdings France Société Par Actions S...</td>\n",
       "      <td>fr</td>\n",
       "      <td>Assurant Holdings France Sas</td>\n",
       "    </tr>\n",
       "    <tr>\n",
       "      <th>17</th>\n",
       "      <td>Brasil 234 ep</td>\n",
       "      <td>Brasil 234 empresa pública</td>\n",
       "      <td>br</td>\n",
       "      <td>Brasil 234 Ep</td>\n",
       "    </tr>\n",
       "    <tr>\n",
       "      <th>18</th>\n",
       "      <td>Ong Brasil s.n.c</td>\n",
       "      <td>Ong Brasil sociedade em nome coletivo</td>\n",
       "      <td>br</td>\n",
       "      <td>Ong Brasil S N C</td>\n",
       "    </tr>\n",
       "  </tbody>\n",
       "</table>\n",
       "</div>"
      ],
      "text/plain": [
       "                                             NAME  \\\n",
       "0                                    Central PERK   \n",
       "1                                  dunder-mifflin   \n",
       "2                                      HOnEYDUKES   \n",
       "3                                 STARCOURT; MALL   \n",
       "4                                        RR DINER   \n",
       "5                               \\tSterling Cooper   \n",
       "6                            &\\tWONKA INDUSTRIES!   \n",
       "7    [89]\\tGRAND BUDAPEST HOTEL www.gbhotel.com\\t   \n",
       "8       (text)\\tMONSTERS INC.\\tmonsters@gmail.com   \n",
       "9           \\t123 hotel CHeVALIER\\t2005720784 AC.   \n",
       "10                        1007896757 Krusty Kr~ab   \n",
       "11                                 96-7 Azul ltda   \n",
       "12                                     SPECTRE#45   \n",
       "13                                       InGen co   \n",
       "14                            Stark Industries lt   \n",
       "15                            c.s.n.s.p. 452 s.a.   \n",
       "16                   assurant holdings france sas   \n",
       "17                                  Brasil 234 ep   \n",
       "18                               Ong Brasil s.n.c   \n",
       "\n",
       "                                           CLEAN_NAME COUNTRY_ALPHA2  \\\n",
       "0                                        Central Perk             us   \n",
       "1                                      Dunder Mifflin             us   \n",
       "2                                          Honeydukes             us   \n",
       "3                                      Starcourt Mall             us   \n",
       "4                                            Rr Diner             us   \n",
       "5                                     Sterling Cooper             us   \n",
       "6                                    Wonka Industries             us   \n",
       "7                                Grand Budapest Hotel             us   \n",
       "8                               Monsters Incorporated             us   \n",
       "9                    Hotel Chevalier Asociacion Civil             us   \n",
       "10                                        Krusty Krab             us   \n",
       "11                                      Azul Limitada             br   \n",
       "12                                            Spectre             us   \n",
       "13                                  Ingen Corporation             us   \n",
       "14                           Stark Industries Limited             us   \n",
       "15                        Csnsp 452 Sociedade Anônima             pt   \n",
       "16  Assurant Holdings France Société Par Actions S...             fr   \n",
       "17                         Brasil 234 empresa pública             br   \n",
       "18              Ong Brasil sociedade em nome coletivo             br   \n",
       "\n",
       "                                 NAME_CLEAN  \n",
       "0                              Central Perk  \n",
       "1                            Dunder Mifflin  \n",
       "2                                Honeydukes  \n",
       "3                            Starcourt Mall  \n",
       "4                                  Rr Diner  \n",
       "5                           Sterling Cooper  \n",
       "6                          Wonka Industries  \n",
       "7   89 Grand Budapest Hotel Www Gbhotel Com  \n",
       "8           Monsters Inc Monsters Gmail Com  \n",
       "9         123 Hotel Chevalier 2005720784 Ac  \n",
       "10                  1007896757 Krusty Kr Ab  \n",
       "11                           96 7 Azul Ltda  \n",
       "12                               Spectre 45  \n",
       "13                            Ingen Company  \n",
       "14                 Stark Industries Limited  \n",
       "15                        C S N S P 452 S A  \n",
       "16             Assurant Holdings France Sas  \n",
       "17                            Brasil 234 Ep  \n",
       "18                         Ong Brasil S N C  "
      ]
     },
     "execution_count": 47,
     "metadata": {},
     "output_type": "execute_result"
    }
   ],
   "source": [
    "df_cleaner"
   ]
  },
  {
   "cell_type": "code",
   "execution_count": 48,
   "id": "7e8df6cb",
   "metadata": {},
   "outputs": [],
   "source": [
    "# Cleaning with country\n",
    "df_cleaner = company_cleaner_obj.apply_cleaner_to_df(df_original, 'NAME', 'NAME_CLEAN', 'COUNTRY_ALPHA2', 'True')"
   ]
  },
  {
   "cell_type": "code",
   "execution_count": 49,
   "id": "b5d6c4a7",
   "metadata": {},
   "outputs": [
    {
     "data": {
      "text/html": [
       "<div>\n",
       "<style scoped>\n",
       "    .dataframe tbody tr th:only-of-type {\n",
       "        vertical-align: middle;\n",
       "    }\n",
       "\n",
       "    .dataframe tbody tr th {\n",
       "        vertical-align: top;\n",
       "    }\n",
       "\n",
       "    .dataframe thead th {\n",
       "        text-align: right;\n",
       "    }\n",
       "</style>\n",
       "<table border=\"1\" class=\"dataframe\">\n",
       "  <thead>\n",
       "    <tr style=\"text-align: right;\">\n",
       "      <th></th>\n",
       "      <th>NAME</th>\n",
       "      <th>CLEAN_NAME</th>\n",
       "      <th>COUNTRY_ALPHA2</th>\n",
       "      <th>NAME_CLEAN</th>\n",
       "    </tr>\n",
       "  </thead>\n",
       "  <tbody>\n",
       "    <tr>\n",
       "      <th>0</th>\n",
       "      <td>Central PERK</td>\n",
       "      <td>Central Perk</td>\n",
       "      <td>us</td>\n",
       "      <td>Central Perk</td>\n",
       "    </tr>\n",
       "    <tr>\n",
       "      <th>1</th>\n",
       "      <td>dunder-mifflin</td>\n",
       "      <td>Dunder Mifflin</td>\n",
       "      <td>us</td>\n",
       "      <td>Dunder Mifflin</td>\n",
       "    </tr>\n",
       "    <tr>\n",
       "      <th>2</th>\n",
       "      <td>HOnEYDUKES</td>\n",
       "      <td>Honeydukes</td>\n",
       "      <td>us</td>\n",
       "      <td>Honeydukes</td>\n",
       "    </tr>\n",
       "    <tr>\n",
       "      <th>3</th>\n",
       "      <td>STARCOURT; MALL</td>\n",
       "      <td>Starcourt Mall</td>\n",
       "      <td>us</td>\n",
       "      <td>Starcourt Mall</td>\n",
       "    </tr>\n",
       "    <tr>\n",
       "      <th>4</th>\n",
       "      <td>RR DINER</td>\n",
       "      <td>Rr Diner</td>\n",
       "      <td>us</td>\n",
       "      <td>Rr Diner</td>\n",
       "    </tr>\n",
       "    <tr>\n",
       "      <th>5</th>\n",
       "      <td>\\tSterling Cooper</td>\n",
       "      <td>Sterling Cooper</td>\n",
       "      <td>us</td>\n",
       "      <td>Sterling Cooper</td>\n",
       "    </tr>\n",
       "    <tr>\n",
       "      <th>6</th>\n",
       "      <td>&amp;\\tWONKA INDUSTRIES!</td>\n",
       "      <td>Wonka Industries</td>\n",
       "      <td>us</td>\n",
       "      <td>Wonka Industries</td>\n",
       "    </tr>\n",
       "    <tr>\n",
       "      <th>7</th>\n",
       "      <td>[89]\\tGRAND BUDAPEST HOTEL www.gbhotel.com\\t</td>\n",
       "      <td>Grand Budapest Hotel</td>\n",
       "      <td>us</td>\n",
       "      <td>89 Grand Budapest Hotel Www Gbhotel Com</td>\n",
       "    </tr>\n",
       "    <tr>\n",
       "      <th>8</th>\n",
       "      <td>(text)\\tMONSTERS INC.\\tmonsters@gmail.com</td>\n",
       "      <td>Monsters Incorporated</td>\n",
       "      <td>us</td>\n",
       "      <td>Monsters Inc Monsters Gmail Com</td>\n",
       "    </tr>\n",
       "    <tr>\n",
       "      <th>9</th>\n",
       "      <td>\\t123 hotel CHeVALIER\\t2005720784 AC.</td>\n",
       "      <td>Hotel Chevalier Asociacion Civil</td>\n",
       "      <td>us</td>\n",
       "      <td>123 Hotel Chevalier 2005720784 Ac</td>\n",
       "    </tr>\n",
       "    <tr>\n",
       "      <th>10</th>\n",
       "      <td>1007896757 Krusty Kr~ab</td>\n",
       "      <td>Krusty Krab</td>\n",
       "      <td>us</td>\n",
       "      <td>1007896757 Krusty Kr Ab</td>\n",
       "    </tr>\n",
       "    <tr>\n",
       "      <th>11</th>\n",
       "      <td>96-7 Azul ltda</td>\n",
       "      <td>Azul Limitada</td>\n",
       "      <td>br</td>\n",
       "      <td>96 7 Azul Sociedade Limitada</td>\n",
       "    </tr>\n",
       "    <tr>\n",
       "      <th>12</th>\n",
       "      <td>SPECTRE#45</td>\n",
       "      <td>Spectre</td>\n",
       "      <td>us</td>\n",
       "      <td>Spectre 45</td>\n",
       "    </tr>\n",
       "    <tr>\n",
       "      <th>13</th>\n",
       "      <td>InGen co</td>\n",
       "      <td>Ingen Corporation</td>\n",
       "      <td>us</td>\n",
       "      <td>Ingen Company</td>\n",
       "    </tr>\n",
       "    <tr>\n",
       "      <th>14</th>\n",
       "      <td>Stark Industries lt</td>\n",
       "      <td>Stark Industries Limited</td>\n",
       "      <td>us</td>\n",
       "      <td>Stark Industries Limited</td>\n",
       "    </tr>\n",
       "    <tr>\n",
       "      <th>15</th>\n",
       "      <td>c.s.n.s.p. 452 s.a.</td>\n",
       "      <td>Csnsp 452 Sociedade Anônima</td>\n",
       "      <td>pt</td>\n",
       "      <td>C S N S P 452 S A</td>\n",
       "    </tr>\n",
       "    <tr>\n",
       "      <th>16</th>\n",
       "      <td>assurant holdings france sas</td>\n",
       "      <td>Assurant Holdings France Société Par Actions S...</td>\n",
       "      <td>fr</td>\n",
       "      <td>Assurant Holdings France Société Par Actions S...</td>\n",
       "    </tr>\n",
       "    <tr>\n",
       "      <th>17</th>\n",
       "      <td>Brasil 234 ep</td>\n",
       "      <td>Brasil 234 empresa pública</td>\n",
       "      <td>br</td>\n",
       "      <td>Brasil 234 Empresa Pública</td>\n",
       "    </tr>\n",
       "    <tr>\n",
       "      <th>18</th>\n",
       "      <td>Ong Brasil s.n.c</td>\n",
       "      <td>Ong Brasil sociedade em nome coletivo</td>\n",
       "      <td>br</td>\n",
       "      <td>Ong Brasil S N C</td>\n",
       "    </tr>\n",
       "  </tbody>\n",
       "</table>\n",
       "</div>"
      ],
      "text/plain": [
       "                                             NAME  \\\n",
       "0                                    Central PERK   \n",
       "1                                  dunder-mifflin   \n",
       "2                                      HOnEYDUKES   \n",
       "3                                 STARCOURT; MALL   \n",
       "4                                        RR DINER   \n",
       "5                               \\tSterling Cooper   \n",
       "6                            &\\tWONKA INDUSTRIES!   \n",
       "7    [89]\\tGRAND BUDAPEST HOTEL www.gbhotel.com\\t   \n",
       "8       (text)\\tMONSTERS INC.\\tmonsters@gmail.com   \n",
       "9           \\t123 hotel CHeVALIER\\t2005720784 AC.   \n",
       "10                        1007896757 Krusty Kr~ab   \n",
       "11                                 96-7 Azul ltda   \n",
       "12                                     SPECTRE#45   \n",
       "13                                       InGen co   \n",
       "14                            Stark Industries lt   \n",
       "15                            c.s.n.s.p. 452 s.a.   \n",
       "16                   assurant holdings france sas   \n",
       "17                                  Brasil 234 ep   \n",
       "18                               Ong Brasil s.n.c   \n",
       "\n",
       "                                           CLEAN_NAME COUNTRY_ALPHA2  \\\n",
       "0                                        Central Perk             us   \n",
       "1                                      Dunder Mifflin             us   \n",
       "2                                          Honeydukes             us   \n",
       "3                                      Starcourt Mall             us   \n",
       "4                                            Rr Diner             us   \n",
       "5                                     Sterling Cooper             us   \n",
       "6                                    Wonka Industries             us   \n",
       "7                                Grand Budapest Hotel             us   \n",
       "8                               Monsters Incorporated             us   \n",
       "9                    Hotel Chevalier Asociacion Civil             us   \n",
       "10                                        Krusty Krab             us   \n",
       "11                                      Azul Limitada             br   \n",
       "12                                            Spectre             us   \n",
       "13                                  Ingen Corporation             us   \n",
       "14                           Stark Industries Limited             us   \n",
       "15                        Csnsp 452 Sociedade Anônima             pt   \n",
       "16  Assurant Holdings France Société Par Actions S...             fr   \n",
       "17                         Brasil 234 empresa pública             br   \n",
       "18              Ong Brasil sociedade em nome coletivo             br   \n",
       "\n",
       "                                           NAME_CLEAN  \n",
       "0                                        Central Perk  \n",
       "1                                      Dunder Mifflin  \n",
       "2                                          Honeydukes  \n",
       "3                                      Starcourt Mall  \n",
       "4                                            Rr Diner  \n",
       "5                                     Sterling Cooper  \n",
       "6                                    Wonka Industries  \n",
       "7             89 Grand Budapest Hotel Www Gbhotel Com  \n",
       "8                     Monsters Inc Monsters Gmail Com  \n",
       "9                   123 Hotel Chevalier 2005720784 Ac  \n",
       "10                            1007896757 Krusty Kr Ab  \n",
       "11                       96 7 Azul Sociedade Limitada  \n",
       "12                                         Spectre 45  \n",
       "13                                      Ingen Company  \n",
       "14                           Stark Industries Limited  \n",
       "15                                  C S N S P 452 S A  \n",
       "16  Assurant Holdings France Société Par Actions S...  \n",
       "17                         Brasil 234 Empresa Pública  \n",
       "18                                   Ong Brasil S N C  "
      ]
     },
     "execution_count": 49,
     "metadata": {},
     "output_type": "execute_result"
    }
   ],
   "source": [
    "df_cleaner"
   ]
  },
  {
   "cell_type": "code",
   "execution_count": null,
   "id": "b3ab53ea",
   "metadata": {},
   "outputs": [],
   "source": []
  }
 ],
 "metadata": {
  "kernelspec": {
   "display_name": "Python 3 (ipykernel)",
   "language": "python",
   "name": "python3"
  },
  "language_info": {
   "codemirror_mode": {
    "name": "ipython",
    "version": 3
   },
   "file_extension": ".py",
   "mimetype": "text/x-python",
   "name": "python",
   "nbconvert_exporter": "python",
   "pygments_lexer": "ipython3",
   "version": "3.8.11"
  }
 },
 "nbformat": 4,
 "nbformat_minor": 5
}
