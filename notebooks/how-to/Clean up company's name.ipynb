{
 "cells": [
  {
   "cell_type": "markdown",
   "id": "2f4c319e",
   "metadata": {},
   "source": [
    "# How to...clean up company's name"
   ]
  },
  {
   "cell_type": "markdown",
   "id": "9d9e8979",
   "metadata": {},
   "source": [
    "This notebook shows how to use the **CompanyNameCleaner** class to clean up attributes that contain a company's name. The cleaning process relies in two internal and customized dictionaries: \n",
    "- **Dictionary of pre-defined cleaning rules**: defines the regex rules to be applied, for example: remove numbers, punctuations, extra spaces, etc.\n",
    "- **Dictionary of Legal Terms**: defines the replacement rules to normalize businesses legal forms. For instance, a company's name described as LT in the USA will be normalized as LIMITED.\n",
    "\n",
    "You can use **CompanyNameCleaner** class in two ways:\n",
    "1. [to clean up single instances of company's name](#clean_names)\n",
    "3. [to clean up multiple companies' names on a tabular dataframe](#df)\n",
    "\n",
    "No matter which approach you choose, you will need to import and create an object based on the **CompanyNameCleaner()** class. This notebook shows to customize the behaviour of this class to adapt the cleaning process to your projects."
   ]
  },
  {
   "cell_type": "code",
   "execution_count": 1,
   "id": "8e068caa",
   "metadata": {},
   "outputs": [],
   "source": [
    "# Sets up the location of the api relative to this notebook \n",
    "import sys\n",
    "sys.path.append('../../')"
   ]
  },
  {
   "cell_type": "code",
   "execution_count": 2,
   "id": "f0e1f3c1",
   "metadata": {},
   "outputs": [],
   "source": [
    "# Import the module for cleaning company's name\n",
    "from financial_entity_cleaner.company import CompanyNameCleaner"
   ]
  },
  {
   "cell_type": "code",
   "execution_count": 3,
   "id": "7b060fa7",
   "metadata": {},
   "outputs": [],
   "source": [
    "# Create a CompanyNameCleaner object\n",
    "company_cleaner_obj = CompanyNameCleaner()"
   ]
  },
  {
   "cell_type": "markdown",
   "id": "4016ebb4",
   "metadata": {},
   "source": [
    "## 1. Cleaning single instances of company's names  <a id=\"clean_names\"></a>"
   ]
  },
  {
   "cell_type": "code",
   "execution_count": 4,
   "id": "4c220329",
   "metadata": {},
   "outputs": [
    {
     "data": {
      "text/plain": [
       "['us', 'en']"
      ]
     },
     "execution_count": 4,
     "metadata": {},
     "output_type": "execute_result"
    }
   ],
   "source": [
    "# Checking the type of legal terms dictionary set as default\n",
    "# returns 'language,country'\n",
    "company_cleaner_obj.get_info_current_legal_term_dict()"
   ]
  },
  {
   "cell_type": "code",
   "execution_count": 5,
   "id": "4032e549",
   "metadata": {},
   "outputs": [
    {
     "data": {
      "text/plain": [
       "['place_word_the_at_the_beginning',\n",
       " 'remove_words_in_asterisk',\n",
       " 'remove_question_marks_in_parentheses',\n",
       " 'replace_hyphen_by_space',\n",
       " 'replace_underscore_by_space',\n",
       " 'remove_text_puctuation_except_dot',\n",
       " 'remove_math_symbols',\n",
       " 'remove_parentheses',\n",
       " 'remove_brackets',\n",
       " 'remove_curly_brackets',\n",
       " 'remove_single_quote_next_character',\n",
       " 'remove_double_quote',\n",
       " 'enforce_single_space_between_words']"
      ]
     },
     "execution_count": 5,
     "metadata": {},
     "output_type": "execute_result"
    }
   ],
   "source": [
    "# Checking the cleaning rules set as default\n",
    "company_cleaner_obj.default_cleaning_rules"
   ]
  },
  {
   "cell_type": "markdown",
   "id": "e9fc16d3",
   "metadata": {},
   "source": [
    "Default parameters: performs the normalization of legal terms and returns the clean name in lower case."
   ]
  },
  {
   "cell_type": "code",
   "execution_count": 6,
   "id": "df964569",
   "metadata": {},
   "outputs": [],
   "source": [
    "company_name = \"Glass  Coatings & Concepts (CBG) LLC\""
   ]
  },
  {
   "cell_type": "code",
   "execution_count": 7,
   "id": "5edec6c7",
   "metadata": {},
   "outputs": [
    {
     "name": "stdout",
     "output_type": "stream",
     "text": [
      "glass coatings & concepts cbg limited liability company\n"
     ]
    }
   ],
   "source": [
    "# Call the cleaning function\n",
    "clean_name = company_cleaner_obj.clean(company_name)\n",
    "print(clean_name)"
   ]
  },
  {
   "cell_type": "code",
   "execution_count": 8,
   "id": "d75c2e78",
   "metadata": {},
   "outputs": [
    {
     "name": "stdout",
     "output_type": "stream",
     "text": [
      "glass coatings & concepts cbg llc\n"
     ]
    }
   ],
   "source": [
    "# Remove normalization of the legal terms\n",
    "company_cleaner_obj.normalize_legal_terms = False\n",
    "\n",
    "# Call the cleaning function\n",
    "clean_name = company_cleaner_obj.clean(company_name)\n",
    "print(clean_name)"
   ]
  },
  {
   "cell_type": "code",
   "execution_count": 9,
   "id": "083c591f",
   "metadata": {},
   "outputs": [],
   "source": [
    "# Apply normalization of the legal terms\n",
    "company_cleaner_obj.normalize_legal_terms = True"
   ]
  },
  {
   "cell_type": "code",
   "execution_count": 10,
   "id": "d891e8c9",
   "metadata": {},
   "outputs": [
    {
     "name": "stdout",
     "output_type": "stream",
     "text": [
      "glass coatings & concepts cbg limited liability company\n"
     ]
    }
   ],
   "source": [
    "# Changing the resultant letter case\n",
    "company_cleaner_obj.output_lettercase=\"upper\"\n",
    "\n",
    "# Call the cleaning function\n",
    "clean_name = company_cleaner_obj.clean(company_name)\n",
    "print(clean_name)"
   ]
  },
  {
   "cell_type": "code",
   "execution_count": 11,
   "id": "aa91a801",
   "metadata": {},
   "outputs": [],
   "source": [
    "# Set up new cleaning rules\n",
    "my_custom_cleaning_rules=['remove_parentheses', \n",
    "                          'replace_amperstand_between_space_by_AND',\n",
    "                          'enforce_single_space_between_words']\n",
    "company_cleaner_obj.default_cleaning_rules = my_custom_cleaning_rules"
   ]
  },
  {
   "cell_type": "code",
   "execution_count": 12,
   "id": "fdadacea",
   "metadata": {},
   "outputs": [
    {
     "name": "stdout",
     "output_type": "stream",
     "text": [
      "glass coatings and concepts cbg limited liability company\n"
     ]
    }
   ],
   "source": [
    "# Call the cleaning function\n",
    "clean_name = company_cleaner_obj.clean(company_name)\n",
    "print(clean_name)"
   ]
  },
  {
   "cell_type": "markdown",
   "id": "b5b2dc4c",
   "metadata": {},
   "source": [
    "Now, let's change the country/language to translate the legal terms of a French company:"
   ]
  },
  {
   "cell_type": "code",
   "execution_count": 13,
   "id": "90c1b44e",
   "metadata": {},
   "outputs": [],
   "source": [
    "company_name='assurant holdings france sas'"
   ]
  },
  {
   "cell_type": "code",
   "execution_count": 14,
   "id": "e20408c7",
   "metadata": {},
   "outputs": [],
   "source": [
    "# Set the current legal term dictionary to France (country) - French (language)\n",
    "company_cleaner_obj.set_current_legal_term_dict('fr', 'fr')"
   ]
  },
  {
   "cell_type": "code",
   "execution_count": 15,
   "id": "276d589a",
   "metadata": {},
   "outputs": [
    {
     "data": {
      "text/plain": [
       "['fr', 'fr']"
      ]
     },
     "execution_count": 15,
     "metadata": {},
     "output_type": "execute_result"
    }
   ],
   "source": [
    "# Checking the type of legal terms dictionary set as default\n",
    "# returns 'language,country'\n",
    "company_cleaner_obj.get_info_current_legal_term_dict()"
   ]
  },
  {
   "cell_type": "code",
   "execution_count": 16,
   "id": "faf6e873",
   "metadata": {},
   "outputs": [
    {
     "name": "stdout",
     "output_type": "stream",
     "text": [
      "assurant holdings france société par actions simplifiée\n"
     ]
    }
   ],
   "source": [
    "# Call the cleaning function\n",
    "clean_name = company_cleaner_obj.clean(company_name)\n",
    "print(clean_name)"
   ]
  },
  {
   "cell_type": "code",
   "execution_count": 17,
   "id": "beb166b0",
   "metadata": {},
   "outputs": [
    {
     "name": "stdout",
     "output_type": "stream",
     "text": [
      "assurant holdings france societe par actions simplifiee\n"
     ]
    }
   ],
   "source": [
    "# Removing accents when cleaning\n",
    "company_cleaner_obj.remove_accents = True\n",
    "clean_name = company_cleaner_obj.clean(company_name)\n",
    "print(clean_name)"
   ]
  },
  {
   "cell_type": "code",
   "execution_count": 18,
   "id": "8f78ec79",
   "metadata": {},
   "outputs": [
    {
     "data": {
      "text/plain": [
       "{'ar': ['es'],\n",
       " 'at': ['de'],\n",
       " 'au': ['en'],\n",
       " 'aw': ['nl'],\n",
       " 'az': ['az'],\n",
       " 'be': ['nl', 'de', 'fr'],\n",
       " 'bg': ['bg'],\n",
       " 'bo': ['es'],\n",
       " 'br': ['pt'],\n",
       " 'bs': ['en'],\n",
       " 'ca': ['en', 'fr'],\n",
       " 'ch': ['en', 'de', 'fr', 'it'],\n",
       " 'co': ['es'],\n",
       " 'cr': ['es'],\n",
       " 'de': ['de'],\n",
       " 'dk': ['da'],\n",
       " 'do': ['es'],\n",
       " 'ec': ['es'],\n",
       " 'ee': ['et'],\n",
       " 'es': ['es'],\n",
       " 'fi': ['fi', 'sv'],\n",
       " 'fr': ['fr'],\n",
       " 'gb': ['en', 'cy'],\n",
       " 'gg': ['en'],\n",
       " 'gi': ['en'],\n",
       " 'gr': ['el'],\n",
       " 'gt': ['es'],\n",
       " 'hn': ['es'],\n",
       " 'hr': ['hr'],\n",
       " 'hu': ['hu'],\n",
       " 'id': ['id'],\n",
       " 'ie': ['en', 'ga'],\n",
       " 'in': ['en'],\n",
       " 'is': ['is'],\n",
       " 'it': ['it'],\n",
       " 'je': ['en'],\n",
       " 'ky': ['en'],\n",
       " 'lu': ['fr'],\n",
       " 'nl': ['nl'],\n",
       " 'no': ['no'],\n",
       " 'nz': ['en'],\n",
       " 'pl': ['pl'],\n",
       " 'pt': ['pt'],\n",
       " 'se': ['sv'],\n",
       " 'sg': ['en'],\n",
       " 'tr': ['tr'],\n",
       " 'us': ['en'],\n",
       " 'vg': ['en']}"
      ]
     },
     "execution_count": 18,
     "metadata": {},
     "output_type": "execute_result"
    }
   ],
   "source": [
    "# Checking the coountries/languages available\n",
    "company_cleaner_obj.get_info_available_legal_term_dict()"
   ]
  },
  {
   "cell_type": "markdown",
   "id": "46999c6b",
   "metadata": {},
   "source": [
    "## 2. Cleaning up multiple companies' names on a tabular dataframe"
   ]
  },
  {
   "cell_type": "code",
   "execution_count": 19,
   "id": "7c43ce04",
   "metadata": {},
   "outputs": [],
   "source": [
    "# Import the pandas library to read data from a .csv file\n",
    "import pandas as pd"
   ]
  },
  {
   "cell_type": "code",
   "execution_count": 20,
   "id": "49d78d61",
   "metadata": {},
   "outputs": [
    {
     "data": {
      "text/html": [
       "<div>\n",
       "<style scoped>\n",
       "    .dataframe tbody tr th:only-of-type {\n",
       "        vertical-align: middle;\n",
       "    }\n",
       "\n",
       "    .dataframe tbody tr th {\n",
       "        vertical-align: top;\n",
       "    }\n",
       "\n",
       "    .dataframe thead th {\n",
       "        text-align: right;\n",
       "    }\n",
       "</style>\n",
       "<table border=\"1\" class=\"dataframe\">\n",
       "  <thead>\n",
       "    <tr style=\"text-align: right;\">\n",
       "      <th></th>\n",
       "      <th>NAME</th>\n",
       "      <th>COUNTRY_HEAD</th>\n",
       "    </tr>\n",
       "  </thead>\n",
       "  <tbody>\n",
       "    <tr>\n",
       "      <th>0</th>\n",
       "      <td>Bechel   *Australia (Services) Pty Ltd</td>\n",
       "      <td>au</td>\n",
       "    </tr>\n",
       "    <tr>\n",
       "      <th>1</th>\n",
       "      <td>NRI - KELLY's MERCHANDISE (AUST) PTY LTD</td>\n",
       "      <td>Australia</td>\n",
       "    </tr>\n",
       "    <tr>\n",
       "      <th>2</th>\n",
       "      <td>meo -  serviços de comunicação e multimedia SA...</td>\n",
       "      <td>PT</td>\n",
       "    </tr>\n",
       "    <tr>\n",
       "      <th>3</th>\n",
       "      <td>Glass  Coatings &amp; Concepts \"CBG\" LLC</td>\n",
       "      <td>United States</td>\n",
       "    </tr>\n",
       "    <tr>\n",
       "      <th>4</th>\n",
       "      <td>Brault Loisirs, Orl. SARL</td>\n",
       "      <td>FR</td>\n",
       "    </tr>\n",
       "    <tr>\n",
       "      <th>5</th>\n",
       "      <td>Cole &amp; Brothers  Fabric, Services LLC.</td>\n",
       "      <td>uk</td>\n",
       "    </tr>\n",
       "    <tr>\n",
       "      <th>6</th>\n",
       "      <td>StarCOM Group Servizi **CAT** SRL</td>\n",
       "      <td>italy</td>\n",
       "    </tr>\n",
       "    <tr>\n",
       "      <th>7</th>\n",
       "      <td>Wolbeck (Archer Daniels) *Unified* GmbH</td>\n",
       "      <td>de</td>\n",
       "    </tr>\n",
       "    <tr>\n",
       "      <th>8</th>\n",
       "      <td>Anheuser-BUSCH, Brothers (food services), LLC</td>\n",
       "      <td>gb</td>\n",
       "    </tr>\n",
       "    <tr>\n",
       "      <th>9</th>\n",
       "      <td>Susamar-Patino, colectores (adm)   SA</td>\n",
       "      <td>ES</td>\n",
       "    </tr>\n",
       "    <tr>\n",
       "      <th>10</th>\n",
       "      <td>Molino's agro, S.A. (adm)   SA</td>\n",
       "      <td>NaN</td>\n",
       "    </tr>\n",
       "  </tbody>\n",
       "</table>\n",
       "</div>"
      ],
      "text/plain": [
       "                                                 NAME   COUNTRY_HEAD\n",
       "0              Bechel   *Australia (Services) Pty Ltd             au\n",
       "1            NRI - KELLY's MERCHANDISE (AUST) PTY LTD      Australia\n",
       "2   meo -  serviços de comunicação e multimedia SA...             PT\n",
       "3                Glass  Coatings & Concepts \"CBG\" LLC  United States\n",
       "4                           Brault Loisirs, Orl. SARL             FR\n",
       "5              Cole & Brothers  Fabric, Services LLC.             uk\n",
       "6                   StarCOM Group Servizi **CAT** SRL          italy\n",
       "7             Wolbeck (Archer Daniels) *Unified* GmbH             de\n",
       "8       Anheuser-BUSCH, Brothers (food services), LLC             gb\n",
       "9               Susamar-Patino, colectores (adm)   SA             ES\n",
       "10                     Molino's agro, S.A. (adm)   SA            NaN"
      ]
     },
     "execution_count": 20,
     "metadata": {},
     "output_type": "execute_result"
    }
   ],
   "source": [
    "# Read the .csv file as a pandas dataframe object\n",
    "input_filename = '../../tests/data/test_cleaner.csv'\n",
    "df_original = pd.read_csv(input_filename,sep=';',encoding='utf-8', usecols=['NAME','COUNTRY_HEAD'])\n",
    "df_original"
   ]
  },
  {
   "cell_type": "code",
   "execution_count": 21,
   "id": "f113b698",
   "metadata": {},
   "outputs": [],
   "source": [
    "# Set up the resultant letter case\n",
    "company_cleaner_obj.output_lettercase='upper'\n",
    "company_cleaner_obj.remove_accents = True\n",
    "company_cleaner_obj.default_cleaning_rules = ['place_word_the_at_the_beginning',\n",
    "                                              'remove_words_in_asterisk', \n",
    "                                              'remove_question_marks_in_parentheses', \n",
    "                                              'replace_hyphen_by_space', \n",
    "                                              'replace_underscore_by_space', \n",
    "                                              'remove_text_puctuation_except_dot', \n",
    "                                              'remove_math_symbols', \n",
    "                                              'remove_parentheses', \n",
    "                                              'remove_brackets', \n",
    "                                              'remove_curly_brackets', \n",
    "                                              'remove_single_quote_next_character', \n",
    "                                              'remove_double_quote', \n",
    "                                              'enforce_single_space_between_words']"
   ]
  },
  {
   "cell_type": "code",
   "execution_count": 22,
   "id": "0464419f",
   "metadata": {},
   "outputs": [],
   "source": [
    "df_cleaner = company_cleaner_obj.clean_df(df_original, 'NAME', 'NAME_CLEAN')"
   ]
  },
  {
   "cell_type": "code",
   "execution_count": 23,
   "id": "d4495c61",
   "metadata": {},
   "outputs": [
    {
     "data": {
      "text/html": [
       "<div>\n",
       "<style scoped>\n",
       "    .dataframe tbody tr th:only-of-type {\n",
       "        vertical-align: middle;\n",
       "    }\n",
       "\n",
       "    .dataframe tbody tr th {\n",
       "        vertical-align: top;\n",
       "    }\n",
       "\n",
       "    .dataframe thead th {\n",
       "        text-align: right;\n",
       "    }\n",
       "</style>\n",
       "<table border=\"1\" class=\"dataframe\">\n",
       "  <thead>\n",
       "    <tr style=\"text-align: right;\">\n",
       "      <th></th>\n",
       "      <th>NAME</th>\n",
       "      <th>COUNTRY_HEAD</th>\n",
       "      <th>NAME_CLEAN</th>\n",
       "    </tr>\n",
       "  </thead>\n",
       "  <tbody>\n",
       "    <tr>\n",
       "      <th>0</th>\n",
       "      <td>Bechel   *Australia (Services) Pty Ltd</td>\n",
       "      <td>au</td>\n",
       "      <td>bechel australia services pty ltd</td>\n",
       "    </tr>\n",
       "    <tr>\n",
       "      <th>1</th>\n",
       "      <td>NRI - KELLY's MERCHANDISE (AUST) PTY LTD</td>\n",
       "      <td>Australia</td>\n",
       "      <td>nri kelly merchandise aust pty ltd</td>\n",
       "    </tr>\n",
       "    <tr>\n",
       "      <th>2</th>\n",
       "      <td>meo -  serviços de comunicação e multimedia SA...</td>\n",
       "      <td>PT</td>\n",
       "      <td>meo servicos de comunicacao e multimedia sa a....</td>\n",
       "    </tr>\n",
       "    <tr>\n",
       "      <th>3</th>\n",
       "      <td>Glass  Coatings &amp; Concepts \"CBG\" LLC</td>\n",
       "      <td>United States</td>\n",
       "      <td>glass coatings &amp; concepts cbg llc</td>\n",
       "    </tr>\n",
       "    <tr>\n",
       "      <th>4</th>\n",
       "      <td>Brault Loisirs, Orl. SARL</td>\n",
       "      <td>FR</td>\n",
       "      <td>brault loisirs orl. societe a responsabilite l...</td>\n",
       "    </tr>\n",
       "    <tr>\n",
       "      <th>5</th>\n",
       "      <td>Cole &amp; Brothers  Fabric, Services LLC.</td>\n",
       "      <td>uk</td>\n",
       "      <td>cole &amp; brothers fabric services llc.</td>\n",
       "    </tr>\n",
       "    <tr>\n",
       "      <th>6</th>\n",
       "      <td>StarCOM Group Servizi **CAT** SRL</td>\n",
       "      <td>italy</td>\n",
       "      <td>starcom group servizi srl</td>\n",
       "    </tr>\n",
       "    <tr>\n",
       "      <th>7</th>\n",
       "      <td>Wolbeck (Archer Daniels) *Unified* GmbH</td>\n",
       "      <td>de</td>\n",
       "      <td>wolbeck archer daniels gmbh</td>\n",
       "    </tr>\n",
       "    <tr>\n",
       "      <th>8</th>\n",
       "      <td>Anheuser-BUSCH, Brothers (food services), LLC</td>\n",
       "      <td>gb</td>\n",
       "      <td>anheuser busch brothers food services llc</td>\n",
       "    </tr>\n",
       "    <tr>\n",
       "      <th>9</th>\n",
       "      <td>Susamar-Patino, colectores (adm)   SA</td>\n",
       "      <td>ES</td>\n",
       "      <td>susamar patino colectores adm societe anonyme</td>\n",
       "    </tr>\n",
       "    <tr>\n",
       "      <th>10</th>\n",
       "      <td>Molino's agro, S.A. (adm)   SA</td>\n",
       "      <td>NaN</td>\n",
       "      <td>molino agro s.a. adm societe anonyme</td>\n",
       "    </tr>\n",
       "  </tbody>\n",
       "</table>\n",
       "</div>"
      ],
      "text/plain": [
       "                                                 NAME   COUNTRY_HEAD  \\\n",
       "0              Bechel   *Australia (Services) Pty Ltd             au   \n",
       "1            NRI - KELLY's MERCHANDISE (AUST) PTY LTD      Australia   \n",
       "2   meo -  serviços de comunicação e multimedia SA...             PT   \n",
       "3                Glass  Coatings & Concepts \"CBG\" LLC  United States   \n",
       "4                           Brault Loisirs, Orl. SARL             FR   \n",
       "5              Cole & Brothers  Fabric, Services LLC.             uk   \n",
       "6                   StarCOM Group Servizi **CAT** SRL          italy   \n",
       "7             Wolbeck (Archer Daniels) *Unified* GmbH             de   \n",
       "8       Anheuser-BUSCH, Brothers (food services), LLC             gb   \n",
       "9               Susamar-Patino, colectores (adm)   SA             ES   \n",
       "10                     Molino's agro, S.A. (adm)   SA            NaN   \n",
       "\n",
       "                                           NAME_CLEAN  \n",
       "0                   bechel australia services pty ltd  \n",
       "1                  nri kelly merchandise aust pty ltd  \n",
       "2   meo servicos de comunicacao e multimedia sa a....  \n",
       "3                   glass coatings & concepts cbg llc  \n",
       "4   brault loisirs orl. societe a responsabilite l...  \n",
       "5                cole & brothers fabric services llc.  \n",
       "6                           starcom group servizi srl  \n",
       "7                         wolbeck archer daniels gmbh  \n",
       "8           anheuser busch brothers food services llc  \n",
       "9       susamar patino colectores adm societe anonyme  \n",
       "10               molino agro s.a. adm societe anonyme  "
      ]
     },
     "execution_count": 23,
     "metadata": {},
     "output_type": "execute_result"
    }
   ],
   "source": [
    "df_cleaner"
   ]
  },
  {
   "cell_type": "code",
   "execution_count": 24,
   "id": "d2af8786",
   "metadata": {},
   "outputs": [],
   "source": [
    "# Import the CountryCleaner() class to normalize country information\n",
    "from financial_entity_cleaner.location import CountryCleaner"
   ]
  },
  {
   "cell_type": "code",
   "execution_count": 25,
   "id": "a1e75a59",
   "metadata": {},
   "outputs": [],
   "source": [
    "# Create an object based on CountryCleaner() class to perform cleaning over string values, dataframe or .csv file\n",
    "country_cleaner_obj=CountryCleaner()"
   ]
  },
  {
   "cell_type": "code",
   "execution_count": 26,
   "id": "46b9597a",
   "metadata": {},
   "outputs": [
    {
     "name": "stderr",
     "output_type": "stream",
     "text": [
      "Cleaning column [COUNTRY_HEAD]: 100%|██████████████████████████████████████████████████| 11/11 [00:00<00:00, 55.03it/s]\n"
     ]
    }
   ],
   "source": [
    "# Let's setup the output in upper case\n",
    "country_cleaner_obj.letter_case='lower'\n",
    "country_cleaner_obj.output_alpha2 = 'COUNTRY_HEAD'\n",
    "\n",
    "# Let's perform the cleaning on the dataframe by using the column named as 'COUNTRY'\n",
    "df_cleaner = country_cleaner_obj.clean_df(df=df_original, cols=['COUNTRY_HEAD'])"
   ]
  },
  {
   "cell_type": "code",
   "execution_count": 27,
   "id": "fb594128",
   "metadata": {},
   "outputs": [
    {
     "data": {
      "text/html": [
       "<div>\n",
       "<style scoped>\n",
       "    .dataframe tbody tr th:only-of-type {\n",
       "        vertical-align: middle;\n",
       "    }\n",
       "\n",
       "    .dataframe tbody tr th {\n",
       "        vertical-align: top;\n",
       "    }\n",
       "\n",
       "    .dataframe thead th {\n",
       "        text-align: right;\n",
       "    }\n",
       "</style>\n",
       "<table border=\"1\" class=\"dataframe\">\n",
       "  <thead>\n",
       "    <tr style=\"text-align: right;\">\n",
       "      <th></th>\n",
       "      <th>NAME</th>\n",
       "      <th>COUNTRY_HEAD_code</th>\n",
       "      <th>COUNTRY_HEAD_COUNTRY_HEAD</th>\n",
       "    </tr>\n",
       "  </thead>\n",
       "  <tbody>\n",
       "    <tr>\n",
       "      <th>0</th>\n",
       "      <td>Bechel   *Australia (Services) Pty Ltd</td>\n",
       "      <td>36</td>\n",
       "      <td>au</td>\n",
       "    </tr>\n",
       "    <tr>\n",
       "      <th>1</th>\n",
       "      <td>NRI - KELLY's MERCHANDISE (AUST) PTY LTD</td>\n",
       "      <td>36</td>\n",
       "      <td>au</td>\n",
       "    </tr>\n",
       "    <tr>\n",
       "      <th>2</th>\n",
       "      <td>meo -  serviços de comunicação e multimedia SA...</td>\n",
       "      <td>620</td>\n",
       "      <td>pt</td>\n",
       "    </tr>\n",
       "    <tr>\n",
       "      <th>3</th>\n",
       "      <td>Glass  Coatings &amp; Concepts \"CBG\" LLC</td>\n",
       "      <td>840</td>\n",
       "      <td>us</td>\n",
       "    </tr>\n",
       "    <tr>\n",
       "      <th>4</th>\n",
       "      <td>Brault Loisirs, Orl. SARL</td>\n",
       "      <td>250</td>\n",
       "      <td>fr</td>\n",
       "    </tr>\n",
       "    <tr>\n",
       "      <th>5</th>\n",
       "      <td>Cole &amp; Brothers  Fabric, Services LLC.</td>\n",
       "      <td>NaN</td>\n",
       "      <td>NaN</td>\n",
       "    </tr>\n",
       "    <tr>\n",
       "      <th>6</th>\n",
       "      <td>StarCOM Group Servizi **CAT** SRL</td>\n",
       "      <td>380</td>\n",
       "      <td>it</td>\n",
       "    </tr>\n",
       "    <tr>\n",
       "      <th>7</th>\n",
       "      <td>Wolbeck (Archer Daniels) *Unified* GmbH</td>\n",
       "      <td>276</td>\n",
       "      <td>de</td>\n",
       "    </tr>\n",
       "    <tr>\n",
       "      <th>8</th>\n",
       "      <td>Anheuser-BUSCH, Brothers (food services), LLC</td>\n",
       "      <td>826</td>\n",
       "      <td>gb</td>\n",
       "    </tr>\n",
       "    <tr>\n",
       "      <th>9</th>\n",
       "      <td>Susamar-Patino, colectores (adm)   SA</td>\n",
       "      <td>724</td>\n",
       "      <td>es</td>\n",
       "    </tr>\n",
       "    <tr>\n",
       "      <th>10</th>\n",
       "      <td>Molino's agro, S.A. (adm)   SA</td>\n",
       "      <td>NaN</td>\n",
       "      <td>NaN</td>\n",
       "    </tr>\n",
       "  </tbody>\n",
       "</table>\n",
       "</div>"
      ],
      "text/plain": [
       "                                                 NAME COUNTRY_HEAD_code  \\\n",
       "0              Bechel   *Australia (Services) Pty Ltd                36   \n",
       "1            NRI - KELLY's MERCHANDISE (AUST) PTY LTD                36   \n",
       "2   meo -  serviços de comunicação e multimedia SA...               620   \n",
       "3                Glass  Coatings & Concepts \"CBG\" LLC               840   \n",
       "4                           Brault Loisirs, Orl. SARL               250   \n",
       "5              Cole & Brothers  Fabric, Services LLC.               NaN   \n",
       "6                   StarCOM Group Servizi **CAT** SRL               380   \n",
       "7             Wolbeck (Archer Daniels) *Unified* GmbH               276   \n",
       "8       Anheuser-BUSCH, Brothers (food services), LLC               826   \n",
       "9               Susamar-Patino, colectores (adm)   SA               724   \n",
       "10                     Molino's agro, S.A. (adm)   SA               NaN   \n",
       "\n",
       "   COUNTRY_HEAD_COUNTRY_HEAD  \n",
       "0                         au  \n",
       "1                         au  \n",
       "2                         pt  \n",
       "3                         us  \n",
       "4                         fr  \n",
       "5                        NaN  \n",
       "6                         it  \n",
       "7                         de  \n",
       "8                         gb  \n",
       "9                         es  \n",
       "10                       NaN  "
      ]
     },
     "execution_count": 27,
     "metadata": {},
     "output_type": "execute_result"
    }
   ],
   "source": [
    "# Remove unnecessary columns\n",
    "df_cleaner.drop(['COUNTRY_HEAD', 'COUNTRY_HEAD_name', 'COUNTRY_HEAD_alpha3'], inplace=True, axis=1)\n",
    "df_cleaner"
   ]
  },
  {
   "cell_type": "code",
   "execution_count": 28,
   "id": "7e8df6cb",
   "metadata": {},
   "outputs": [
    {
     "data": {
      "text/html": [
       "<div>\n",
       "<style scoped>\n",
       "    .dataframe tbody tr th:only-of-type {\n",
       "        vertical-align: middle;\n",
       "    }\n",
       "\n",
       "    .dataframe tbody tr th {\n",
       "        vertical-align: top;\n",
       "    }\n",
       "\n",
       "    .dataframe thead th {\n",
       "        text-align: right;\n",
       "    }\n",
       "</style>\n",
       "<table border=\"1\" class=\"dataframe\">\n",
       "  <thead>\n",
       "    <tr style=\"text-align: right;\">\n",
       "      <th></th>\n",
       "      <th>NAME</th>\n",
       "      <th>COUNTRY_HEAD_code</th>\n",
       "      <th>COUNTRY_HEAD_COUNTRY_HEAD</th>\n",
       "      <th>NAME_CLEAN</th>\n",
       "    </tr>\n",
       "  </thead>\n",
       "  <tbody>\n",
       "    <tr>\n",
       "      <th>0</th>\n",
       "      <td>Bechel   *Australia (Services) Pty Ltd</td>\n",
       "      <td>36</td>\n",
       "      <td>au</td>\n",
       "      <td>bechel australia services limited proprietary ...</td>\n",
       "    </tr>\n",
       "    <tr>\n",
       "      <th>1</th>\n",
       "      <td>NRI - KELLY's MERCHANDISE (AUST) PTY LTD</td>\n",
       "      <td>36</td>\n",
       "      <td>au</td>\n",
       "      <td>nri kelly merchandise aust limited proprietary...</td>\n",
       "    </tr>\n",
       "    <tr>\n",
       "      <th>2</th>\n",
       "      <td>meo -  serviços de comunicação e multimedia SA...</td>\n",
       "      <td>620</td>\n",
       "      <td>pt</td>\n",
       "      <td>meo servicos de comunicacao e multimedia sa a....</td>\n",
       "    </tr>\n",
       "    <tr>\n",
       "      <th>3</th>\n",
       "      <td>Glass  Coatings &amp; Concepts \"CBG\" LLC</td>\n",
       "      <td>840</td>\n",
       "      <td>us</td>\n",
       "      <td>glass coatings &amp; concepts cbg limited liabilit...</td>\n",
       "    </tr>\n",
       "    <tr>\n",
       "      <th>4</th>\n",
       "      <td>Brault Loisirs, Orl. SARL</td>\n",
       "      <td>250</td>\n",
       "      <td>fr</td>\n",
       "      <td>brault loisirs orl. societe a responsabilite l...</td>\n",
       "    </tr>\n",
       "    <tr>\n",
       "      <th>5</th>\n",
       "      <td>Cole &amp; Brothers  Fabric, Services LLC.</td>\n",
       "      <td>NaN</td>\n",
       "      <td>NaN</td>\n",
       "      <td>cole &amp; brothers fabric services limited liabil...</td>\n",
       "    </tr>\n",
       "    <tr>\n",
       "      <th>6</th>\n",
       "      <td>StarCOM Group Servizi **CAT** SRL</td>\n",
       "      <td>380</td>\n",
       "      <td>it</td>\n",
       "      <td>starcom group servizi societa a responsabilita...</td>\n",
       "    </tr>\n",
       "    <tr>\n",
       "      <th>7</th>\n",
       "      <td>Wolbeck (Archer Daniels) *Unified* GmbH</td>\n",
       "      <td>276</td>\n",
       "      <td>de</td>\n",
       "      <td>wolbeck archer daniels gesellschaft mit beschr...</td>\n",
       "    </tr>\n",
       "    <tr>\n",
       "      <th>8</th>\n",
       "      <td>Anheuser-BUSCH, Brothers (food services), LLC</td>\n",
       "      <td>826</td>\n",
       "      <td>gb</td>\n",
       "      <td>anheuser busch brothers food services limited ...</td>\n",
       "    </tr>\n",
       "    <tr>\n",
       "      <th>9</th>\n",
       "      <td>Susamar-Patino, colectores (adm)   SA</td>\n",
       "      <td>724</td>\n",
       "      <td>es</td>\n",
       "      <td>susamar patino colectores adm sociedad anonima</td>\n",
       "    </tr>\n",
       "    <tr>\n",
       "      <th>10</th>\n",
       "      <td>Molino's agro, S.A. (adm)   SA</td>\n",
       "      <td>NaN</td>\n",
       "      <td>NaN</td>\n",
       "      <td>molino agro s.a. adm sa</td>\n",
       "    </tr>\n",
       "  </tbody>\n",
       "</table>\n",
       "</div>"
      ],
      "text/plain": [
       "                                                 NAME COUNTRY_HEAD_code  \\\n",
       "0              Bechel   *Australia (Services) Pty Ltd                36   \n",
       "1            NRI - KELLY's MERCHANDISE (AUST) PTY LTD                36   \n",
       "2   meo -  serviços de comunicação e multimedia SA...               620   \n",
       "3                Glass  Coatings & Concepts \"CBG\" LLC               840   \n",
       "4                           Brault Loisirs, Orl. SARL               250   \n",
       "5              Cole & Brothers  Fabric, Services LLC.               NaN   \n",
       "6                   StarCOM Group Servizi **CAT** SRL               380   \n",
       "7             Wolbeck (Archer Daniels) *Unified* GmbH               276   \n",
       "8       Anheuser-BUSCH, Brothers (food services), LLC               826   \n",
       "9               Susamar-Patino, colectores (adm)   SA               724   \n",
       "10                     Molino's agro, S.A. (adm)   SA               NaN   \n",
       "\n",
       "   COUNTRY_HEAD_COUNTRY_HEAD  \\\n",
       "0                         au   \n",
       "1                         au   \n",
       "2                         pt   \n",
       "3                         us   \n",
       "4                         fr   \n",
       "5                        NaN   \n",
       "6                         it   \n",
       "7                         de   \n",
       "8                         gb   \n",
       "9                         es   \n",
       "10                       NaN   \n",
       "\n",
       "                                           NAME_CLEAN  \n",
       "0   bechel australia services limited proprietary ...  \n",
       "1   nri kelly merchandise aust limited proprietary...  \n",
       "2   meo servicos de comunicacao e multimedia sa a....  \n",
       "3   glass coatings & concepts cbg limited liabilit...  \n",
       "4   brault loisirs orl. societe a responsabilite l...  \n",
       "5   cole & brothers fabric services limited liabil...  \n",
       "6   starcom group servizi societa a responsabilita...  \n",
       "7   wolbeck archer daniels gesellschaft mit beschr...  \n",
       "8   anheuser busch brothers food services limited ...  \n",
       "9      susamar patino colectores adm sociedad anonima  \n",
       "10                            molino agro s.a. adm sa  "
      ]
     },
     "execution_count": 28,
     "metadata": {},
     "output_type": "execute_result"
    }
   ],
   "source": [
    "# Cleaning with country\n",
    "df_cleaner = company_cleaner_obj.clean_df(df_cleaner, 'NAME', 'NAME_CLEAN', 'COUNTRY_HEAD_COUNTRY_HEAD', 'True')\n",
    "df_cleaner"
   ]
  },
  {
   "cell_type": "code",
   "execution_count": null,
   "id": "b3ab53ea",
   "metadata": {},
   "outputs": [],
   "source": []
  }
 ],
 "metadata": {
  "kernelspec": {
   "display_name": "Python 3 (ipykernel)",
   "language": "python",
   "name": "python3"
  },
  "language_info": {
   "codemirror_mode": {
    "name": "ipython",
    "version": 3
   },
   "file_extension": ".py",
   "mimetype": "text/x-python",
   "name": "python",
   "nbconvert_exporter": "python",
   "pygments_lexer": "ipython3",
   "version": "3.9.12"
  }
 },
 "nbformat": 4,
 "nbformat_minor": 5
}
