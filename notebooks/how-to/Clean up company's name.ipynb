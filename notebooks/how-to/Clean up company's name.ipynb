{
 "cells": [
  {
   "cell_type": "markdown",
   "id": "2f4c319e",
   "metadata": {},
   "source": [
    "# How to...clean up company's name"
   ]
  },
  {
   "cell_type": "markdown",
   "id": "9d9e8979",
   "metadata": {},
   "source": [
    "This notebook shows how to use the **financial-entity-cleaner.text.name** to clean attributes that contain a company's name. The cleaning process relies in two internal and customized dictionaries: \n",
    "- **Dictionary of pre-defined cleaning rules**: defines the regex rules to be applied, for example: remove numbers, punctuations, extra spaces, etc.\n",
    "- **Dictionary of Legal Terms**: defines the replacement rules to normalize businesses legal forms. For instance, a company's name described as LT in the USA will be normalized as LIMITED.\n",
    "\n",
    "You can use **financial-entity-cleaner.text.name** module in two ways:\n",
    "1. [by cleaning up single instances of company's name](#clean_names)\n",
    "3. [by cleaning up multiple companies' names on a tabular dataframe](#df)\n",
    "\n",
    "No matter which approach you choose, you will need to import and create an object based on the **CompanyNameCleaner()** class. This notebook shows to customize the behaviour of this class to adapt the cleaning process to your projects."
   ]
  },
  {
   "cell_type": "markdown",
   "id": "d8f17123",
   "metadata": {},
   "source": [
    "<div class=\"alert alert-block alert-info\">\n",
    "<b>Note:</b> The complete documentation of the <b>financial-entity-cleaner</b> is available at <a href=\"https://financial-entity-cleaner.readthedocs.io/en/latest/\" title=\"ReadTheDocs\">ReadTheDocs</a>.</div>"
   ]
  },
  {
   "cell_type": "code",
   "execution_count": 1,
   "id": "8e068caa",
   "metadata": {},
   "outputs": [],
   "source": [
    "# Sets up the location of the api relative to this notebook \n",
    "import sys\n",
    "sys.path.append('../../')"
   ]
  },
  {
   "cell_type": "code",
   "execution_count": 2,
   "id": "f0e1f3c1",
   "metadata": {},
   "outputs": [],
   "source": [
    "# Import the module for cleaning company's name\n",
    "from financial_entity_cleaner.text.name import CompanyNameCleaner"
   ]
  },
  {
   "cell_type": "code",
   "execution_count": 3,
   "id": "7b060fa7",
   "metadata": {},
   "outputs": [],
   "source": [
    "# Create a CompanyNameCleaner object\n",
    "company_cleaner_obj = CompanyNameCleaner()"
   ]
  },
  {
   "cell_type": "markdown",
   "id": "4016ebb4",
   "metadata": {},
   "source": [
    "## 1. Cleaning single instances of company's names  <a id=\"clean_names\"></a>"
   ]
  },
  {
   "cell_type": "code",
   "execution_count": 4,
   "id": "4c220329",
   "metadata": {},
   "outputs": [
    {
     "data": {
      "text/plain": [
       "['us', 'en']"
      ]
     },
     "execution_count": 4,
     "metadata": {},
     "output_type": "execute_result"
    }
   ],
   "source": [
    "# Checking the type of legal terms dictionary set as default\n",
    "# returns 'language,country'\n",
    "company_cleaner_obj.get_info_current_legal_term_dict()"
   ]
  },
  {
   "cell_type": "code",
   "execution_count": 5,
   "id": "4032e549",
   "metadata": {},
   "outputs": [
    {
     "data": {
      "text/plain": [
       "['replace_amperstand_between_space_by_AND',\n",
       " 'replace_hyphen_between_spaces_by_single_space',\n",
       " 'replace_underscore_between_spaces_by_single_space',\n",
       " 'remove_text_puctuation_except_dot',\n",
       " 'remove_math_symbols',\n",
       " 'remove_words_in_parentheses',\n",
       " 'remove_parentheses',\n",
       " 'remove_brackets',\n",
       " 'remove_curly_brackets',\n",
       " 'enforce_single_space_between_words']"
      ]
     },
     "execution_count": 5,
     "metadata": {},
     "output_type": "execute_result"
    }
   ],
   "source": [
    "# Checking the cleaning rules set as default\n",
    "company_cleaner_obj.default_cleaning_rules"
   ]
  },
  {
   "cell_type": "markdown",
   "id": "e9fc16d3",
   "metadata": {},
   "source": [
    "Default parameters: performs the normalization of legal terms and returns the clean name in lower case."
   ]
  },
  {
   "cell_type": "code",
   "execution_count": 6,
   "id": "df964569",
   "metadata": {},
   "outputs": [],
   "source": [
    "company_name = \"Glass  Coatings & Concepts (CBG) LLC\""
   ]
  },
  {
   "cell_type": "code",
   "execution_count": 7,
   "id": "5edec6c7",
   "metadata": {},
   "outputs": [
    {
     "name": "stdout",
     "output_type": "stream",
     "text": [
      "glass coatings and concepts limited liability company\n"
     ]
    }
   ],
   "source": [
    "# Call the cleaning function\n",
    "clean_name = company_cleaner_obj.get_clean_data(company_name)\n",
    "print(clean_name)"
   ]
  },
  {
   "cell_type": "code",
   "execution_count": 8,
   "id": "d75c2e78",
   "metadata": {},
   "outputs": [
    {
     "name": "stdout",
     "output_type": "stream",
     "text": [
      "glass coatings and concepts llc\n"
     ]
    }
   ],
   "source": [
    "# Remove normalization of the legal terms\n",
    "company_cleaner_obj.normalize_legal_terms = False\n",
    "\n",
    "# Call the cleaning function\n",
    "clean_name = company_cleaner_obj.get_clean_data(company_name)\n",
    "print(clean_name)"
   ]
  },
  {
   "cell_type": "code",
   "execution_count": 9,
   "id": "083c591f",
   "metadata": {},
   "outputs": [],
   "source": [
    "# Apply normalization of the legal terms\n",
    "company_cleaner_obj.normalize_legal_terms = True"
   ]
  },
  {
   "cell_type": "code",
   "execution_count": 10,
   "id": "d891e8c9",
   "metadata": {},
   "outputs": [
    {
     "name": "stdout",
     "output_type": "stream",
     "text": [
      "GLASS COATINGS AND CONCEPTS LIMITED LIABILITY COMPANY\n"
     ]
    }
   ],
   "source": [
    "# Changing the resultant letter case\n",
    "company_cleaner_obj.output_lettercase=\"upper\"\n",
    "\n",
    "# Call the cleaning function\n",
    "clean_name = company_cleaner_obj.get_clean_data(company_name)\n",
    "print(clean_name)"
   ]
  },
  {
   "cell_type": "code",
   "execution_count": 11,
   "id": "aa91a801",
   "metadata": {},
   "outputs": [],
   "source": [
    "# Set up new cleaning rules\n",
    "my_custom_cleaning_rules=['remove_parentheses', 'replace_amperstand_between_space_by_AND','enforce_single_space_between_words']\n",
    "company_cleaner_obj.default_cleaning_rules = my_custom_cleaning_rules"
   ]
  },
  {
   "cell_type": "code",
   "execution_count": 12,
   "id": "fdadacea",
   "metadata": {},
   "outputs": [
    {
     "name": "stdout",
     "output_type": "stream",
     "text": [
      "GLASS COATINGS AND CONCEPTS CBG LIMITED LIABILITY COMPANY\n"
     ]
    }
   ],
   "source": [
    "# Call the cleaning function\n",
    "clean_name = company_cleaner_obj.get_clean_data(company_name)\n",
    "print(clean_name)"
   ]
  },
  {
   "cell_type": "markdown",
   "id": "b5b2dc4c",
   "metadata": {},
   "source": [
    "Now, let's change the country/language to translate the legal terms of a French company:"
   ]
  },
  {
   "cell_type": "code",
   "execution_count": 13,
   "id": "90c1b44e",
   "metadata": {},
   "outputs": [],
   "source": [
    "company_name='assurant holdings france sas'"
   ]
  },
  {
   "cell_type": "code",
   "execution_count": 14,
   "id": "e20408c7",
   "metadata": {},
   "outputs": [],
   "source": [
    "# Set the current legal term dictionary to France (country) - French (language)\n",
    "company_cleaner_obj.set_current_legal_term_dict('fr', 'fr')"
   ]
  },
  {
   "cell_type": "code",
   "execution_count": 15,
   "id": "276d589a",
   "metadata": {},
   "outputs": [
    {
     "data": {
      "text/plain": [
       "['fr', 'fr']"
      ]
     },
     "execution_count": 15,
     "metadata": {},
     "output_type": "execute_result"
    }
   ],
   "source": [
    "# Checking the type of legal terms dictionary set as default\n",
    "# returns 'language,country'\n",
    "company_cleaner_obj.get_info_current_legal_term_dict()"
   ]
  },
  {
   "cell_type": "code",
   "execution_count": 16,
   "id": "faf6e873",
   "metadata": {},
   "outputs": [
    {
     "name": "stdout",
     "output_type": "stream",
     "text": [
      "ASSURANT HOLDINGS FRANCE SOCIÉTÉ PAR ACTIONS SIMPLIFIÉE\n"
     ]
    }
   ],
   "source": [
    "# Call the cleaning function\n",
    "clean_name = company_cleaner_obj.get_clean_data(company_name)\n",
    "print(clean_name)"
   ]
  },
  {
   "cell_type": "code",
   "execution_count": 17,
   "id": "8f78ec79",
   "metadata": {},
   "outputs": [
    {
     "data": {
      "text/plain": [
       "{'ar': ['es'],\n",
       " 'at': ['de'],\n",
       " 'au': ['en'],\n",
       " 'br': ['pt'],\n",
       " 'ca': ['en', 'fr'],\n",
       " 'de': ['de'],\n",
       " 'es': ['es'],\n",
       " 'fr': ['fr'],\n",
       " 'gb': ['en', 'cy'],\n",
       " 'id': ['id'],\n",
       " 'in': ['en'],\n",
       " 'it': ['it'],\n",
       " 'nl': ['nl'],\n",
       " 'nz': ['en'],\n",
       " 'pt': ['pt'],\n",
       " 'sg': ['en'],\n",
       " 'us': ['en']}"
      ]
     },
     "execution_count": 17,
     "metadata": {},
     "output_type": "execute_result"
    }
   ],
   "source": [
    "# Checking the coountries/languages available\n",
    "company_cleaner_obj.get_info_available_legal_term_dict()"
   ]
  },
  {
   "cell_type": "markdown",
   "id": "46999c6b",
   "metadata": {},
   "source": [
    "## 2. Cleaning up multiple companies' names on a tabular dataframe"
   ]
  },
  {
   "cell_type": "code",
   "execution_count": 18,
   "id": "7c43ce04",
   "metadata": {},
   "outputs": [],
   "source": [
    "# Import the pandas library to read data from a .csv file\n",
    "import pandas as pd"
   ]
  },
  {
   "cell_type": "code",
   "execution_count": 19,
   "id": "49d78d61",
   "metadata": {},
   "outputs": [
    {
     "data": {
      "text/html": [
       "<div>\n",
       "<style scoped>\n",
       "    .dataframe tbody tr th:only-of-type {\n",
       "        vertical-align: middle;\n",
       "    }\n",
       "\n",
       "    .dataframe tbody tr th {\n",
       "        vertical-align: top;\n",
       "    }\n",
       "\n",
       "    .dataframe thead th {\n",
       "        text-align: right;\n",
       "    }\n",
       "</style>\n",
       "<table border=\"1\" class=\"dataframe\">\n",
       "  <thead>\n",
       "    <tr style=\"text-align: right;\">\n",
       "      <th></th>\n",
       "      <th>NAME</th>\n",
       "      <th>COUNTRY_HEAD</th>\n",
       "    </tr>\n",
       "  </thead>\n",
       "  <tbody>\n",
       "    <tr>\n",
       "      <th>0</th>\n",
       "      <td>Bechel   *Australia (Services) Pty Ltd</td>\n",
       "      <td>au</td>\n",
       "    </tr>\n",
       "    <tr>\n",
       "      <th>1</th>\n",
       "      <td>NRI - KELLY's MERCHANDISE (AUST) PTY LTD</td>\n",
       "      <td>Australia</td>\n",
       "    </tr>\n",
       "    <tr>\n",
       "      <th>2</th>\n",
       "      <td>meo -  serviços de comunicação e multimedia SA...</td>\n",
       "      <td>PT</td>\n",
       "    </tr>\n",
       "    <tr>\n",
       "      <th>3</th>\n",
       "      <td>Glass  Coatings &amp; Concepts \"CBG\" LLC</td>\n",
       "      <td>United States</td>\n",
       "    </tr>\n",
       "    <tr>\n",
       "      <th>4</th>\n",
       "      <td>Brault Loisirs, Orl. SARL</td>\n",
       "      <td>FR</td>\n",
       "    </tr>\n",
       "    <tr>\n",
       "      <th>5</th>\n",
       "      <td>Cole &amp; Brothers  Fabric, Services LLC.</td>\n",
       "      <td>uk</td>\n",
       "    </tr>\n",
       "    <tr>\n",
       "      <th>6</th>\n",
       "      <td>StarCOM Group Servizi **CAT** SRL</td>\n",
       "      <td>italy</td>\n",
       "    </tr>\n",
       "    <tr>\n",
       "      <th>7</th>\n",
       "      <td>Wolbeck (Archer Daniels) *Unified* GmbH</td>\n",
       "      <td>de</td>\n",
       "    </tr>\n",
       "    <tr>\n",
       "      <th>8</th>\n",
       "      <td>Anheuser-BUSCH, Brothers (food services), LLC</td>\n",
       "      <td>gb</td>\n",
       "    </tr>\n",
       "    <tr>\n",
       "      <th>9</th>\n",
       "      <td>Susamar-Patino, colectores (adm)   SA</td>\n",
       "      <td>ES</td>\n",
       "    </tr>\n",
       "    <tr>\n",
       "      <th>10</th>\n",
       "      <td>Molino's agro, S.A. (adm)   SA</td>\n",
       "      <td>NaN</td>\n",
       "    </tr>\n",
       "  </tbody>\n",
       "</table>\n",
       "</div>"
      ],
      "text/plain": [
       "                                                 NAME   COUNTRY_HEAD\n",
       "0              Bechel   *Australia (Services) Pty Ltd             au\n",
       "1            NRI - KELLY's MERCHANDISE (AUST) PTY LTD      Australia\n",
       "2   meo -  serviços de comunicação e multimedia SA...             PT\n",
       "3                Glass  Coatings & Concepts \"CBG\" LLC  United States\n",
       "4                           Brault Loisirs, Orl. SARL             FR\n",
       "5              Cole & Brothers  Fabric, Services LLC.             uk\n",
       "6                   StarCOM Group Servizi **CAT** SRL          italy\n",
       "7             Wolbeck (Archer Daniels) *Unified* GmbH             de\n",
       "8       Anheuser-BUSCH, Brothers (food services), LLC             gb\n",
       "9               Susamar-Patino, colectores (adm)   SA             ES\n",
       "10                     Molino's agro, S.A. (adm)   SA            NaN"
      ]
     },
     "execution_count": 19,
     "metadata": {},
     "output_type": "execute_result"
    }
   ],
   "source": [
    "# Read the .csv file as a pandas dataframe object\n",
    "input_filename = '../../tests/data/test_cleaner.csv'\n",
    "df_original = pd.read_csv(input_filename,sep=';',encoding='utf-8', usecols=['NAME','COUNTRY_HEAD'])\n",
    "df_original"
   ]
  },
  {
   "cell_type": "code",
   "execution_count": 23,
   "id": "f113b698",
   "metadata": {},
   "outputs": [],
   "source": [
    "# Set up the resultant letter case\n",
    "company_cleaner_obj.output_lettercase='upper'"
   ]
  },
  {
   "cell_type": "code",
   "execution_count": 24,
   "id": "0464419f",
   "metadata": {},
   "outputs": [],
   "source": [
    "df_cleaner = company_cleaner_obj.get_clean_df(df_original, 'NAME', 'NAME_CLEAN')"
   ]
  },
  {
   "cell_type": "code",
   "execution_count": 25,
   "id": "d4495c61",
   "metadata": {},
   "outputs": [
    {
     "data": {
      "text/html": [
       "<div>\n",
       "<style scoped>\n",
       "    .dataframe tbody tr th:only-of-type {\n",
       "        vertical-align: middle;\n",
       "    }\n",
       "\n",
       "    .dataframe tbody tr th {\n",
       "        vertical-align: top;\n",
       "    }\n",
       "\n",
       "    .dataframe thead th {\n",
       "        text-align: right;\n",
       "    }\n",
       "</style>\n",
       "<table border=\"1\" class=\"dataframe\">\n",
       "  <thead>\n",
       "    <tr style=\"text-align: right;\">\n",
       "      <th></th>\n",
       "      <th>NAME</th>\n",
       "      <th>COUNTRY_HEAD</th>\n",
       "      <th>NAME_CLEAN</th>\n",
       "    </tr>\n",
       "  </thead>\n",
       "  <tbody>\n",
       "    <tr>\n",
       "      <th>0</th>\n",
       "      <td>Bechel   *Australia (Services) Pty Ltd</td>\n",
       "      <td>au</td>\n",
       "      <td>BECHEL *AUSTRALIA SERVICES PTY LTD</td>\n",
       "    </tr>\n",
       "    <tr>\n",
       "      <th>1</th>\n",
       "      <td>NRI - KELLY's MERCHANDISE (AUST) PTY LTD</td>\n",
       "      <td>Australia</td>\n",
       "      <td>NRI - KELLY'S MERCHANDISE AUST PTY LTD</td>\n",
       "    </tr>\n",
       "    <tr>\n",
       "      <th>2</th>\n",
       "      <td>meo -  serviços de comunicação e multimedia SA...</td>\n",
       "      <td>PT</td>\n",
       "      <td>MEO - SERVIÇOS DE COMUNICAÇÃO E MULTIMEDIA SA ...</td>\n",
       "    </tr>\n",
       "    <tr>\n",
       "      <th>3</th>\n",
       "      <td>Glass  Coatings &amp; Concepts \"CBG\" LLC</td>\n",
       "      <td>United States</td>\n",
       "      <td>GLASS COATINGS AND CONCEPTS \"CBG\" LLC</td>\n",
       "    </tr>\n",
       "    <tr>\n",
       "      <th>4</th>\n",
       "      <td>Brault Loisirs, Orl. SARL</td>\n",
       "      <td>FR</td>\n",
       "      <td>BRAULT LOISIRS, ORL. SOCIÉTÉ À RESPONSABILITÉ ...</td>\n",
       "    </tr>\n",
       "    <tr>\n",
       "      <th>5</th>\n",
       "      <td>Cole &amp; Brothers  Fabric, Services LLC.</td>\n",
       "      <td>uk</td>\n",
       "      <td>COLE AND BROTHERS FABRIC, SERVICES LLC.</td>\n",
       "    </tr>\n",
       "    <tr>\n",
       "      <th>6</th>\n",
       "      <td>StarCOM Group Servizi **CAT** SRL</td>\n",
       "      <td>italy</td>\n",
       "      <td>STARCOM GROUP SERVIZI **CAT** SRL</td>\n",
       "    </tr>\n",
       "    <tr>\n",
       "      <th>7</th>\n",
       "      <td>Wolbeck (Archer Daniels) *Unified* GmbH</td>\n",
       "      <td>de</td>\n",
       "      <td>WOLBECK ARCHER DANIELS *UNIFIED* GMBH</td>\n",
       "    </tr>\n",
       "    <tr>\n",
       "      <th>8</th>\n",
       "      <td>Anheuser-BUSCH, Brothers (food services), LLC</td>\n",
       "      <td>gb</td>\n",
       "      <td>ANHEUSER-BUSCH, BROTHERS FOOD SERVICES, LLC</td>\n",
       "    </tr>\n",
       "    <tr>\n",
       "      <th>9</th>\n",
       "      <td>Susamar-Patino, colectores (adm)   SA</td>\n",
       "      <td>ES</td>\n",
       "      <td>SUSAMAR-PATINO, COLECTORES ADM SOCIÉTÉ ANONYME</td>\n",
       "    </tr>\n",
       "    <tr>\n",
       "      <th>10</th>\n",
       "      <td>Molino's agro, S.A. (adm)   SA</td>\n",
       "      <td>NaN</td>\n",
       "      <td>MOLINO'S AGRO, S.A. ADM SOCIÉTÉ ANONYME</td>\n",
       "    </tr>\n",
       "  </tbody>\n",
       "</table>\n",
       "</div>"
      ],
      "text/plain": [
       "                                                 NAME   COUNTRY_HEAD  \\\n",
       "0              Bechel   *Australia (Services) Pty Ltd             au   \n",
       "1            NRI - KELLY's MERCHANDISE (AUST) PTY LTD      Australia   \n",
       "2   meo -  serviços de comunicação e multimedia SA...             PT   \n",
       "3                Glass  Coatings & Concepts \"CBG\" LLC  United States   \n",
       "4                           Brault Loisirs, Orl. SARL             FR   \n",
       "5              Cole & Brothers  Fabric, Services LLC.             uk   \n",
       "6                   StarCOM Group Servizi **CAT** SRL          italy   \n",
       "7             Wolbeck (Archer Daniels) *Unified* GmbH             de   \n",
       "8       Anheuser-BUSCH, Brothers (food services), LLC             gb   \n",
       "9               Susamar-Patino, colectores (adm)   SA             ES   \n",
       "10                     Molino's agro, S.A. (adm)   SA            NaN   \n",
       "\n",
       "                                           NAME_CLEAN  \n",
       "0                  BECHEL *AUSTRALIA SERVICES PTY LTD  \n",
       "1              NRI - KELLY'S MERCHANDISE AUST PTY LTD  \n",
       "2   MEO - SERVIÇOS DE COMUNICAÇÃO E MULTIMEDIA SA ...  \n",
       "3               GLASS COATINGS AND CONCEPTS \"CBG\" LLC  \n",
       "4   BRAULT LOISIRS, ORL. SOCIÉTÉ À RESPONSABILITÉ ...  \n",
       "5             COLE AND BROTHERS FABRIC, SERVICES LLC.  \n",
       "6                   STARCOM GROUP SERVIZI **CAT** SRL  \n",
       "7               WOLBECK ARCHER DANIELS *UNIFIED* GMBH  \n",
       "8         ANHEUSER-BUSCH, BROTHERS FOOD SERVICES, LLC  \n",
       "9      SUSAMAR-PATINO, COLECTORES ADM SOCIÉTÉ ANONYME  \n",
       "10            MOLINO'S AGRO, S.A. ADM SOCIÉTÉ ANONYME  "
      ]
     },
     "execution_count": 25,
     "metadata": {},
     "output_type": "execute_result"
    }
   ],
   "source": [
    "df_cleaner"
   ]
  },
  {
   "cell_type": "code",
   "execution_count": 26,
   "id": "d2af8786",
   "metadata": {},
   "outputs": [],
   "source": [
    "# Import the CountryCleaner() class to normalize country information\n",
    "from financial_entity_cleaner.country.iso3166 import CountryCleaner"
   ]
  },
  {
   "cell_type": "code",
   "execution_count": 27,
   "id": "a1e75a59",
   "metadata": {},
   "outputs": [],
   "source": [
    "# Create an object based on CountryCleaner() class to perform cleaning over string values, dataframe or .csv file\n",
    "country_cleaner_obj=CountryCleaner()"
   ]
  },
  {
   "cell_type": "code",
   "execution_count": 41,
   "id": "46b9597a",
   "metadata": {},
   "outputs": [
    {
     "name": "stderr",
     "output_type": "stream",
     "text": [
      "Normalizing countries...100%|██████████████████████████████████████████████████| 11/11 [00:00<00:00, 423.30it/s]\n"
     ]
    }
   ],
   "source": [
    "# Let's setup the output in upper case\n",
    "country_cleaner_obj.letter_case='lower'\n",
    "country_cleaner_obj.output_alpha2 = 'COUNTRY_HEAD'\n",
    "\n",
    "# Let's perform the cleaning on the dataframe by using the column named as 'COUNTRY'\n",
    "df_cleaner = country_cleaner_obj.get_clean_df(df=df_original, column_name='COUNTRY_HEAD')"
   ]
  },
  {
   "cell_type": "code",
   "execution_count": 42,
   "id": "fb594128",
   "metadata": {},
   "outputs": [
    {
     "data": {
      "text/html": [
       "<div>\n",
       "<style scoped>\n",
       "    .dataframe tbody tr th:only-of-type {\n",
       "        vertical-align: middle;\n",
       "    }\n",
       "\n",
       "    .dataframe tbody tr th {\n",
       "        vertical-align: top;\n",
       "    }\n",
       "\n",
       "    .dataframe thead th {\n",
       "        text-align: right;\n",
       "    }\n",
       "</style>\n",
       "<table border=\"1\" class=\"dataframe\">\n",
       "  <thead>\n",
       "    <tr style=\"text-align: right;\">\n",
       "      <th></th>\n",
       "      <th>NAME</th>\n",
       "      <th>COUNTRY_HEAD</th>\n",
       "    </tr>\n",
       "  </thead>\n",
       "  <tbody>\n",
       "    <tr>\n",
       "      <th>0</th>\n",
       "      <td>Bechel   *Australia (Services) Pty Ltd</td>\n",
       "      <td>au</td>\n",
       "    </tr>\n",
       "    <tr>\n",
       "      <th>1</th>\n",
       "      <td>NRI - KELLY's MERCHANDISE (AUST) PTY LTD</td>\n",
       "      <td>au</td>\n",
       "    </tr>\n",
       "    <tr>\n",
       "      <th>2</th>\n",
       "      <td>meo -  serviços de comunicação e multimedia SA...</td>\n",
       "      <td>pt</td>\n",
       "    </tr>\n",
       "    <tr>\n",
       "      <th>3</th>\n",
       "      <td>Glass  Coatings &amp; Concepts \"CBG\" LLC</td>\n",
       "      <td>us</td>\n",
       "    </tr>\n",
       "    <tr>\n",
       "      <th>4</th>\n",
       "      <td>Brault Loisirs, Orl. SARL</td>\n",
       "      <td>fr</td>\n",
       "    </tr>\n",
       "    <tr>\n",
       "      <th>5</th>\n",
       "      <td>Cole &amp; Brothers  Fabric, Services LLC.</td>\n",
       "      <td>NaN</td>\n",
       "    </tr>\n",
       "    <tr>\n",
       "      <th>6</th>\n",
       "      <td>StarCOM Group Servizi **CAT** SRL</td>\n",
       "      <td>it</td>\n",
       "    </tr>\n",
       "    <tr>\n",
       "      <th>7</th>\n",
       "      <td>Wolbeck (Archer Daniels) *Unified* GmbH</td>\n",
       "      <td>de</td>\n",
       "    </tr>\n",
       "    <tr>\n",
       "      <th>8</th>\n",
       "      <td>Anheuser-BUSCH, Brothers (food services), LLC</td>\n",
       "      <td>gb</td>\n",
       "    </tr>\n",
       "    <tr>\n",
       "      <th>9</th>\n",
       "      <td>Susamar-Patino, colectores (adm)   SA</td>\n",
       "      <td>es</td>\n",
       "    </tr>\n",
       "    <tr>\n",
       "      <th>10</th>\n",
       "      <td>Molino's agro, S.A. (adm)   SA</td>\n",
       "      <td>NaN</td>\n",
       "    </tr>\n",
       "  </tbody>\n",
       "</table>\n",
       "</div>"
      ],
      "text/plain": [
       "                                                 NAME COUNTRY_HEAD\n",
       "0              Bechel   *Australia (Services) Pty Ltd           au\n",
       "1            NRI - KELLY's MERCHANDISE (AUST) PTY LTD           au\n",
       "2   meo -  serviços de comunicação e multimedia SA...           pt\n",
       "3                Glass  Coatings & Concepts \"CBG\" LLC           us\n",
       "4                           Brault Loisirs, Orl. SARL           fr\n",
       "5              Cole & Brothers  Fabric, Services LLC.          NaN\n",
       "6                   StarCOM Group Servizi **CAT** SRL           it\n",
       "7             Wolbeck (Archer Daniels) *Unified* GmbH           de\n",
       "8       Anheuser-BUSCH, Brothers (food services), LLC           gb\n",
       "9               Susamar-Patino, colectores (adm)   SA           es\n",
       "10                     Molino's agro, S.A. (adm)   SA          NaN"
      ]
     },
     "execution_count": 42,
     "metadata": {},
     "output_type": "execute_result"
    }
   ],
   "source": [
    "# Remove unnecessary columns\n",
    "df_cleaner.drop(['iso_name', 'iso_alpha3'], inplace=True, axis=1)\n",
    "df_cleaner"
   ]
  },
  {
   "cell_type": "code",
   "execution_count": 43,
   "id": "7e8df6cb",
   "metadata": {},
   "outputs": [
    {
     "data": {
      "text/html": [
       "<div>\n",
       "<style scoped>\n",
       "    .dataframe tbody tr th:only-of-type {\n",
       "        vertical-align: middle;\n",
       "    }\n",
       "\n",
       "    .dataframe tbody tr th {\n",
       "        vertical-align: top;\n",
       "    }\n",
       "\n",
       "    .dataframe thead th {\n",
       "        text-align: right;\n",
       "    }\n",
       "</style>\n",
       "<table border=\"1\" class=\"dataframe\">\n",
       "  <thead>\n",
       "    <tr style=\"text-align: right;\">\n",
       "      <th></th>\n",
       "      <th>NAME</th>\n",
       "      <th>COUNTRY_HEAD</th>\n",
       "      <th>NAME_CLEAN</th>\n",
       "    </tr>\n",
       "  </thead>\n",
       "  <tbody>\n",
       "    <tr>\n",
       "      <th>0</th>\n",
       "      <td>Bechel   *Australia (Services) Pty Ltd</td>\n",
       "      <td>au</td>\n",
       "      <td>BECHEL *AUSTRALIA SERVICES LIMITED PROPRIETARY...</td>\n",
       "    </tr>\n",
       "    <tr>\n",
       "      <th>1</th>\n",
       "      <td>NRI - KELLY's MERCHANDISE (AUST) PTY LTD</td>\n",
       "      <td>au</td>\n",
       "      <td>NRI - KELLY'S MERCHANDISE AUST LIMITED PROPRIE...</td>\n",
       "    </tr>\n",
       "    <tr>\n",
       "      <th>2</th>\n",
       "      <td>meo -  serviços de comunicação e multimedia SA...</td>\n",
       "      <td>pt</td>\n",
       "      <td>MEO - SERVIÇOS DE COMUNICAÇÃO E MULTIMEDIA SA ...</td>\n",
       "    </tr>\n",
       "    <tr>\n",
       "      <th>3</th>\n",
       "      <td>Glass  Coatings &amp; Concepts \"CBG\" LLC</td>\n",
       "      <td>us</td>\n",
       "      <td>GLASS COATINGS AND CONCEPTS \"CBG\" LIMITED LIAB...</td>\n",
       "    </tr>\n",
       "    <tr>\n",
       "      <th>4</th>\n",
       "      <td>Brault Loisirs, Orl. SARL</td>\n",
       "      <td>fr</td>\n",
       "      <td>BRAULT LOISIRS, ORL. SOCIÉTÉ À RESPONSABILITÉ ...</td>\n",
       "    </tr>\n",
       "    <tr>\n",
       "      <th>5</th>\n",
       "      <td>Cole &amp; Brothers  Fabric, Services LLC.</td>\n",
       "      <td>NaN</td>\n",
       "      <td>COLE AND BROTHERS FABRIC, SERVICES LIMITED LIA...</td>\n",
       "    </tr>\n",
       "    <tr>\n",
       "      <th>6</th>\n",
       "      <td>StarCOM Group Servizi **CAT** SRL</td>\n",
       "      <td>it</td>\n",
       "      <td>STARCOM GROUP SERVIZI **CAT** SOCIETÀ A RESPON...</td>\n",
       "    </tr>\n",
       "    <tr>\n",
       "      <th>7</th>\n",
       "      <td>Wolbeck (Archer Daniels) *Unified* GmbH</td>\n",
       "      <td>de</td>\n",
       "      <td>WOLBECK ARCHER DANIELS *UNIFIED* GESELLSCHAFT ...</td>\n",
       "    </tr>\n",
       "    <tr>\n",
       "      <th>8</th>\n",
       "      <td>Anheuser-BUSCH, Brothers (food services), LLC</td>\n",
       "      <td>gb</td>\n",
       "      <td>ANHEUSER-BUSCH, BROTHERS FOOD SERVICES, LIMITE...</td>\n",
       "    </tr>\n",
       "    <tr>\n",
       "      <th>9</th>\n",
       "      <td>Susamar-Patino, colectores (adm)   SA</td>\n",
       "      <td>es</td>\n",
       "      <td>SUSAMAR-PATINO, COLECTORES ADM SOCIEDAD ANÓNIMA</td>\n",
       "    </tr>\n",
       "    <tr>\n",
       "      <th>10</th>\n",
       "      <td>Molino's agro, S.A. (adm)   SA</td>\n",
       "      <td>NaN</td>\n",
       "      <td>MOLINO'S AGRO, S.A. ADM SA</td>\n",
       "    </tr>\n",
       "  </tbody>\n",
       "</table>\n",
       "</div>"
      ],
      "text/plain": [
       "                                                 NAME COUNTRY_HEAD  \\\n",
       "0              Bechel   *Australia (Services) Pty Ltd           au   \n",
       "1            NRI - KELLY's MERCHANDISE (AUST) PTY LTD           au   \n",
       "2   meo -  serviços de comunicação e multimedia SA...           pt   \n",
       "3                Glass  Coatings & Concepts \"CBG\" LLC           us   \n",
       "4                           Brault Loisirs, Orl. SARL           fr   \n",
       "5              Cole & Brothers  Fabric, Services LLC.          NaN   \n",
       "6                   StarCOM Group Servizi **CAT** SRL           it   \n",
       "7             Wolbeck (Archer Daniels) *Unified* GmbH           de   \n",
       "8       Anheuser-BUSCH, Brothers (food services), LLC           gb   \n",
       "9               Susamar-Patino, colectores (adm)   SA           es   \n",
       "10                     Molino's agro, S.A. (adm)   SA          NaN   \n",
       "\n",
       "                                           NAME_CLEAN  \n",
       "0   BECHEL *AUSTRALIA SERVICES LIMITED PROPRIETARY...  \n",
       "1   NRI - KELLY'S MERCHANDISE AUST LIMITED PROPRIE...  \n",
       "2   MEO - SERVIÇOS DE COMUNICAÇÃO E MULTIMEDIA SA ...  \n",
       "3   GLASS COATINGS AND CONCEPTS \"CBG\" LIMITED LIAB...  \n",
       "4   BRAULT LOISIRS, ORL. SOCIÉTÉ À RESPONSABILITÉ ...  \n",
       "5   COLE AND BROTHERS FABRIC, SERVICES LIMITED LIA...  \n",
       "6   STARCOM GROUP SERVIZI **CAT** SOCIETÀ A RESPON...  \n",
       "7   WOLBECK ARCHER DANIELS *UNIFIED* GESELLSCHAFT ...  \n",
       "8   ANHEUSER-BUSCH, BROTHERS FOOD SERVICES, LIMITE...  \n",
       "9     SUSAMAR-PATINO, COLECTORES ADM SOCIEDAD ANÓNIMA  \n",
       "10                         MOLINO'S AGRO, S.A. ADM SA  "
      ]
     },
     "execution_count": 43,
     "metadata": {},
     "output_type": "execute_result"
    }
   ],
   "source": [
    "# Cleaning with country\n",
    "df_cleaner = company_cleaner_obj.get_clean_df(df_cleaner, 'NAME', 'NAME_CLEAN', 'COUNTRY_HEAD', 'True')\n",
    "df_cleaner"
   ]
  },
  {
   "cell_type": "code",
   "execution_count": null,
   "id": "b3ab53ea",
   "metadata": {},
   "outputs": [],
   "source": []
  }
 ],
 "metadata": {
  "kernelspec": {
   "display_name": "Python 3 (ipykernel)",
   "language": "python",
   "name": "python3"
  },
  "language_info": {
   "codemirror_mode": {
    "name": "ipython",
    "version": 3
   },
   "file_extension": ".py",
   "mimetype": "text/x-python",
   "name": "python",
   "nbconvert_exporter": "python",
   "pygments_lexer": "ipython3",
   "version": "3.8.11"
  }
 },
 "nbformat": 4,
 "nbformat_minor": 5
}
