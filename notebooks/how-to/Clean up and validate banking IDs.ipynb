{
 "cells": [
  {
   "cell_type": "markdown",
   "id": "a937f3c4",
   "metadata": {},
   "source": [
    "# How to...clean up and validate banking IDs"
   ]
  },
  {
   "cell_type": "markdown",
   "id": "afc45c44",
   "metadata": {},
   "source": [
    "This notebook shows how to use the **BankingIDCleaner** class to validate ID's such as LEI, ISIN and SEDOL. You can use this class in three different ways:\n",
    "1. [to validate single values of text as ID's](#validate_id)\n",
    "2. [to clean & validate single values of text as ID's](#clean_validate_id)\n",
    "3. [convert siret into siren code](#siret_to_siren)\n",
    "4. [to clean & validate IDs on tabular dataframes](#df)\n",
    "\n",
    "No matter which approach you choose, you will need to import and create an object based on the **BankingIdCleaner()** class which is available in the **financial_entity_cleaner.id** package. This notebook shows how you can customize the behaviour of this class to adapt the cleaning to your own needs.   "
   ]
  },
  {
   "cell_type": "code",
   "execution_count": 1,
   "id": "f41d78ec",
   "metadata": {},
   "outputs": [],
   "source": [
    "# Sets up the location of the financial-entity-cleaner library relative to this notebook \n",
    "import sys\n",
    "sys.path.append('../../')"
   ]
  },
  {
   "cell_type": "code",
   "execution_count": 2,
   "id": "98eea0b4",
   "metadata": {},
   "outputs": [],
   "source": [
    "# Import BankingIdCleaner\n",
    "from financial_entity_cleaner.id import BankingIdCleaner"
   ]
  },
  {
   "cell_type": "code",
   "execution_count": 3,
   "id": "da81e534",
   "metadata": {},
   "outputs": [],
   "source": [
    "# Create an object based on the BankingIdCleaner() class\n",
    "id_cleaner_obj = BankingIdCleaner()"
   ]
  },
  {
   "cell_type": "markdown",
   "id": "71a7ef9a",
   "metadata": {},
   "source": [
    "To see all the supported ID types:"
   ]
  },
  {
   "cell_type": "code",
   "execution_count": 4,
   "id": "4865f940",
   "metadata": {},
   "outputs": [
    {
     "data": {
      "text/plain": [
       "['lei', 'isin', 'sedol', 'cusip', 'bic', 'siren', 'siret']"
      ]
     },
     "execution_count": 4,
     "metadata": {},
     "output_type": "execute_result"
    }
   ],
   "source": [
    "# Check the ID's supported by the library\n",
    "id_cleaner_obj.get_types()"
   ]
  },
  {
   "cell_type": "markdown",
   "id": "ded8492b",
   "metadata": {},
   "source": [
    "<div class=\"alert alert-block alert-danger\">\n",
    "<b>EXCEPTION:</b> The library throws an exception if the ID type is not supported.\n",
    "</div>"
   ]
  },
  {
   "cell_type": "code",
   "execution_count": 5,
   "id": "ccb2bf01",
   "metadata": {},
   "outputs": [
    {
     "ename": "TypeOfBankingIdNotSupported",
     "evalue": "Financial-Entity-Cleaner (Error) <BankingIdCleaner> - The ID type(s) <test> is/are not supported.",
     "output_type": "error",
     "traceback": [
      "\u001b[1;31m---------------------------------------------------------------------------\u001b[0m",
      "\u001b[1;31mTypeOfBankingIdNotSupported\u001b[0m               Traceback (most recent call last)",
      "Input \u001b[1;32mIn [5]\u001b[0m, in \u001b[0;36m<cell line: 1>\u001b[1;34m()\u001b[0m\n\u001b[1;32m----> 1\u001b[0m \u001b[43mid_cleaner_obj\u001b[49m\u001b[38;5;241;43m.\u001b[39;49m\u001b[43mid_type\u001b[49m\u001b[38;5;241m=\u001b[39m\u001b[38;5;124m'\u001b[39m\u001b[38;5;124mtest\u001b[39m\u001b[38;5;124m'\u001b[39m\n",
      "File \u001b[1;32m~\\OneDrive\\Projects\\GitHub\\os_climate\\financial-entity-cleaner\\notebooks\\how-to\\../..\\financial_entity_cleaner\\id\\banking.py:137\u001b[0m, in \u001b[0;36mBankingIdCleaner.id_type\u001b[1;34m(self, new_id_type)\u001b[0m\n\u001b[0;32m    135\u001b[0m \u001b[38;5;66;03m# Chek if the new type is valid/supported\u001b[39;00m\n\u001b[0;32m    136\u001b[0m \u001b[38;5;28;01mif\u001b[39;00m \u001b[38;5;129;01mnot\u001b[39;00m (new_id_type \u001b[38;5;129;01min\u001b[39;00m \u001b[38;5;28mself\u001b[39m\u001b[38;5;241m.\u001b[39m__VALIDATIONS_SUPPORTED):\n\u001b[1;32m--> 137\u001b[0m     \u001b[38;5;28;01mraise\u001b[39;00m custom_exception\u001b[38;5;241m.\u001b[39mTypeOfBankingIdNotSupported(new_id_type)\n\u001b[0;32m    138\u001b[0m \u001b[38;5;28mself\u001b[39m\u001b[38;5;241m.\u001b[39m_id_type \u001b[38;5;241m=\u001b[39m new_id_type\n",
      "\u001b[1;31mTypeOfBankingIdNotSupported\u001b[0m: Financial-Entity-Cleaner (Error) <BankingIdCleaner> - The ID type(s) <test> is/are not supported."
     ]
    }
   ],
   "source": [
    "id_cleaner_obj.id_type='test'"
   ]
  },
  {
   "cell_type": "markdown",
   "id": "ff699a9c",
   "metadata": {},
   "source": [
    "## 1. Validating single values of text as ID's <a id=\"validate_id\"></a>"
   ]
  },
  {
   "cell_type": "markdown",
   "id": "d0094c17",
   "metadata": {},
   "source": [
    "Use **is_valid()** method to verify if an ID is valid. This methods will return:\n",
    "- None if the value is not a string or has no characters in it.\n",
    "- True if the value is a valid ID of the specified type\n",
    "- False if the value is not a valid ID of the specified type"
   ]
  },
  {
   "cell_type": "markdown",
   "id": "a1a7c10e",
   "metadata": {},
   "source": [
    "By default, the library assumes that the value passed as parameter is an ISIN code. "
   ]
  },
  {
   "cell_type": "code",
   "execution_count": 6,
   "id": "c710f413",
   "metadata": {},
   "outputs": [
    {
     "name": "stdout",
     "output_type": "stream",
     "text": [
      "isin\n"
     ]
    }
   ],
   "source": [
    "# Checking the default type\n",
    "print(id_cleaner_obj.id_type)"
   ]
  },
  {
   "cell_type": "code",
   "execution_count": 7,
   "id": "d1914800",
   "metadata": {},
   "outputs": [
    {
     "name": "stdout",
     "output_type": "stream",
     "text": [
      "False\n"
     ]
    }
   ],
   "source": [
    "# Testing an invalid ISIN code\n",
    "print(id_cleaner_obj.is_valid('tttt0B1YW4409'))"
   ]
  },
  {
   "cell_type": "code",
   "execution_count": 8,
   "id": "ac661233",
   "metadata": {},
   "outputs": [
    {
     "name": "stdout",
     "output_type": "stream",
     "text": [
      "True\n"
     ]
    }
   ],
   "source": [
    "# Testing a valid LEI code\n",
    "id_cleaner_obj.id_type='lei'\n",
    "print(id_cleaner_obj.is_valid('969500DPKGC9JE9F0820'))"
   ]
  },
  {
   "cell_type": "code",
   "execution_count": 9,
   "id": "1037008f",
   "metadata": {},
   "outputs": [
    {
     "name": "stdout",
     "output_type": "stream",
     "text": [
      "True\n"
     ]
    }
   ],
   "source": [
    "# Testing a valid SEDOL code\n",
    "id_cleaner_obj.id_type='sedol'\n",
    "print(id_cleaner_obj.is_valid('2595708'))"
   ]
  },
  {
   "cell_type": "markdown",
   "id": "b2cf72d3",
   "metadata": {},
   "source": [
    "Sometimes, it is necessary to have boolean values described as categorical data (0 and 1's). For example, when we want to store data in a database or perform machine learning operations on it. In order to return categorical data as the result of the validation process, you must set the property **validation_as_categorical** as **True**: "
   ]
  },
  {
   "cell_type": "code",
   "execution_count": 10,
   "id": "6752bbff",
   "metadata": {},
   "outputs": [],
   "source": [
    "id_cleaner_obj.validation_as_categorical = True "
   ]
  },
  {
   "cell_type": "code",
   "execution_count": 11,
   "id": "2239c592",
   "metadata": {},
   "outputs": [
    {
     "name": "stdout",
     "output_type": "stream",
     "text": [
      "1\n"
     ]
    }
   ],
   "source": [
    "# Testing a valid SIRET code\n",
    "id_cleaner_obj.id_type='siret'\n",
    "print(id_cleaner_obj.is_valid('73282932000074'))"
   ]
  },
  {
   "cell_type": "code",
   "execution_count": 12,
   "id": "45fab0f8",
   "metadata": {},
   "outputs": [
    {
     "name": "stdout",
     "output_type": "stream",
     "text": [
      "0\n"
     ]
    }
   ],
   "source": [
    "# Testing a invalid LEI code\n",
    "id_cleaner_obj.id_type='lei'\n",
    "print(id_cleaner_obj.is_valid('969500DPKGC9JE9F0855'))"
   ]
  },
  {
   "cell_type": "code",
   "execution_count": 13,
   "id": "0e5871b0",
   "metadata": {},
   "outputs": [],
   "source": [
    "# Undo the categorical output\n",
    "id_cleaner_obj.validation_as_categorical = False "
   ]
  },
  {
   "cell_type": "code",
   "execution_count": 14,
   "id": "34b4dd2f",
   "metadata": {},
   "outputs": [
    {
     "name": "stdout",
     "output_type": "stream",
     "text": [
      "True\n"
     ]
    }
   ],
   "source": [
    "# Testing a valid SIRET code\n",
    "id_cleaner_obj.id_type='siret'\n",
    "print(id_cleaner_obj.is_valid('73282932000074'))"
   ]
  },
  {
   "cell_type": "markdown",
   "id": "1495eb94",
   "metadata": {},
   "source": [
    "The **operation mode** of **BankingIdCleaner()** class is set by **default** to be in **SILENT_MODE**, meaning that if the ID is not a string or is empty, **None** is returned instead of an error. "
   ]
  },
  {
   "cell_type": "code",
   "execution_count": 15,
   "id": "4771121e",
   "metadata": {},
   "outputs": [
    {
     "name": "stdout",
     "output_type": "stream",
     "text": [
      "None\n"
     ]
    }
   ],
   "source": [
    "# Testing to clean up a value that is not a string\n",
    "print(id_cleaner_obj.is_valid(12345))"
   ]
  },
  {
   "cell_type": "markdown",
   "id": "aa7415a4",
   "metadata": {},
   "source": [
    "The code below shows how to change the operation mode to throw an error for invalid ID's."
   ]
  },
  {
   "cell_type": "code",
   "execution_count": 16,
   "id": "1e9a5444",
   "metadata": {},
   "outputs": [],
   "source": [
    "id_cleaner_obj.mode = BankingIdCleaner.EXCEPTION_MODE"
   ]
  },
  {
   "cell_type": "markdown",
   "id": "071b9207",
   "metadata": {},
   "source": [
    "<div class=\"alert alert-block alert-danger\">\n",
    "<b>EXCEPTION MODE:</b> Now, the code below will throw a customized exception because the parameter of is_valid() method is not a string.\n",
    "</div>"
   ]
  },
  {
   "cell_type": "code",
   "execution_count": 17,
   "id": "fc15d68b",
   "metadata": {},
   "outputs": [
    {
     "ename": "BankingIdIsNotAString",
     "evalue": "Financial-Entity-Cleaner (Error) <BankingIdCleaner> - The input data <12345> is not a string.",
     "output_type": "error",
     "traceback": [
      "\u001b[1;31m---------------------------------------------------------------------------\u001b[0m",
      "\u001b[1;31mBankingIdIsNotAString\u001b[0m                     Traceback (most recent call last)",
      "Input \u001b[1;32mIn [17]\u001b[0m, in \u001b[0;36m<cell line: 2>\u001b[1;34m()\u001b[0m\n\u001b[0;32m      1\u001b[0m \u001b[38;5;66;03m# Testing to clean up a value that is not a string\u001b[39;00m\n\u001b[1;32m----> 2\u001b[0m \u001b[38;5;28mprint\u001b[39m(\u001b[43mid_cleaner_obj\u001b[49m\u001b[38;5;241;43m.\u001b[39;49m\u001b[43mis_valid\u001b[49m\u001b[43m(\u001b[49m\u001b[38;5;241;43m12345\u001b[39;49m\u001b[43m)\u001b[49m)\n",
      "File \u001b[1;32m~\\OneDrive\\Projects\\GitHub\\os_climate\\financial-entity-cleaner\\notebooks\\how-to\\../..\\financial_entity_cleaner\\id\\banking.py:447\u001b[0m, in \u001b[0;36mBankingIdCleaner.is_valid\u001b[1;34m(self, id_value)\u001b[0m\n\u001b[0;32m    424\u001b[0m \u001b[38;5;28;01mdef\u001b[39;00m \u001b[38;5;21mis_valid\u001b[39m(\u001b[38;5;28mself\u001b[39m, id_value: Union[\u001b[38;5;28mstr\u001b[39m, \u001b[38;5;28mfloat\u001b[39m]) \u001b[38;5;241m-\u001b[39m\u001b[38;5;241m>\u001b[39m Union[\u001b[38;5;28;01mNone\u001b[39;00m, Union[\u001b[38;5;28mbool\u001b[39m, \u001b[38;5;28mint\u001b[39m]]:\n\u001b[0;32m    425\u001b[0m     \u001b[38;5;124;03m\"\"\"\u001b[39;00m\n\u001b[0;32m    426\u001b[0m \u001b[38;5;124;03m    Performs only the validation of an ID (no cleaning up).\u001b[39;00m\n\u001b[0;32m    427\u001b[0m \n\u001b[1;32m   (...)\u001b[0m\n\u001b[0;32m    444\u001b[0m \n\u001b[0;32m    445\u001b[0m \u001b[38;5;124;03m    \"\"\"\u001b[39;00m\n\u001b[1;32m--> 447\u001b[0m     \u001b[38;5;28;01mif\u001b[39;00m \u001b[38;5;129;01mnot\u001b[39;00m \u001b[38;5;28;43mself\u001b[39;49m\u001b[38;5;241;43m.\u001b[39;49m\u001b[43m__is_id_param_valid\u001b[49m\u001b[43m(\u001b[49m\u001b[43mid_value\u001b[49m\u001b[43m)\u001b[49m:\n\u001b[0;32m    448\u001b[0m         \u001b[38;5;28;01mreturn\u001b[39;00m \u001b[38;5;28;01mNone\u001b[39;00m\n\u001b[0;32m    450\u001b[0m     validation_return \u001b[38;5;241m=\u001b[39m \u001b[38;5;28mself\u001b[39m\u001b[38;5;241m.\u001b[39m__validate_id(id_value)\n",
      "File \u001b[1;32m~\\OneDrive\\Projects\\GitHub\\os_climate\\financial-entity-cleaner\\notebooks\\how-to\\../..\\financial_entity_cleaner\\id\\banking.py:291\u001b[0m, in \u001b[0;36mBankingIdCleaner.__is_id_param_valid\u001b[1;34m(self, id_value)\u001b[0m\n\u001b[0;32m    289\u001b[0m \u001b[38;5;28;01mif\u001b[39;00m \u001b[38;5;129;01mnot\u001b[39;00m \u001b[38;5;28misinstance\u001b[39m(id_value, \u001b[38;5;28mstr\u001b[39m):\n\u001b[0;32m    290\u001b[0m     \u001b[38;5;28;01mif\u001b[39;00m \u001b[38;5;28mself\u001b[39m\u001b[38;5;241m.\u001b[39m_mode \u001b[38;5;241m==\u001b[39m \u001b[38;5;28mself\u001b[39m\u001b[38;5;241m.\u001b[39mEXCEPTION_MODE:\n\u001b[1;32m--> 291\u001b[0m         \u001b[38;5;28;01mraise\u001b[39;00m custom_exception\u001b[38;5;241m.\u001b[39mBankingIdIsNotAString(id_value)\n\u001b[0;32m    292\u001b[0m     \u001b[38;5;28;01melse\u001b[39;00m:\n\u001b[0;32m    293\u001b[0m         \u001b[38;5;28;01mreturn\u001b[39;00m \u001b[38;5;28;01mFalse\u001b[39;00m\n",
      "\u001b[1;31mBankingIdIsNotAString\u001b[0m: Financial-Entity-Cleaner (Error) <BankingIdCleaner> - The input data <12345> is not a string."
     ]
    }
   ],
   "source": [
    "# Testing to clean up a value that is not a string\n",
    "print(id_cleaner_obj.is_valid(12345))"
   ]
  },
  {
   "cell_type": "code",
   "execution_count": 18,
   "id": "2b1ced94",
   "metadata": {},
   "outputs": [],
   "source": [
    "# Back to SILENT mode\n",
    "id_cleaner_obj.mode = BankingIdCleaner.SILENT_MODE"
   ]
  },
  {
   "cell_type": "markdown",
   "id": "f8b59a64",
   "metadata": {},
   "source": [
    "## 2. Cleaning and validating single values of text as ID's <a id=\"clean_validate_id\"></a>"
   ]
  },
  {
   "cell_type": "markdown",
   "id": "42f8d204",
   "metadata": {},
   "source": [
    "The library can also be used for cleaning and validation at the same time. In this case, it will return a dictionary with the cleaning ID and if it is valid or not:"
   ]
  },
  {
   "cell_type": "code",
   "execution_count": 19,
   "id": "d8aada62",
   "metadata": {},
   "outputs": [],
   "source": [
    "id_cleaner_obj.id_type='lei'"
   ]
  },
  {
   "cell_type": "code",
   "execution_count": 20,
   "id": "bb4af555",
   "metadata": {},
   "outputs": [
    {
     "data": {
      "text/plain": [
       "{'cleaned_id': '969500DPKGC9JE9F0820', 'isvalid_id': True}"
      ]
     },
     "execution_count": 20,
     "metadata": {},
     "output_type": "execute_result"
    }
   ],
   "source": [
    "# Cleaning a valid LEI code\n",
    "clean_lei = id_cleaner_obj.clean('969500  dpKGC9JE9F0820')\n",
    "clean_lei"
   ]
  },
  {
   "cell_type": "markdown",
   "id": "eaad1b62",
   "metadata": {},
   "source": [
    "You may want to change the dictionary keys returned by the clean() method. Instead of calling them 'cleaned_id' and 'isvalid_id' you can define other names by changing the properties **output_cleaned_id** and **output_validated_id**:"
   ]
  },
  {
   "cell_type": "code",
   "execution_count": 21,
   "id": "ac6ea6cd",
   "metadata": {},
   "outputs": [
    {
     "data": {
      "text/plain": [
       "{'LEI': '969500DPKGC9JE9F0820', 'IS_VALID': True}"
      ]
     },
     "execution_count": 21,
     "metadata": {},
     "output_type": "execute_result"
    }
   ],
   "source": [
    "id_cleaner_obj.output_cleaned_id = 'LEI'\n",
    "id_cleaner_obj.output_validated_id = 'IS_VALID'\n",
    "clean_lei = id_cleaner_obj.clean('969500DPKGC9JE9F0820')\n",
    "clean_lei"
   ]
  },
  {
   "cell_type": "markdown",
   "id": "dc607bb2",
   "metadata": {},
   "source": [
    "You can reset these output names any time by calling the **reset_output_names()**: "
   ]
  },
  {
   "cell_type": "code",
   "execution_count": 22,
   "id": "525167d1",
   "metadata": {},
   "outputs": [],
   "source": [
    "id_cleaner_obj.reset_output_names()"
   ]
  },
  {
   "cell_type": "code",
   "execution_count": 23,
   "id": "e2a8a298",
   "metadata": {},
   "outputs": [
    {
     "data": {
      "text/plain": [
       "{'cleaned_id': '969500DPKGC9JE9F0820', 'isvalid_id': True}"
      ]
     },
     "execution_count": 23,
     "metadata": {},
     "output_type": "execute_result"
    }
   ],
   "source": [
    "clean_lei = id_cleaner_obj.clean('969500DPKGC9JE9F0820')\n",
    "clean_lei"
   ]
  },
  {
   "cell_type": "markdown",
   "id": "0b76bead",
   "metadata": {},
   "source": [
    "You may also want to return NaN if the ID is invalid. For this, set the property **invalid_ids_as_nan** to **True**. By default, it is set to False and, therefore, the clean() method will always return the ID text:"
   ]
  },
  {
   "cell_type": "code",
   "execution_count": 24,
   "id": "d44f271a",
   "metadata": {},
   "outputs": [
    {
     "data": {
      "text/plain": [
       "{'cleaned_id': nan, 'isvalid_id': False}"
      ]
     },
     "execution_count": 24,
     "metadata": {},
     "output_type": "execute_result"
    }
   ],
   "source": [
    "id_cleaner_obj.invalid_ids_as_nan = True\n",
    "clean_lei = id_cleaner_obj.clean('96XX00DPKGC9JE9F0820')\n",
    "clean_lei"
   ]
  },
  {
   "cell_type": "markdown",
   "id": "92255065",
   "metadata": {},
   "source": [
    "## 3. Convert Siret to Siren <a id=\"siret_to_siren\"></a>"
   ]
  },
  {
   "cell_type": "markdown",
   "id": "f2e908a8",
   "metadata": {},
   "source": [
    "You can use the method **siret_to_siren()** to convert a siret code into siren: "
   ]
  },
  {
   "cell_type": "code",
   "execution_count": 25,
   "id": "d1084e3e",
   "metadata": {},
   "outputs": [
    {
     "data": {
      "text/plain": [
       "'440558062'"
      ]
     },
     "execution_count": 25,
     "metadata": {},
     "output_type": "execute_result"
    }
   ],
   "source": [
    "siret = '440 558 062'\n",
    "siren = id_cleaner_obj.siret_to_siren(siret)\n",
    "siren"
   ]
  },
  {
   "cell_type": "code",
   "execution_count": 26,
   "id": "6994d0fb",
   "metadata": {},
   "outputs": [
    {
     "data": {
      "text/plain": [
       "True"
      ]
     },
     "execution_count": 26,
     "metadata": {},
     "output_type": "execute_result"
    }
   ],
   "source": [
    "id_cleaner_obj.id_type='siren'\n",
    "id_cleaner_obj.is_valid(siren)"
   ]
  },
  {
   "cell_type": "markdown",
   "id": "9eb2267d",
   "metadata": {},
   "source": [
    "The cleaning library will do its best to clean up and retrieve the correspond siren code: "
   ]
  },
  {
   "cell_type": "code",
   "execution_count": 27,
   "id": "34979f63",
   "metadata": {},
   "outputs": [
    {
     "data": {
      "text/plain": [
       "'533602942'"
      ]
     },
     "execution_count": 27,
     "metadata": {},
     "output_type": "execute_result"
    }
   ],
   "source": [
    "siret = '533 602 942 R.C.S Nanterre'\n",
    "siren = id_cleaner_obj.siret_to_siren(siret)\n",
    "siren"
   ]
  },
  {
   "cell_type": "code",
   "execution_count": 28,
   "id": "3a95c50b",
   "metadata": {},
   "outputs": [
    {
     "data": {
      "text/plain": [
       "True"
      ]
     },
     "execution_count": 28,
     "metadata": {},
     "output_type": "execute_result"
    }
   ],
   "source": [
    "id_cleaner_obj.id_type='siren'\n",
    "id_cleaner_obj.is_valid(siren)"
   ]
  },
  {
   "cell_type": "markdown",
   "id": "e321220c",
   "metadata": {},
   "source": [
    "## 4. Cleaning and validating IDs on tabular dataframe <a id=\"df\"></a>"
   ]
  },
  {
   "cell_type": "markdown",
   "id": "49aa24b9",
   "metadata": {},
   "source": [
    "A more realistic scenario is to have your data in a tabular format and you are already using the Pandas library to make operations on it. You can write your own code to iterate over your pandas dataframe structure by using the clean() method to clean up some columns. However, the financial-entity-cleaner makes this task easier for you."
   ]
  },
  {
   "cell_type": "markdown",
   "id": "77d86dce",
   "metadata": {},
   "source": [
    "You can use the method **siret_to_siren_df()** to convert a siret column of a dataframe into a siren column:"
   ]
  },
  {
   "cell_type": "code",
   "execution_count": 29,
   "id": "5b6cf93a",
   "metadata": {},
   "outputs": [],
   "source": [
    "import pandas as pd"
   ]
  },
  {
   "cell_type": "code",
   "execution_count": 30,
   "id": "02302ed3",
   "metadata": {},
   "outputs": [
    {
     "data": {
      "text/html": [
       "<div>\n",
       "<style scoped>\n",
       "    .dataframe tbody tr th:only-of-type {\n",
       "        vertical-align: middle;\n",
       "    }\n",
       "\n",
       "    .dataframe tbody tr th {\n",
       "        vertical-align: top;\n",
       "    }\n",
       "\n",
       "    .dataframe thead th {\n",
       "        text-align: right;\n",
       "    }\n",
       "</style>\n",
       "<table border=\"1\" class=\"dataframe\">\n",
       "  <thead>\n",
       "    <tr style=\"text-align: right;\">\n",
       "      <th></th>\n",
       "      <th>NAME</th>\n",
       "      <th>LEI</th>\n",
       "      <th>SIRET</th>\n",
       "      <th>SIREN</th>\n",
       "    </tr>\n",
       "  </thead>\n",
       "  <tbody>\n",
       "    <tr>\n",
       "      <th>0</th>\n",
       "      <td>Bechel   *Australia (Services) Pty Ltd</td>\n",
       "      <td>98 4500 e8da1de9a0d939</td>\n",
       "      <td>533 602 942 R.C.S. Nanterre</td>\n",
       "      <td>733602966.0</td>\n",
       "    </tr>\n",
       "    <tr>\n",
       "      <th>1</th>\n",
       "      <td>NRI - KELLY's MERCHANDISE (AUST) PTY LTD</td>\n",
       "      <td>NaN</td>\n",
       "      <td>440 558 062</td>\n",
       "      <td>NaN</td>\n",
       "    </tr>\n",
       "    <tr>\n",
       "      <th>2</th>\n",
       "      <td>meo -  serviços de comunicação e multimedia SA...</td>\n",
       "      <td>5493001MT6YISZH3YV05</td>\n",
       "      <td>784-00-03-412</td>\n",
       "      <td>NaN</td>\n",
       "    </tr>\n",
       "    <tr>\n",
       "      <th>3</th>\n",
       "      <td>Glass  Coatings &amp; Concepts \"CBG\" LLC</td>\n",
       "      <td>34123456</td>\n",
       "      <td>be 0413458441</td>\n",
       "      <td>NaN</td>\n",
       "    </tr>\n",
       "    <tr>\n",
       "      <th>4</th>\n",
       "      <td>Brault Loisirs, Orl. SARL</td>\n",
       "      <td>NaN</td>\n",
       "      <td>fr24313140642</td>\n",
       "      <td>NaN</td>\n",
       "    </tr>\n",
       "    <tr>\n",
       "      <th>5</th>\n",
       "      <td>Cole &amp; Brothers  Fabric, Services LLC.</td>\n",
       "      <td>213800UHTTV6EGY74X82</td>\n",
       "      <td>333 171 544 00013</td>\n",
       "      <td>NaN</td>\n",
       "    </tr>\n",
       "    <tr>\n",
       "      <th>6</th>\n",
       "      <td>StarCOM Group Servizi **CAT** SRL</td>\n",
       "      <td>NaN</td>\n",
       "      <td>NaN</td>\n",
       "      <td>NaN</td>\n",
       "    </tr>\n",
       "    <tr>\n",
       "      <th>7</th>\n",
       "      <td>Wolbeck (Archer Daniels) *Unified* GmbH</td>\n",
       "      <td>NaN</td>\n",
       "      <td>NaN</td>\n",
       "      <td>NaN</td>\n",
       "    </tr>\n",
       "    <tr>\n",
       "      <th>8</th>\n",
       "      <td>Anheuser-BUSCH, Brothers (food services), LLC</td>\n",
       "      <td>US4567899888</td>\n",
       "      <td>NaN</td>\n",
       "      <td>NaN</td>\n",
       "    </tr>\n",
       "    <tr>\n",
       "      <th>9</th>\n",
       "      <td>Susamar-Patino, colectores (adm)   SA</td>\n",
       "      <td>NaN</td>\n",
       "      <td>NaN</td>\n",
       "      <td>NaN</td>\n",
       "    </tr>\n",
       "    <tr>\n",
       "      <th>10</th>\n",
       "      <td>Molino's agro, S.A. (adm)   SA</td>\n",
       "      <td>NaN</td>\n",
       "      <td>NaN</td>\n",
       "      <td>NaN</td>\n",
       "    </tr>\n",
       "  </tbody>\n",
       "</table>\n",
       "</div>"
      ],
      "text/plain": [
       "                                                 NAME                     LEI  \\\n",
       "0              Bechel   *Australia (Services) Pty Ltd  98 4500 e8da1de9a0d939   \n",
       "1            NRI - KELLY's MERCHANDISE (AUST) PTY LTD                     NaN   \n",
       "2   meo -  serviços de comunicação e multimedia SA...    5493001MT6YISZH3YV05   \n",
       "3                Glass  Coatings & Concepts \"CBG\" LLC                34123456   \n",
       "4                           Brault Loisirs, Orl. SARL                     NaN   \n",
       "5              Cole & Brothers  Fabric, Services LLC.    213800UHTTV6EGY74X82   \n",
       "6                   StarCOM Group Servizi **CAT** SRL                     NaN   \n",
       "7             Wolbeck (Archer Daniels) *Unified* GmbH                     NaN   \n",
       "8       Anheuser-BUSCH, Brothers (food services), LLC            US4567899888   \n",
       "9               Susamar-Patino, colectores (adm)   SA                     NaN   \n",
       "10                     Molino's agro, S.A. (adm)   SA                     NaN   \n",
       "\n",
       "                          SIRET        SIREN  \n",
       "0   533 602 942 R.C.S. Nanterre  733602966.0  \n",
       "1                   440 558 062          NaN  \n",
       "2                 784-00-03-412          NaN  \n",
       "3                 be 0413458441          NaN  \n",
       "4                 fr24313140642          NaN  \n",
       "5             333 171 544 00013          NaN  \n",
       "6                           NaN          NaN  \n",
       "7                           NaN          NaN  \n",
       "8                           NaN          NaN  \n",
       "9                           NaN          NaN  \n",
       "10                          NaN          NaN  "
      ]
     },
     "execution_count": 30,
     "metadata": {},
     "output_type": "execute_result"
    }
   ],
   "source": [
    "# Read a .csv file as a pandas dataframe object\n",
    "input_filename = '../../tests/data/test_cleaner.csv'\n",
    "df_original = pd.read_csv(input_filename,sep=';',encoding='utf-8', usecols=['NAME','LEI', 'SIRET', 'SIREN'])\n",
    "df_original"
   ]
  },
  {
   "cell_type": "code",
   "execution_count": 31,
   "id": "84b49400",
   "metadata": {},
   "outputs": [],
   "source": [
    "df_original = id_cleaner_obj.siret_to_siren_df(df_original, \n",
    "                                              siret_col_name='SIRET', \n",
    "                                              siren_col_name='SIREN', \n",
    "                                              replace_if_exists=False)"
   ]
  },
  {
   "cell_type": "code",
   "execution_count": 32,
   "id": "dce63b7e",
   "metadata": {},
   "outputs": [
    {
     "data": {
      "text/html": [
       "<div>\n",
       "<style scoped>\n",
       "    .dataframe tbody tr th:only-of-type {\n",
       "        vertical-align: middle;\n",
       "    }\n",
       "\n",
       "    .dataframe tbody tr th {\n",
       "        vertical-align: top;\n",
       "    }\n",
       "\n",
       "    .dataframe thead th {\n",
       "        text-align: right;\n",
       "    }\n",
       "</style>\n",
       "<table border=\"1\" class=\"dataframe\">\n",
       "  <thead>\n",
       "    <tr style=\"text-align: right;\">\n",
       "      <th></th>\n",
       "      <th>NAME</th>\n",
       "      <th>LEI</th>\n",
       "      <th>SIRET</th>\n",
       "      <th>SIREN</th>\n",
       "    </tr>\n",
       "  </thead>\n",
       "  <tbody>\n",
       "    <tr>\n",
       "      <th>0</th>\n",
       "      <td>Bechel   *Australia (Services) Pty Ltd</td>\n",
       "      <td>98 4500 e8da1de9a0d939</td>\n",
       "      <td>533 602 942 R.C.S. Nanterre</td>\n",
       "      <td>733602966.0</td>\n",
       "    </tr>\n",
       "    <tr>\n",
       "      <th>1</th>\n",
       "      <td>NRI - KELLY's MERCHANDISE (AUST) PTY LTD</td>\n",
       "      <td>NaN</td>\n",
       "      <td>440 558 062</td>\n",
       "      <td>440558062</td>\n",
       "    </tr>\n",
       "    <tr>\n",
       "      <th>2</th>\n",
       "      <td>meo -  serviços de comunicação e multimedia SA...</td>\n",
       "      <td>5493001MT6YISZH3YV05</td>\n",
       "      <td>784-00-03-412</td>\n",
       "      <td>784000341</td>\n",
       "    </tr>\n",
       "    <tr>\n",
       "      <th>3</th>\n",
       "      <td>Glass  Coatings &amp; Concepts \"CBG\" LLC</td>\n",
       "      <td>34123456</td>\n",
       "      <td>be 0413458441</td>\n",
       "      <td>041345844</td>\n",
       "    </tr>\n",
       "    <tr>\n",
       "      <th>4</th>\n",
       "      <td>Brault Loisirs, Orl. SARL</td>\n",
       "      <td>NaN</td>\n",
       "      <td>fr24313140642</td>\n",
       "      <td>243131406</td>\n",
       "    </tr>\n",
       "    <tr>\n",
       "      <th>5</th>\n",
       "      <td>Cole &amp; Brothers  Fabric, Services LLC.</td>\n",
       "      <td>213800UHTTV6EGY74X82</td>\n",
       "      <td>333 171 544 00013</td>\n",
       "      <td>333171544</td>\n",
       "    </tr>\n",
       "    <tr>\n",
       "      <th>6</th>\n",
       "      <td>StarCOM Group Servizi **CAT** SRL</td>\n",
       "      <td>NaN</td>\n",
       "      <td>NaN</td>\n",
       "      <td>NaN</td>\n",
       "    </tr>\n",
       "    <tr>\n",
       "      <th>7</th>\n",
       "      <td>Wolbeck (Archer Daniels) *Unified* GmbH</td>\n",
       "      <td>NaN</td>\n",
       "      <td>NaN</td>\n",
       "      <td>NaN</td>\n",
       "    </tr>\n",
       "    <tr>\n",
       "      <th>8</th>\n",
       "      <td>Anheuser-BUSCH, Brothers (food services), LLC</td>\n",
       "      <td>US4567899888</td>\n",
       "      <td>NaN</td>\n",
       "      <td>NaN</td>\n",
       "    </tr>\n",
       "    <tr>\n",
       "      <th>9</th>\n",
       "      <td>Susamar-Patino, colectores (adm)   SA</td>\n",
       "      <td>NaN</td>\n",
       "      <td>NaN</td>\n",
       "      <td>NaN</td>\n",
       "    </tr>\n",
       "    <tr>\n",
       "      <th>10</th>\n",
       "      <td>Molino's agro, S.A. (adm)   SA</td>\n",
       "      <td>NaN</td>\n",
       "      <td>NaN</td>\n",
       "      <td>NaN</td>\n",
       "    </tr>\n",
       "  </tbody>\n",
       "</table>\n",
       "</div>"
      ],
      "text/plain": [
       "                                                 NAME                     LEI  \\\n",
       "0              Bechel   *Australia (Services) Pty Ltd  98 4500 e8da1de9a0d939   \n",
       "1            NRI - KELLY's MERCHANDISE (AUST) PTY LTD                     NaN   \n",
       "2   meo -  serviços de comunicação e multimedia SA...    5493001MT6YISZH3YV05   \n",
       "3                Glass  Coatings & Concepts \"CBG\" LLC                34123456   \n",
       "4                           Brault Loisirs, Orl. SARL                     NaN   \n",
       "5              Cole & Brothers  Fabric, Services LLC.    213800UHTTV6EGY74X82   \n",
       "6                   StarCOM Group Servizi **CAT** SRL                     NaN   \n",
       "7             Wolbeck (Archer Daniels) *Unified* GmbH                     NaN   \n",
       "8       Anheuser-BUSCH, Brothers (food services), LLC            US4567899888   \n",
       "9               Susamar-Patino, colectores (adm)   SA                     NaN   \n",
       "10                     Molino's agro, S.A. (adm)   SA                     NaN   \n",
       "\n",
       "                          SIRET        SIREN  \n",
       "0   533 602 942 R.C.S. Nanterre  733602966.0  \n",
       "1                   440 558 062    440558062  \n",
       "2                 784-00-03-412    784000341  \n",
       "3                 be 0413458441    041345844  \n",
       "4                 fr24313140642    243131406  \n",
       "5             333 171 544 00013    333171544  \n",
       "6                           NaN          NaN  \n",
       "7                           NaN          NaN  \n",
       "8                           NaN          NaN  \n",
       "9                           NaN          NaN  \n",
       "10                          NaN          NaN  "
      ]
     },
     "execution_count": 32,
     "metadata": {},
     "output_type": "execute_result"
    }
   ],
   "source": [
    "df_original"
   ]
  },
  {
   "cell_type": "markdown",
   "id": "0b2114a1",
   "metadata": {},
   "source": [
    "The BankingIdCleaner() class provides the **clean_df()** method to perform the normalization of ids defined as dataframe columns. See the code below on how to apply this method: "
   ]
  },
  {
   "cell_type": "code",
   "execution_count": 33,
   "id": "98388646",
   "metadata": {},
   "outputs": [
    {
     "name": "stderr",
     "output_type": "stream",
     "text": [
      "Normalizing IDs...100%|██████████████████████████████████████████████████| 11/11 [00:00<00:00, 611.50it/s]\n"
     ]
    }
   ],
   "source": [
    "df_cleaner = id_cleaner_obj.clean_df(df_original, cols=['LEI', 'SIRET', 'SIREN'], \n",
    "                                     remove_cols= False, \n",
    "                                     output_names_as= 'prefix',\n",
    "                                     types = ['lei', 'siret', 'siren'])"
   ]
  },
  {
   "cell_type": "code",
   "execution_count": 34,
   "id": "86ff5b08",
   "metadata": {},
   "outputs": [
    {
     "data": {
      "text/html": [
       "<div>\n",
       "<style scoped>\n",
       "    .dataframe tbody tr th:only-of-type {\n",
       "        vertical-align: middle;\n",
       "    }\n",
       "\n",
       "    .dataframe tbody tr th {\n",
       "        vertical-align: top;\n",
       "    }\n",
       "\n",
       "    .dataframe thead th {\n",
       "        text-align: right;\n",
       "    }\n",
       "</style>\n",
       "<table border=\"1\" class=\"dataframe\">\n",
       "  <thead>\n",
       "    <tr style=\"text-align: right;\">\n",
       "      <th></th>\n",
       "      <th>NAME</th>\n",
       "      <th>LEI</th>\n",
       "      <th>SIRET</th>\n",
       "      <th>SIREN</th>\n",
       "      <th>cleaned_id_LEI</th>\n",
       "      <th>isvalid_id_LEI</th>\n",
       "      <th>cleaned_id_SIRET</th>\n",
       "      <th>isvalid_id_SIRET</th>\n",
       "      <th>cleaned_id_SIREN</th>\n",
       "      <th>isvalid_id_SIREN</th>\n",
       "    </tr>\n",
       "  </thead>\n",
       "  <tbody>\n",
       "    <tr>\n",
       "      <th>0</th>\n",
       "      <td>Bechel   *Australia (Services) Pty Ltd</td>\n",
       "      <td>98 4500 e8da1de9a0d939</td>\n",
       "      <td>533 602 942 R.C.S. Nanterre</td>\n",
       "      <td>733602966.0</td>\n",
       "      <td>984500E8DA1DE9A0D939</td>\n",
       "      <td>True</td>\n",
       "      <td>NaN</td>\n",
       "      <td>False</td>\n",
       "      <td>NaN</td>\n",
       "      <td>NaN</td>\n",
       "    </tr>\n",
       "    <tr>\n",
       "      <th>1</th>\n",
       "      <td>NRI - KELLY's MERCHANDISE (AUST) PTY LTD</td>\n",
       "      <td>NaN</td>\n",
       "      <td>440 558 062</td>\n",
       "      <td>440558062</td>\n",
       "      <td>NaN</td>\n",
       "      <td>NaN</td>\n",
       "      <td>NaN</td>\n",
       "      <td>False</td>\n",
       "      <td>440558062</td>\n",
       "      <td>True</td>\n",
       "    </tr>\n",
       "    <tr>\n",
       "      <th>2</th>\n",
       "      <td>meo -  serviços de comunicação e multimedia SA...</td>\n",
       "      <td>5493001MT6YISZH3YV05</td>\n",
       "      <td>784-00-03-412</td>\n",
       "      <td>784000341</td>\n",
       "      <td>5493001MT6YISZH3YV05</td>\n",
       "      <td>True</td>\n",
       "      <td>NaN</td>\n",
       "      <td>False</td>\n",
       "      <td>784000341</td>\n",
       "      <td>True</td>\n",
       "    </tr>\n",
       "    <tr>\n",
       "      <th>3</th>\n",
       "      <td>Glass  Coatings &amp; Concepts \"CBG\" LLC</td>\n",
       "      <td>34123456</td>\n",
       "      <td>be 0413458441</td>\n",
       "      <td>041345844</td>\n",
       "      <td>NaN</td>\n",
       "      <td>False</td>\n",
       "      <td>NaN</td>\n",
       "      <td>False</td>\n",
       "      <td>041345844</td>\n",
       "      <td>True</td>\n",
       "    </tr>\n",
       "    <tr>\n",
       "      <th>4</th>\n",
       "      <td>Brault Loisirs, Orl. SARL</td>\n",
       "      <td>NaN</td>\n",
       "      <td>fr24313140642</td>\n",
       "      <td>243131406</td>\n",
       "      <td>NaN</td>\n",
       "      <td>NaN</td>\n",
       "      <td>NaN</td>\n",
       "      <td>False</td>\n",
       "      <td>243131406</td>\n",
       "      <td>True</td>\n",
       "    </tr>\n",
       "    <tr>\n",
       "      <th>5</th>\n",
       "      <td>Cole &amp; Brothers  Fabric, Services LLC.</td>\n",
       "      <td>213800UHTTV6EGY74X82</td>\n",
       "      <td>333 171 544 00013</td>\n",
       "      <td>333171544</td>\n",
       "      <td>213800UHTTV6EGY74X82</td>\n",
       "      <td>True</td>\n",
       "      <td>33317154400013</td>\n",
       "      <td>True</td>\n",
       "      <td>333171544</td>\n",
       "      <td>True</td>\n",
       "    </tr>\n",
       "    <tr>\n",
       "      <th>6</th>\n",
       "      <td>StarCOM Group Servizi **CAT** SRL</td>\n",
       "      <td>NaN</td>\n",
       "      <td>NaN</td>\n",
       "      <td>NaN</td>\n",
       "      <td>NaN</td>\n",
       "      <td>NaN</td>\n",
       "      <td>NaN</td>\n",
       "      <td>NaN</td>\n",
       "      <td>NaN</td>\n",
       "      <td>NaN</td>\n",
       "    </tr>\n",
       "    <tr>\n",
       "      <th>7</th>\n",
       "      <td>Wolbeck (Archer Daniels) *Unified* GmbH</td>\n",
       "      <td>NaN</td>\n",
       "      <td>NaN</td>\n",
       "      <td>NaN</td>\n",
       "      <td>NaN</td>\n",
       "      <td>NaN</td>\n",
       "      <td>NaN</td>\n",
       "      <td>NaN</td>\n",
       "      <td>NaN</td>\n",
       "      <td>NaN</td>\n",
       "    </tr>\n",
       "    <tr>\n",
       "      <th>8</th>\n",
       "      <td>Anheuser-BUSCH, Brothers (food services), LLC</td>\n",
       "      <td>US4567899888</td>\n",
       "      <td>NaN</td>\n",
       "      <td>NaN</td>\n",
       "      <td>NaN</td>\n",
       "      <td>False</td>\n",
       "      <td>NaN</td>\n",
       "      <td>NaN</td>\n",
       "      <td>NaN</td>\n",
       "      <td>NaN</td>\n",
       "    </tr>\n",
       "    <tr>\n",
       "      <th>9</th>\n",
       "      <td>Susamar-Patino, colectores (adm)   SA</td>\n",
       "      <td>NaN</td>\n",
       "      <td>NaN</td>\n",
       "      <td>NaN</td>\n",
       "      <td>NaN</td>\n",
       "      <td>NaN</td>\n",
       "      <td>NaN</td>\n",
       "      <td>NaN</td>\n",
       "      <td>NaN</td>\n",
       "      <td>NaN</td>\n",
       "    </tr>\n",
       "    <tr>\n",
       "      <th>10</th>\n",
       "      <td>Molino's agro, S.A. (adm)   SA</td>\n",
       "      <td>NaN</td>\n",
       "      <td>NaN</td>\n",
       "      <td>NaN</td>\n",
       "      <td>NaN</td>\n",
       "      <td>NaN</td>\n",
       "      <td>NaN</td>\n",
       "      <td>NaN</td>\n",
       "      <td>NaN</td>\n",
       "      <td>NaN</td>\n",
       "    </tr>\n",
       "  </tbody>\n",
       "</table>\n",
       "</div>"
      ],
      "text/plain": [
       "                                                 NAME                     LEI  \\\n",
       "0              Bechel   *Australia (Services) Pty Ltd  98 4500 e8da1de9a0d939   \n",
       "1            NRI - KELLY's MERCHANDISE (AUST) PTY LTD                     NaN   \n",
       "2   meo -  serviços de comunicação e multimedia SA...    5493001MT6YISZH3YV05   \n",
       "3                Glass  Coatings & Concepts \"CBG\" LLC                34123456   \n",
       "4                           Brault Loisirs, Orl. SARL                     NaN   \n",
       "5              Cole & Brothers  Fabric, Services LLC.    213800UHTTV6EGY74X82   \n",
       "6                   StarCOM Group Servizi **CAT** SRL                     NaN   \n",
       "7             Wolbeck (Archer Daniels) *Unified* GmbH                     NaN   \n",
       "8       Anheuser-BUSCH, Brothers (food services), LLC            US4567899888   \n",
       "9               Susamar-Patino, colectores (adm)   SA                     NaN   \n",
       "10                     Molino's agro, S.A. (adm)   SA                     NaN   \n",
       "\n",
       "                          SIRET        SIREN        cleaned_id_LEI  \\\n",
       "0   533 602 942 R.C.S. Nanterre  733602966.0  984500E8DA1DE9A0D939   \n",
       "1                   440 558 062    440558062                   NaN   \n",
       "2                 784-00-03-412    784000341  5493001MT6YISZH3YV05   \n",
       "3                 be 0413458441    041345844                   NaN   \n",
       "4                 fr24313140642    243131406                   NaN   \n",
       "5             333 171 544 00013    333171544  213800UHTTV6EGY74X82   \n",
       "6                           NaN          NaN                   NaN   \n",
       "7                           NaN          NaN                   NaN   \n",
       "8                           NaN          NaN                   NaN   \n",
       "9                           NaN          NaN                   NaN   \n",
       "10                          NaN          NaN                   NaN   \n",
       "\n",
       "   isvalid_id_LEI cleaned_id_SIRET isvalid_id_SIRET cleaned_id_SIREN  \\\n",
       "0            True              NaN            False              NaN   \n",
       "1             NaN              NaN            False        440558062   \n",
       "2            True              NaN            False        784000341   \n",
       "3           False              NaN            False        041345844   \n",
       "4             NaN              NaN            False        243131406   \n",
       "5            True   33317154400013             True        333171544   \n",
       "6             NaN              NaN              NaN              NaN   \n",
       "7             NaN              NaN              NaN              NaN   \n",
       "8           False              NaN              NaN              NaN   \n",
       "9             NaN              NaN              NaN              NaN   \n",
       "10            NaN              NaN              NaN              NaN   \n",
       "\n",
       "   isvalid_id_SIREN  \n",
       "0               NaN  \n",
       "1              True  \n",
       "2              True  \n",
       "3              True  \n",
       "4              True  \n",
       "5              True  \n",
       "6               NaN  \n",
       "7               NaN  \n",
       "8               NaN  \n",
       "9               NaN  \n",
       "10              NaN  "
      ]
     },
     "execution_count": 34,
     "metadata": {},
     "output_type": "execute_result"
    }
   ],
   "source": [
    "df_cleaner"
   ]
  },
  {
   "cell_type": "markdown",
   "id": "0f683027",
   "metadata": {},
   "source": [
    "Another important property of the BankingIdCleaner() class is the **letter_case** that defines if the output will be returned in lower, upper or title case. By default, the letter case is set to be 'lower'. If you want to change that, just set the letter_case property to **'lower'**, **'upper'** or **'title'** or use the built-in class constants LOWER_LETTER_CASE, UPPER_LETTER_CASE, TITLE_LETTER_CASE, as shown below:"
   ]
  },
  {
   "cell_type": "code",
   "execution_count": 35,
   "id": "e318a2ba",
   "metadata": {},
   "outputs": [],
   "source": [
    "# Set up the resultant letter case\n",
    "id_cleaner_obj.letter_case = BankingIdCleaner.UPPER_LETTER_CASE"
   ]
  },
  {
   "cell_type": "code",
   "execution_count": 36,
   "id": "75105a8c",
   "metadata": {},
   "outputs": [],
   "source": [
    "id_cleaner_obj.id_type='lei'"
   ]
  },
  {
   "cell_type": "code",
   "execution_count": 37,
   "id": "9887aa3f",
   "metadata": {},
   "outputs": [
    {
     "name": "stderr",
     "output_type": "stream",
     "text": [
      "Normalizing IDs...100%|██████████████████████████████████████████████████| 11/11 [00:00<00:00, 1572.45it/s]\n"
     ]
    },
    {
     "data": {
      "text/html": [
       "<div>\n",
       "<style scoped>\n",
       "    .dataframe tbody tr th:only-of-type {\n",
       "        vertical-align: middle;\n",
       "    }\n",
       "\n",
       "    .dataframe tbody tr th {\n",
       "        vertical-align: top;\n",
       "    }\n",
       "\n",
       "    .dataframe thead th {\n",
       "        text-align: right;\n",
       "    }\n",
       "</style>\n",
       "<table border=\"1\" class=\"dataframe\">\n",
       "  <thead>\n",
       "    <tr style=\"text-align: right;\">\n",
       "      <th></th>\n",
       "      <th>NAME</th>\n",
       "      <th>LEI</th>\n",
       "      <th>SIRET</th>\n",
       "      <th>SIREN</th>\n",
       "      <th>LEI_cleaned_id</th>\n",
       "      <th>LEI_isvalid_id</th>\n",
       "    </tr>\n",
       "  </thead>\n",
       "  <tbody>\n",
       "    <tr>\n",
       "      <th>0</th>\n",
       "      <td>Bechel   *Australia (Services) Pty Ltd</td>\n",
       "      <td>98 4500 e8da1de9a0d939</td>\n",
       "      <td>533 602 942 R.C.S. Nanterre</td>\n",
       "      <td>733602966.0</td>\n",
       "      <td>984500E8DA1DE9A0D939</td>\n",
       "      <td>True</td>\n",
       "    </tr>\n",
       "    <tr>\n",
       "      <th>1</th>\n",
       "      <td>NRI - KELLY's MERCHANDISE (AUST) PTY LTD</td>\n",
       "      <td>NaN</td>\n",
       "      <td>440 558 062</td>\n",
       "      <td>440558062</td>\n",
       "      <td>NaN</td>\n",
       "      <td>NaN</td>\n",
       "    </tr>\n",
       "    <tr>\n",
       "      <th>2</th>\n",
       "      <td>meo -  serviços de comunicação e multimedia SA...</td>\n",
       "      <td>5493001MT6YISZH3YV05</td>\n",
       "      <td>784-00-03-412</td>\n",
       "      <td>784000341</td>\n",
       "      <td>5493001MT6YISZH3YV05</td>\n",
       "      <td>True</td>\n",
       "    </tr>\n",
       "    <tr>\n",
       "      <th>3</th>\n",
       "      <td>Glass  Coatings &amp; Concepts \"CBG\" LLC</td>\n",
       "      <td>34123456</td>\n",
       "      <td>be 0413458441</td>\n",
       "      <td>041345844</td>\n",
       "      <td>NaN</td>\n",
       "      <td>False</td>\n",
       "    </tr>\n",
       "    <tr>\n",
       "      <th>4</th>\n",
       "      <td>Brault Loisirs, Orl. SARL</td>\n",
       "      <td>NaN</td>\n",
       "      <td>fr24313140642</td>\n",
       "      <td>243131406</td>\n",
       "      <td>NaN</td>\n",
       "      <td>NaN</td>\n",
       "    </tr>\n",
       "    <tr>\n",
       "      <th>5</th>\n",
       "      <td>Cole &amp; Brothers  Fabric, Services LLC.</td>\n",
       "      <td>213800UHTTV6EGY74X82</td>\n",
       "      <td>333 171 544 00013</td>\n",
       "      <td>333171544</td>\n",
       "      <td>213800UHTTV6EGY74X82</td>\n",
       "      <td>True</td>\n",
       "    </tr>\n",
       "    <tr>\n",
       "      <th>6</th>\n",
       "      <td>StarCOM Group Servizi **CAT** SRL</td>\n",
       "      <td>NaN</td>\n",
       "      <td>NaN</td>\n",
       "      <td>NaN</td>\n",
       "      <td>NaN</td>\n",
       "      <td>NaN</td>\n",
       "    </tr>\n",
       "    <tr>\n",
       "      <th>7</th>\n",
       "      <td>Wolbeck (Archer Daniels) *Unified* GmbH</td>\n",
       "      <td>NaN</td>\n",
       "      <td>NaN</td>\n",
       "      <td>NaN</td>\n",
       "      <td>NaN</td>\n",
       "      <td>NaN</td>\n",
       "    </tr>\n",
       "    <tr>\n",
       "      <th>8</th>\n",
       "      <td>Anheuser-BUSCH, Brothers (food services), LLC</td>\n",
       "      <td>US4567899888</td>\n",
       "      <td>NaN</td>\n",
       "      <td>NaN</td>\n",
       "      <td>NaN</td>\n",
       "      <td>False</td>\n",
       "    </tr>\n",
       "    <tr>\n",
       "      <th>9</th>\n",
       "      <td>Susamar-Patino, colectores (adm)   SA</td>\n",
       "      <td>NaN</td>\n",
       "      <td>NaN</td>\n",
       "      <td>NaN</td>\n",
       "      <td>NaN</td>\n",
       "      <td>NaN</td>\n",
       "    </tr>\n",
       "    <tr>\n",
       "      <th>10</th>\n",
       "      <td>Molino's agro, S.A. (adm)   SA</td>\n",
       "      <td>NaN</td>\n",
       "      <td>NaN</td>\n",
       "      <td>NaN</td>\n",
       "      <td>NaN</td>\n",
       "      <td>NaN</td>\n",
       "    </tr>\n",
       "  </tbody>\n",
       "</table>\n",
       "</div>"
      ],
      "text/plain": [
       "                                                 NAME                     LEI  \\\n",
       "0              Bechel   *Australia (Services) Pty Ltd  98 4500 e8da1de9a0d939   \n",
       "1            NRI - KELLY's MERCHANDISE (AUST) PTY LTD                     NaN   \n",
       "2   meo -  serviços de comunicação e multimedia SA...    5493001MT6YISZH3YV05   \n",
       "3                Glass  Coatings & Concepts \"CBG\" LLC                34123456   \n",
       "4                           Brault Loisirs, Orl. SARL                     NaN   \n",
       "5              Cole & Brothers  Fabric, Services LLC.    213800UHTTV6EGY74X82   \n",
       "6                   StarCOM Group Servizi **CAT** SRL                     NaN   \n",
       "7             Wolbeck (Archer Daniels) *Unified* GmbH                     NaN   \n",
       "8       Anheuser-BUSCH, Brothers (food services), LLC            US4567899888   \n",
       "9               Susamar-Patino, colectores (adm)   SA                     NaN   \n",
       "10                     Molino's agro, S.A. (adm)   SA                     NaN   \n",
       "\n",
       "                          SIRET        SIREN        LEI_cleaned_id  \\\n",
       "0   533 602 942 R.C.S. Nanterre  733602966.0  984500E8DA1DE9A0D939   \n",
       "1                   440 558 062    440558062                   NaN   \n",
       "2                 784-00-03-412    784000341  5493001MT6YISZH3YV05   \n",
       "3                 be 0413458441    041345844                   NaN   \n",
       "4                 fr24313140642    243131406                   NaN   \n",
       "5             333 171 544 00013    333171544  213800UHTTV6EGY74X82   \n",
       "6                           NaN          NaN                   NaN   \n",
       "7                           NaN          NaN                   NaN   \n",
       "8                           NaN          NaN                   NaN   \n",
       "9                           NaN          NaN                   NaN   \n",
       "10                          NaN          NaN                   NaN   \n",
       "\n",
       "   LEI_isvalid_id  \n",
       "0            True  \n",
       "1             NaN  \n",
       "2            True  \n",
       "3           False  \n",
       "4             NaN  \n",
       "5            True  \n",
       "6             NaN  \n",
       "7             NaN  \n",
       "8           False  \n",
       "9             NaN  \n",
       "10            NaN  "
      ]
     },
     "execution_count": 37,
     "metadata": {},
     "output_type": "execute_result"
    }
   ],
   "source": [
    "df_cleaner = id_cleaner_obj.clean_df(df_original, cols=['LEI'])\n",
    "df_cleaner"
   ]
  },
  {
   "cell_type": "markdown",
   "id": "25d07f9e",
   "metadata": {},
   "source": [
    "Now, let's set the ID validation as categorical and check the results. As you can notice the values are 1.0 for valid IDs and 0.0 for invalid ones. The floating number (0.0 or 1.0) is returned because there are Null values in this dataset. Otherwise, you would be able to see only integer values (1 or 0)."
   ]
  },
  {
   "cell_type": "code",
   "execution_count": 38,
   "id": "75b79dbc",
   "metadata": {},
   "outputs": [
    {
     "name": "stderr",
     "output_type": "stream",
     "text": [
      "Normalizing IDs...100%|██████████████████████████████████████████████████| 11/11 [00:00<00:00, 1572.29it/s]\n"
     ]
    },
    {
     "data": {
      "text/html": [
       "<div>\n",
       "<style scoped>\n",
       "    .dataframe tbody tr th:only-of-type {\n",
       "        vertical-align: middle;\n",
       "    }\n",
       "\n",
       "    .dataframe tbody tr th {\n",
       "        vertical-align: top;\n",
       "    }\n",
       "\n",
       "    .dataframe thead th {\n",
       "        text-align: right;\n",
       "    }\n",
       "</style>\n",
       "<table border=\"1\" class=\"dataframe\">\n",
       "  <thead>\n",
       "    <tr style=\"text-align: right;\">\n",
       "      <th></th>\n",
       "      <th>NAME</th>\n",
       "      <th>LEI</th>\n",
       "      <th>SIRET</th>\n",
       "      <th>SIREN</th>\n",
       "      <th>LEI_cleaned_id</th>\n",
       "      <th>LEI_isvalid_id</th>\n",
       "    </tr>\n",
       "  </thead>\n",
       "  <tbody>\n",
       "    <tr>\n",
       "      <th>0</th>\n",
       "      <td>Bechel   *Australia (Services) Pty Ltd</td>\n",
       "      <td>98 4500 e8da1de9a0d939</td>\n",
       "      <td>533 602 942 R.C.S. Nanterre</td>\n",
       "      <td>733602966.0</td>\n",
       "      <td>984500E8DA1DE9A0D939</td>\n",
       "      <td>1.0</td>\n",
       "    </tr>\n",
       "    <tr>\n",
       "      <th>1</th>\n",
       "      <td>NRI - KELLY's MERCHANDISE (AUST) PTY LTD</td>\n",
       "      <td>NaN</td>\n",
       "      <td>440 558 062</td>\n",
       "      <td>440558062</td>\n",
       "      <td>NaN</td>\n",
       "      <td>NaN</td>\n",
       "    </tr>\n",
       "    <tr>\n",
       "      <th>2</th>\n",
       "      <td>meo -  serviços de comunicação e multimedia SA...</td>\n",
       "      <td>5493001MT6YISZH3YV05</td>\n",
       "      <td>784-00-03-412</td>\n",
       "      <td>784000341</td>\n",
       "      <td>5493001MT6YISZH3YV05</td>\n",
       "      <td>1.0</td>\n",
       "    </tr>\n",
       "    <tr>\n",
       "      <th>3</th>\n",
       "      <td>Glass  Coatings &amp; Concepts \"CBG\" LLC</td>\n",
       "      <td>34123456</td>\n",
       "      <td>be 0413458441</td>\n",
       "      <td>041345844</td>\n",
       "      <td>NaN</td>\n",
       "      <td>0.0</td>\n",
       "    </tr>\n",
       "    <tr>\n",
       "      <th>4</th>\n",
       "      <td>Brault Loisirs, Orl. SARL</td>\n",
       "      <td>NaN</td>\n",
       "      <td>fr24313140642</td>\n",
       "      <td>243131406</td>\n",
       "      <td>NaN</td>\n",
       "      <td>NaN</td>\n",
       "    </tr>\n",
       "    <tr>\n",
       "      <th>5</th>\n",
       "      <td>Cole &amp; Brothers  Fabric, Services LLC.</td>\n",
       "      <td>213800UHTTV6EGY74X82</td>\n",
       "      <td>333 171 544 00013</td>\n",
       "      <td>333171544</td>\n",
       "      <td>213800UHTTV6EGY74X82</td>\n",
       "      <td>1.0</td>\n",
       "    </tr>\n",
       "    <tr>\n",
       "      <th>6</th>\n",
       "      <td>StarCOM Group Servizi **CAT** SRL</td>\n",
       "      <td>NaN</td>\n",
       "      <td>NaN</td>\n",
       "      <td>NaN</td>\n",
       "      <td>NaN</td>\n",
       "      <td>NaN</td>\n",
       "    </tr>\n",
       "    <tr>\n",
       "      <th>7</th>\n",
       "      <td>Wolbeck (Archer Daniels) *Unified* GmbH</td>\n",
       "      <td>NaN</td>\n",
       "      <td>NaN</td>\n",
       "      <td>NaN</td>\n",
       "      <td>NaN</td>\n",
       "      <td>NaN</td>\n",
       "    </tr>\n",
       "    <tr>\n",
       "      <th>8</th>\n",
       "      <td>Anheuser-BUSCH, Brothers (food services), LLC</td>\n",
       "      <td>US4567899888</td>\n",
       "      <td>NaN</td>\n",
       "      <td>NaN</td>\n",
       "      <td>NaN</td>\n",
       "      <td>0.0</td>\n",
       "    </tr>\n",
       "    <tr>\n",
       "      <th>9</th>\n",
       "      <td>Susamar-Patino, colectores (adm)   SA</td>\n",
       "      <td>NaN</td>\n",
       "      <td>NaN</td>\n",
       "      <td>NaN</td>\n",
       "      <td>NaN</td>\n",
       "      <td>NaN</td>\n",
       "    </tr>\n",
       "    <tr>\n",
       "      <th>10</th>\n",
       "      <td>Molino's agro, S.A. (adm)   SA</td>\n",
       "      <td>NaN</td>\n",
       "      <td>NaN</td>\n",
       "      <td>NaN</td>\n",
       "      <td>NaN</td>\n",
       "      <td>NaN</td>\n",
       "    </tr>\n",
       "  </tbody>\n",
       "</table>\n",
       "</div>"
      ],
      "text/plain": [
       "                                                 NAME                     LEI  \\\n",
       "0              Bechel   *Australia (Services) Pty Ltd  98 4500 e8da1de9a0d939   \n",
       "1            NRI - KELLY's MERCHANDISE (AUST) PTY LTD                     NaN   \n",
       "2   meo -  serviços de comunicação e multimedia SA...    5493001MT6YISZH3YV05   \n",
       "3                Glass  Coatings & Concepts \"CBG\" LLC                34123456   \n",
       "4                           Brault Loisirs, Orl. SARL                     NaN   \n",
       "5              Cole & Brothers  Fabric, Services LLC.    213800UHTTV6EGY74X82   \n",
       "6                   StarCOM Group Servizi **CAT** SRL                     NaN   \n",
       "7             Wolbeck (Archer Daniels) *Unified* GmbH                     NaN   \n",
       "8       Anheuser-BUSCH, Brothers (food services), LLC            US4567899888   \n",
       "9               Susamar-Patino, colectores (adm)   SA                     NaN   \n",
       "10                     Molino's agro, S.A. (adm)   SA                     NaN   \n",
       "\n",
       "                          SIRET        SIREN        LEI_cleaned_id  \\\n",
       "0   533 602 942 R.C.S. Nanterre  733602966.0  984500E8DA1DE9A0D939   \n",
       "1                   440 558 062    440558062                   NaN   \n",
       "2                 784-00-03-412    784000341  5493001MT6YISZH3YV05   \n",
       "3                 be 0413458441    041345844                   NaN   \n",
       "4                 fr24313140642    243131406                   NaN   \n",
       "5             333 171 544 00013    333171544  213800UHTTV6EGY74X82   \n",
       "6                           NaN          NaN                   NaN   \n",
       "7                           NaN          NaN                   NaN   \n",
       "8                           NaN          NaN                   NaN   \n",
       "9                           NaN          NaN                   NaN   \n",
       "10                          NaN          NaN                   NaN   \n",
       "\n",
       "    LEI_isvalid_id  \n",
       "0              1.0  \n",
       "1              NaN  \n",
       "2              1.0  \n",
       "3              0.0  \n",
       "4              NaN  \n",
       "5              1.0  \n",
       "6              NaN  \n",
       "7              NaN  \n",
       "8              0.0  \n",
       "9              NaN  \n",
       "10             NaN  "
      ]
     },
     "execution_count": 38,
     "metadata": {},
     "output_type": "execute_result"
    }
   ],
   "source": [
    "id_cleaner_obj.validation_as_categorical = True \n",
    "df_cleaner = id_cleaner_obj.clean_df(df_original, cols=['LEI'])\n",
    "df_cleaner"
   ]
  },
  {
   "cell_type": "markdown",
   "id": "287f7029",
   "metadata": {},
   "source": [
    "In the first row you can notice that the cleaning processing did a good job on the LEI ID. However, keep in mind that the cleaning performed by **BankingIdCleaner()** is very simple and just remove extra spaces and unicode characters. If you need to perform a more advanced cleaning task, use the **SimpleCleaner()** class provided in the financial-entity-cleaner.text package that is able to apply different pre-defined regex rules on texts or string attributes.  "
   ]
  },
  {
   "cell_type": "markdown",
   "id": "05a5f28a",
   "metadata": {},
   "source": [
    "The result above shows that two new columns were created with a suffix defined by the properties **output_cleaned_id** and **output_validated_id**. It also preserved the original LEI column. But, what if we want to clean and validate more than one column in the dataframe, use a standard prefix to rename the new columns and remove the original columns? Also, notice that we did not inform the ID type of the LEI column. If the argument **types** is not passed, the cleaning method assumes that all columns are of the same type as defined by the property **id_type**. The code below performs the cleaning on different IDs: "
   ]
  },
  {
   "cell_type": "code",
   "execution_count": 39,
   "id": "74f72f4e",
   "metadata": {},
   "outputs": [
    {
     "name": "stderr",
     "output_type": "stream",
     "text": [
      "Normalizing IDs...100%|██████████████████████████████████████████████████| 11/11 [00:00<00:00, 1100.58it/s]\n"
     ]
    },
    {
     "data": {
      "text/html": [
       "<div>\n",
       "<style scoped>\n",
       "    .dataframe tbody tr th:only-of-type {\n",
       "        vertical-align: middle;\n",
       "    }\n",
       "\n",
       "    .dataframe tbody tr th {\n",
       "        vertical-align: top;\n",
       "    }\n",
       "\n",
       "    .dataframe thead th {\n",
       "        text-align: right;\n",
       "    }\n",
       "</style>\n",
       "<table border=\"1\" class=\"dataframe\">\n",
       "  <thead>\n",
       "    <tr style=\"text-align: right;\">\n",
       "      <th></th>\n",
       "      <th>NAME</th>\n",
       "      <th>LEI</th>\n",
       "      <th>SIRET</th>\n",
       "      <th>SIREN</th>\n",
       "      <th>CLEANED_SIRET</th>\n",
       "      <th>IS_VALID_SIRET</th>\n",
       "      <th>CLEANED_SIREN</th>\n",
       "      <th>IS_VALID_SIREN</th>\n",
       "    </tr>\n",
       "  </thead>\n",
       "  <tbody>\n",
       "    <tr>\n",
       "      <th>0</th>\n",
       "      <td>Bechel   *Australia (Services) Pty Ltd</td>\n",
       "      <td>98 4500 e8da1de9a0d939</td>\n",
       "      <td>533 602 942 R.C.S. Nanterre</td>\n",
       "      <td>733602966.0</td>\n",
       "      <td>NaN</td>\n",
       "      <td>False</td>\n",
       "      <td>NaN</td>\n",
       "      <td>NaN</td>\n",
       "    </tr>\n",
       "    <tr>\n",
       "      <th>1</th>\n",
       "      <td>NRI - KELLY's MERCHANDISE (AUST) PTY LTD</td>\n",
       "      <td>NaN</td>\n",
       "      <td>440 558 062</td>\n",
       "      <td>440558062</td>\n",
       "      <td>NaN</td>\n",
       "      <td>False</td>\n",
       "      <td>440558062</td>\n",
       "      <td>True</td>\n",
       "    </tr>\n",
       "    <tr>\n",
       "      <th>2</th>\n",
       "      <td>meo -  serviços de comunicação e multimedia SA...</td>\n",
       "      <td>5493001MT6YISZH3YV05</td>\n",
       "      <td>784-00-03-412</td>\n",
       "      <td>784000341</td>\n",
       "      <td>NaN</td>\n",
       "      <td>False</td>\n",
       "      <td>784000341</td>\n",
       "      <td>True</td>\n",
       "    </tr>\n",
       "    <tr>\n",
       "      <th>3</th>\n",
       "      <td>Glass  Coatings &amp; Concepts \"CBG\" LLC</td>\n",
       "      <td>34123456</td>\n",
       "      <td>be 0413458441</td>\n",
       "      <td>041345844</td>\n",
       "      <td>NaN</td>\n",
       "      <td>False</td>\n",
       "      <td>041345844</td>\n",
       "      <td>True</td>\n",
       "    </tr>\n",
       "    <tr>\n",
       "      <th>4</th>\n",
       "      <td>Brault Loisirs, Orl. SARL</td>\n",
       "      <td>NaN</td>\n",
       "      <td>fr24313140642</td>\n",
       "      <td>243131406</td>\n",
       "      <td>NaN</td>\n",
       "      <td>False</td>\n",
       "      <td>243131406</td>\n",
       "      <td>True</td>\n",
       "    </tr>\n",
       "    <tr>\n",
       "      <th>5</th>\n",
       "      <td>Cole &amp; Brothers  Fabric, Services LLC.</td>\n",
       "      <td>213800UHTTV6EGY74X82</td>\n",
       "      <td>333 171 544 00013</td>\n",
       "      <td>333171544</td>\n",
       "      <td>33317154400013</td>\n",
       "      <td>True</td>\n",
       "      <td>333171544</td>\n",
       "      <td>True</td>\n",
       "    </tr>\n",
       "    <tr>\n",
       "      <th>6</th>\n",
       "      <td>StarCOM Group Servizi **CAT** SRL</td>\n",
       "      <td>NaN</td>\n",
       "      <td>NaN</td>\n",
       "      <td>NaN</td>\n",
       "      <td>NaN</td>\n",
       "      <td>NaN</td>\n",
       "      <td>NaN</td>\n",
       "      <td>NaN</td>\n",
       "    </tr>\n",
       "    <tr>\n",
       "      <th>7</th>\n",
       "      <td>Wolbeck (Archer Daniels) *Unified* GmbH</td>\n",
       "      <td>NaN</td>\n",
       "      <td>NaN</td>\n",
       "      <td>NaN</td>\n",
       "      <td>NaN</td>\n",
       "      <td>NaN</td>\n",
       "      <td>NaN</td>\n",
       "      <td>NaN</td>\n",
       "    </tr>\n",
       "    <tr>\n",
       "      <th>8</th>\n",
       "      <td>Anheuser-BUSCH, Brothers (food services), LLC</td>\n",
       "      <td>US4567899888</td>\n",
       "      <td>NaN</td>\n",
       "      <td>NaN</td>\n",
       "      <td>NaN</td>\n",
       "      <td>NaN</td>\n",
       "      <td>NaN</td>\n",
       "      <td>NaN</td>\n",
       "    </tr>\n",
       "    <tr>\n",
       "      <th>9</th>\n",
       "      <td>Susamar-Patino, colectores (adm)   SA</td>\n",
       "      <td>NaN</td>\n",
       "      <td>NaN</td>\n",
       "      <td>NaN</td>\n",
       "      <td>NaN</td>\n",
       "      <td>NaN</td>\n",
       "      <td>NaN</td>\n",
       "      <td>NaN</td>\n",
       "    </tr>\n",
       "    <tr>\n",
       "      <th>10</th>\n",
       "      <td>Molino's agro, S.A. (adm)   SA</td>\n",
       "      <td>NaN</td>\n",
       "      <td>NaN</td>\n",
       "      <td>NaN</td>\n",
       "      <td>NaN</td>\n",
       "      <td>NaN</td>\n",
       "      <td>NaN</td>\n",
       "      <td>NaN</td>\n",
       "    </tr>\n",
       "  </tbody>\n",
       "</table>\n",
       "</div>"
      ],
      "text/plain": [
       "                                                 NAME                     LEI  \\\n",
       "0              Bechel   *Australia (Services) Pty Ltd  98 4500 e8da1de9a0d939   \n",
       "1            NRI - KELLY's MERCHANDISE (AUST) PTY LTD                     NaN   \n",
       "2   meo -  serviços de comunicação e multimedia SA...    5493001MT6YISZH3YV05   \n",
       "3                Glass  Coatings & Concepts \"CBG\" LLC                34123456   \n",
       "4                           Brault Loisirs, Orl. SARL                     NaN   \n",
       "5              Cole & Brothers  Fabric, Services LLC.    213800UHTTV6EGY74X82   \n",
       "6                   StarCOM Group Servizi **CAT** SRL                     NaN   \n",
       "7             Wolbeck (Archer Daniels) *Unified* GmbH                     NaN   \n",
       "8       Anheuser-BUSCH, Brothers (food services), LLC            US4567899888   \n",
       "9               Susamar-Patino, colectores (adm)   SA                     NaN   \n",
       "10                     Molino's agro, S.A. (adm)   SA                     NaN   \n",
       "\n",
       "                          SIRET        SIREN   CLEANED_SIRET IS_VALID_SIRET  \\\n",
       "0   533 602 942 R.C.S. Nanterre  733602966.0             NaN          False   \n",
       "1                   440 558 062    440558062             NaN          False   \n",
       "2                 784-00-03-412    784000341             NaN          False   \n",
       "3                 be 0413458441    041345844             NaN          False   \n",
       "4                 fr24313140642    243131406             NaN          False   \n",
       "5             333 171 544 00013    333171544  33317154400013           True   \n",
       "6                           NaN          NaN             NaN            NaN   \n",
       "7                           NaN          NaN             NaN            NaN   \n",
       "8                           NaN          NaN             NaN            NaN   \n",
       "9                           NaN          NaN             NaN            NaN   \n",
       "10                          NaN          NaN             NaN            NaN   \n",
       "\n",
       "   CLEANED_SIREN IS_VALID_SIREN  \n",
       "0            NaN            NaN  \n",
       "1      440558062           True  \n",
       "2      784000341           True  \n",
       "3      041345844           True  \n",
       "4      243131406           True  \n",
       "5      333171544           True  \n",
       "6            NaN            NaN  \n",
       "7            NaN            NaN  \n",
       "8            NaN            NaN  \n",
       "9            NaN            NaN  \n",
       "10           NaN            NaN  "
      ]
     },
     "execution_count": 39,
     "metadata": {},
     "output_type": "execute_result"
    }
   ],
   "source": [
    "id_cleaner_obj.validation_as_categorical = False\n",
    "id_cleaner_obj.output_cleaned_id = 'CLEANED'\n",
    "id_cleaner_obj.output_validated_id = 'IS_VALID'\n",
    "df_cleaner = id_cleaner_obj.clean_df(df_original, cols=['SIRET', 'SIREN'], \n",
    "                                     remove_cols= False, \n",
    "                                     output_names_as= 'prefix',\n",
    "                                     types = ['siret', 'siren'])\n",
    "df_cleaner"
   ]
  },
  {
   "cell_type": "markdown",
   "id": "76fc22dc",
   "metadata": {},
   "source": [
    "All the results above set the ID to NaN if the IDs are invalids (see rows 4, 7 and 9 for SEDOL code). This happens when **invalid_ids_as_nan** property is True. Therefore, make sure to set it to False if you don't want this behaviour: "
   ]
  },
  {
   "cell_type": "code",
   "execution_count": 40,
   "id": "afd0d86b",
   "metadata": {},
   "outputs": [],
   "source": [
    "id_cleaner_obj.invalid_ids_as_nan = False "
   ]
  },
  {
   "cell_type": "code",
   "execution_count": 41,
   "id": "1b72669e",
   "metadata": {},
   "outputs": [
    {
     "name": "stderr",
     "output_type": "stream",
     "text": [
      "Normalizing IDs...100%|██████████████████████████████████████████████████| 11/11 [00:00<00:00, 1100.79it/s]\n"
     ]
    },
    {
     "data": {
      "text/html": [
       "<div>\n",
       "<style scoped>\n",
       "    .dataframe tbody tr th:only-of-type {\n",
       "        vertical-align: middle;\n",
       "    }\n",
       "\n",
       "    .dataframe tbody tr th {\n",
       "        vertical-align: top;\n",
       "    }\n",
       "\n",
       "    .dataframe thead th {\n",
       "        text-align: right;\n",
       "    }\n",
       "</style>\n",
       "<table border=\"1\" class=\"dataframe\">\n",
       "  <thead>\n",
       "    <tr style=\"text-align: right;\">\n",
       "      <th></th>\n",
       "      <th>NAME</th>\n",
       "      <th>LEI</th>\n",
       "      <th>CLEANED_SIRET</th>\n",
       "      <th>IS_VALID_SIRET</th>\n",
       "      <th>CLEANED_SIREN</th>\n",
       "      <th>IS_VALID_SIREN</th>\n",
       "    </tr>\n",
       "  </thead>\n",
       "  <tbody>\n",
       "    <tr>\n",
       "      <th>0</th>\n",
       "      <td>Bechel   *Australia (Services) Pty Ltd</td>\n",
       "      <td>98 4500 e8da1de9a0d939</td>\n",
       "      <td>533602942R.C.S.NANTERRE</td>\n",
       "      <td>False</td>\n",
       "      <td>NaN</td>\n",
       "      <td>NaN</td>\n",
       "    </tr>\n",
       "    <tr>\n",
       "      <th>1</th>\n",
       "      <td>NRI - KELLY's MERCHANDISE (AUST) PTY LTD</td>\n",
       "      <td>NaN</td>\n",
       "      <td>440558062</td>\n",
       "      <td>False</td>\n",
       "      <td>440558062</td>\n",
       "      <td>True</td>\n",
       "    </tr>\n",
       "    <tr>\n",
       "      <th>2</th>\n",
       "      <td>meo -  serviços de comunicação e multimedia SA...</td>\n",
       "      <td>5493001MT6YISZH3YV05</td>\n",
       "      <td>784-00-03-412</td>\n",
       "      <td>False</td>\n",
       "      <td>784000341</td>\n",
       "      <td>True</td>\n",
       "    </tr>\n",
       "    <tr>\n",
       "      <th>3</th>\n",
       "      <td>Glass  Coatings &amp; Concepts \"CBG\" LLC</td>\n",
       "      <td>34123456</td>\n",
       "      <td>BE0413458441</td>\n",
       "      <td>False</td>\n",
       "      <td>041345844</td>\n",
       "      <td>True</td>\n",
       "    </tr>\n",
       "    <tr>\n",
       "      <th>4</th>\n",
       "      <td>Brault Loisirs, Orl. SARL</td>\n",
       "      <td>NaN</td>\n",
       "      <td>FR24313140642</td>\n",
       "      <td>False</td>\n",
       "      <td>243131406</td>\n",
       "      <td>True</td>\n",
       "    </tr>\n",
       "    <tr>\n",
       "      <th>5</th>\n",
       "      <td>Cole &amp; Brothers  Fabric, Services LLC.</td>\n",
       "      <td>213800UHTTV6EGY74X82</td>\n",
       "      <td>33317154400013</td>\n",
       "      <td>True</td>\n",
       "      <td>333171544</td>\n",
       "      <td>True</td>\n",
       "    </tr>\n",
       "    <tr>\n",
       "      <th>6</th>\n",
       "      <td>StarCOM Group Servizi **CAT** SRL</td>\n",
       "      <td>NaN</td>\n",
       "      <td>NaN</td>\n",
       "      <td>NaN</td>\n",
       "      <td>NaN</td>\n",
       "      <td>NaN</td>\n",
       "    </tr>\n",
       "    <tr>\n",
       "      <th>7</th>\n",
       "      <td>Wolbeck (Archer Daniels) *Unified* GmbH</td>\n",
       "      <td>NaN</td>\n",
       "      <td>NaN</td>\n",
       "      <td>NaN</td>\n",
       "      <td>NaN</td>\n",
       "      <td>NaN</td>\n",
       "    </tr>\n",
       "    <tr>\n",
       "      <th>8</th>\n",
       "      <td>Anheuser-BUSCH, Brothers (food services), LLC</td>\n",
       "      <td>US4567899888</td>\n",
       "      <td>NaN</td>\n",
       "      <td>NaN</td>\n",
       "      <td>NaN</td>\n",
       "      <td>NaN</td>\n",
       "    </tr>\n",
       "    <tr>\n",
       "      <th>9</th>\n",
       "      <td>Susamar-Patino, colectores (adm)   SA</td>\n",
       "      <td>NaN</td>\n",
       "      <td>NaN</td>\n",
       "      <td>NaN</td>\n",
       "      <td>NaN</td>\n",
       "      <td>NaN</td>\n",
       "    </tr>\n",
       "    <tr>\n",
       "      <th>10</th>\n",
       "      <td>Molino's agro, S.A. (adm)   SA</td>\n",
       "      <td>NaN</td>\n",
       "      <td>NaN</td>\n",
       "      <td>NaN</td>\n",
       "      <td>NaN</td>\n",
       "      <td>NaN</td>\n",
       "    </tr>\n",
       "  </tbody>\n",
       "</table>\n",
       "</div>"
      ],
      "text/plain": [
       "                                                 NAME                     LEI  \\\n",
       "0              Bechel   *Australia (Services) Pty Ltd  98 4500 e8da1de9a0d939   \n",
       "1            NRI - KELLY's MERCHANDISE (AUST) PTY LTD                     NaN   \n",
       "2   meo -  serviços de comunicação e multimedia SA...    5493001MT6YISZH3YV05   \n",
       "3                Glass  Coatings & Concepts \"CBG\" LLC                34123456   \n",
       "4                           Brault Loisirs, Orl. SARL                     NaN   \n",
       "5              Cole & Brothers  Fabric, Services LLC.    213800UHTTV6EGY74X82   \n",
       "6                   StarCOM Group Servizi **CAT** SRL                     NaN   \n",
       "7             Wolbeck (Archer Daniels) *Unified* GmbH                     NaN   \n",
       "8       Anheuser-BUSCH, Brothers (food services), LLC            US4567899888   \n",
       "9               Susamar-Patino, colectores (adm)   SA                     NaN   \n",
       "10                     Molino's agro, S.A. (adm)   SA                     NaN   \n",
       "\n",
       "              CLEANED_SIRET IS_VALID_SIRET CLEANED_SIREN IS_VALID_SIREN  \n",
       "0   533602942R.C.S.NANTERRE          False           NaN            NaN  \n",
       "1                 440558062          False     440558062           True  \n",
       "2             784-00-03-412          False     784000341           True  \n",
       "3              BE0413458441          False     041345844           True  \n",
       "4             FR24313140642          False     243131406           True  \n",
       "5            33317154400013           True     333171544           True  \n",
       "6                       NaN            NaN           NaN            NaN  \n",
       "7                       NaN            NaN           NaN            NaN  \n",
       "8                       NaN            NaN           NaN            NaN  \n",
       "9                       NaN            NaN           NaN            NaN  \n",
       "10                      NaN            NaN           NaN            NaN  "
      ]
     },
     "execution_count": 41,
     "metadata": {},
     "output_type": "execute_result"
    }
   ],
   "source": [
    "df_cleaner = id_cleaner_obj.clean_df(df_original, cols=['SIRET', 'SIREN'], \n",
    "                                     remove_cols= True, \n",
    "                                     output_names_as= 'prefix',\n",
    "                                     types = ['siret', 'siren'])\n",
    "df_cleaner"
   ]
  },
  {
   "cell_type": "markdown",
   "id": "6aa4b203",
   "metadata": {},
   "source": [
    "By default, the result of the ID validation is a boolean attribute. But, as stated before, it is possible to define the return type as a categorical data (0 and 1's) and this behaviour also works for cleaning up dataframes. Just set the property **validation_as_categorical** as **True**, and this will also work for multiples ID types as shown below: "
   ]
  },
  {
   "cell_type": "code",
   "execution_count": 42,
   "id": "9092af59",
   "metadata": {},
   "outputs": [],
   "source": [
    "id_cleaner_obj.validation_as_categorical = True "
   ]
  },
  {
   "cell_type": "code",
   "execution_count": 43,
   "id": "49d1b042",
   "metadata": {},
   "outputs": [
    {
     "name": "stderr",
     "output_type": "stream",
     "text": [
      "Normalizing IDs...100%|██████████████████████████████████████████████████| 11/11 [00:00<00:00, 611.50it/s]\n"
     ]
    },
    {
     "data": {
      "text/html": [
       "<div>\n",
       "<style scoped>\n",
       "    .dataframe tbody tr th:only-of-type {\n",
       "        vertical-align: middle;\n",
       "    }\n",
       "\n",
       "    .dataframe tbody tr th {\n",
       "        vertical-align: top;\n",
       "    }\n",
       "\n",
       "    .dataframe thead th {\n",
       "        text-align: right;\n",
       "    }\n",
       "</style>\n",
       "<table border=\"1\" class=\"dataframe\">\n",
       "  <thead>\n",
       "    <tr style=\"text-align: right;\">\n",
       "      <th></th>\n",
       "      <th>NAME</th>\n",
       "      <th>CLEANED_LEI</th>\n",
       "      <th>IS_VALID_LEI</th>\n",
       "      <th>CLEANED_SIRET</th>\n",
       "      <th>IS_VALID_SIRET</th>\n",
       "      <th>CLEANED_SIREN</th>\n",
       "      <th>IS_VALID_SIREN</th>\n",
       "    </tr>\n",
       "  </thead>\n",
       "  <tbody>\n",
       "    <tr>\n",
       "      <th>0</th>\n",
       "      <td>Bechel   *Australia (Services) Pty Ltd</td>\n",
       "      <td>984500E8DA1DE9A0D939</td>\n",
       "      <td>1.0</td>\n",
       "      <td>533602942RCSNANTERRE</td>\n",
       "      <td>0.0</td>\n",
       "      <td>NaN</td>\n",
       "      <td>NaN</td>\n",
       "    </tr>\n",
       "    <tr>\n",
       "      <th>1</th>\n",
       "      <td>NRI - KELLY's MERCHANDISE (AUST) PTY LTD</td>\n",
       "      <td>NaN</td>\n",
       "      <td>NaN</td>\n",
       "      <td>440558062</td>\n",
       "      <td>0.0</td>\n",
       "      <td>440558062</td>\n",
       "      <td>1.0</td>\n",
       "    </tr>\n",
       "    <tr>\n",
       "      <th>2</th>\n",
       "      <td>meo -  serviços de comunicação e multimedia SA...</td>\n",
       "      <td>5493001MT6YISZH3YV05</td>\n",
       "      <td>1.0</td>\n",
       "      <td>7840003412</td>\n",
       "      <td>0.0</td>\n",
       "      <td>784000341</td>\n",
       "      <td>1.0</td>\n",
       "    </tr>\n",
       "    <tr>\n",
       "      <th>3</th>\n",
       "      <td>Glass  Coatings &amp; Concepts \"CBG\" LLC</td>\n",
       "      <td>34123456</td>\n",
       "      <td>0.0</td>\n",
       "      <td>BE0413458441</td>\n",
       "      <td>0.0</td>\n",
       "      <td>041345844</td>\n",
       "      <td>1.0</td>\n",
       "    </tr>\n",
       "    <tr>\n",
       "      <th>4</th>\n",
       "      <td>Brault Loisirs, Orl. SARL</td>\n",
       "      <td>NaN</td>\n",
       "      <td>NaN</td>\n",
       "      <td>FR24313140642</td>\n",
       "      <td>0.0</td>\n",
       "      <td>243131406</td>\n",
       "      <td>1.0</td>\n",
       "    </tr>\n",
       "    <tr>\n",
       "      <th>5</th>\n",
       "      <td>Cole &amp; Brothers  Fabric, Services LLC.</td>\n",
       "      <td>213800UHTTV6EGY74X82</td>\n",
       "      <td>1.0</td>\n",
       "      <td>33317154400013</td>\n",
       "      <td>1.0</td>\n",
       "      <td>333171544</td>\n",
       "      <td>1.0</td>\n",
       "    </tr>\n",
       "    <tr>\n",
       "      <th>6</th>\n",
       "      <td>StarCOM Group Servizi **CAT** SRL</td>\n",
       "      <td>NaN</td>\n",
       "      <td>NaN</td>\n",
       "      <td>NaN</td>\n",
       "      <td>NaN</td>\n",
       "      <td>NaN</td>\n",
       "      <td>NaN</td>\n",
       "    </tr>\n",
       "    <tr>\n",
       "      <th>7</th>\n",
       "      <td>Wolbeck (Archer Daniels) *Unified* GmbH</td>\n",
       "      <td>NaN</td>\n",
       "      <td>NaN</td>\n",
       "      <td>NaN</td>\n",
       "      <td>NaN</td>\n",
       "      <td>NaN</td>\n",
       "      <td>NaN</td>\n",
       "    </tr>\n",
       "    <tr>\n",
       "      <th>8</th>\n",
       "      <td>Anheuser-BUSCH, Brothers (food services), LLC</td>\n",
       "      <td>US4567899888</td>\n",
       "      <td>0.0</td>\n",
       "      <td>NaN</td>\n",
       "      <td>NaN</td>\n",
       "      <td>NaN</td>\n",
       "      <td>NaN</td>\n",
       "    </tr>\n",
       "    <tr>\n",
       "      <th>9</th>\n",
       "      <td>Susamar-Patino, colectores (adm)   SA</td>\n",
       "      <td>NaN</td>\n",
       "      <td>NaN</td>\n",
       "      <td>NaN</td>\n",
       "      <td>NaN</td>\n",
       "      <td>NaN</td>\n",
       "      <td>NaN</td>\n",
       "    </tr>\n",
       "    <tr>\n",
       "      <th>10</th>\n",
       "      <td>Molino's agro, S.A. (adm)   SA</td>\n",
       "      <td>NaN</td>\n",
       "      <td>NaN</td>\n",
       "      <td>NaN</td>\n",
       "      <td>NaN</td>\n",
       "      <td>NaN</td>\n",
       "      <td>NaN</td>\n",
       "    </tr>\n",
       "  </tbody>\n",
       "</table>\n",
       "</div>"
      ],
      "text/plain": [
       "                                                 NAME           CLEANED_LEI  \\\n",
       "0              Bechel   *Australia (Services) Pty Ltd  984500E8DA1DE9A0D939   \n",
       "1            NRI - KELLY's MERCHANDISE (AUST) PTY LTD                   NaN   \n",
       "2   meo -  serviços de comunicação e multimedia SA...  5493001MT6YISZH3YV05   \n",
       "3                Glass  Coatings & Concepts \"CBG\" LLC              34123456   \n",
       "4                           Brault Loisirs, Orl. SARL                   NaN   \n",
       "5              Cole & Brothers  Fabric, Services LLC.  213800UHTTV6EGY74X82   \n",
       "6                   StarCOM Group Servizi **CAT** SRL                   NaN   \n",
       "7             Wolbeck (Archer Daniels) *Unified* GmbH                   NaN   \n",
       "8       Anheuser-BUSCH, Brothers (food services), LLC          US4567899888   \n",
       "9               Susamar-Patino, colectores (adm)   SA                   NaN   \n",
       "10                     Molino's agro, S.A. (adm)   SA                   NaN   \n",
       "\n",
       "    IS_VALID_LEI         CLEANED_SIRET  IS_VALID_SIRET CLEANED_SIREN  \\\n",
       "0            1.0  533602942RCSNANTERRE             0.0           NaN   \n",
       "1            NaN             440558062             0.0     440558062   \n",
       "2            1.0            7840003412             0.0     784000341   \n",
       "3            0.0          BE0413458441             0.0     041345844   \n",
       "4            NaN         FR24313140642             0.0     243131406   \n",
       "5            1.0        33317154400013             1.0     333171544   \n",
       "6            NaN                   NaN             NaN           NaN   \n",
       "7            NaN                   NaN             NaN           NaN   \n",
       "8            0.0                   NaN             NaN           NaN   \n",
       "9            NaN                   NaN             NaN           NaN   \n",
       "10           NaN                   NaN             NaN           NaN   \n",
       "\n",
       "    IS_VALID_SIREN  \n",
       "0              NaN  \n",
       "1              1.0  \n",
       "2              1.0  \n",
       "3              1.0  \n",
       "4              1.0  \n",
       "5              1.0  \n",
       "6              NaN  \n",
       "7              NaN  \n",
       "8              NaN  \n",
       "9              NaN  \n",
       "10             NaN  "
      ]
     },
     "execution_count": 43,
     "metadata": {},
     "output_type": "execute_result"
    }
   ],
   "source": [
    "id_cleaner_obj.cleaning_rules = [\"remove_all_punctuation\",\"remove_spaces\"]\n",
    "df_cleaner = id_cleaner_obj.clean_df(df_original, cols=['LEI', 'SIRET', 'SIREN'], \n",
    "                                     remove_cols= True, \n",
    "                                     output_names_as= 'prefix',\n",
    "                                     types = ['lei','siret', 'siren'])\n",
    "df_cleaner"
   ]
  },
  {
   "cell_type": "markdown",
   "id": "e5be96fd",
   "metadata": {},
   "source": [
    "Notice that the validation columns were converted to float type (0.0 or 1.0) because of the null values in some of the cells."
   ]
  },
  {
   "cell_type": "code",
   "execution_count": null,
   "id": "60fd9d34",
   "metadata": {},
   "outputs": [],
   "source": [
    "df_cleaner.info()"
   ]
  },
  {
   "cell_type": "code",
   "execution_count": null,
   "id": "9e3a1fab",
   "metadata": {},
   "outputs": [],
   "source": []
  }
 ],
 "metadata": {
  "kernelspec": {
   "display_name": "Python 3 (ipykernel)",
   "language": "python",
   "name": "python3"
  },
  "language_info": {
   "codemirror_mode": {
    "name": "ipython",
    "version": 3
   },
   "file_extension": ".py",
   "mimetype": "text/x-python",
   "name": "python",
   "nbconvert_exporter": "python",
   "pygments_lexer": "ipython3",
   "version": "3.8.10"
  }
 },
 "nbformat": 4,
 "nbformat_minor": 5
}
