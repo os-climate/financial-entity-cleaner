{
 "cells": [
  {
   "cell_type": "markdown",
   "id": "a937f3c4",
   "metadata": {},
   "source": [
    "# How to...clean up and validate banking IDs"
   ]
  },
  {
   "cell_type": "markdown",
   "id": "afc45c44",
   "metadata": {},
   "source": [
    "This notebook shows how to use the **financial-entity-cleaner.id.banking** module to validate ID's such as LEI, ISIN and SEDOL. You can use this module in three different ways:\n",
    "1. [by validating single values of text as ID's](#validate_id)\n",
    "2. [by cleaning & validating single values of text as ID's](#clean_validate_id)\n",
    "3. [by cleaning & validating IDs on tabular dataframe](#df)\n",
    "\n",
    "No matter which approach you choose, you will need to import and create an object based on the **BankingIdCleaner()** class which is available in the **financial_entity_cleaner.id.banking** module. This notebook shows how you can customize the behaviour of this class to adapt the cleaning to your own needs.   "
   ]
  },
  {
   "cell_type": "markdown",
   "id": "e26d075a",
   "metadata": {},
   "source": [
    "<div class=\"alert alert-block alert-info\">\n",
    "<b>Note:</b> The complete documentation of the <b>financial-entity-cleaner</b> is available at <a href=\"https://financial-entity-cleaner.readthedocs.io/en/latest/\" title=\"ReadTheDocs\">ReadTheDocs</a>.</div>"
   ]
  },
  {
   "cell_type": "code",
   "execution_count": 1,
   "id": "f41d78ec",
   "metadata": {},
   "outputs": [],
   "source": [
    "# Sets up the location of the financial-entity-cleaner library relative to this notebook \n",
    "import sys\n",
    "sys.path.append('../../')"
   ]
  },
  {
   "cell_type": "code",
   "execution_count": 2,
   "id": "98eea0b4",
   "metadata": {},
   "outputs": [],
   "source": [
    "# Import the BankingIdCleaner() class for ID validation\n",
    "from financial_entity_cleaner.id.banking import BankingIdCleaner"
   ]
  },
  {
   "cell_type": "code",
   "execution_count": 3,
   "id": "da81e534",
   "metadata": {},
   "outputs": [],
   "source": [
    "# Create an object based on BankingIdCleaner() class to perform validation over string values, dataframe or .csv file\n",
    "id_cleaner_obj = BankingIdCleaner()"
   ]
  },
  {
   "cell_type": "markdown",
   "id": "71a7ef9a",
   "metadata": {},
   "source": [
    "To see all the supported ID types:"
   ]
  },
  {
   "cell_type": "code",
   "execution_count": 4,
   "id": "4865f940",
   "metadata": {},
   "outputs": [
    {
     "data": {
      "text/plain": [
       "['lei', 'isin', 'sedol']"
      ]
     },
     "execution_count": 4,
     "metadata": {},
     "output_type": "execute_result"
    }
   ],
   "source": [
    "# Check the ID's supported by the library\n",
    "id_cleaner_obj.get_types()"
   ]
  },
  {
   "cell_type": "markdown",
   "id": "ded8492b",
   "metadata": {},
   "source": [
    "<div class=\"alert alert-block alert-danger\">\n",
    "<b>EXCEPTION:</b> The library throws an exception if the ID type is not supported.\n",
    "</div>"
   ]
  },
  {
   "cell_type": "code",
   "execution_count": 5,
   "id": "ccb2bf01",
   "metadata": {},
   "outputs": [
    {
     "ename": "TypeOfBankingIdNotSupported",
     "evalue": "Financial-Entity-Cleaner (Error) - The ID type <test> is not supported.",
     "output_type": "error",
     "traceback": [
      "\u001b[1;31m---------------------------------------------------------------------------\u001b[0m",
      "\u001b[1;31mTypeOfBankingIdNotSupported\u001b[0m               Traceback (most recent call last)",
      "Input \u001b[1;32mIn [5]\u001b[0m, in \u001b[0;36m<cell line: 1>\u001b[1;34m()\u001b[0m\n\u001b[1;32m----> 1\u001b[0m id_cleaner_obj\u001b[38;5;241m.\u001b[39mid_type\u001b[38;5;241m=\u001b[39m\u001b[38;5;124m'\u001b[39m\u001b[38;5;124mtest\u001b[39m\u001b[38;5;124m'\u001b[39m\n",
      "File \u001b[1;32m~\\OneDrive\\Projects\\GitHub\\os_climate\\financial-entity-cleaner\\notebooks\\how-to\\../..\\financial_entity_cleaner\\id\\banking.py:132\u001b[0m, in \u001b[0;36mBankingIdCleaner.id_type\u001b[1;34m(self, new_id_type)\u001b[0m\n\u001b[0;32m    129\u001b[0m \u001b[38;5;129m@id_type\u001b[39m\u001b[38;5;241m.\u001b[39msetter\n\u001b[0;32m    130\u001b[0m \u001b[38;5;28;01mdef\u001b[39;00m \u001b[38;5;21mid_type\u001b[39m(\u001b[38;5;28mself\u001b[39m, new_id_type):\n\u001b[0;32m    131\u001b[0m     \u001b[38;5;28;01mif\u001b[39;00m \u001b[38;5;129;01mnot\u001b[39;00m (new_id_type \u001b[38;5;129;01min\u001b[39;00m \u001b[38;5;28mself\u001b[39m\u001b[38;5;241m.\u001b[39m__VALIDATIONS_SUPPORTED):\n\u001b[1;32m--> 132\u001b[0m         \u001b[38;5;28;01mraise\u001b[39;00m custom_exception\u001b[38;5;241m.\u001b[39mTypeOfBankingIdNotSupported(new_id_type)\n\u001b[0;32m    133\u001b[0m     \u001b[38;5;28mself\u001b[39m\u001b[38;5;241m.\u001b[39m_id_type \u001b[38;5;241m=\u001b[39m new_id_type\n",
      "\u001b[1;31mTypeOfBankingIdNotSupported\u001b[0m: Financial-Entity-Cleaner (Error) - The ID type <test> is not supported."
     ]
    }
   ],
   "source": [
    "id_cleaner_obj.id_type='test'"
   ]
  },
  {
   "cell_type": "markdown",
   "id": "ff699a9c",
   "metadata": {},
   "source": [
    "## 1. Validating single values of text as ID's <a id=\"validate_id\"></a>"
   ]
  },
  {
   "cell_type": "markdown",
   "id": "d0094c17",
   "metadata": {},
   "source": [
    "Use **is_valid()** method to verify if an ID is valid. This methods will return:\n",
    "- None if the value is not a string or has no characters in it.\n",
    "- True if the value is a valid ID of the specified type\n",
    "- False if the value is not a valid ID of the specified type"
   ]
  },
  {
   "cell_type": "markdown",
   "id": "a1a7c10e",
   "metadata": {},
   "source": [
    "By default, the library assumes that the value passed as parameter is an ISIN code. "
   ]
  },
  {
   "cell_type": "code",
   "execution_count": null,
   "id": "c710f413",
   "metadata": {},
   "outputs": [],
   "source": [
    "# Checking the default type\n",
    "print(id_cleaner_obj.id_type)"
   ]
  },
  {
   "cell_type": "code",
   "execution_count": null,
   "id": "d1914800",
   "metadata": {},
   "outputs": [],
   "source": [
    "# Testing an invalid ISIN code\n",
    "print(id_cleaner_obj.is_valid('tttt0B1YW4409'))"
   ]
  },
  {
   "cell_type": "code",
   "execution_count": null,
   "id": "ac661233",
   "metadata": {},
   "outputs": [],
   "source": [
    "# Testing a valid LEI code\n",
    "id_cleaner_obj.id_type='lei'\n",
    "print(id_cleaner_obj.is_valid('969500DPKGC9JE9F0820'))"
   ]
  },
  {
   "cell_type": "code",
   "execution_count": null,
   "id": "1037008f",
   "metadata": {},
   "outputs": [],
   "source": [
    "# Testing a valid SEDOL code\n",
    "id_cleaner_obj.id_type='sedol'\n",
    "print(id_cleaner_obj.is_valid('2595708'))"
   ]
  },
  {
   "cell_type": "markdown",
   "id": "1495eb94",
   "metadata": {},
   "source": [
    "The **operation mode** of **BankingIdCleaner()** class is set by **default** to be in **SILENT_MODE**. When in this default mode, if the ID is not a string or is empty, **None** is returned. "
   ]
  },
  {
   "cell_type": "code",
   "execution_count": 6,
   "id": "4771121e",
   "metadata": {},
   "outputs": [
    {
     "name": "stdout",
     "output_type": "stream",
     "text": [
      "None\n"
     ]
    }
   ],
   "source": [
    "# Testing to clean up a value that is not a string\n",
    "print(id_cleaner_obj.is_valid(12345))"
   ]
  },
  {
   "cell_type": "markdown",
   "id": "aa7415a4",
   "metadata": {},
   "source": [
    "The code below imports the modes of operation from **utils.lib** module and use it to change the **mode property** of the **BankingIdCleaner()** object. "
   ]
  },
  {
   "cell_type": "code",
   "execution_count": 7,
   "id": "b2fa0fe5",
   "metadata": {},
   "outputs": [],
   "source": [
    "# Import the modes from utils.lib\n",
    "from financial_entity_cleaner.utils.lib import ModeOfUse"
   ]
  },
  {
   "cell_type": "code",
   "execution_count": 8,
   "id": "1e9a5444",
   "metadata": {},
   "outputs": [],
   "source": [
    "id_cleaner_obj.mode = ModeOfUse.EXCEPTION_MODE"
   ]
  },
  {
   "cell_type": "markdown",
   "id": "071b9207",
   "metadata": {},
   "source": [
    "<div class=\"alert alert-block alert-danger\">\n",
    "<b>EXCEPTION MODE:</b> Now, the code below will throw a customized exception because the parameter of is_valid() method is not a string.\n",
    "</div>"
   ]
  },
  {
   "cell_type": "code",
   "execution_count": 9,
   "id": "fc15d68b",
   "metadata": {},
   "outputs": [
    {
     "ename": "BankingIdIsNotAString",
     "evalue": "Financial-Entity-Cleaner (Error) - The input data <12345> is not a string.",
     "output_type": "error",
     "traceback": [
      "\u001b[1;31m---------------------------------------------------------------------------\u001b[0m",
      "\u001b[1;31mBankingIdIsNotAString\u001b[0m                     Traceback (most recent call last)",
      "Input \u001b[1;32mIn [9]\u001b[0m, in \u001b[0;36m<cell line: 2>\u001b[1;34m()\u001b[0m\n\u001b[0;32m      1\u001b[0m \u001b[38;5;66;03m# Testing to clean up a value that is not a string\u001b[39;00m\n\u001b[1;32m----> 2\u001b[0m \u001b[38;5;28mprint\u001b[39m(\u001b[43mid_cleaner_obj\u001b[49m\u001b[38;5;241;43m.\u001b[39;49m\u001b[43mis_valid\u001b[49m\u001b[43m(\u001b[49m\u001b[38;5;241;43m12345\u001b[39;49m\u001b[43m)\u001b[49m)\n",
      "File \u001b[1;32m~\\OneDrive\\Projects\\GitHub\\os_climate\\financial-entity-cleaner\\notebooks\\how-to\\../..\\financial_entity_cleaner\\id\\banking.py:384\u001b[0m, in \u001b[0;36mBankingIdCleaner.is_valid\u001b[1;34m(self, id_value)\u001b[0m\n\u001b[0;32m    362\u001b[0m \u001b[38;5;28;01mdef\u001b[39;00m \u001b[38;5;21mis_valid\u001b[39m(\u001b[38;5;28mself\u001b[39m, id_value):\n\u001b[0;32m    363\u001b[0m     \u001b[38;5;124;03m\"\"\"\u001b[39;00m\n\u001b[0;32m    364\u001b[0m \u001b[38;5;124;03m    Performs only the validation of an ID (no cleaning up).\u001b[39;00m\n\u001b[0;32m    365\u001b[0m \n\u001b[1;32m   (...)\u001b[0m\n\u001b[0;32m    381\u001b[0m \n\u001b[0;32m    382\u001b[0m \u001b[38;5;124;03m    \"\"\"\u001b[39;00m\n\u001b[1;32m--> 384\u001b[0m     \u001b[38;5;28;01mif\u001b[39;00m \u001b[38;5;129;01mnot\u001b[39;00m \u001b[38;5;28;43mself\u001b[39;49m\u001b[38;5;241;43m.\u001b[39;49m\u001b[43m__is_id_param_valid\u001b[49m\u001b[43m(\u001b[49m\u001b[43mid_value\u001b[49m\u001b[43m)\u001b[49m:\n\u001b[0;32m    385\u001b[0m         \u001b[38;5;28;01mreturn\u001b[39;00m \u001b[38;5;28;01mNone\u001b[39;00m\n\u001b[0;32m    387\u001b[0m     validation_return \u001b[38;5;241m=\u001b[39m \u001b[38;5;28mself\u001b[39m\u001b[38;5;241m.\u001b[39m__validate_id(id_value)\n",
      "File \u001b[1;32m~\\OneDrive\\Projects\\GitHub\\os_climate\\financial-entity-cleaner\\notebooks\\how-to\\../..\\financial_entity_cleaner\\id\\banking.py:253\u001b[0m, in \u001b[0;36mBankingIdCleaner.__is_id_param_valid\u001b[1;34m(self, id_value)\u001b[0m\n\u001b[0;32m    251\u001b[0m \u001b[38;5;28;01mif\u001b[39;00m \u001b[38;5;129;01mnot\u001b[39;00m \u001b[38;5;28misinstance\u001b[39m(id_value, \u001b[38;5;28mstr\u001b[39m):\n\u001b[0;32m    252\u001b[0m     \u001b[38;5;28;01mif\u001b[39;00m \u001b[38;5;28mself\u001b[39m\u001b[38;5;241m.\u001b[39m_mode \u001b[38;5;241m==\u001b[39m ModeOfUse\u001b[38;5;241m.\u001b[39mEXCEPTION_MODE:\n\u001b[1;32m--> 253\u001b[0m         \u001b[38;5;28;01mraise\u001b[39;00m custom_exception\u001b[38;5;241m.\u001b[39mBankingIdIsNotAString(id_value)\n\u001b[0;32m    254\u001b[0m     \u001b[38;5;28;01melse\u001b[39;00m:\n\u001b[0;32m    255\u001b[0m         \u001b[38;5;28;01mreturn\u001b[39;00m \u001b[38;5;28;01mFalse\u001b[39;00m\n",
      "\u001b[1;31mBankingIdIsNotAString\u001b[0m: Financial-Entity-Cleaner (Error) - The input data <12345> is not a string."
     ]
    }
   ],
   "source": [
    "# Testing to clean up a value that is not a string\n",
    "print(id_cleaner_obj.is_valid(12345))"
   ]
  },
  {
   "cell_type": "code",
   "execution_count": 10,
   "id": "2b1ced94",
   "metadata": {},
   "outputs": [],
   "source": [
    "# Back to SILENT mode\n",
    "id_cleaner_obj.mode = ModeOfUse.SILENT_MODE"
   ]
  },
  {
   "cell_type": "markdown",
   "id": "f8b59a64",
   "metadata": {},
   "source": [
    "## 2. Cleaning and validating single values of text as ID's <a id=\"clean_validate_id\"></a>"
   ]
  },
  {
   "cell_type": "markdown",
   "id": "42f8d204",
   "metadata": {},
   "source": [
    "The library can also be used for cleaning and validation at the same time. In this case, it will return a dictionary with the cleaning ID and if it is valid or not:"
   ]
  },
  {
   "cell_type": "code",
   "execution_count": 11,
   "id": "d8aada62",
   "metadata": {},
   "outputs": [],
   "source": [
    "id_cleaner_obj.id_type='lei'"
   ]
  },
  {
   "cell_type": "code",
   "execution_count": 12,
   "id": "bb4af555",
   "metadata": {},
   "outputs": [
    {
     "data": {
      "text/plain": [
       "{'cleaned_id': '969500DPKGC9JE9F0820', 'isvalid_id': True}"
      ]
     },
     "execution_count": 12,
     "metadata": {},
     "output_type": "execute_result"
    }
   ],
   "source": [
    "# Cleaning a valid LEI code\n",
    "clean_lei = id_cleaner_obj.get_clean_data('969500DPKGC9JE9F0820')\n",
    "clean_lei"
   ]
  },
  {
   "cell_type": "markdown",
   "id": "eaad1b62",
   "metadata": {},
   "source": [
    "You may want to change the dictionary keys returned by get_clean_data() method. Instead of calling them 'cleaned_id' and 'isvalid_id' you can define other names by changing the properties **output_cleaned_id** and **output_validated_id**:"
   ]
  },
  {
   "cell_type": "code",
   "execution_count": 13,
   "id": "ac6ea6cd",
   "metadata": {},
   "outputs": [
    {
     "data": {
      "text/plain": [
       "{'LEI': '969500DPKGC9JE9F0820', 'IS_VALID': True}"
      ]
     },
     "execution_count": 13,
     "metadata": {},
     "output_type": "execute_result"
    }
   ],
   "source": [
    "id_cleaner_obj.output_cleaned_id = 'LEI'\n",
    "id_cleaner_obj.output_validated_id = 'IS_VALID'\n",
    "clean_lei = id_cleaner_obj.get_clean_data('969500DPKGC9JE9F0820')\n",
    "clean_lei"
   ]
  },
  {
   "cell_type": "markdown",
   "id": "dc607bb2",
   "metadata": {},
   "source": [
    "You can reset these output names any time by calling the **reset_output_names()** methods of your CountryCleaner() object: "
   ]
  },
  {
   "cell_type": "code",
   "execution_count": 14,
   "id": "525167d1",
   "metadata": {},
   "outputs": [],
   "source": [
    "id_cleaner_obj.reset_output_names()"
   ]
  },
  {
   "cell_type": "code",
   "execution_count": 15,
   "id": "e2a8a298",
   "metadata": {},
   "outputs": [
    {
     "data": {
      "text/plain": [
       "{'cleaned_id': '969500DPKGC9JE9F0820', 'isvalid_id': True}"
      ]
     },
     "execution_count": 15,
     "metadata": {},
     "output_type": "execute_result"
    }
   ],
   "source": [
    "clean_lei = id_cleaner_obj.get_clean_data('969500DPKGC9JE9F0820')\n",
    "clean_lei"
   ]
  },
  {
   "cell_type": "markdown",
   "id": "0b76bead",
   "metadata": {},
   "source": [
    "You may also want to return NaN if the ID is invalid. For this, set the property **invalid_ids_as_nan** to True. By default, it is set to False and, therefore, the get_clean_data() method will always return the ID text:"
   ]
  },
  {
   "cell_type": "code",
   "execution_count": 16,
   "id": "d44f271a",
   "metadata": {},
   "outputs": [
    {
     "data": {
      "text/plain": [
       "{'cleaned_id': nan, 'isvalid_id': False}"
      ]
     },
     "execution_count": 16,
     "metadata": {},
     "output_type": "execute_result"
    }
   ],
   "source": [
    "id_cleaner_obj.invalid_ids_as_nan = True\n",
    "clean_lei = id_cleaner_obj.get_clean_data('96XX00DPKGC9JE9F0820')\n",
    "clean_lei"
   ]
  },
  {
   "cell_type": "markdown",
   "id": "537156ec",
   "metadata": {},
   "source": [
    "## 3. Cleaning and validating IDs on tabular dataframe <a id=\"df\"></a>"
   ]
  },
  {
   "cell_type": "markdown",
   "id": "0b2114a1",
   "metadata": {},
   "source": [
    "A more realistic scenario is to have your data in a tabular format and you are already using the Pandas library to make operations on it. You can write your own code to iterate over your pandas dataframe structure by using the get_clean_data() method to clean up some columns. However, the financial-entity-cleaner makes this task easier for you. The BankingIdCleaner() class provides the **get_clean_df()** method that performs the normalization of ids defined as dataframe columns. See the code below on how to apply this method: "
   ]
  },
  {
   "cell_type": "code",
   "execution_count": 17,
   "id": "b2462636",
   "metadata": {},
   "outputs": [],
   "source": [
    "import pandas as pd"
   ]
  },
  {
   "cell_type": "code",
   "execution_count": 18,
   "id": "a8a7ee30",
   "metadata": {},
   "outputs": [
    {
     "data": {
      "text/html": [
       "<div>\n",
       "<style scoped>\n",
       "    .dataframe tbody tr th:only-of-type {\n",
       "        vertical-align: middle;\n",
       "    }\n",
       "\n",
       "    .dataframe tbody tr th {\n",
       "        vertical-align: top;\n",
       "    }\n",
       "\n",
       "    .dataframe thead th {\n",
       "        text-align: right;\n",
       "    }\n",
       "</style>\n",
       "<table border=\"1\" class=\"dataframe\">\n",
       "  <thead>\n",
       "    <tr style=\"text-align: right;\">\n",
       "      <th></th>\n",
       "      <th>NAME</th>\n",
       "      <th>LEI</th>\n",
       "    </tr>\n",
       "  </thead>\n",
       "  <tbody>\n",
       "    <tr>\n",
       "      <th>0</th>\n",
       "      <td>Bechel   *Australia (Services) Pty Ltd</td>\n",
       "      <td>98 4500 e8da1de9a0d939</td>\n",
       "    </tr>\n",
       "    <tr>\n",
       "      <th>1</th>\n",
       "      <td>NRI - KELLY's MERCHANDISE (AUST) PTY LTD</td>\n",
       "      <td>NaN</td>\n",
       "    </tr>\n",
       "    <tr>\n",
       "      <th>2</th>\n",
       "      <td>meo -  serviços de comunicação e multimedia SA...</td>\n",
       "      <td>5493001MT6YISZH3YV05</td>\n",
       "    </tr>\n",
       "    <tr>\n",
       "      <th>3</th>\n",
       "      <td>Glass  Coatings &amp; Concepts \"CBG\" LLC</td>\n",
       "      <td>34123456</td>\n",
       "    </tr>\n",
       "    <tr>\n",
       "      <th>4</th>\n",
       "      <td>Brault Loisirs, Orl. SARL</td>\n",
       "      <td>NaN</td>\n",
       "    </tr>\n",
       "    <tr>\n",
       "      <th>5</th>\n",
       "      <td>Cole &amp; Brothers  Fabric, Services LLC.</td>\n",
       "      <td>213800UHTTV6EGY74X82</td>\n",
       "    </tr>\n",
       "    <tr>\n",
       "      <th>6</th>\n",
       "      <td>StarCOM Group Servizi **CAT** SRL</td>\n",
       "      <td>NaN</td>\n",
       "    </tr>\n",
       "    <tr>\n",
       "      <th>7</th>\n",
       "      <td>Wolbeck (Archer Daniels) *Unified* GmbH</td>\n",
       "      <td>NaN</td>\n",
       "    </tr>\n",
       "    <tr>\n",
       "      <th>8</th>\n",
       "      <td>Anheuser-BUSCH, Brothers (food services), LLC</td>\n",
       "      <td>US4567899888</td>\n",
       "    </tr>\n",
       "    <tr>\n",
       "      <th>9</th>\n",
       "      <td>Susamar-Patino, colectores (adm)   SA</td>\n",
       "      <td>NaN</td>\n",
       "    </tr>\n",
       "  </tbody>\n",
       "</table>\n",
       "</div>"
      ],
      "text/plain": [
       "                                                NAME                     LEI\n",
       "0             Bechel   *Australia (Services) Pty Ltd  98 4500 e8da1de9a0d939\n",
       "1           NRI - KELLY's MERCHANDISE (AUST) PTY LTD                     NaN\n",
       "2  meo -  serviços de comunicação e multimedia SA...    5493001MT6YISZH3YV05\n",
       "3               Glass  Coatings & Concepts \"CBG\" LLC                34123456\n",
       "4                          Brault Loisirs, Orl. SARL                     NaN\n",
       "5             Cole & Brothers  Fabric, Services LLC.    213800UHTTV6EGY74X82\n",
       "6                  StarCOM Group Servizi **CAT** SRL                     NaN\n",
       "7            Wolbeck (Archer Daniels) *Unified* GmbH                     NaN\n",
       "8      Anheuser-BUSCH, Brothers (food services), LLC            US4567899888\n",
       "9              Susamar-Patino, colectores (adm)   SA                     NaN"
      ]
     },
     "execution_count": 18,
     "metadata": {},
     "output_type": "execute_result"
    }
   ],
   "source": [
    "# Read the .csv file as a pandas dataframe object\n",
    "input_filename = '../../tests/data/test_cleaner.csv'\n",
    "df_original = pd.read_csv(input_filename,sep=';',encoding='utf-8', usecols=['NAME','LEI'])\n",
    "df_original"
   ]
  },
  {
   "cell_type": "code",
   "execution_count": 19,
   "id": "e318a2ba",
   "metadata": {},
   "outputs": [],
   "source": [
    "# Set up the resultant letter case\n",
    "id_cleaner_obj.output_lettercase='upper'"
   ]
  },
  {
   "cell_type": "code",
   "execution_count": 20,
   "id": "75105a8c",
   "metadata": {},
   "outputs": [],
   "source": [
    "id_cleaner_obj.id_type='lei'"
   ]
  },
  {
   "cell_type": "code",
   "execution_count": 21,
   "id": "9887aa3f",
   "metadata": {},
   "outputs": [
    {
     "name": "stderr",
     "output_type": "stream",
     "text": [
      "Normalizing IDs...100%|██████████████████████████████████████████████████| 10/10 [00:00<00:00, 833.87it/s]\n"
     ]
    },
    {
     "data": {
      "text/html": [
       "<div>\n",
       "<style scoped>\n",
       "    .dataframe tbody tr th:only-of-type {\n",
       "        vertical-align: middle;\n",
       "    }\n",
       "\n",
       "    .dataframe tbody tr th {\n",
       "        vertical-align: top;\n",
       "    }\n",
       "\n",
       "    .dataframe thead th {\n",
       "        text-align: right;\n",
       "    }\n",
       "</style>\n",
       "<table border=\"1\" class=\"dataframe\">\n",
       "  <thead>\n",
       "    <tr style=\"text-align: right;\">\n",
       "      <th></th>\n",
       "      <th>NAME</th>\n",
       "      <th>LEI</th>\n",
       "      <th>cleaned_id</th>\n",
       "      <th>isvalid_id</th>\n",
       "    </tr>\n",
       "  </thead>\n",
       "  <tbody>\n",
       "    <tr>\n",
       "      <th>0</th>\n",
       "      <td>Bechel   *Australia (Services) Pty Ltd</td>\n",
       "      <td>98 4500 e8da1de9a0d939</td>\n",
       "      <td>984500E8DA1DE9A0D939</td>\n",
       "      <td>True</td>\n",
       "    </tr>\n",
       "    <tr>\n",
       "      <th>1</th>\n",
       "      <td>NRI - KELLY's MERCHANDISE (AUST) PTY LTD</td>\n",
       "      <td>NaN</td>\n",
       "      <td>NaN</td>\n",
       "      <td>NaN</td>\n",
       "    </tr>\n",
       "    <tr>\n",
       "      <th>2</th>\n",
       "      <td>meo -  serviços de comunicação e multimedia SA...</td>\n",
       "      <td>5493001MT6YISZH3YV05</td>\n",
       "      <td>5493001MT6YISZH3YV05</td>\n",
       "      <td>True</td>\n",
       "    </tr>\n",
       "    <tr>\n",
       "      <th>3</th>\n",
       "      <td>Glass  Coatings &amp; Concepts \"CBG\" LLC</td>\n",
       "      <td>34123456</td>\n",
       "      <td>NaN</td>\n",
       "      <td>False</td>\n",
       "    </tr>\n",
       "    <tr>\n",
       "      <th>4</th>\n",
       "      <td>Brault Loisirs, Orl. SARL</td>\n",
       "      <td>NaN</td>\n",
       "      <td>NaN</td>\n",
       "      <td>NaN</td>\n",
       "    </tr>\n",
       "    <tr>\n",
       "      <th>5</th>\n",
       "      <td>Cole &amp; Brothers  Fabric, Services LLC.</td>\n",
       "      <td>213800UHTTV6EGY74X82</td>\n",
       "      <td>213800UHTTV6EGY74X82</td>\n",
       "      <td>True</td>\n",
       "    </tr>\n",
       "    <tr>\n",
       "      <th>6</th>\n",
       "      <td>StarCOM Group Servizi **CAT** SRL</td>\n",
       "      <td>NaN</td>\n",
       "      <td>NaN</td>\n",
       "      <td>NaN</td>\n",
       "    </tr>\n",
       "    <tr>\n",
       "      <th>7</th>\n",
       "      <td>Wolbeck (Archer Daniels) *Unified* GmbH</td>\n",
       "      <td>NaN</td>\n",
       "      <td>NaN</td>\n",
       "      <td>NaN</td>\n",
       "    </tr>\n",
       "    <tr>\n",
       "      <th>8</th>\n",
       "      <td>Anheuser-BUSCH, Brothers (food services), LLC</td>\n",
       "      <td>US4567899888</td>\n",
       "      <td>NaN</td>\n",
       "      <td>False</td>\n",
       "    </tr>\n",
       "    <tr>\n",
       "      <th>9</th>\n",
       "      <td>Susamar-Patino, colectores (adm)   SA</td>\n",
       "      <td>NaN</td>\n",
       "      <td>NaN</td>\n",
       "      <td>NaN</td>\n",
       "    </tr>\n",
       "  </tbody>\n",
       "</table>\n",
       "</div>"
      ],
      "text/plain": [
       "                                                NAME                     LEI  \\\n",
       "0             Bechel   *Australia (Services) Pty Ltd  98 4500 e8da1de9a0d939   \n",
       "1           NRI - KELLY's MERCHANDISE (AUST) PTY LTD                     NaN   \n",
       "2  meo -  serviços de comunicação e multimedia SA...    5493001MT6YISZH3YV05   \n",
       "3               Glass  Coatings & Concepts \"CBG\" LLC                34123456   \n",
       "4                          Brault Loisirs, Orl. SARL                     NaN   \n",
       "5             Cole & Brothers  Fabric, Services LLC.    213800UHTTV6EGY74X82   \n",
       "6                  StarCOM Group Servizi **CAT** SRL                     NaN   \n",
       "7            Wolbeck (Archer Daniels) *Unified* GmbH                     NaN   \n",
       "8      Anheuser-BUSCH, Brothers (food services), LLC            US4567899888   \n",
       "9              Susamar-Patino, colectores (adm)   SA                     NaN   \n",
       "\n",
       "             cleaned_id isvalid_id  \n",
       "0  984500E8DA1DE9A0D939       True  \n",
       "1                   NaN        NaN  \n",
       "2  5493001MT6YISZH3YV05       True  \n",
       "3                   NaN      False  \n",
       "4                   NaN        NaN  \n",
       "5  213800UHTTV6EGY74X82       True  \n",
       "6                   NaN        NaN  \n",
       "7                   NaN        NaN  \n",
       "8                   NaN      False  \n",
       "9                   NaN        NaN  "
      ]
     },
     "execution_count": 21,
     "metadata": {},
     "output_type": "execute_result"
    }
   ],
   "source": [
    "df_cleaner = id_cleaner_obj.get_clean_df(df_original, 'LEI')\n",
    "df_cleaner"
   ]
  },
  {
   "cell_type": "markdown",
   "id": "76fc22dc",
   "metadata": {},
   "source": [
    "The result above sets cleaned_id to NaN if the ID is invalid. This happens when **invalid_ids_as_nan** property is True. Therefore, make sure it is set to False if you don't want this behaviour: "
   ]
  },
  {
   "cell_type": "code",
   "execution_count": 22,
   "id": "afd0d86b",
   "metadata": {},
   "outputs": [],
   "source": [
    "id_cleaner_obj.invalid_ids_as_nan = False "
   ]
  },
  {
   "cell_type": "code",
   "execution_count": 23,
   "id": "1b72669e",
   "metadata": {},
   "outputs": [
    {
     "name": "stderr",
     "output_type": "stream",
     "text": [
      "Normalizing IDs...100%|██████████████████████████████████████████████████| 10/10 [00:00<00:00, 667.12it/s]\n"
     ]
    },
    {
     "data": {
      "text/html": [
       "<div>\n",
       "<style scoped>\n",
       "    .dataframe tbody tr th:only-of-type {\n",
       "        vertical-align: middle;\n",
       "    }\n",
       "\n",
       "    .dataframe tbody tr th {\n",
       "        vertical-align: top;\n",
       "    }\n",
       "\n",
       "    .dataframe thead th {\n",
       "        text-align: right;\n",
       "    }\n",
       "</style>\n",
       "<table border=\"1\" class=\"dataframe\">\n",
       "  <thead>\n",
       "    <tr style=\"text-align: right;\">\n",
       "      <th></th>\n",
       "      <th>NAME</th>\n",
       "      <th>LEI</th>\n",
       "      <th>cleaned_id</th>\n",
       "      <th>isvalid_id</th>\n",
       "    </tr>\n",
       "  </thead>\n",
       "  <tbody>\n",
       "    <tr>\n",
       "      <th>0</th>\n",
       "      <td>Bechel   *Australia (Services) Pty Ltd</td>\n",
       "      <td>98 4500 e8da1de9a0d939</td>\n",
       "      <td>984500E8DA1DE9A0D939</td>\n",
       "      <td>True</td>\n",
       "    </tr>\n",
       "    <tr>\n",
       "      <th>1</th>\n",
       "      <td>NRI - KELLY's MERCHANDISE (AUST) PTY LTD</td>\n",
       "      <td>NaN</td>\n",
       "      <td>NaN</td>\n",
       "      <td>NaN</td>\n",
       "    </tr>\n",
       "    <tr>\n",
       "      <th>2</th>\n",
       "      <td>meo -  serviços de comunicação e multimedia SA...</td>\n",
       "      <td>5493001MT6YISZH3YV05</td>\n",
       "      <td>5493001MT6YISZH3YV05</td>\n",
       "      <td>True</td>\n",
       "    </tr>\n",
       "    <tr>\n",
       "      <th>3</th>\n",
       "      <td>Glass  Coatings &amp; Concepts \"CBG\" LLC</td>\n",
       "      <td>34123456</td>\n",
       "      <td>34123456</td>\n",
       "      <td>False</td>\n",
       "    </tr>\n",
       "    <tr>\n",
       "      <th>4</th>\n",
       "      <td>Brault Loisirs, Orl. SARL</td>\n",
       "      <td>NaN</td>\n",
       "      <td>NaN</td>\n",
       "      <td>NaN</td>\n",
       "    </tr>\n",
       "    <tr>\n",
       "      <th>5</th>\n",
       "      <td>Cole &amp; Brothers  Fabric, Services LLC.</td>\n",
       "      <td>213800UHTTV6EGY74X82</td>\n",
       "      <td>213800UHTTV6EGY74X82</td>\n",
       "      <td>True</td>\n",
       "    </tr>\n",
       "    <tr>\n",
       "      <th>6</th>\n",
       "      <td>StarCOM Group Servizi **CAT** SRL</td>\n",
       "      <td>NaN</td>\n",
       "      <td>NaN</td>\n",
       "      <td>NaN</td>\n",
       "    </tr>\n",
       "    <tr>\n",
       "      <th>7</th>\n",
       "      <td>Wolbeck (Archer Daniels) *Unified* GmbH</td>\n",
       "      <td>NaN</td>\n",
       "      <td>NaN</td>\n",
       "      <td>NaN</td>\n",
       "    </tr>\n",
       "    <tr>\n",
       "      <th>8</th>\n",
       "      <td>Anheuser-BUSCH, Brothers (food services), LLC</td>\n",
       "      <td>US4567899888</td>\n",
       "      <td>US4567899888</td>\n",
       "      <td>False</td>\n",
       "    </tr>\n",
       "    <tr>\n",
       "      <th>9</th>\n",
       "      <td>Susamar-Patino, colectores (adm)   SA</td>\n",
       "      <td>NaN</td>\n",
       "      <td>NaN</td>\n",
       "      <td>NaN</td>\n",
       "    </tr>\n",
       "  </tbody>\n",
       "</table>\n",
       "</div>"
      ],
      "text/plain": [
       "                                                NAME                     LEI  \\\n",
       "0             Bechel   *Australia (Services) Pty Ltd  98 4500 e8da1de9a0d939   \n",
       "1           NRI - KELLY's MERCHANDISE (AUST) PTY LTD                     NaN   \n",
       "2  meo -  serviços de comunicação e multimedia SA...    5493001MT6YISZH3YV05   \n",
       "3               Glass  Coatings & Concepts \"CBG\" LLC                34123456   \n",
       "4                          Brault Loisirs, Orl. SARL                     NaN   \n",
       "5             Cole & Brothers  Fabric, Services LLC.    213800UHTTV6EGY74X82   \n",
       "6                  StarCOM Group Servizi **CAT** SRL                     NaN   \n",
       "7            Wolbeck (Archer Daniels) *Unified* GmbH                     NaN   \n",
       "8      Anheuser-BUSCH, Brothers (food services), LLC            US4567899888   \n",
       "9              Susamar-Patino, colectores (adm)   SA                     NaN   \n",
       "\n",
       "             cleaned_id isvalid_id  \n",
       "0  984500E8DA1DE9A0D939       True  \n",
       "1                   NaN        NaN  \n",
       "2  5493001MT6YISZH3YV05       True  \n",
       "3              34123456      False  \n",
       "4                   NaN        NaN  \n",
       "5  213800UHTTV6EGY74X82       True  \n",
       "6                   NaN        NaN  \n",
       "7                   NaN        NaN  \n",
       "8          US4567899888      False  \n",
       "9                   NaN        NaN  "
      ]
     },
     "execution_count": 23,
     "metadata": {},
     "output_type": "execute_result"
    }
   ],
   "source": [
    "df_cleaner = id_cleaner_obj.get_clean_df(df_original, 'LEI')\n",
    "df_cleaner"
   ]
  },
  {
   "cell_type": "markdown",
   "id": "dd7e1a3e",
   "metadata": {},
   "source": [
    "Change the properties **output_cleaned_id** and **output_validated_id** to change the output column names."
   ]
  },
  {
   "cell_type": "code",
   "execution_count": 24,
   "id": "9cba0c10",
   "metadata": {},
   "outputs": [],
   "source": [
    "id_cleaner_obj.output_cleaned_id = 'LEI_CLEANED'\n",
    "id_cleaner_obj.output_validated_id = 'IS_VALID_LEI'"
   ]
  },
  {
   "cell_type": "code",
   "execution_count": 25,
   "id": "b20f9aa9",
   "metadata": {},
   "outputs": [
    {
     "name": "stderr",
     "output_type": "stream",
     "text": [
      "Normalizing IDs...100%|██████████████████████████████████████████████████| 10/10 [00:00<00:00, 714.74it/s]\n"
     ]
    },
    {
     "data": {
      "text/html": [
       "<div>\n",
       "<style scoped>\n",
       "    .dataframe tbody tr th:only-of-type {\n",
       "        vertical-align: middle;\n",
       "    }\n",
       "\n",
       "    .dataframe tbody tr th {\n",
       "        vertical-align: top;\n",
       "    }\n",
       "\n",
       "    .dataframe thead th {\n",
       "        text-align: right;\n",
       "    }\n",
       "</style>\n",
       "<table border=\"1\" class=\"dataframe\">\n",
       "  <thead>\n",
       "    <tr style=\"text-align: right;\">\n",
       "      <th></th>\n",
       "      <th>NAME</th>\n",
       "      <th>LEI</th>\n",
       "      <th>LEI_CLEANED</th>\n",
       "      <th>IS_VALID_LEI</th>\n",
       "    </tr>\n",
       "  </thead>\n",
       "  <tbody>\n",
       "    <tr>\n",
       "      <th>0</th>\n",
       "      <td>Bechel   *Australia (Services) Pty Ltd</td>\n",
       "      <td>98 4500 e8da1de9a0d939</td>\n",
       "      <td>984500E8DA1DE9A0D939</td>\n",
       "      <td>True</td>\n",
       "    </tr>\n",
       "    <tr>\n",
       "      <th>1</th>\n",
       "      <td>NRI - KELLY's MERCHANDISE (AUST) PTY LTD</td>\n",
       "      <td>NaN</td>\n",
       "      <td>NaN</td>\n",
       "      <td>NaN</td>\n",
       "    </tr>\n",
       "    <tr>\n",
       "      <th>2</th>\n",
       "      <td>meo -  serviços de comunicação e multimedia SA...</td>\n",
       "      <td>5493001MT6YISZH3YV05</td>\n",
       "      <td>5493001MT6YISZH3YV05</td>\n",
       "      <td>True</td>\n",
       "    </tr>\n",
       "    <tr>\n",
       "      <th>3</th>\n",
       "      <td>Glass  Coatings &amp; Concepts \"CBG\" LLC</td>\n",
       "      <td>34123456</td>\n",
       "      <td>34123456</td>\n",
       "      <td>False</td>\n",
       "    </tr>\n",
       "    <tr>\n",
       "      <th>4</th>\n",
       "      <td>Brault Loisirs, Orl. SARL</td>\n",
       "      <td>NaN</td>\n",
       "      <td>NaN</td>\n",
       "      <td>NaN</td>\n",
       "    </tr>\n",
       "    <tr>\n",
       "      <th>5</th>\n",
       "      <td>Cole &amp; Brothers  Fabric, Services LLC.</td>\n",
       "      <td>213800UHTTV6EGY74X82</td>\n",
       "      <td>213800UHTTV6EGY74X82</td>\n",
       "      <td>True</td>\n",
       "    </tr>\n",
       "    <tr>\n",
       "      <th>6</th>\n",
       "      <td>StarCOM Group Servizi **CAT** SRL</td>\n",
       "      <td>NaN</td>\n",
       "      <td>NaN</td>\n",
       "      <td>NaN</td>\n",
       "    </tr>\n",
       "    <tr>\n",
       "      <th>7</th>\n",
       "      <td>Wolbeck (Archer Daniels) *Unified* GmbH</td>\n",
       "      <td>NaN</td>\n",
       "      <td>NaN</td>\n",
       "      <td>NaN</td>\n",
       "    </tr>\n",
       "    <tr>\n",
       "      <th>8</th>\n",
       "      <td>Anheuser-BUSCH, Brothers (food services), LLC</td>\n",
       "      <td>US4567899888</td>\n",
       "      <td>US4567899888</td>\n",
       "      <td>False</td>\n",
       "    </tr>\n",
       "    <tr>\n",
       "      <th>9</th>\n",
       "      <td>Susamar-Patino, colectores (adm)   SA</td>\n",
       "      <td>NaN</td>\n",
       "      <td>NaN</td>\n",
       "      <td>NaN</td>\n",
       "    </tr>\n",
       "  </tbody>\n",
       "</table>\n",
       "</div>"
      ],
      "text/plain": [
       "                                                NAME                     LEI  \\\n",
       "0             Bechel   *Australia (Services) Pty Ltd  98 4500 e8da1de9a0d939   \n",
       "1           NRI - KELLY's MERCHANDISE (AUST) PTY LTD                     NaN   \n",
       "2  meo -  serviços de comunicação e multimedia SA...    5493001MT6YISZH3YV05   \n",
       "3               Glass  Coatings & Concepts \"CBG\" LLC                34123456   \n",
       "4                          Brault Loisirs, Orl. SARL                     NaN   \n",
       "5             Cole & Brothers  Fabric, Services LLC.    213800UHTTV6EGY74X82   \n",
       "6                  StarCOM Group Servizi **CAT** SRL                     NaN   \n",
       "7            Wolbeck (Archer Daniels) *Unified* GmbH                     NaN   \n",
       "8      Anheuser-BUSCH, Brothers (food services), LLC            US4567899888   \n",
       "9              Susamar-Patino, colectores (adm)   SA                     NaN   \n",
       "\n",
       "            LEI_CLEANED IS_VALID_LEI  \n",
       "0  984500E8DA1DE9A0D939         True  \n",
       "1                   NaN          NaN  \n",
       "2  5493001MT6YISZH3YV05         True  \n",
       "3              34123456        False  \n",
       "4                   NaN          NaN  \n",
       "5  213800UHTTV6EGY74X82         True  \n",
       "6                   NaN          NaN  \n",
       "7                   NaN          NaN  \n",
       "8          US4567899888        False  \n",
       "9                   NaN          NaN  "
      ]
     },
     "execution_count": 25,
     "metadata": {},
     "output_type": "execute_result"
    }
   ],
   "source": [
    "df_cleaner = id_cleaner_obj.get_clean_df(df_original, 'LEI')\n",
    "df_cleaner"
   ]
  },
  {
   "cell_type": "markdown",
   "id": "2126332a",
   "metadata": {},
   "source": [
    "If the **output_cleaned_id** is the same name of the input column, then its values will be replaced by the cleaned ones. Therefore, be carefull if you combine this feature when the property **invalid_ids_as_nan** is True because the IDs will be set to NaN if they are invalid. Compare lines 3 and 8 of the results below with the previous one:"
   ]
  },
  {
   "cell_type": "code",
   "execution_count": 26,
   "id": "40be4656",
   "metadata": {},
   "outputs": [],
   "source": [
    "id_cleaner_obj.invalid_ids_as_nan = True"
   ]
  },
  {
   "cell_type": "code",
   "execution_count": 27,
   "id": "8647b56b",
   "metadata": {},
   "outputs": [],
   "source": [
    "id_cleaner_obj.output_cleaned_id = 'LEI'"
   ]
  },
  {
   "cell_type": "code",
   "execution_count": 28,
   "id": "d533dc86",
   "metadata": {},
   "outputs": [
    {
     "name": "stderr",
     "output_type": "stream",
     "text": [
      "Normalizing IDs...100%|██████████████████████████████████████████████████| 10/10 [00:00<00:00, 714.79it/s]\n"
     ]
    },
    {
     "data": {
      "text/html": [
       "<div>\n",
       "<style scoped>\n",
       "    .dataframe tbody tr th:only-of-type {\n",
       "        vertical-align: middle;\n",
       "    }\n",
       "\n",
       "    .dataframe tbody tr th {\n",
       "        vertical-align: top;\n",
       "    }\n",
       "\n",
       "    .dataframe thead th {\n",
       "        text-align: right;\n",
       "    }\n",
       "</style>\n",
       "<table border=\"1\" class=\"dataframe\">\n",
       "  <thead>\n",
       "    <tr style=\"text-align: right;\">\n",
       "      <th></th>\n",
       "      <th>NAME</th>\n",
       "      <th>LEI</th>\n",
       "      <th>IS_VALID_LEI</th>\n",
       "    </tr>\n",
       "  </thead>\n",
       "  <tbody>\n",
       "    <tr>\n",
       "      <th>0</th>\n",
       "      <td>Bechel   *Australia (Services) Pty Ltd</td>\n",
       "      <td>984500E8DA1DE9A0D939</td>\n",
       "      <td>True</td>\n",
       "    </tr>\n",
       "    <tr>\n",
       "      <th>1</th>\n",
       "      <td>NRI - KELLY's MERCHANDISE (AUST) PTY LTD</td>\n",
       "      <td>NaN</td>\n",
       "      <td>NaN</td>\n",
       "    </tr>\n",
       "    <tr>\n",
       "      <th>2</th>\n",
       "      <td>meo -  serviços de comunicação e multimedia SA...</td>\n",
       "      <td>5493001MT6YISZH3YV05</td>\n",
       "      <td>True</td>\n",
       "    </tr>\n",
       "    <tr>\n",
       "      <th>3</th>\n",
       "      <td>Glass  Coatings &amp; Concepts \"CBG\" LLC</td>\n",
       "      <td>NaN</td>\n",
       "      <td>False</td>\n",
       "    </tr>\n",
       "    <tr>\n",
       "      <th>4</th>\n",
       "      <td>Brault Loisirs, Orl. SARL</td>\n",
       "      <td>NaN</td>\n",
       "      <td>NaN</td>\n",
       "    </tr>\n",
       "    <tr>\n",
       "      <th>5</th>\n",
       "      <td>Cole &amp; Brothers  Fabric, Services LLC.</td>\n",
       "      <td>213800UHTTV6EGY74X82</td>\n",
       "      <td>True</td>\n",
       "    </tr>\n",
       "    <tr>\n",
       "      <th>6</th>\n",
       "      <td>StarCOM Group Servizi **CAT** SRL</td>\n",
       "      <td>NaN</td>\n",
       "      <td>NaN</td>\n",
       "    </tr>\n",
       "    <tr>\n",
       "      <th>7</th>\n",
       "      <td>Wolbeck (Archer Daniels) *Unified* GmbH</td>\n",
       "      <td>NaN</td>\n",
       "      <td>NaN</td>\n",
       "    </tr>\n",
       "    <tr>\n",
       "      <th>8</th>\n",
       "      <td>Anheuser-BUSCH, Brothers (food services), LLC</td>\n",
       "      <td>NaN</td>\n",
       "      <td>False</td>\n",
       "    </tr>\n",
       "    <tr>\n",
       "      <th>9</th>\n",
       "      <td>Susamar-Patino, colectores (adm)   SA</td>\n",
       "      <td>NaN</td>\n",
       "      <td>NaN</td>\n",
       "    </tr>\n",
       "  </tbody>\n",
       "</table>\n",
       "</div>"
      ],
      "text/plain": [
       "                                                NAME                   LEI  \\\n",
       "0             Bechel   *Australia (Services) Pty Ltd  984500E8DA1DE9A0D939   \n",
       "1           NRI - KELLY's MERCHANDISE (AUST) PTY LTD                   NaN   \n",
       "2  meo -  serviços de comunicação e multimedia SA...  5493001MT6YISZH3YV05   \n",
       "3               Glass  Coatings & Concepts \"CBG\" LLC                   NaN   \n",
       "4                          Brault Loisirs, Orl. SARL                   NaN   \n",
       "5             Cole & Brothers  Fabric, Services LLC.  213800UHTTV6EGY74X82   \n",
       "6                  StarCOM Group Servizi **CAT** SRL                   NaN   \n",
       "7            Wolbeck (Archer Daniels) *Unified* GmbH                   NaN   \n",
       "8      Anheuser-BUSCH, Brothers (food services), LLC                   NaN   \n",
       "9              Susamar-Patino, colectores (adm)   SA                   NaN   \n",
       "\n",
       "  IS_VALID_LEI  \n",
       "0         True  \n",
       "1          NaN  \n",
       "2         True  \n",
       "3        False  \n",
       "4          NaN  \n",
       "5         True  \n",
       "6          NaN  \n",
       "7          NaN  \n",
       "8        False  \n",
       "9          NaN  "
      ]
     },
     "execution_count": 28,
     "metadata": {},
     "output_type": "execute_result"
    }
   ],
   "source": [
    "df_cleaner = id_cleaner_obj.get_clean_df(df_original, 'LEI')\n",
    "df_cleaner"
   ]
  },
  {
   "cell_type": "code",
   "execution_count": null,
   "id": "2f074830",
   "metadata": {},
   "outputs": [],
   "source": []
  }
 ],
 "metadata": {
  "kernelspec": {
   "display_name": "Python 3 (ipykernel)",
   "language": "python",
   "name": "python3"
  },
  "language_info": {
   "codemirror_mode": {
    "name": "ipython",
    "version": 3
   },
   "file_extension": ".py",
   "mimetype": "text/x-python",
   "name": "python",
   "nbconvert_exporter": "python",
   "pygments_lexer": "ipython3",
   "version": "3.8.11"
  }
 },
 "nbformat": 4,
 "nbformat_minor": 5
}
