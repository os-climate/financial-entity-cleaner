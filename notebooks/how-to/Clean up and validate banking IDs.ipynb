{
 "cells": [
  {
   "cell_type": "markdown",
   "id": "a937f3c4",
   "metadata": {},
   "source": [
    "# How to...clean up and validate banking IDs"
   ]
  },
  {
   "cell_type": "markdown",
   "id": "afc45c44",
   "metadata": {},
   "source": [
    "This notebook shows how to use the **BankingIDCleaner** class to validate ID's such as LEI, ISIN and SEDOL. You can use this class in three different ways:\n",
    "1. [to validate single values of text as ID's](#validate_id)\n",
    "2. [to clean & validate single values of text as ID's](#clean_validate_id)\n",
    "3. [to clean & validate IDs on tabular dataframes](#df)\n",
    "\n",
    "No matter which approach you choose, you will need to import and create an object based on the **BankingIdCleaner()** class which is available in the **financial_entity_cleaner.id** package. This notebook shows how you can customize the behaviour of this class to adapt the cleaning to your own needs.   "
   ]
  },
  {
   "cell_type": "code",
   "execution_count": 1,
   "id": "f41d78ec",
   "metadata": {},
   "outputs": [],
   "source": [
    "# Sets up the location of the financial-entity-cleaner library relative to this notebook \n",
    "import sys\n",
    "sys.path.append('../../')"
   ]
  },
  {
   "cell_type": "code",
   "execution_count": 2,
   "id": "98eea0b4",
   "metadata": {},
   "outputs": [],
   "source": [
    "# Import BankingIdCleaner\n",
    "from financial_entity_cleaner.id import BankingIdCleaner"
   ]
  },
  {
   "cell_type": "code",
   "execution_count": 3,
   "id": "da81e534",
   "metadata": {},
   "outputs": [],
   "source": [
    "# Create an object based on the BankingIdCleaner() class\n",
    "id_cleaner_obj = BankingIdCleaner()"
   ]
  },
  {
   "cell_type": "markdown",
   "id": "71a7ef9a",
   "metadata": {},
   "source": [
    "To see all the supported ID types:"
   ]
  },
  {
   "cell_type": "code",
   "execution_count": 4,
   "id": "4865f940",
   "metadata": {},
   "outputs": [
    {
     "data": {
      "text/plain": [
       "['lei', 'isin', 'sedol']"
      ]
     },
     "execution_count": 4,
     "metadata": {},
     "output_type": "execute_result"
    }
   ],
   "source": [
    "# Check the ID's supported by the library\n",
    "id_cleaner_obj.get_types()"
   ]
  },
  {
   "cell_type": "markdown",
   "id": "ded8492b",
   "metadata": {},
   "source": [
    "<div class=\"alert alert-block alert-danger\">\n",
    "<b>EXCEPTION:</b> The library throws an exception if the ID type is not supported.\n",
    "</div>"
   ]
  },
  {
   "cell_type": "code",
   "execution_count": 5,
   "id": "ccb2bf01",
   "metadata": {},
   "outputs": [
    {
     "ename": "TypeOfBankingIdNotSupported",
     "evalue": "Financial-Entity-Cleaner (Error) <BankingIdCleaner> - The ID type(s) <test> is/are not supported.",
     "output_type": "error",
     "traceback": [
      "\u001b[1;31m---------------------------------------------------------------------------\u001b[0m",
      "\u001b[1;31mTypeOfBankingIdNotSupported\u001b[0m               Traceback (most recent call last)",
      "Input \u001b[1;32mIn [5]\u001b[0m, in \u001b[0;36m<cell line: 1>\u001b[1;34m()\u001b[0m\n\u001b[1;32m----> 1\u001b[0m \u001b[43mid_cleaner_obj\u001b[49m\u001b[38;5;241;43m.\u001b[39;49m\u001b[43mid_type\u001b[49m\u001b[38;5;241m=\u001b[39m\u001b[38;5;124m'\u001b[39m\u001b[38;5;124mtest\u001b[39m\u001b[38;5;124m'\u001b[39m\n",
      "File \u001b[1;32m~\\OneDrive\\Projects\\GitHub\\os_climate\\financial-entity-cleaner\\notebooks\\how-to\\../..\\financial_entity_cleaner\\id\\banking.py:124\u001b[0m, in \u001b[0;36mBankingIdCleaner.id_type\u001b[1;34m(self, new_id_type)\u001b[0m\n\u001b[0;32m    122\u001b[0m \u001b[38;5;66;03m# Chek if the new type is valid/supported\u001b[39;00m\n\u001b[0;32m    123\u001b[0m \u001b[38;5;28;01mif\u001b[39;00m \u001b[38;5;129;01mnot\u001b[39;00m (new_id_type \u001b[38;5;129;01min\u001b[39;00m \u001b[38;5;28mself\u001b[39m\u001b[38;5;241m.\u001b[39m__VALIDATIONS_SUPPORTED):\n\u001b[1;32m--> 124\u001b[0m     \u001b[38;5;28;01mraise\u001b[39;00m custom_exception\u001b[38;5;241m.\u001b[39mTypeOfBankingIdNotSupported(new_id_type)\n\u001b[0;32m    125\u001b[0m \u001b[38;5;28mself\u001b[39m\u001b[38;5;241m.\u001b[39m_id_type \u001b[38;5;241m=\u001b[39m new_id_type\n",
      "\u001b[1;31mTypeOfBankingIdNotSupported\u001b[0m: Financial-Entity-Cleaner (Error) <BankingIdCleaner> - The ID type(s) <test> is/are not supported."
     ]
    }
   ],
   "source": [
    "id_cleaner_obj.id_type='test'"
   ]
  },
  {
   "cell_type": "markdown",
   "id": "ff699a9c",
   "metadata": {},
   "source": [
    "## 1. Validating single values of text as ID's <a id=\"validate_id\"></a>"
   ]
  },
  {
   "cell_type": "markdown",
   "id": "d0094c17",
   "metadata": {},
   "source": [
    "Use **is_valid()** method to verify if an ID is valid. This methods will return:\n",
    "- None if the value is not a string or has no characters in it.\n",
    "- True if the value is a valid ID of the specified type\n",
    "- False if the value is not a valid ID of the specified type"
   ]
  },
  {
   "cell_type": "markdown",
   "id": "a1a7c10e",
   "metadata": {},
   "source": [
    "By default, the library assumes that the value passed as parameter is an ISIN code. "
   ]
  },
  {
   "cell_type": "code",
   "execution_count": 6,
   "id": "c710f413",
   "metadata": {},
   "outputs": [
    {
     "name": "stdout",
     "output_type": "stream",
     "text": [
      "isin\n"
     ]
    }
   ],
   "source": [
    "# Checking the default type\n",
    "print(id_cleaner_obj.id_type)"
   ]
  },
  {
   "cell_type": "code",
   "execution_count": 7,
   "id": "d1914800",
   "metadata": {},
   "outputs": [
    {
     "name": "stdout",
     "output_type": "stream",
     "text": [
      "False\n"
     ]
    }
   ],
   "source": [
    "# Testing an invalid ISIN code\n",
    "print(id_cleaner_obj.is_valid('tttt0B1YW4409'))"
   ]
  },
  {
   "cell_type": "code",
   "execution_count": 8,
   "id": "ac661233",
   "metadata": {},
   "outputs": [
    {
     "name": "stdout",
     "output_type": "stream",
     "text": [
      "True\n"
     ]
    }
   ],
   "source": [
    "# Testing a valid LEI code\n",
    "id_cleaner_obj.id_type='lei'\n",
    "print(id_cleaner_obj.is_valid('969500DPKGC9JE9F0820'))"
   ]
  },
  {
   "cell_type": "code",
   "execution_count": 9,
   "id": "1037008f",
   "metadata": {},
   "outputs": [
    {
     "name": "stdout",
     "output_type": "stream",
     "text": [
      "True\n"
     ]
    }
   ],
   "source": [
    "# Testing a valid SEDOL code\n",
    "id_cleaner_obj.id_type='sedol'\n",
    "print(id_cleaner_obj.is_valid('2595708'))"
   ]
  },
  {
   "cell_type": "markdown",
   "id": "1495eb94",
   "metadata": {},
   "source": [
    "The **operation mode** of **BankingIdCleaner()** class is set by **default** to be in **SILENT_MODE**, meaning that if the ID is not a string or is empty, **None** is returned instead of an error. "
   ]
  },
  {
   "cell_type": "code",
   "execution_count": 10,
   "id": "4771121e",
   "metadata": {},
   "outputs": [
    {
     "name": "stdout",
     "output_type": "stream",
     "text": [
      "None\n"
     ]
    }
   ],
   "source": [
    "# Testing to clean up a value that is not a string\n",
    "print(id_cleaner_obj.is_valid(12345))"
   ]
  },
  {
   "cell_type": "markdown",
   "id": "aa7415a4",
   "metadata": {},
   "source": [
    "The code below shows how to change the operation mode to throw an error for invalid ID's."
   ]
  },
  {
   "cell_type": "code",
   "execution_count": 11,
   "id": "1e9a5444",
   "metadata": {},
   "outputs": [],
   "source": [
    "id_cleaner_obj.mode = BankingIdCleaner.EXCEPTION_MODE"
   ]
  },
  {
   "cell_type": "markdown",
   "id": "071b9207",
   "metadata": {},
   "source": [
    "<div class=\"alert alert-block alert-danger\">\n",
    "<b>EXCEPTION MODE:</b> Now, the code below will throw a customized exception because the parameter of is_valid() method is not a string.\n",
    "</div>"
   ]
  },
  {
   "cell_type": "code",
   "execution_count": 12,
   "id": "fc15d68b",
   "metadata": {},
   "outputs": [
    {
     "ename": "BankingIdIsNotAString",
     "evalue": "Financial-Entity-Cleaner (Error) <BankingIdCleaner> - The input data <12345> is not a string.",
     "output_type": "error",
     "traceback": [
      "\u001b[1;31m---------------------------------------------------------------------------\u001b[0m",
      "\u001b[1;31mBankingIdIsNotAString\u001b[0m                     Traceback (most recent call last)",
      "Input \u001b[1;32mIn [12]\u001b[0m, in \u001b[0;36m<cell line: 2>\u001b[1;34m()\u001b[0m\n\u001b[0;32m      1\u001b[0m \u001b[38;5;66;03m# Testing to clean up a value that is not a string\u001b[39;00m\n\u001b[1;32m----> 2\u001b[0m \u001b[38;5;28mprint\u001b[39m(\u001b[43mid_cleaner_obj\u001b[49m\u001b[38;5;241;43m.\u001b[39;49m\u001b[43mis_valid\u001b[49m\u001b[43m(\u001b[49m\u001b[38;5;241;43m12345\u001b[39;49m\u001b[43m)\u001b[49m)\n",
      "File \u001b[1;32m~\\OneDrive\\Projects\\GitHub\\os_climate\\financial-entity-cleaner\\notebooks\\how-to\\../..\\financial_entity_cleaner\\id\\banking.py:401\u001b[0m, in \u001b[0;36mBankingIdCleaner.is_valid\u001b[1;34m(self, id_value)\u001b[0m\n\u001b[0;32m    378\u001b[0m \u001b[38;5;28;01mdef\u001b[39;00m \u001b[38;5;21mis_valid\u001b[39m(\u001b[38;5;28mself\u001b[39m, id_value: Union[\u001b[38;5;28mstr\u001b[39m, \u001b[38;5;28mfloat\u001b[39m]) \u001b[38;5;241m-\u001b[39m\u001b[38;5;241m>\u001b[39m Union[\u001b[38;5;28;01mNone\u001b[39;00m, Union[\u001b[38;5;28mbool\u001b[39m, \u001b[38;5;28mint\u001b[39m]]:\n\u001b[0;32m    379\u001b[0m     \u001b[38;5;124;03m\"\"\"\u001b[39;00m\n\u001b[0;32m    380\u001b[0m \u001b[38;5;124;03m    Performs only the validation of an ID (no cleaning up).\u001b[39;00m\n\u001b[0;32m    381\u001b[0m \n\u001b[1;32m   (...)\u001b[0m\n\u001b[0;32m    398\u001b[0m \n\u001b[0;32m    399\u001b[0m \u001b[38;5;124;03m    \"\"\"\u001b[39;00m\n\u001b[1;32m--> 401\u001b[0m     \u001b[38;5;28;01mif\u001b[39;00m \u001b[38;5;129;01mnot\u001b[39;00m \u001b[38;5;28;43mself\u001b[39;49m\u001b[38;5;241;43m.\u001b[39;49m\u001b[43m__is_id_param_valid\u001b[49m\u001b[43m(\u001b[49m\u001b[43mid_value\u001b[49m\u001b[43m)\u001b[49m:\n\u001b[0;32m    402\u001b[0m         \u001b[38;5;28;01mreturn\u001b[39;00m \u001b[38;5;28;01mNone\u001b[39;00m\n\u001b[0;32m    404\u001b[0m     validation_return \u001b[38;5;241m=\u001b[39m \u001b[38;5;28mself\u001b[39m\u001b[38;5;241m.\u001b[39m__validate_id(id_value)\n",
      "File \u001b[1;32m~\\OneDrive\\Projects\\GitHub\\os_climate\\financial-entity-cleaner\\notebooks\\how-to\\../..\\financial_entity_cleaner\\id\\banking.py:266\u001b[0m, in \u001b[0;36mBankingIdCleaner.__is_id_param_valid\u001b[1;34m(self, id_value)\u001b[0m\n\u001b[0;32m    264\u001b[0m \u001b[38;5;28;01mif\u001b[39;00m \u001b[38;5;129;01mnot\u001b[39;00m \u001b[38;5;28misinstance\u001b[39m(id_value, \u001b[38;5;28mstr\u001b[39m):\n\u001b[0;32m    265\u001b[0m     \u001b[38;5;28;01mif\u001b[39;00m \u001b[38;5;28mself\u001b[39m\u001b[38;5;241m.\u001b[39m_mode \u001b[38;5;241m==\u001b[39m \u001b[38;5;28mself\u001b[39m\u001b[38;5;241m.\u001b[39mEXCEPTION_MODE:\n\u001b[1;32m--> 266\u001b[0m         \u001b[38;5;28;01mraise\u001b[39;00m custom_exception\u001b[38;5;241m.\u001b[39mBankingIdIsNotAString(id_value)\n\u001b[0;32m    267\u001b[0m     \u001b[38;5;28;01melse\u001b[39;00m:\n\u001b[0;32m    268\u001b[0m         \u001b[38;5;28;01mreturn\u001b[39;00m \u001b[38;5;28;01mFalse\u001b[39;00m\n",
      "\u001b[1;31mBankingIdIsNotAString\u001b[0m: Financial-Entity-Cleaner (Error) <BankingIdCleaner> - The input data <12345> is not a string."
     ]
    }
   ],
   "source": [
    "# Testing to clean up a value that is not a string\n",
    "print(id_cleaner_obj.is_valid(12345))"
   ]
  },
  {
   "cell_type": "code",
   "execution_count": 13,
   "id": "2b1ced94",
   "metadata": {},
   "outputs": [],
   "source": [
    "# Back to SILENT mode\n",
    "id_cleaner_obj.mode = BankingIdCleaner.SILENT_MODE"
   ]
  },
  {
   "cell_type": "markdown",
   "id": "f8b59a64",
   "metadata": {},
   "source": [
    "## 2. Cleaning and validating single values of text as ID's <a id=\"clean_validate_id\"></a>"
   ]
  },
  {
   "cell_type": "markdown",
   "id": "42f8d204",
   "metadata": {},
   "source": [
    "The library can also be used for cleaning and validation at the same time. In this case, it will return a dictionary with the cleaning ID and if it is valid or not:"
   ]
  },
  {
   "cell_type": "code",
   "execution_count": 14,
   "id": "d8aada62",
   "metadata": {},
   "outputs": [],
   "source": [
    "id_cleaner_obj.id_type='lei'"
   ]
  },
  {
   "cell_type": "code",
   "execution_count": 15,
   "id": "bb4af555",
   "metadata": {},
   "outputs": [
    {
     "data": {
      "text/plain": [
       "{'cleaned_id': '969500DPKGC9JE9F0820', 'isvalid_id': True}"
      ]
     },
     "execution_count": 15,
     "metadata": {},
     "output_type": "execute_result"
    }
   ],
   "source": [
    "# Cleaning a valid LEI code\n",
    "clean_lei = id_cleaner_obj.clean('969500  dpKGC9JE9F0820')\n",
    "clean_lei"
   ]
  },
  {
   "cell_type": "markdown",
   "id": "eaad1b62",
   "metadata": {},
   "source": [
    "You may want to change the dictionary keys returned by the clean() method. Instead of calling them 'cleaned_id' and 'isvalid_id' you can define other names by changing the properties **output_cleaned_id** and **output_validated_id**:"
   ]
  },
  {
   "cell_type": "code",
   "execution_count": 16,
   "id": "ac6ea6cd",
   "metadata": {},
   "outputs": [
    {
     "data": {
      "text/plain": [
       "{'LEI': '969500DPKGC9JE9F0820', 'IS_VALID': True}"
      ]
     },
     "execution_count": 16,
     "metadata": {},
     "output_type": "execute_result"
    }
   ],
   "source": [
    "id_cleaner_obj.output_cleaned_id = 'LEI'\n",
    "id_cleaner_obj.output_validated_id = 'IS_VALID'\n",
    "clean_lei = id_cleaner_obj.clean('969500DPKGC9JE9F0820')\n",
    "clean_lei"
   ]
  },
  {
   "cell_type": "markdown",
   "id": "dc607bb2",
   "metadata": {},
   "source": [
    "You can reset these output names any time by calling the **reset_output_names()**: "
   ]
  },
  {
   "cell_type": "code",
   "execution_count": 17,
   "id": "525167d1",
   "metadata": {},
   "outputs": [],
   "source": [
    "id_cleaner_obj.reset_output_names()"
   ]
  },
  {
   "cell_type": "code",
   "execution_count": 18,
   "id": "e2a8a298",
   "metadata": {},
   "outputs": [
    {
     "data": {
      "text/plain": [
       "{'cleaned_id': '969500DPKGC9JE9F0820', 'isvalid_id': True}"
      ]
     },
     "execution_count": 18,
     "metadata": {},
     "output_type": "execute_result"
    }
   ],
   "source": [
    "clean_lei = id_cleaner_obj.clean('969500DPKGC9JE9F0820')\n",
    "clean_lei"
   ]
  },
  {
   "cell_type": "markdown",
   "id": "0b76bead",
   "metadata": {},
   "source": [
    "You may also want to return NaN if the ID is invalid. For this, set the property **invalid_ids_as_nan** to **True**. By default, it is set to False and, therefore, the clean() method will always return the ID text:"
   ]
  },
  {
   "cell_type": "code",
   "execution_count": 19,
   "id": "d44f271a",
   "metadata": {},
   "outputs": [
    {
     "data": {
      "text/plain": [
       "{'cleaned_id': nan, 'isvalid_id': False}"
      ]
     },
     "execution_count": 19,
     "metadata": {},
     "output_type": "execute_result"
    }
   ],
   "source": [
    "id_cleaner_obj.invalid_ids_as_nan = True\n",
    "clean_lei = id_cleaner_obj.clean('96XX00DPKGC9JE9F0820')\n",
    "clean_lei"
   ]
  },
  {
   "cell_type": "markdown",
   "id": "537156ec",
   "metadata": {},
   "source": [
    "## 3. Cleaning and validating IDs on tabular dataframe <a id=\"df\"></a>"
   ]
  },
  {
   "cell_type": "markdown",
   "id": "0b2114a1",
   "metadata": {},
   "source": [
    "A more realistic scenario is to have your data in a tabular format and you are already using the Pandas library to make operations on it. You can write your own code to iterate over your pandas dataframe structure by using the clean() method to clean up some columns. However, the financial-entity-cleaner makes this task easier for you. The BankingIdCleaner() class provides the **clean_df()** method to perform the normalization of ids defined as dataframe columns. See the code below on how to apply this method: "
   ]
  },
  {
   "cell_type": "code",
   "execution_count": 20,
   "id": "b2462636",
   "metadata": {},
   "outputs": [],
   "source": [
    "import pandas as pd"
   ]
  },
  {
   "cell_type": "code",
   "execution_count": 21,
   "id": "a8a7ee30",
   "metadata": {},
   "outputs": [
    {
     "data": {
      "text/html": [
       "<div>\n",
       "<style scoped>\n",
       "    .dataframe tbody tr th:only-of-type {\n",
       "        vertical-align: middle;\n",
       "    }\n",
       "\n",
       "    .dataframe tbody tr th {\n",
       "        vertical-align: top;\n",
       "    }\n",
       "\n",
       "    .dataframe thead th {\n",
       "        text-align: right;\n",
       "    }\n",
       "</style>\n",
       "<table border=\"1\" class=\"dataframe\">\n",
       "  <thead>\n",
       "    <tr style=\"text-align: right;\">\n",
       "      <th></th>\n",
       "      <th>NAME</th>\n",
       "      <th>LEI</th>\n",
       "      <th>ISIN</th>\n",
       "      <th>SEDOL</th>\n",
       "    </tr>\n",
       "  </thead>\n",
       "  <tbody>\n",
       "    <tr>\n",
       "      <th>0</th>\n",
       "      <td>Bechel   *Australia (Services) Pty Ltd</td>\n",
       "      <td>98 4500 e8da1de9a0d939</td>\n",
       "      <td>NaN</td>\n",
       "      <td>NaN</td>\n",
       "    </tr>\n",
       "    <tr>\n",
       "      <th>1</th>\n",
       "      <td>NRI - KELLY's MERCHANDISE (AUST) PTY LTD</td>\n",
       "      <td>NaN</td>\n",
       "      <td>au0000036949</td>\n",
       "      <td>NaN</td>\n",
       "    </tr>\n",
       "    <tr>\n",
       "      <th>2</th>\n",
       "      <td>meo -  serviços de comunicação e multimedia SA...</td>\n",
       "      <td>5493001MT6YISZH3YV05</td>\n",
       "      <td>4ABL286115</td>\n",
       "      <td>NaN</td>\n",
       "    </tr>\n",
       "    <tr>\n",
       "      <th>3</th>\n",
       "      <td>Glass  Coatings &amp; Concepts \"CBG\" LLC</td>\n",
       "      <td>34123456</td>\n",
       "      <td>4AAAA255044</td>\n",
       "      <td>NaN</td>\n",
       "    </tr>\n",
       "    <tr>\n",
       "      <th>4</th>\n",
       "      <td>Brault Loisirs, Orl. SARL</td>\n",
       "      <td>NaN</td>\n",
       "      <td>FR0000036196</td>\n",
       "      <td>552111809</td>\n",
       "    </tr>\n",
       "    <tr>\n",
       "      <th>5</th>\n",
       "      <td>Cole &amp; Brothers  Fabric, Services LLC.</td>\n",
       "      <td>213800UHTTV6EGY74X82</td>\n",
       "      <td>NaN</td>\n",
       "      <td>NaN</td>\n",
       "    </tr>\n",
       "    <tr>\n",
       "      <th>6</th>\n",
       "      <td>StarCOM Group Servizi **CAT** SRL</td>\n",
       "      <td>NaN</td>\n",
       "      <td>NaN</td>\n",
       "      <td>NaN</td>\n",
       "    </tr>\n",
       "    <tr>\n",
       "      <th>7</th>\n",
       "      <td>Wolbeck (Archer Daniels) *Unified* GmbH</td>\n",
       "      <td>NaN</td>\n",
       "      <td>NaN</td>\n",
       "      <td>HPA 706689</td>\n",
       "    </tr>\n",
       "    <tr>\n",
       "      <th>8</th>\n",
       "      <td>Anheuser-BUSCH, Brothers (food services), LLC</td>\n",
       "      <td>US4567899888</td>\n",
       "      <td>4567788</td>\n",
       "      <td>NaN</td>\n",
       "    </tr>\n",
       "    <tr>\n",
       "      <th>9</th>\n",
       "      <td>Susamar-Patino, colectores (adm)   SA</td>\n",
       "      <td>NaN</td>\n",
       "      <td>ES0176252718</td>\n",
       "      <td>A7830 4516</td>\n",
       "    </tr>\n",
       "    <tr>\n",
       "      <th>10</th>\n",
       "      <td>Molino's agro, S.A. (adm)   SA</td>\n",
       "      <td>NaN</td>\n",
       "      <td>ARP8637T1031</td>\n",
       "      <td>NaN</td>\n",
       "    </tr>\n",
       "  </tbody>\n",
       "</table>\n",
       "</div>"
      ],
      "text/plain": [
       "                                                 NAME                     LEI  \\\n",
       "0              Bechel   *Australia (Services) Pty Ltd  98 4500 e8da1de9a0d939   \n",
       "1            NRI - KELLY's MERCHANDISE (AUST) PTY LTD                     NaN   \n",
       "2   meo -  serviços de comunicação e multimedia SA...    5493001MT6YISZH3YV05   \n",
       "3                Glass  Coatings & Concepts \"CBG\" LLC                34123456   \n",
       "4                           Brault Loisirs, Orl. SARL                     NaN   \n",
       "5              Cole & Brothers  Fabric, Services LLC.    213800UHTTV6EGY74X82   \n",
       "6                   StarCOM Group Servizi **CAT** SRL                     NaN   \n",
       "7             Wolbeck (Archer Daniels) *Unified* GmbH                     NaN   \n",
       "8       Anheuser-BUSCH, Brothers (food services), LLC            US4567899888   \n",
       "9               Susamar-Patino, colectores (adm)   SA                     NaN   \n",
       "10                     Molino's agro, S.A. (adm)   SA                     NaN   \n",
       "\n",
       "            ISIN       SEDOL  \n",
       "0            NaN         NaN  \n",
       "1   au0000036949         NaN  \n",
       "2     4ABL286115         NaN  \n",
       "3    4AAAA255044         NaN  \n",
       "4   FR0000036196   552111809  \n",
       "5            NaN         NaN  \n",
       "6            NaN         NaN  \n",
       "7            NaN  HPA 706689  \n",
       "8        4567788         NaN  \n",
       "9   ES0176252718  A7830 4516  \n",
       "10  ARP8637T1031         NaN  "
      ]
     },
     "execution_count": 21,
     "metadata": {},
     "output_type": "execute_result"
    }
   ],
   "source": [
    "# Read a .csv file as a pandas dataframe object\n",
    "input_filename = '../../tests/data/test_cleaner.csv'\n",
    "df_original = pd.read_csv(input_filename,sep=';',encoding='utf-8', usecols=['NAME','LEI', 'ISIN', 'SEDOL'])\n",
    "df_original"
   ]
  },
  {
   "cell_type": "markdown",
   "id": "0f683027",
   "metadata": {},
   "source": [
    "Another important property of the BankingIdCleaner() class is the **letter_case** that defines if the output will be returned in lower, upper or title case. By default, the letter case is set to be 'lower'. If you want to change that, just set the letter_case property to **'lower'**, **'upper'** or **'title'** or use the built-in class constants LOWER_LETTER_CASE, UPPER_LETTER_CASE, TITLE_LETTER_CASE, as shown below:"
   ]
  },
  {
   "cell_type": "code",
   "execution_count": 22,
   "id": "e318a2ba",
   "metadata": {},
   "outputs": [],
   "source": [
    "# Set up the resultant letter case\n",
    "id_cleaner_obj.output_lettercase = BankingIdCleaner.LOWER_LETTER_CASE"
   ]
  },
  {
   "cell_type": "code",
   "execution_count": 23,
   "id": "75105a8c",
   "metadata": {},
   "outputs": [],
   "source": [
    "id_cleaner_obj.id_type='lei'"
   ]
  },
  {
   "cell_type": "code",
   "execution_count": 24,
   "id": "9887aa3f",
   "metadata": {},
   "outputs": [
    {
     "name": "stderr",
     "output_type": "stream",
     "text": [
      "Column [LEI] Type [lei] : 100%|██████████████████████████████████████████████████| 11/11 [00:00<00:00, 366.87it/s]\n"
     ]
    },
    {
     "data": {
      "text/html": [
       "<div>\n",
       "<style scoped>\n",
       "    .dataframe tbody tr th:only-of-type {\n",
       "        vertical-align: middle;\n",
       "    }\n",
       "\n",
       "    .dataframe tbody tr th {\n",
       "        vertical-align: top;\n",
       "    }\n",
       "\n",
       "    .dataframe thead th {\n",
       "        text-align: right;\n",
       "    }\n",
       "</style>\n",
       "<table border=\"1\" class=\"dataframe\">\n",
       "  <thead>\n",
       "    <tr style=\"text-align: right;\">\n",
       "      <th></th>\n",
       "      <th>NAME</th>\n",
       "      <th>LEI</th>\n",
       "      <th>ISIN</th>\n",
       "      <th>SEDOL</th>\n",
       "      <th>LEI_cleaned_id</th>\n",
       "      <th>LEI_isvalid_id</th>\n",
       "    </tr>\n",
       "  </thead>\n",
       "  <tbody>\n",
       "    <tr>\n",
       "      <th>0</th>\n",
       "      <td>Bechel   *Australia (Services) Pty Ltd</td>\n",
       "      <td>98 4500 e8da1de9a0d939</td>\n",
       "      <td>NaN</td>\n",
       "      <td>NaN</td>\n",
       "      <td>984500E8DA1DE9A0D939</td>\n",
       "      <td>True</td>\n",
       "    </tr>\n",
       "    <tr>\n",
       "      <th>1</th>\n",
       "      <td>NRI - KELLY's MERCHANDISE (AUST) PTY LTD</td>\n",
       "      <td>NaN</td>\n",
       "      <td>au0000036949</td>\n",
       "      <td>NaN</td>\n",
       "      <td>NaN</td>\n",
       "      <td>True</td>\n",
       "    </tr>\n",
       "    <tr>\n",
       "      <th>2</th>\n",
       "      <td>meo -  serviços de comunicação e multimedia SA...</td>\n",
       "      <td>5493001MT6YISZH3YV05</td>\n",
       "      <td>4ABL286115</td>\n",
       "      <td>NaN</td>\n",
       "      <td>5493001MT6YISZH3YV05</td>\n",
       "      <td>True</td>\n",
       "    </tr>\n",
       "    <tr>\n",
       "      <th>3</th>\n",
       "      <td>Glass  Coatings &amp; Concepts \"CBG\" LLC</td>\n",
       "      <td>34123456</td>\n",
       "      <td>4AAAA255044</td>\n",
       "      <td>NaN</td>\n",
       "      <td>NaN</td>\n",
       "      <td>False</td>\n",
       "    </tr>\n",
       "    <tr>\n",
       "      <th>4</th>\n",
       "      <td>Brault Loisirs, Orl. SARL</td>\n",
       "      <td>NaN</td>\n",
       "      <td>FR0000036196</td>\n",
       "      <td>552111809</td>\n",
       "      <td>NaN</td>\n",
       "      <td>True</td>\n",
       "    </tr>\n",
       "    <tr>\n",
       "      <th>5</th>\n",
       "      <td>Cole &amp; Brothers  Fabric, Services LLC.</td>\n",
       "      <td>213800UHTTV6EGY74X82</td>\n",
       "      <td>NaN</td>\n",
       "      <td>NaN</td>\n",
       "      <td>213800UHTTV6EGY74X82</td>\n",
       "      <td>True</td>\n",
       "    </tr>\n",
       "    <tr>\n",
       "      <th>6</th>\n",
       "      <td>StarCOM Group Servizi **CAT** SRL</td>\n",
       "      <td>NaN</td>\n",
       "      <td>NaN</td>\n",
       "      <td>NaN</td>\n",
       "      <td>NaN</td>\n",
       "      <td>True</td>\n",
       "    </tr>\n",
       "    <tr>\n",
       "      <th>7</th>\n",
       "      <td>Wolbeck (Archer Daniels) *Unified* GmbH</td>\n",
       "      <td>NaN</td>\n",
       "      <td>NaN</td>\n",
       "      <td>HPA 706689</td>\n",
       "      <td>NaN</td>\n",
       "      <td>True</td>\n",
       "    </tr>\n",
       "    <tr>\n",
       "      <th>8</th>\n",
       "      <td>Anheuser-BUSCH, Brothers (food services), LLC</td>\n",
       "      <td>US4567899888</td>\n",
       "      <td>4567788</td>\n",
       "      <td>NaN</td>\n",
       "      <td>NaN</td>\n",
       "      <td>False</td>\n",
       "    </tr>\n",
       "    <tr>\n",
       "      <th>9</th>\n",
       "      <td>Susamar-Patino, colectores (adm)   SA</td>\n",
       "      <td>NaN</td>\n",
       "      <td>ES0176252718</td>\n",
       "      <td>A7830 4516</td>\n",
       "      <td>NaN</td>\n",
       "      <td>True</td>\n",
       "    </tr>\n",
       "    <tr>\n",
       "      <th>10</th>\n",
       "      <td>Molino's agro, S.A. (adm)   SA</td>\n",
       "      <td>NaN</td>\n",
       "      <td>ARP8637T1031</td>\n",
       "      <td>NaN</td>\n",
       "      <td>NaN</td>\n",
       "      <td>True</td>\n",
       "    </tr>\n",
       "  </tbody>\n",
       "</table>\n",
       "</div>"
      ],
      "text/plain": [
       "                                                 NAME                     LEI  \\\n",
       "0              Bechel   *Australia (Services) Pty Ltd  98 4500 e8da1de9a0d939   \n",
       "1            NRI - KELLY's MERCHANDISE (AUST) PTY LTD                     NaN   \n",
       "2   meo -  serviços de comunicação e multimedia SA...    5493001MT6YISZH3YV05   \n",
       "3                Glass  Coatings & Concepts \"CBG\" LLC                34123456   \n",
       "4                           Brault Loisirs, Orl. SARL                     NaN   \n",
       "5              Cole & Brothers  Fabric, Services LLC.    213800UHTTV6EGY74X82   \n",
       "6                   StarCOM Group Servizi **CAT** SRL                     NaN   \n",
       "7             Wolbeck (Archer Daniels) *Unified* GmbH                     NaN   \n",
       "8       Anheuser-BUSCH, Brothers (food services), LLC            US4567899888   \n",
       "9               Susamar-Patino, colectores (adm)   SA                     NaN   \n",
       "10                     Molino's agro, S.A. (adm)   SA                     NaN   \n",
       "\n",
       "            ISIN       SEDOL        LEI_cleaned_id  LEI_isvalid_id  \n",
       "0            NaN         NaN  984500E8DA1DE9A0D939            True  \n",
       "1   au0000036949         NaN                   NaN            True  \n",
       "2     4ABL286115         NaN  5493001MT6YISZH3YV05            True  \n",
       "3    4AAAA255044         NaN                   NaN           False  \n",
       "4   FR0000036196   552111809                   NaN            True  \n",
       "5            NaN         NaN  213800UHTTV6EGY74X82            True  \n",
       "6            NaN         NaN                   NaN            True  \n",
       "7            NaN  HPA 706689                   NaN            True  \n",
       "8        4567788         NaN                   NaN           False  \n",
       "9   ES0176252718  A7830 4516                   NaN            True  \n",
       "10  ARP8637T1031         NaN                   NaN            True  "
      ]
     },
     "execution_count": 24,
     "metadata": {},
     "output_type": "execute_result"
    }
   ],
   "source": [
    "df_cleaner = id_cleaner_obj.clean_df(df_original, cols=['LEI'])\n",
    "df_cleaner"
   ]
  },
  {
   "cell_type": "markdown",
   "id": "287f7029",
   "metadata": {},
   "source": [
    "In the first row you can notice that the cleaning processing did a good job on the LEI ID. However, keep in mind that the cleaning performed by **BankingIdCleaner()** is very simple and just remove extra spaces and unicode characters. If you need to perform a more advanced cleaning task, use the **SimpleCleaner()** class provided in the financial-entity-cleaner.text package that is able to apply different pre-defined regex rules on texts or string attributes.  "
   ]
  },
  {
   "cell_type": "markdown",
   "id": "05a5f28a",
   "metadata": {},
   "source": [
    "The result above shows that two new columns were created with a suffix defined by the properties **output_cleaned_id** and **output_validated_id**. It also preserved the original LEI column. But, what if we want to clean and validate more than one column in the dataframe, use a prefix standard to rename the new columns and remove the original ones? Notice that we did not inform the ID type of the LEI column. If the argument **types** is not passed, the cleaning method assumes that all columns are of the same type as defined by the property **id_type**. The code below performs the cleaning on different IDs: "
   ]
  },
  {
   "cell_type": "code",
   "execution_count": 25,
   "id": "74f72f4e",
   "metadata": {},
   "outputs": [
    {
     "name": "stderr",
     "output_type": "stream",
     "text": [
      "Column [SEDOL] Type [sedol] : 100%|██████████████████████████████████████████████████| 11/11 [00:00<00:00, 129.48it/s]\n"
     ]
    },
    {
     "data": {
      "text/html": [
       "<div>\n",
       "<style scoped>\n",
       "    .dataframe tbody tr th:only-of-type {\n",
       "        vertical-align: middle;\n",
       "    }\n",
       "\n",
       "    .dataframe tbody tr th {\n",
       "        vertical-align: top;\n",
       "    }\n",
       "\n",
       "    .dataframe thead th {\n",
       "        text-align: right;\n",
       "    }\n",
       "</style>\n",
       "<table border=\"1\" class=\"dataframe\">\n",
       "  <thead>\n",
       "    <tr style=\"text-align: right;\">\n",
       "      <th></th>\n",
       "      <th>NAME</th>\n",
       "      <th>CLEANED_LEI</th>\n",
       "      <th>IS_VALID_LEI</th>\n",
       "      <th>CLEANED_ISIN</th>\n",
       "      <th>IS_VALID_ISIN</th>\n",
       "      <th>CLEANED_SEDOL</th>\n",
       "      <th>IS_VALID_SEDOL</th>\n",
       "    </tr>\n",
       "  </thead>\n",
       "  <tbody>\n",
       "    <tr>\n",
       "      <th>0</th>\n",
       "      <td>Bechel   *Australia (Services) Pty Ltd</td>\n",
       "      <td>984500E8DA1DE9A0D939</td>\n",
       "      <td>True</td>\n",
       "      <td>NaN</td>\n",
       "      <td>True</td>\n",
       "      <td>NaN</td>\n",
       "      <td>True</td>\n",
       "    </tr>\n",
       "    <tr>\n",
       "      <th>1</th>\n",
       "      <td>NRI - KELLY's MERCHANDISE (AUST) PTY LTD</td>\n",
       "      <td>NaN</td>\n",
       "      <td>True</td>\n",
       "      <td>AU0000036949</td>\n",
       "      <td>True</td>\n",
       "      <td>NaN</td>\n",
       "      <td>True</td>\n",
       "    </tr>\n",
       "    <tr>\n",
       "      <th>2</th>\n",
       "      <td>meo -  serviços de comunicação e multimedia SA...</td>\n",
       "      <td>5493001MT6YISZH3YV05</td>\n",
       "      <td>True</td>\n",
       "      <td>NaN</td>\n",
       "      <td>False</td>\n",
       "      <td>NaN</td>\n",
       "      <td>True</td>\n",
       "    </tr>\n",
       "    <tr>\n",
       "      <th>3</th>\n",
       "      <td>Glass  Coatings &amp; Concepts \"CBG\" LLC</td>\n",
       "      <td>NaN</td>\n",
       "      <td>False</td>\n",
       "      <td>NaN</td>\n",
       "      <td>False</td>\n",
       "      <td>NaN</td>\n",
       "      <td>True</td>\n",
       "    </tr>\n",
       "    <tr>\n",
       "      <th>4</th>\n",
       "      <td>Brault Loisirs, Orl. SARL</td>\n",
       "      <td>NaN</td>\n",
       "      <td>True</td>\n",
       "      <td>FR0000036196</td>\n",
       "      <td>True</td>\n",
       "      <td>NaN</td>\n",
       "      <td>False</td>\n",
       "    </tr>\n",
       "    <tr>\n",
       "      <th>5</th>\n",
       "      <td>Cole &amp; Brothers  Fabric, Services LLC.</td>\n",
       "      <td>213800UHTTV6EGY74X82</td>\n",
       "      <td>True</td>\n",
       "      <td>NaN</td>\n",
       "      <td>True</td>\n",
       "      <td>NaN</td>\n",
       "      <td>True</td>\n",
       "    </tr>\n",
       "    <tr>\n",
       "      <th>6</th>\n",
       "      <td>StarCOM Group Servizi **CAT** SRL</td>\n",
       "      <td>NaN</td>\n",
       "      <td>True</td>\n",
       "      <td>NaN</td>\n",
       "      <td>True</td>\n",
       "      <td>NaN</td>\n",
       "      <td>True</td>\n",
       "    </tr>\n",
       "    <tr>\n",
       "      <th>7</th>\n",
       "      <td>Wolbeck (Archer Daniels) *Unified* GmbH</td>\n",
       "      <td>NaN</td>\n",
       "      <td>True</td>\n",
       "      <td>NaN</td>\n",
       "      <td>True</td>\n",
       "      <td>NaN</td>\n",
       "      <td>False</td>\n",
       "    </tr>\n",
       "    <tr>\n",
       "      <th>8</th>\n",
       "      <td>Anheuser-BUSCH, Brothers (food services), LLC</td>\n",
       "      <td>NaN</td>\n",
       "      <td>False</td>\n",
       "      <td>NaN</td>\n",
       "      <td>False</td>\n",
       "      <td>NaN</td>\n",
       "      <td>True</td>\n",
       "    </tr>\n",
       "    <tr>\n",
       "      <th>9</th>\n",
       "      <td>Susamar-Patino, colectores (adm)   SA</td>\n",
       "      <td>NaN</td>\n",
       "      <td>True</td>\n",
       "      <td>ES0176252718</td>\n",
       "      <td>True</td>\n",
       "      <td>NaN</td>\n",
       "      <td>False</td>\n",
       "    </tr>\n",
       "    <tr>\n",
       "      <th>10</th>\n",
       "      <td>Molino's agro, S.A. (adm)   SA</td>\n",
       "      <td>NaN</td>\n",
       "      <td>True</td>\n",
       "      <td>ARP8637T1031</td>\n",
       "      <td>True</td>\n",
       "      <td>NaN</td>\n",
       "      <td>True</td>\n",
       "    </tr>\n",
       "  </tbody>\n",
       "</table>\n",
       "</div>"
      ],
      "text/plain": [
       "                                                 NAME           CLEANED_LEI  \\\n",
       "0              Bechel   *Australia (Services) Pty Ltd  984500E8DA1DE9A0D939   \n",
       "1            NRI - KELLY's MERCHANDISE (AUST) PTY LTD                   NaN   \n",
       "2   meo -  serviços de comunicação e multimedia SA...  5493001MT6YISZH3YV05   \n",
       "3                Glass  Coatings & Concepts \"CBG\" LLC                   NaN   \n",
       "4                           Brault Loisirs, Orl. SARL                   NaN   \n",
       "5              Cole & Brothers  Fabric, Services LLC.  213800UHTTV6EGY74X82   \n",
       "6                   StarCOM Group Servizi **CAT** SRL                   NaN   \n",
       "7             Wolbeck (Archer Daniels) *Unified* GmbH                   NaN   \n",
       "8       Anheuser-BUSCH, Brothers (food services), LLC                   NaN   \n",
       "9               Susamar-Patino, colectores (adm)   SA                   NaN   \n",
       "10                     Molino's agro, S.A. (adm)   SA                   NaN   \n",
       "\n",
       "    IS_VALID_LEI  CLEANED_ISIN  IS_VALID_ISIN  CLEANED_SEDOL  IS_VALID_SEDOL  \n",
       "0           True           NaN           True            NaN            True  \n",
       "1           True  AU0000036949           True            NaN            True  \n",
       "2           True           NaN          False            NaN            True  \n",
       "3          False           NaN          False            NaN            True  \n",
       "4           True  FR0000036196           True            NaN           False  \n",
       "5           True           NaN           True            NaN            True  \n",
       "6           True           NaN           True            NaN            True  \n",
       "7           True           NaN           True            NaN           False  \n",
       "8          False           NaN          False            NaN            True  \n",
       "9           True  ES0176252718           True            NaN           False  \n",
       "10          True  ARP8637T1031           True            NaN            True  "
      ]
     },
     "execution_count": 25,
     "metadata": {},
     "output_type": "execute_result"
    }
   ],
   "source": [
    "id_cleaner_obj.output_cleaned_id = 'CLEANED'\n",
    "id_cleaner_obj.output_validated_id = 'IS_VALID'\n",
    "df_cleaner = id_cleaner_obj.clean_df(df_original, cols=['LEI', 'ISIN', 'SEDOL'], \n",
    "                                     remove_cols= True, \n",
    "                                     output_names_as= 'prefix',\n",
    "                                     types = ['lei', 'isin', 'sedol'])\n",
    "df_cleaner"
   ]
  },
  {
   "cell_type": "markdown",
   "id": "76fc22dc",
   "metadata": {},
   "source": [
    "All the results above set the ID to NaN if the ID is invalid (see row 4 and 9). This happens when **invalid_ids_as_nan** property is True. Therefore, make sure to set it to False if you don't want this behaviour: "
   ]
  },
  {
   "cell_type": "code",
   "execution_count": 26,
   "id": "afd0d86b",
   "metadata": {},
   "outputs": [],
   "source": [
    "id_cleaner_obj.invalid_ids_as_nan = False "
   ]
  },
  {
   "cell_type": "code",
   "execution_count": 27,
   "id": "1b72669e",
   "metadata": {},
   "outputs": [
    {
     "name": "stderr",
     "output_type": "stream",
     "text": [
      "Column [SEDOL] Type [sedol] : 100%|██████████████████████████████████████████████████| 11/11 [00:00<00:00, 127.98it/s]\n"
     ]
    },
    {
     "data": {
      "text/html": [
       "<div>\n",
       "<style scoped>\n",
       "    .dataframe tbody tr th:only-of-type {\n",
       "        vertical-align: middle;\n",
       "    }\n",
       "\n",
       "    .dataframe tbody tr th {\n",
       "        vertical-align: top;\n",
       "    }\n",
       "\n",
       "    .dataframe thead th {\n",
       "        text-align: right;\n",
       "    }\n",
       "</style>\n",
       "<table border=\"1\" class=\"dataframe\">\n",
       "  <thead>\n",
       "    <tr style=\"text-align: right;\">\n",
       "      <th></th>\n",
       "      <th>NAME</th>\n",
       "      <th>CLEANED_LEI</th>\n",
       "      <th>IS_VALID_LEI</th>\n",
       "      <th>CLEANED_ISIN</th>\n",
       "      <th>IS_VALID_ISIN</th>\n",
       "      <th>CLEANED_SEDOL</th>\n",
       "      <th>IS_VALID_SEDOL</th>\n",
       "    </tr>\n",
       "  </thead>\n",
       "  <tbody>\n",
       "    <tr>\n",
       "      <th>0</th>\n",
       "      <td>Bechel   *Australia (Services) Pty Ltd</td>\n",
       "      <td>984500E8DA1DE9A0D939</td>\n",
       "      <td>True</td>\n",
       "      <td>NaN</td>\n",
       "      <td>True</td>\n",
       "      <td>NaN</td>\n",
       "      <td>True</td>\n",
       "    </tr>\n",
       "    <tr>\n",
       "      <th>1</th>\n",
       "      <td>NRI - KELLY's MERCHANDISE (AUST) PTY LTD</td>\n",
       "      <td>NaN</td>\n",
       "      <td>True</td>\n",
       "      <td>AU0000036949</td>\n",
       "      <td>True</td>\n",
       "      <td>NaN</td>\n",
       "      <td>True</td>\n",
       "    </tr>\n",
       "    <tr>\n",
       "      <th>2</th>\n",
       "      <td>meo -  serviços de comunicação e multimedia SA...</td>\n",
       "      <td>5493001MT6YISZH3YV05</td>\n",
       "      <td>True</td>\n",
       "      <td>4ABL286115</td>\n",
       "      <td>False</td>\n",
       "      <td>NaN</td>\n",
       "      <td>True</td>\n",
       "    </tr>\n",
       "    <tr>\n",
       "      <th>3</th>\n",
       "      <td>Glass  Coatings &amp; Concepts \"CBG\" LLC</td>\n",
       "      <td>34123456</td>\n",
       "      <td>False</td>\n",
       "      <td>4AAAA255044</td>\n",
       "      <td>False</td>\n",
       "      <td>NaN</td>\n",
       "      <td>True</td>\n",
       "    </tr>\n",
       "    <tr>\n",
       "      <th>4</th>\n",
       "      <td>Brault Loisirs, Orl. SARL</td>\n",
       "      <td>NaN</td>\n",
       "      <td>True</td>\n",
       "      <td>FR0000036196</td>\n",
       "      <td>True</td>\n",
       "      <td>552111809</td>\n",
       "      <td>False</td>\n",
       "    </tr>\n",
       "    <tr>\n",
       "      <th>5</th>\n",
       "      <td>Cole &amp; Brothers  Fabric, Services LLC.</td>\n",
       "      <td>213800UHTTV6EGY74X82</td>\n",
       "      <td>True</td>\n",
       "      <td>NaN</td>\n",
       "      <td>True</td>\n",
       "      <td>NaN</td>\n",
       "      <td>True</td>\n",
       "    </tr>\n",
       "    <tr>\n",
       "      <th>6</th>\n",
       "      <td>StarCOM Group Servizi **CAT** SRL</td>\n",
       "      <td>NaN</td>\n",
       "      <td>True</td>\n",
       "      <td>NaN</td>\n",
       "      <td>True</td>\n",
       "      <td>NaN</td>\n",
       "      <td>True</td>\n",
       "    </tr>\n",
       "    <tr>\n",
       "      <th>7</th>\n",
       "      <td>Wolbeck (Archer Daniels) *Unified* GmbH</td>\n",
       "      <td>NaN</td>\n",
       "      <td>True</td>\n",
       "      <td>NaN</td>\n",
       "      <td>True</td>\n",
       "      <td>HPA706689</td>\n",
       "      <td>False</td>\n",
       "    </tr>\n",
       "    <tr>\n",
       "      <th>8</th>\n",
       "      <td>Anheuser-BUSCH, Brothers (food services), LLC</td>\n",
       "      <td>US4567899888</td>\n",
       "      <td>False</td>\n",
       "      <td>4567788</td>\n",
       "      <td>False</td>\n",
       "      <td>NaN</td>\n",
       "      <td>True</td>\n",
       "    </tr>\n",
       "    <tr>\n",
       "      <th>9</th>\n",
       "      <td>Susamar-Patino, colectores (adm)   SA</td>\n",
       "      <td>NaN</td>\n",
       "      <td>True</td>\n",
       "      <td>ES0176252718</td>\n",
       "      <td>True</td>\n",
       "      <td>A78304516</td>\n",
       "      <td>False</td>\n",
       "    </tr>\n",
       "    <tr>\n",
       "      <th>10</th>\n",
       "      <td>Molino's agro, S.A. (adm)   SA</td>\n",
       "      <td>NaN</td>\n",
       "      <td>True</td>\n",
       "      <td>ARP8637T1031</td>\n",
       "      <td>True</td>\n",
       "      <td>NaN</td>\n",
       "      <td>True</td>\n",
       "    </tr>\n",
       "  </tbody>\n",
       "</table>\n",
       "</div>"
      ],
      "text/plain": [
       "                                                 NAME           CLEANED_LEI  \\\n",
       "0              Bechel   *Australia (Services) Pty Ltd  984500E8DA1DE9A0D939   \n",
       "1            NRI - KELLY's MERCHANDISE (AUST) PTY LTD                   NaN   \n",
       "2   meo -  serviços de comunicação e multimedia SA...  5493001MT6YISZH3YV05   \n",
       "3                Glass  Coatings & Concepts \"CBG\" LLC              34123456   \n",
       "4                           Brault Loisirs, Orl. SARL                   NaN   \n",
       "5              Cole & Brothers  Fabric, Services LLC.  213800UHTTV6EGY74X82   \n",
       "6                   StarCOM Group Servizi **CAT** SRL                   NaN   \n",
       "7             Wolbeck (Archer Daniels) *Unified* GmbH                   NaN   \n",
       "8       Anheuser-BUSCH, Brothers (food services), LLC          US4567899888   \n",
       "9               Susamar-Patino, colectores (adm)   SA                   NaN   \n",
       "10                     Molino's agro, S.A. (adm)   SA                   NaN   \n",
       "\n",
       "    IS_VALID_LEI  CLEANED_ISIN  IS_VALID_ISIN CLEANED_SEDOL  IS_VALID_SEDOL  \n",
       "0           True           NaN           True           NaN            True  \n",
       "1           True  AU0000036949           True           NaN            True  \n",
       "2           True    4ABL286115          False           NaN            True  \n",
       "3          False   4AAAA255044          False           NaN            True  \n",
       "4           True  FR0000036196           True     552111809           False  \n",
       "5           True           NaN           True           NaN            True  \n",
       "6           True           NaN           True           NaN            True  \n",
       "7           True           NaN           True     HPA706689           False  \n",
       "8          False       4567788          False           NaN            True  \n",
       "9           True  ES0176252718           True     A78304516           False  \n",
       "10          True  ARP8637T1031           True           NaN            True  "
      ]
     },
     "execution_count": 27,
     "metadata": {},
     "output_type": "execute_result"
    }
   ],
   "source": [
    "df_cleaner = id_cleaner_obj.clean_df(df_original, cols=['LEI', 'ISIN', 'SEDOL'], \n",
    "                                     remove_cols= True, \n",
    "                                     output_names_as= 'prefix',\n",
    "                                     types = ['lei', 'isin', 'sedol'])\n",
    "df_cleaner"
   ]
  },
  {
   "cell_type": "markdown",
   "id": "1ddbca66",
   "metadata": {},
   "source": [
    "By default, the results of the ID validation are a boolean attributes, as shown below:"
   ]
  },
  {
   "cell_type": "code",
   "execution_count": 28,
   "id": "9c684d97",
   "metadata": {},
   "outputs": [
    {
     "name": "stdout",
     "output_type": "stream",
     "text": [
      "<class 'pandas.core.frame.DataFrame'>\n",
      "RangeIndex: 11 entries, 0 to 10\n",
      "Data columns (total 7 columns):\n",
      " #   Column          Non-Null Count  Dtype \n",
      "---  ------          --------------  ----- \n",
      " 0   NAME            11 non-null     object\n",
      " 1   CLEANED_LEI     5 non-null      object\n",
      " 2   IS_VALID_LEI    11 non-null     bool  \n",
      " 3   CLEANED_ISIN    7 non-null      object\n",
      " 4   IS_VALID_ISIN   11 non-null     bool  \n",
      " 5   CLEANED_SEDOL   3 non-null      object\n",
      " 6   IS_VALID_SEDOL  11 non-null     bool  \n",
      "dtypes: bool(3), object(4)\n",
      "memory usage: 513.0+ bytes\n"
     ]
    }
   ],
   "source": [
    "df_cleaner.info()"
   ]
  },
  {
   "cell_type": "markdown",
   "id": "6aa4b203",
   "metadata": {},
   "source": [
    "Sometimes, it is necessary to have boolean values described as categorical data (0 and 1's). For example, when we want to store data in a database or perform machine learning operations on it. In order to return categorical data as the result of the validation process, you must set the property **validation_as_categorical** as **True**: "
   ]
  },
  {
   "cell_type": "code",
   "execution_count": 29,
   "id": "9092af59",
   "metadata": {},
   "outputs": [],
   "source": [
    "id_cleaner_obj.validation_as_categorical = True "
   ]
  },
  {
   "cell_type": "code",
   "execution_count": 30,
   "id": "49d1b042",
   "metadata": {},
   "outputs": [
    {
     "name": "stderr",
     "output_type": "stream",
     "text": [
      "Column [SEDOL] Type [sedol] : 100%|██████████████████████████████████████████████████| 11/11 [00:00<00:00, 117.09it/s]\n"
     ]
    },
    {
     "data": {
      "text/html": [
       "<div>\n",
       "<style scoped>\n",
       "    .dataframe tbody tr th:only-of-type {\n",
       "        vertical-align: middle;\n",
       "    }\n",
       "\n",
       "    .dataframe tbody tr th {\n",
       "        vertical-align: top;\n",
       "    }\n",
       "\n",
       "    .dataframe thead th {\n",
       "        text-align: right;\n",
       "    }\n",
       "</style>\n",
       "<table border=\"1\" class=\"dataframe\">\n",
       "  <thead>\n",
       "    <tr style=\"text-align: right;\">\n",
       "      <th></th>\n",
       "      <th>NAME</th>\n",
       "      <th>CLEANED_LEI</th>\n",
       "      <th>IS_VALID_LEI</th>\n",
       "      <th>CLEANED_ISIN</th>\n",
       "      <th>IS_VALID_ISIN</th>\n",
       "      <th>CLEANED_SEDOL</th>\n",
       "      <th>IS_VALID_SEDOL</th>\n",
       "    </tr>\n",
       "  </thead>\n",
       "  <tbody>\n",
       "    <tr>\n",
       "      <th>0</th>\n",
       "      <td>Bechel   *Australia (Services) Pty Ltd</td>\n",
       "      <td>984500E8DA1DE9A0D939</td>\n",
       "      <td>1.0</td>\n",
       "      <td>NaN</td>\n",
       "      <td>NaN</td>\n",
       "      <td>NaN</td>\n",
       "      <td>NaN</td>\n",
       "    </tr>\n",
       "    <tr>\n",
       "      <th>1</th>\n",
       "      <td>NRI - KELLY's MERCHANDISE (AUST) PTY LTD</td>\n",
       "      <td>NaN</td>\n",
       "      <td>NaN</td>\n",
       "      <td>AU0000036949</td>\n",
       "      <td>1.0</td>\n",
       "      <td>NaN</td>\n",
       "      <td>NaN</td>\n",
       "    </tr>\n",
       "    <tr>\n",
       "      <th>2</th>\n",
       "      <td>meo -  serviços de comunicação e multimedia SA...</td>\n",
       "      <td>5493001MT6YISZH3YV05</td>\n",
       "      <td>1.0</td>\n",
       "      <td>4ABL286115</td>\n",
       "      <td>0.0</td>\n",
       "      <td>NaN</td>\n",
       "      <td>NaN</td>\n",
       "    </tr>\n",
       "    <tr>\n",
       "      <th>3</th>\n",
       "      <td>Glass  Coatings &amp; Concepts \"CBG\" LLC</td>\n",
       "      <td>34123456</td>\n",
       "      <td>0.0</td>\n",
       "      <td>4AAAA255044</td>\n",
       "      <td>0.0</td>\n",
       "      <td>NaN</td>\n",
       "      <td>NaN</td>\n",
       "    </tr>\n",
       "    <tr>\n",
       "      <th>4</th>\n",
       "      <td>Brault Loisirs, Orl. SARL</td>\n",
       "      <td>NaN</td>\n",
       "      <td>NaN</td>\n",
       "      <td>FR0000036196</td>\n",
       "      <td>1.0</td>\n",
       "      <td>552111809</td>\n",
       "      <td>0.0</td>\n",
       "    </tr>\n",
       "    <tr>\n",
       "      <th>5</th>\n",
       "      <td>Cole &amp; Brothers  Fabric, Services LLC.</td>\n",
       "      <td>213800UHTTV6EGY74X82</td>\n",
       "      <td>1.0</td>\n",
       "      <td>NaN</td>\n",
       "      <td>NaN</td>\n",
       "      <td>NaN</td>\n",
       "      <td>NaN</td>\n",
       "    </tr>\n",
       "    <tr>\n",
       "      <th>6</th>\n",
       "      <td>StarCOM Group Servizi **CAT** SRL</td>\n",
       "      <td>NaN</td>\n",
       "      <td>NaN</td>\n",
       "      <td>NaN</td>\n",
       "      <td>NaN</td>\n",
       "      <td>NaN</td>\n",
       "      <td>NaN</td>\n",
       "    </tr>\n",
       "    <tr>\n",
       "      <th>7</th>\n",
       "      <td>Wolbeck (Archer Daniels) *Unified* GmbH</td>\n",
       "      <td>NaN</td>\n",
       "      <td>NaN</td>\n",
       "      <td>NaN</td>\n",
       "      <td>NaN</td>\n",
       "      <td>HPA706689</td>\n",
       "      <td>0.0</td>\n",
       "    </tr>\n",
       "    <tr>\n",
       "      <th>8</th>\n",
       "      <td>Anheuser-BUSCH, Brothers (food services), LLC</td>\n",
       "      <td>US4567899888</td>\n",
       "      <td>0.0</td>\n",
       "      <td>4567788</td>\n",
       "      <td>0.0</td>\n",
       "      <td>NaN</td>\n",
       "      <td>NaN</td>\n",
       "    </tr>\n",
       "    <tr>\n",
       "      <th>9</th>\n",
       "      <td>Susamar-Patino, colectores (adm)   SA</td>\n",
       "      <td>NaN</td>\n",
       "      <td>NaN</td>\n",
       "      <td>ES0176252718</td>\n",
       "      <td>1.0</td>\n",
       "      <td>A78304516</td>\n",
       "      <td>0.0</td>\n",
       "    </tr>\n",
       "    <tr>\n",
       "      <th>10</th>\n",
       "      <td>Molino's agro, S.A. (adm)   SA</td>\n",
       "      <td>NaN</td>\n",
       "      <td>NaN</td>\n",
       "      <td>ARP8637T1031</td>\n",
       "      <td>1.0</td>\n",
       "      <td>NaN</td>\n",
       "      <td>NaN</td>\n",
       "    </tr>\n",
       "  </tbody>\n",
       "</table>\n",
       "</div>"
      ],
      "text/plain": [
       "                                                 NAME           CLEANED_LEI  \\\n",
       "0              Bechel   *Australia (Services) Pty Ltd  984500E8DA1DE9A0D939   \n",
       "1            NRI - KELLY's MERCHANDISE (AUST) PTY LTD                   NaN   \n",
       "2   meo -  serviços de comunicação e multimedia SA...  5493001MT6YISZH3YV05   \n",
       "3                Glass  Coatings & Concepts \"CBG\" LLC              34123456   \n",
       "4                           Brault Loisirs, Orl. SARL                   NaN   \n",
       "5              Cole & Brothers  Fabric, Services LLC.  213800UHTTV6EGY74X82   \n",
       "6                   StarCOM Group Servizi **CAT** SRL                   NaN   \n",
       "7             Wolbeck (Archer Daniels) *Unified* GmbH                   NaN   \n",
       "8       Anheuser-BUSCH, Brothers (food services), LLC          US4567899888   \n",
       "9               Susamar-Patino, colectores (adm)   SA                   NaN   \n",
       "10                     Molino's agro, S.A. (adm)   SA                   NaN   \n",
       "\n",
       "    IS_VALID_LEI  CLEANED_ISIN  IS_VALID_ISIN CLEANED_SEDOL  IS_VALID_SEDOL  \n",
       "0            1.0           NaN            NaN           NaN             NaN  \n",
       "1            NaN  AU0000036949            1.0           NaN             NaN  \n",
       "2            1.0    4ABL286115            0.0           NaN             NaN  \n",
       "3            0.0   4AAAA255044            0.0           NaN             NaN  \n",
       "4            NaN  FR0000036196            1.0     552111809             0.0  \n",
       "5            1.0           NaN            NaN           NaN             NaN  \n",
       "6            NaN           NaN            NaN           NaN             NaN  \n",
       "7            NaN           NaN            NaN     HPA706689             0.0  \n",
       "8            0.0       4567788            0.0           NaN             NaN  \n",
       "9            NaN  ES0176252718            1.0     A78304516             0.0  \n",
       "10           NaN  ARP8637T1031            1.0           NaN             NaN  "
      ]
     },
     "execution_count": 30,
     "metadata": {},
     "output_type": "execute_result"
    }
   ],
   "source": [
    "df_cleaner = id_cleaner_obj.clean_df(df_original, cols=['LEI', 'ISIN', 'SEDOL'], \n",
    "                                     remove_cols= True, \n",
    "                                     output_names_as= 'prefix',\n",
    "                                     types = ['lei', 'isin', 'sedol'])\n",
    "df_cleaner"
   ]
  },
  {
   "cell_type": "markdown",
   "id": "e5be96fd",
   "metadata": {},
   "source": [
    "The validation columns were converted to float data because of the null values in some of the cells."
   ]
  },
  {
   "cell_type": "code",
   "execution_count": 31,
   "id": "60fd9d34",
   "metadata": {},
   "outputs": [
    {
     "name": "stdout",
     "output_type": "stream",
     "text": [
      "<class 'pandas.core.frame.DataFrame'>\n",
      "RangeIndex: 11 entries, 0 to 10\n",
      "Data columns (total 7 columns):\n",
      " #   Column          Non-Null Count  Dtype  \n",
      "---  ------          --------------  -----  \n",
      " 0   NAME            11 non-null     object \n",
      " 1   CLEANED_LEI     5 non-null      object \n",
      " 2   IS_VALID_LEI    5 non-null      float64\n",
      " 3   CLEANED_ISIN    7 non-null      object \n",
      " 4   IS_VALID_ISIN   7 non-null      float64\n",
      " 5   CLEANED_SEDOL   3 non-null      object \n",
      " 6   IS_VALID_SEDOL  3 non-null      float64\n",
      "dtypes: float64(3), object(4)\n",
      "memory usage: 744.0+ bytes\n"
     ]
    }
   ],
   "source": [
    "df_cleaner.info()"
   ]
  },
  {
   "cell_type": "code",
   "execution_count": null,
   "id": "b77c6f92",
   "metadata": {},
   "outputs": [],
   "source": []
  }
 ],
 "metadata": {
  "kernelspec": {
   "display_name": "Python 3 (ipykernel)",
   "language": "python",
   "name": "python3"
  },
  "language_info": {
   "codemirror_mode": {
    "name": "ipython",
    "version": 3
   },
   "file_extension": ".py",
   "mimetype": "text/x-python",
   "name": "python",
   "nbconvert_exporter": "python",
   "pygments_lexer": "ipython3",
   "version": "3.8.10"
  }
 },
 "nbformat": 4,
 "nbformat_minor": 5
}
