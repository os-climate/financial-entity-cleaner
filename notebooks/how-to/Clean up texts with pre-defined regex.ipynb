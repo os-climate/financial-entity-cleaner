{
 "cells": [
  {
   "cell_type": "markdown",
   "id": "3763193c",
   "metadata": {},
   "source": [
    "# How to...clean up names with pre-defined regex"
   ]
  },
  {
   "cell_type": "markdown",
   "id": "73841f81",
   "metadata": {},
   "source": [
    "This notebook shows how to use the **financial-entity-cleaner.text.name** module to clean up texts/string values. You can use this module in two different ways:\n",
    "1. [by normalizing single instances of text with country information](#string_values)\n",
    "2. [by normalizing country information on tabular data](#df)\n",
    "\n",
    "No matter which approach you choose, you will need to import and create an object based on the **CountryCleaner()** class which is available in the **financial_entity_cleaner.country.iso3166** module. This notebook shows how you can customize the behaviour of this class to adapt the cleaning to your projects."
   ]
  },
  {
   "cell_type": "code",
   "execution_count": 1,
   "id": "75bdcd00",
   "metadata": {},
   "outputs": [],
   "source": [
    "# Sets up the location of the api relative to this notebook \n",
    "import sys\n",
    "sys.path.append('../../')"
   ]
  },
  {
   "cell_type": "code",
   "execution_count": 4,
   "id": "ba568c26",
   "metadata": {},
   "outputs": [],
   "source": [
    "# Import the module for cleaning company's name\n",
    "from financial_entity_cleaner.text.name import NameCleaner"
   ]
  },
  {
   "cell_type": "code",
   "execution_count": null,
   "id": "fb208424",
   "metadata": {},
   "outputs": [],
   "source": []
  }
 ],
 "metadata": {
  "kernelspec": {
   "display_name": "Python 3 (ipykernel)",
   "language": "python",
   "name": "python3"
  },
  "language_info": {
   "codemirror_mode": {
    "name": "ipython",
    "version": 3
   },
   "file_extension": ".py",
   "mimetype": "text/x-python",
   "name": "python",
   "nbconvert_exporter": "python",
   "pygments_lexer": "ipython3",
   "version": "3.8.11"
  }
 },
 "nbformat": 4,
 "nbformat_minor": 5
}
